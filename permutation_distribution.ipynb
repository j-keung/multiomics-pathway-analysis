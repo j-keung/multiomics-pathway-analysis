{
 "cells": [
  {
   "cell_type": "code",
   "execution_count": 1,
   "metadata": {},
   "outputs": [],
   "source": [
    "\n",
    "import pandas as pd\n",
    "import os"
   ]
  },
  {
   "cell_type": "code",
   "execution_count": 2,
   "metadata": {},
   "outputs": [],
   "source": [
    "#Download the initial test statistics\n",
    "df = pd.read_csv('Data/permutation_test_files_proteomics/initial_tstats.csv', index_col=0)\n"
   ]
  },
  {
   "cell_type": "code",
   "execution_count": 3,
   "metadata": {},
   "outputs": [],
   "source": [
    "\n",
    "path = os.getcwd() + '\\\\Data\\\\permutation_test_files_proteomics'"
   ]
  },
  {
   "cell_type": "code",
   "execution_count": 3,
   "metadata": {},
   "outputs": [
    {
     "data": {
      "text/plain": [
       "'R-HSA-109606, R-HSA-109581'"
      ]
     },
     "execution_count": 3,
     "metadata": {},
     "output_type": "execute_result"
    }
   ],
   "source": [
    "edgelist = df.index\n",
    "edgelist[0]"
   ]
  },
  {
   "cell_type": "code",
   "execution_count": 40,
   "metadata": {},
   "outputs": [
    {
     "name": "stdout",
     "output_type": "stream",
     "text": [
      "[-0.07525461897344743, -0.3730262546910475] R-HSA-109606, R-HSA-109581\n",
      "0.2176674242550533\n",
      "1\n",
      "[0.02903253887770213, -0.5646745805638236] R-HSA-109704, R-HSA-109581\n",
      "0.4333136116458656\n",
      "1\n",
      "[-0.10114322431286304, -0.4025205920694218] R-HSA-109704, R-HSA-109606\n",
      "0.3388227912639749\n",
      "1\n",
      "[-0.04914164828409998, -0.06374269693176403] R-HSA-110362, R-HSA-109581\n",
      "0.0889946504248868\n",
      "0\n",
      "[-0.2001157324654735, -0.15011575859198967] R-HSA-110362, R-HSA-109606\n",
      "0.0442210094343451\n",
      "2\n",
      "['R-HSA-110362, R-HSA-109581']\n"
     ]
    }
   ],
   "source": [
    "pathway_list = []\n",
    "sig_edges = []\n",
    "\n",
    "for index,pathway_pair in enumerate(edgelist[:5]):   #test all pathways\n",
    "    for filename in os.listdir(path):\n",
    "        if filename != 'initial_tstats.csv':\n",
    "            with open(os.path.join(path, filename)) as file_in:    \n",
    "                lines = file_in.readlines()\n",
    "                pathway_stat = float(lines[0].split(',')[index])\n",
    "                pathway_list.append(pathway_stat)\n",
    "    \n",
    "    print(pathway_list, pathway_pair)\n",
    "\n",
    "    comparison = df.Initial_tstat[index]    #get initial test statistic\n",
    "    print(comparison)\n",
    "    counter = 0\n",
    "    \n",
    "    for num in pathway_list:  #len(pathway_list) = number of permutations\n",
    "        if abs(num) >= comparison:   \n",
    "            counter += 1\n",
    "    \n",
    "    print(counter)\n",
    "    p_val = (counter/len(pathway_list))    #divide number of tests above or equal to the test statistic by total number of tests\n",
    "\n",
    "    if p_val < 0.01:  #for 100,000 permutations\n",
    "        sig_edges.append(pathway_pair)  \n",
    "\n",
    "    pathway_list = []\n",
    "\n",
    "print(sig_edges)"
   ]
  },
  {
   "cell_type": "code",
   "execution_count": 26,
   "metadata": {},
   "outputs": [
    {
     "data": {
      "text/plain": [
       "[]"
      ]
     },
     "execution_count": 26,
     "metadata": {},
     "output_type": "execute_result"
    }
   ],
   "source": [
    "sig_edges"
   ]
  },
  {
   "cell_type": "code",
   "execution_count": 35,
   "metadata": {},
   "outputs": [
    {
     "name": "stdout",
     "output_type": "stream",
     "text": [
      "-0.5646745805638236\n"
     ]
    }
   ],
   "source": [
    "with open(\"Data/permutation_test_files_proteomics/Run9.txt\") as file_in:    \n",
    "                lines = file_in.readlines()\n",
    "                pathway_stat = float(lines[0].split(',')[1])\n",
    "                print(pathway_stat)"
   ]
  },
  {
   "cell_type": "code",
   "execution_count": null,
   "metadata": {},
   "outputs": [],
   "source": [
    "with open ('Data/permutation_test_files_proteomics/sig_edges.txt', 'w') as file:\n",
    "     file.write(','.join(str(i) for i in sig_edges))"
   ]
  },
  {
   "cell_type": "code",
   "execution_count": null,
   "metadata": {},
   "outputs": [],
   "source": []
  },
  {
   "cell_type": "code",
   "execution_count": null,
   "metadata": {},
   "outputs": [],
   "source": []
  }
 ],
 "metadata": {
  "kernelspec": {
   "display_name": "Imperial_Project2",
   "language": "python",
   "name": "python3"
  },
  "language_info": {
   "codemirror_mode": {
    "name": "ipython",
    "version": 3
   },
   "file_extension": ".py",
   "mimetype": "text/x-python",
   "name": "python",
   "nbconvert_exporter": "python",
   "pygments_lexer": "ipython3",
   "version": "3.10.11"
  },
  "orig_nbformat": 4
 },
 "nbformat": 4,
 "nbformat_minor": 2
}
