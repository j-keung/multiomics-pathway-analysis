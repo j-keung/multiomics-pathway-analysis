{
 "cells": [
  {
   "cell_type": "code",
   "execution_count": 3,
   "metadata": {},
   "outputs": [],
   "source": [
    "import pandas as pd\n",
    "import os\n",
    "import pickle"
   ]
  },
  {
   "cell_type": "code",
   "execution_count": 4,
   "metadata": {},
   "outputs": [],
   "source": [
    "#Download the initial test statistics\n",
    "df = pd.read_csv('Data/permutation_test_files_metabolomics/initial_tstats.csv', index_col=0)\n",
    "#df = pd.read_csv('Data/permutation_test_files_proteomics/initial_tstats.csv', index_col=0)\n"
   ]
  },
  {
   "cell_type": "markdown",
   "metadata": {},
   "source": [
    "### Reading in the files"
   ]
  },
  {
   "cell_type": "markdown",
   "metadata": {},
   "source": [
    "Used to test the code I use for the HPC"
   ]
  },
  {
   "cell_type": "code",
   "execution_count": 7,
   "metadata": {},
   "outputs": [
    {
     "data": {
      "text/plain": [
       "'c:\\\\Users\\\\jenna\\\\Documents\\\\Imperial\\\\Project_2\\\\Code'"
      ]
     },
     "execution_count": 7,
     "metadata": {},
     "output_type": "execute_result"
    }
   ],
   "source": [
    "os.getcwd()"
   ]
  },
  {
   "cell_type": "code",
   "execution_count": 6,
   "metadata": {},
   "outputs": [],
   "source": [
    "path = os.getcwd() + '\\\\Data\\\\permutation_test_files_metabolomics'\n",
    "#path = os.getcwd() + '\\\\Data\\\\permutation_test_files_proteomics'"
   ]
  },
  {
   "cell_type": "markdown",
   "metadata": {},
   "source": [
    "Read all the files that start with 'Run' inside a folder:"
   ]
  },
  {
   "cell_type": "code",
   "execution_count": 16,
   "metadata": {},
   "outputs": [
    {
     "name": "stdout",
     "output_type": "stream",
     "text": [
      "Run101.txt\n",
      "Run114.txt\n"
     ]
    }
   ],
   "source": [
    "final_list = []\n",
    "\n",
    "for filename in os.listdir(path): #also lists directories\n",
    "    if filename.startswith('Run'):\n",
    "        file_num = int(filename[3:-4])  #obtain the number of the Run\n",
    "        if file_num < 11:\n",
    "            print(filename)\n",
    "            with open(os.path.join(path, filename), 'rb') as file: # open in readonly mode\n",
    "                list1 = pickle.load(file)\n",
    "            final_list.append(list1)"
   ]
  },
  {
   "cell_type": "markdown",
   "metadata": {},
   "source": [
    "Read all the files in a folder that starts with 'Results':"
   ]
  },
  {
   "cell_type": "code",
   "execution_count": 5,
   "metadata": {},
   "outputs": [
    {
     "name": "stdout",
     "output_type": "stream",
     "text": [
      "Results1\n",
      "Run11.txt\n",
      "Run12.txt\n",
      "Results2\n",
      "Run13.txt\n",
      "Run14.txt\n"
     ]
    }
   ],
   "source": [
    "path = os.getcwd() + '\\\\Data\\\\permutation_test_files_metabolomics'\n",
    "final_list = []\n",
    "\n",
    "for filename in os.listdir(path): #also lists directories\n",
    "    if filename.startswith('Results'):\n",
    "        print(filename)\n",
    "        #for file in os.listdir(path + '\\\\' + filename): \n",
    "        for file in os.listdir(os.path.join(path,filename)):\n",
    "            print(file)\n",
    "            with open(os.path.join(path, filename,file), 'rb') as file: # open in readonly mode\n",
    "                list1 = pickle.load(file)\n",
    "            final_list.append(list1)"
   ]
  },
  {
   "cell_type": "markdown",
   "metadata": {},
   "source": [
    "In a folder with directories list (Results1, Results2, Results3 etc) go through each as a separate array job:\n"
   ]
  },
  {
   "cell_type": "code",
   "execution_count": null,
   "metadata": {},
   "outputs": [],
   "source": [
    "#index_num = sys.argv[1]  #this should return the array number within the array job\n",
    "index_num = 1 #for example\n",
    "path = os.getcwd() + '\\\\Data\\\\permutation_test_files_metabolomics\\\\Results' + str(index_num)\n",
    "final_list = []\n",
    "\n",
    "for filename in os.listdir(path): #also lists directories\n",
    "    print(filename)\n",
    "    with open(os.path.join(path, filename), 'rb') as file: # open in readonly mode\n",
    "        list1 = pickle.load(file)\n",
    "    final_list.append(list1)"
   ]
  },
  {
   "cell_type": "code",
   "execution_count": null,
   "metadata": {},
   "outputs": [],
   "source": [
    "len(final_list)\n",
    "\n",
    "for list1 in final_list:\n",
    "    print(len(list1))\n",
    "    print(list1[:3])"
   ]
  },
  {
   "cell_type": "markdown",
   "metadata": {},
   "source": [
    "### Calculate which edges are significant"
   ]
  },
  {
   "attachments": {},
   "cell_type": "markdown",
   "metadata": {},
   "source": [
    "Calculates number of permuted values above the initial test statistic, then divides by number of tests and works out p-value, before outputting the significant edges: (NOT RECOMMENDED, p-values not FDR corrected)"
   ]
  },
  {
   "cell_type": "code",
   "execution_count": null,
   "metadata": {},
   "outputs": [],
   "source": [
    "sig_edges = []\n",
    "edgelist = df.index\n",
    "\n",
    "for index,pathway_pair in enumerate(edgelist):   #test all pathways\n",
    "    comparison = df.Initial_tstat[index]    #get initial test statistic\n",
    "    counter = 0\n",
    "    \n",
    "    for list1 in final_list:  #len(final_list) = number of permutations\n",
    "        if abs(list1[index]) >= comparison:   \n",
    "            counter += 1\n",
    "    \n",
    "    p_val = (counter/len(final_list))    #divide number of tests above or equal to the test statistic by total number of tests\n",
    "\n",
    "    if p_val < 0.01:  #for 100,000 permutations\n",
    "        sig_edges.append(pathway_pair)  \n",
    "        \n",
    "print(len(sig_edges))\n",
    "sig_edges"
   ]
  },
  {
   "attachments": {},
   "cell_type": "markdown",
   "metadata": {},
   "source": [
    "Calculates number of permuted values above the initial test statistic (more scalable)"
   ]
  },
  {
   "cell_type": "code",
   "execution_count": null,
   "metadata": {},
   "outputs": [],
   "source": [
    "num_vals = []  #number of permuted values above the magnitude of the test statistic\n",
    "#sig_edges = []\n",
    "edgelist = df.index\n",
    "\n",
    "for index in range(len(edgelist)):   #test all pathways\n",
    "    comparison = df.Initial_tstat[index]    #get initial test statistic\n",
    "    print(comparison)\n",
    "    counter = 0\n",
    "    \n",
    "    for list1 in final_list:  #len(final_list) = number of permutations\n",
    "        if abs(list1[index]) >= comparison:   \n",
    "            counter += 1\n",
    "    num_vals.append(counter)\n",
    "\n",
    "num_vals"
   ]
  },
  {
   "attachments": {},
   "cell_type": "markdown",
   "metadata": {},
   "source": [
    "### Another alternative: (but converting to numpy array actually seems to take up more memory)"
   ]
  },
  {
   "cell_type": "code",
   "execution_count": null,
   "metadata": {},
   "outputs": [],
   "source": [
    "import numpy as np\n",
    "\n",
    "final_matrix = np.empty((0,len(df)), int)\n",
    "\n",
    "for filename in os.listdir(path):\n",
    "    if filename != 'initial_tstats.csv':\n",
    "        with open(os.path.join(path, filename), 'rb') as file: # open in readonly mode\n",
    "            list1 = pickle.load(file)\n",
    "        final_matrix = np.append(final_matrix, np.array([list1]), axis=0)"
   ]
  },
  {
   "cell_type": "code",
   "execution_count": null,
   "metadata": {},
   "outputs": [],
   "source": [
    "final_matrix.shape"
   ]
  },
  {
   "cell_type": "code",
   "execution_count": null,
   "metadata": {},
   "outputs": [],
   "source": [
    "final_matrix = np.array(final_list) \n",
    "\n",
    "final_matrix.shape\n",
    "\n",
    "sig_edges = []\n",
    "edgelist = df.index\n",
    "\n",
    "for index,pathway_pair in enumerate(edgelist):   #test all pathways\n",
    "    comparison = df.Initial_tstat[index]    #get initial test statistic\n",
    "    counter = 0\n",
    "    \n",
    "    col = abs(final_matrix[:,index])  #index a column and turn into absolute values\n",
    "    counter = (col >= comparison).sum()\n",
    "\n",
    "    \n",
    "    p_val = (counter/len(final_list))    #divide number of tests above or equal to the test statistic by total number of tests\n",
    "\n",
    "    if p_val < 0.01:  #for 100,000 permutations\n",
    "        sig_edges.append(pathway_pair)  \n",
    "        \n",
    "print(len(sig_edges))"
   ]
  },
  {
   "cell_type": "code",
   "execution_count": null,
   "metadata": {},
   "outputs": [],
   "source": [
    "#comparing the size of the object from the first method vs second method ()\n",
    "from sys import getsizeof\n",
    "print(getsizeof(final_list))\n",
    "print(getsizeof(final_matrix))"
   ]
  },
  {
   "cell_type": "markdown",
   "metadata": {},
   "source": [
    "Saving the file:"
   ]
  },
  {
   "cell_type": "code",
   "execution_count": null,
   "metadata": {},
   "outputs": [],
   "source": [
    "with open ('Data/permutation_test_files_metabolomics/vals_test.txt', 'w') as file:\n",
    "     file.write(','.join(str(i) for i in num_vals))"
   ]
  },
  {
   "attachments": {},
   "cell_type": "markdown",
   "metadata": {},
   "source": [
    "### Read in HPC results for the metabolomic data (reading from one file)"
   ]
  },
  {
   "cell_type": "code",
   "execution_count": 32,
   "metadata": {},
   "outputs": [],
   "source": [
    "import os\n",
    "import numpy as np \n",
    "import statsmodels.stats.multitest\n",
    "import pandas as pd\n",
    "from itertools import compress\n",
    "\n",
    "import seaborn as sns\n",
    "import matplotlib.pyplot as plt"
   ]
  },
  {
   "cell_type": "markdown",
   "metadata": {},
   "source": [
    "Read a file which has the number of values (made absolute in the HPC script) above the initial test statistic:"
   ]
  },
  {
   "cell_type": "code",
   "execution_count": 164,
   "metadata": {},
   "outputs": [],
   "source": [
    "\n",
    "with open('Data/permutation_test_files_metabolomics/vals.txt') as file:\n",
    "    lines = file.readlines()\n",
    "    vals = lines[0].split(';')\n",
    "    vals =  [int(x) for x in vals]\n",
    "    val_array = np.array(vals)"
   ]
  },
  {
   "cell_type": "code",
   "execution_count": 165,
   "metadata": {},
   "outputs": [
    {
     "name": "stdout",
     "output_type": "stream",
     "text": [
      "10296\n"
     ]
    },
    {
     "data": {
      "text/plain": [
       "795"
      ]
     },
     "execution_count": 165,
     "metadata": {},
     "output_type": "execute_result"
    }
   ],
   "source": [
    "pval_array = val_array / 100000\n",
    "pval_array[:20]\n",
    "\n",
    "print(len(pval_array)) #10296 values\n",
    "(pval_array < 0.05).sum()  #795 values"
   ]
  },
  {
   "cell_type": "code",
   "execution_count": null,
   "metadata": {},
   "outputs": [],
   "source": [
    "pval_array[:100]"
   ]
  },
  {
   "cell_type": "code",
   "execution_count": null,
   "metadata": {},
   "outputs": [],
   "source": [
    "\n",
    "sns.histplot(pval_array, bins = 50,color='#B8CDF8',edgecolor=\"k\") \n",
    "plt.title('Metabolomic unadjusted p-value distribution',fontsize=16)\n",
    "plt.xlabel('Unadjusted p-value',fontsize=13)\n",
    "plt.ylabel('Count',fontsize=13) \n",
    "\n",
    "#plt.savefig( 'Figures/unadjusted_pval_metabolomic.png' , dpi=200,bbox_inches = 'tight' , pad_inches = 0.2 , facecolor='w')\n"
   ]
  },
  {
   "cell_type": "code",
   "execution_count": 166,
   "metadata": {},
   "outputs": [
    {
     "data": {
      "text/plain": [
       "array([False, False, False, ..., False, False, False])"
      ]
     },
     "execution_count": 166,
     "metadata": {},
     "output_type": "execute_result"
    }
   ],
   "source": [
    "sig_edge_boolean,adjusted_pval = statsmodels.stats.multitest.fdrcorrection(pval_array, alpha=0.05, method='poscorr', is_sorted=False)\n",
    "sig_edge_boolean"
   ]
  },
  {
   "cell_type": "code",
   "execution_count": 169,
   "metadata": {},
   "outputs": [
    {
     "data": {
      "text/plain": [
       "array([False, False, False, ..., False, False, False])"
      ]
     },
     "execution_count": 169,
     "metadata": {},
     "output_type": "execute_result"
    }
   ],
   "source": [
    "sig_edge_boolean2,adjusted_pval2 = statsmodels.stats.multitest.fdrcorrection(pval_array, alpha=0.05, method='indep', is_sorted=False)\n",
    "sig_edge_boolean2"
   ]
  },
  {
   "cell_type": "code",
   "execution_count": 168,
   "metadata": {},
   "outputs": [
    {
     "name": "stdout",
     "output_type": "stream",
     "text": [
      "[1.         0.87181592 0.68400685 ... 1.         1.         1.        ]\n",
      "[0.33235319 0.09110509 0.21975827 ... 0.95994648 1.         0.99191255]\n"
     ]
    }
   ],
   "source": [
    "print(adjusted_pval)\n",
    "print(adjusted_pval2)"
   ]
  },
  {
   "cell_type": "code",
   "execution_count": 170,
   "metadata": {},
   "outputs": [
    {
     "data": {
      "text/plain": [
       "True"
      ]
     },
     "execution_count": 170,
     "metadata": {},
     "output_type": "execute_result"
    }
   ],
   "source": [
    "np.array_equiv(sig_edge_boolean,sig_edge_boolean2)"
   ]
  },
  {
   "cell_type": "code",
   "execution_count": 39,
   "metadata": {},
   "outputs": [
    {
     "data": {
      "text/plain": [
       "10"
      ]
     },
     "execution_count": 39,
     "metadata": {},
     "output_type": "execute_result"
    }
   ],
   "source": [
    "sum(sig_edge_boolean) #10 edges significant with method=indep and method=poscorr"
   ]
  },
  {
   "cell_type": "code",
   "execution_count": null,
   "metadata": {},
   "outputs": [],
   "source": [
    "\n",
    "sns.histplot(adjusted_pval, bins = 50,color='#B8CDF8',edgecolor=\"k\") \n",
    "plt.title('Metabolomic adjusted p-value distribution',fontsize=16)\n",
    "plt.xlabel('Adjusted p-value',fontsize=13)\n",
    "plt.ylabel('Count',fontsize=13) \n",
    "\n",
    "#plt.savefig( 'Figures/adjusted_pval_metabolomic.png' , dpi=200,bbox_inches = 'tight' , pad_inches = 0.2 , facecolor='w')\n"
   ]
  },
  {
   "attachments": {},
   "cell_type": "markdown",
   "metadata": {},
   "source": [
    "Easier to obtain the reverse (i.e. edges that are not significant), since then they can be removed easily"
   ]
  },
  {
   "cell_type": "code",
   "execution_count": 40,
   "metadata": {},
   "outputs": [
    {
     "data": {
      "text/plain": [
       "10286"
      ]
     },
     "execution_count": 40,
     "metadata": {},
     "output_type": "execute_result"
    }
   ],
   "source": [
    "not_sig_edge_boolean = [not elem for elem in sig_edge_boolean]\n",
    "sum(not_sig_edge_boolean )"
   ]
  },
  {
   "cell_type": "code",
   "execution_count": 41,
   "metadata": {},
   "outputs": [],
   "source": [
    "#Load dataset\n",
    "df = pd.read_csv('Data/permutation_test_files_metabolomics/initial_tstats.csv', index_col=0)\n",
    "edgelist = df.index\n",
    "\n",
    "\n",
    "sig_edges = list(compress(edgelist,sig_edge_boolean))\n",
    "not_sig_edges = list(compress(edgelist,not_sig_edge_boolean))"
   ]
  },
  {
   "cell_type": "code",
   "execution_count": null,
   "metadata": {},
   "outputs": [],
   "source": [
    "with open ('Data/permutation_test_files_metabolomics/not_sig_edges.txt', 'w') as file:\n",
    "     file.write(','.join(str(i) for i in not_sig_edges))"
   ]
  },
  {
   "cell_type": "code",
   "execution_count": null,
   "metadata": {},
   "outputs": [],
   "source": [
    "#Save number of significant edges BEFORE FDR CORRECTION\n",
    "\n",
    "sig_edges_beforefdr = list(compress(edgelist,pval_array < 0.05))\n",
    "print(len(sig_edges_beforefdr))\n",
    "\n",
    "with open ('Data/permutation_test_files_metabolomics/sig_edges_beforefdr.txt', 'w') as file:\n",
    "     file.write(','.join(str(i) for i in sig_edges_beforefdr))"
   ]
  },
  {
   "attachments": {},
   "cell_type": "markdown",
   "metadata": {},
   "source": [
    "### Read in HPC results for the proteomic data and the integrated data (reading ten files):"
   ]
  },
  {
   "cell_type": "code",
   "execution_count": 1,
   "metadata": {},
   "outputs": [],
   "source": [
    "import os \n",
    "import numpy as np \n",
    "import statsmodels.stats.multitest\n",
    "import pandas as pd\n",
    "from itertools import compress\n",
    "\n",
    "import seaborn as sns\n",
    "import matplotlib.pyplot as plt"
   ]
  },
  {
   "cell_type": "code",
   "execution_count": 2,
   "metadata": {},
   "outputs": [],
   "source": [
    "#Read ten files that have the number of edges that are of a higher value that the initial test statistic\n",
    "\n",
    "\n",
    "#path = os.getcwd() + '\\\\Data\\\\permutation_test_files_proteomics\\\\Values'\n",
    "path = os.getcwd() + '\\\\Data\\\\permutation_test_files_integrated\\\\Values'\n",
    "val_array = []\n",
    "\n",
    "\n",
    "for filename in os.listdir(path): #also lists directories\n",
    "    with open(os.path.join(path, filename)) as file:    \n",
    "        lines = file.readlines()\n",
    "        vals = lines[0].split(';')\n",
    "        vals =  [int(x) for x in vals]\n",
    "        #print(vals)\n",
    "        if filename == 'vals1.txt':\n",
    "            val_array = np.array(vals)\n",
    "        else:\n",
    "            val_array = np.vstack([val_array, vals])"
   ]
  },
  {
   "cell_type": "code",
   "execution_count": 3,
   "metadata": {},
   "outputs": [
    {
     "name": "stdout",
     "output_type": "stream",
     "text": [
      "251695\n"
     ]
    },
    {
     "data": {
      "text/plain": [
       "65208"
      ]
     },
     "execution_count": 3,
     "metadata": {},
     "output_type": "execute_result"
    }
   ],
   "source": [
    "val_array\n",
    "val_array2 = val_array.sum(axis=0) #add up the values by columns for each pathway pair\n",
    "pval_array = val_array2 / 100000\n",
    "pval_array[:20]\n",
    "\n",
    "print(len(pval_array)) #166753 values for proteomic, 251,695 values for integrated\n",
    "(pval_array < 0.05).sum() #56256 values for proteomic, 65,208 values for integrated"
   ]
  },
  {
   "cell_type": "code",
   "execution_count": null,
   "metadata": {},
   "outputs": [],
   "source": [
    "sns.histplot(pval_array, bins = 50,color='#B8CDF8',edgecolor=\"k\") \n",
    "\n",
    "#plt.title('Proteomic unadjusted p-value distribution',fontsize=16)\n",
    "plt.title('Integrated data unadjusted p-value distribution',fontsize=16)\n",
    "\n",
    "plt.xlabel('Unadjusted p-value',fontsize=13)\n",
    "plt.ylabel('Count',fontsize=13) \n",
    "\n",
    "#plt.savefig( 'Figures/unadjusted_pval_proteomic.png' , dpi=200,bbox_inches = 'tight' , pad_inches = 0.2 , facecolor='w')\n",
    "#plt.savefig( 'Figures/unadjusted_pval_integrated.png' , dpi=200,bbox_inches = 'tight' , pad_inches = 0.2 , facecolor='w')"
   ]
  },
  {
   "cell_type": "code",
   "execution_count": 4,
   "metadata": {},
   "outputs": [
    {
     "data": {
      "text/plain": [
       "array([False, False, False, ..., False, False, False])"
      ]
     },
     "execution_count": 4,
     "metadata": {},
     "output_type": "execute_result"
    }
   ],
   "source": [
    "sig_edge_boolean,adjusted_pval = statsmodels.stats.multitest.fdrcorrection(pval_array, alpha=0.05, method='poscorr', is_sorted=False)\n",
    "sig_edge_boolean"
   ]
  },
  {
   "cell_type": "code",
   "execution_count": 120,
   "metadata": {},
   "outputs": [
    {
     "data": {
      "text/plain": [
       "array([False, False, False, ..., False, False, False])"
      ]
     },
     "execution_count": 120,
     "metadata": {},
     "output_type": "execute_result"
    }
   ],
   "source": [
    "sig_edge_boolean2,adjusted_pval2 = statsmodels.stats.multitest.fdrcorrection(pval_array, alpha=0.05, method='indep', is_sorted=False)\n",
    "sig_edge_boolean2"
   ]
  },
  {
   "cell_type": "code",
   "execution_count": 121,
   "metadata": {},
   "outputs": [
    {
     "name": "stdout",
     "output_type": "stream",
     "text": [
      "[0.33235319 0.09110509 0.21975827 ... 0.95994648 1.         0.99191255]\n",
      "[0.33235319 0.09110509 0.21975827 ... 0.95994648 1.         0.99191255]\n"
     ]
    }
   ],
   "source": [
    "print(adjusted_pval)\n",
    "print(adjusted_pval2)"
   ]
  },
  {
   "cell_type": "code",
   "execution_count": 122,
   "metadata": {},
   "outputs": [
    {
     "data": {
      "text/plain": [
       "True"
      ]
     },
     "execution_count": 122,
     "metadata": {},
     "output_type": "execute_result"
    }
   ],
   "source": [
    "sig_edge_boolean == sig_edge_boolean2\n",
    "np.array_equiv(sig_edge_boolean,sig_edge_boolean2)"
   ]
  },
  {
   "cell_type": "code",
   "execution_count": 123,
   "metadata": {},
   "outputs": [
    {
     "data": {
      "text/plain": [
       "array([0.33235319, 0.09110509, 0.21975827, ..., 0.95994648, 1.        ,\n",
       "       0.99191255])"
      ]
     },
     "execution_count": 123,
     "metadata": {},
     "output_type": "execute_result"
    }
   ],
   "source": [
    "adjusted_pval"
   ]
  },
  {
   "cell_type": "code",
   "execution_count": 5,
   "metadata": {},
   "outputs": [
    {
     "data": {
      "text/plain": [
       "24600"
      ]
     },
     "execution_count": 5,
     "metadata": {},
     "output_type": "execute_result"
    }
   ],
   "source": [
    "sum(sig_edge_boolean) \n",
    "#Proteomic - 29327 edges significant with method=indep and method=poscorr\n",
    "#Metabolomic - 24600 edges significant with method=indep and method=poscorr"
   ]
  },
  {
   "cell_type": "code",
   "execution_count": null,
   "metadata": {},
   "outputs": [],
   "source": [
    "sns.histplot(adjusted_pval, bins = 50,color='#B8CDF8',edgecolor=\"k\") \n",
    "\n",
    "#plt.title('Proteomic adjusted p-value distribution',fontsize=16)\n",
    "plt.title('Integrated adjusted p-value distribution',fontsize=16)\n",
    "\n",
    "plt.xlabel('Adjusted p-value',fontsize=13)\n",
    "plt.ylabel('Count',fontsize=13) \n",
    "\n",
    "#plt.savefig( 'Figures/adjusted_pval_proteomic.png' , dpi=200,bbox_inches = 'tight' , pad_inches = 0.2 , facecolor='w')\n",
    "#plt.savefig( 'Figures/adjusted_pval_integrated.png' , dpi=200,bbox_inches = 'tight' , pad_inches = 0.2 , facecolor='w')\n",
    "\n"
   ]
  },
  {
   "attachments": {},
   "cell_type": "markdown",
   "metadata": {},
   "source": [
    "Easier to obtain the reverse (i.e. edges that are not significant), since then they can be removed easily"
   ]
  },
  {
   "cell_type": "code",
   "execution_count": 125,
   "metadata": {},
   "outputs": [
    {
     "data": {
      "text/plain": [
       "227095"
      ]
     },
     "execution_count": 125,
     "metadata": {},
     "output_type": "execute_result"
    }
   ],
   "source": [
    "not_sig_edge_boolean = [not elem for elem in sig_edge_boolean]\n",
    "sum(not_sig_edge_boolean )"
   ]
  },
  {
   "cell_type": "code",
   "execution_count": 85,
   "metadata": {},
   "outputs": [],
   "source": [
    "#Load dataset\n",
    "#df = pd.read_csv('Data/permutation_test_files_proteomics/initial_tstats.csv', index_col=0)\n",
    "df = pd.read_csv('Data/permutation_test_files_integrated/initial_tstats.csv', index_col=0)\n",
    "edgelist = df.index\n",
    "\n",
    "\n",
    "sig_edges = list(compress(edgelist,sig_edge_boolean))\n",
    "not_sig_edges = list(compress(edgelist,not_sig_edge_boolean))"
   ]
  },
  {
   "cell_type": "markdown",
   "metadata": {},
   "source": [
    "Saving the significant edges: Easier to compare with the naive networks and the other omics networks as well <br>\n",
    "Saving the non-significant edges: Easier when constructing the differential network analysis"
   ]
  },
  {
   "cell_type": "code",
   "execution_count": null,
   "metadata": {},
   "outputs": [],
   "source": [
    "#with open ('Data/permutation_test_files_proteomics/sig_edges.txt', 'w') as file:\n",
    "#     file.write(','.join(str(i) for i in sig_edges))\n",
    "     \n",
    "#with open ('Data/permutation_test_files_proteomics/not_sig_edges.txt', 'w') as file:\n",
    "#     file.write(','.join(str(i) for i in not_sig_edges))"
   ]
  },
  {
   "cell_type": "code",
   "execution_count": null,
   "metadata": {},
   "outputs": [],
   "source": [
    "#with open ('Data/permutation_test_files_integrated/sig_edges.txt', 'w') as file:\n",
    "#     file.write(','.join(str(i) for i in sig_edges))\n",
    "     \n",
    "#with open ('Data/permutation_test_files_integrated/not_sig_edges.txt', 'w') as file:\n",
    "#     file.write(','.join(str(i) for i in not_sig_edges))"
   ]
  },
  {
   "attachments": {},
   "cell_type": "markdown",
   "metadata": {},
   "source": [
    "### Plotting the test statistic distribution for randomly chosen pathway pairs\n"
   ]
  },
  {
   "cell_type": "code",
   "execution_count": 171,
   "metadata": {},
   "outputs": [],
   "source": [
    "import pandas as pd\n",
    "import os\n",
    "import random\n",
    "import pickle\n",
    "import seaborn as sns\n",
    "import matplotlib.pyplot as plt"
   ]
  },
  {
   "cell_type": "code",
   "execution_count": 184,
   "metadata": {},
   "outputs": [],
   "source": [
    "#Download the initial test statistics\n",
    "#df = pd.read_csv('Data/permutation_test_files_metabolomics/initial_tstats.csv', index_col=0)\n",
    "df = pd.read_csv('Data/permutation_test_files_proteomics/initial_tstats.csv', index_col=0)\n",
    "#df = pd.read_csv('Data/permutation_test_files_integrated/initial_tstats.csv', index_col=0)\n",
    "\n",
    "\n",
    "#path = os.getcwd() + '\\\\Data\\\\permutation_test_files_metabolomics'\n",
    "path = os.getcwd() + '\\\\Data\\\\permutation_test_files_proteomics'\n",
    "#path = os.getcwd() + '\\\\Data\\\\permutation_test_files_integrated'"
   ]
  },
  {
   "cell_type": "code",
   "execution_count": null,
   "metadata": {},
   "outputs": [],
   "source": [
    "df"
   ]
  },
  {
   "cell_type": "markdown",
   "metadata": {},
   "source": [
    "Selecting random pathways and writing to a file without the HPC:"
   ]
  },
  {
   "cell_type": "code",
   "execution_count": null,
   "metadata": {},
   "outputs": [],
   "source": [
    "\n",
    "\n",
    "#pathway_list = []\n",
    "\n",
    "#for i in range(8): #take 8 random pathways\n",
    "#    index = random.randrange(0, len(df)) #Gives index from 0 to (len(df)-1), better for indexing with unpickled files which are stored as lists\n",
    "#    print(index)\n",
    "#    for filename in os.listdir(path):\n",
    "#            if filename.startswith('Run'):\n",
    "#                with open(os.path.join(path, filename),'rb') as file:\n",
    "#                    list1 = pickle.load(file)   \n",
    "#                    #print(len(list1))\n",
    "#                    pathway_list.append(list1[index])\n",
    "#    with open('Data/permutation_test_files_metabolomics/test_distribution'+str(index)+'.txt', 'w') as file:\n",
    "#        file.write(','.join(str(i) for i in pathway_list))\n",
    "#    print(len(pathway_list))\n",
    "#    pathway_list = []\n",
    "\n",
    "\n"
   ]
  },
  {
   "attachments": {},
   "cell_type": "markdown",
   "metadata": {},
   "source": [
    "Read in the test distribution files that were made from the HPC and plotting:"
   ]
  },
  {
   "cell_type": "code",
   "execution_count": 190,
   "metadata": {},
   "outputs": [
    {
     "name": "stdout",
     "output_type": "stream",
     "text": [
      "100000\n",
      "[-0.022924406362944086, 0.4408597013648855, 0.12051523890334495, 0.267105775951159, -0.054259821745759225, 0.41774917324531113, 0.15142849411913167, 0.3389295604726258, -0.12233999512753434, -0.09925803306271958, 0.04658955105687877, 0.024708082400899407, -0.058874491122430254, -0.11705154129473348, -0.24669517006146305, 0.3679570653519134, -0.035273258827077304, 0.4033331758442678, -0.13071310650110116, -0.09534967318639084, -0.033065029751865545, -0.07600305546537052, 0.2752772078454505, -0.15270615714384608, 0.22816688749954636, -0.05911216112885938, 0.29200593067592956, -0.007031830183731061, -0.04853262612595483, 0.1613695560489054, 0.13788513148603498, -0.25604799072119666, 0.026561223578473667, -0.08460959756253351, 0.1914874484864577, -0.07695685573062055, 0.0484483876163372, 0.020958628512594946, -0.12552669422258428, 0.3158818883024828, -0.0972972578957012, -0.10084439865983873, 0.12150378066529881, -0.11859306329679785, 0.1807338149619865, -0.06672062793770567, 0.026629452360126968, 0.5461099169356598, 0.3258197238594599, -0.011869956498644765, 0.23719546886920018, -0.03067857980332711, 0.01805504058191864, -0.012978683256154158, -0.14755422644624008, 0.23657370253354523, 0.17298159441177346, 0.06049091748785723, -0.0918289444290113, -0.23266416229914358, -0.05352315694790527, 0.31117988635177346, -0.03551336976259975, -0.1300152650669288, 0.09276977570411744, 0.047699015523901794, 0.09871077006855605, 0.2709656212290539, 0.14347530681386267, 0.25395834788633986, 0.23162268616430132, 0.392285500633632, 0.5432964266475799, -0.06514986406573742, -0.000350043249702843, -0.06846817607894728, 0.3943920422052423, 0.10465276708008955, -0.18977892659230405, -0.02358464226373365, 0.21671378615036752, 0.02881540080102858, -0.1643932298667099, -0.16044346208317917, -0.08121123131094721, 0.40683808448745407, -0.009142254151371994, -0.11969156128339574, 0.19992392237256423, 0.15714450754781095, 0.048161783298603204, -0.0024004784168153576, 0.04679120748738946, -0.031364555598943154, -0.08227809114895047, 0.15197543436179028, 0.28698616916844333, 0.1146782238795645, 0.4126446176342548, -0.065410295003565]\n",
      "59761\n"
     ]
    },
    {
     "data": {
      "image/png": "[encoded data removed]",
      "text/plain": [
       "<Figure size 640x480 with 1 Axes>"
      ]
     },
     "metadata": {},
     "output_type": "display_data"
    }
   ],
   "source": [
    "val_array = []\n",
    "\n",
    "\n",
    "#Run all the test distribution files:\n",
    "#for filename in os.listdir(path): #also lists directories\n",
    "#    if filename.startswith('test'):\n",
    "#        with open(os.path.join(path, filename)) as file:    \n",
    "#            lines = file.readlines()\n",
    "#            vals = lines[0].split(',')\n",
    "#            vals =  [float(x) for x in vals]\n",
    "#            print(len(vals))\n",
    "#            print(vals[:100])\n",
    "            \n",
    "\n",
    "#I've plotted figures for the following (metabolomics): 219 (sig before correction), 1284, 3361 (sig before correction), 3919, 3966, 4078 (sig before correction), 4443, 5933, 6060, 8071\n",
    "#I've plotted figures for the following (proteomics): 2573 (weird bimodal distribution), 25496, 66155, 67596 (sig before correction), 100389, 124007 (sig), 133091, 135536 (weird bimodal distribution), 157858\n",
    "#I've plotted figures for the following (integrated): 13134, 17265, 20660, 65871 (sig), 71456, 74104, 83071 (sig before correction), 85546, 150704 (sig before correction), 251461\n",
    "\n",
    "#Open the test distribution files one by one:\n",
    "test_num = 157858\n",
    "#with open('Data/permutation_test_files_metabolomics/Test_distribution/test_distribution'+str(test_num)+'.txt') as file:\n",
    "with open('Data/permutation_test_files_proteomics/Test_distribution/test_distribution'+str(test_num)+'.txt') as file:\n",
    "#with open('Data/permutation_test_files_integrated/Test_distribution/test_distribution'+str(test_num)+'.txt') as file:\n",
    "    comparison = df.Initial_tstat[test_num]\n",
    "    edge_name = df.index[test_num]\n",
    "\n",
    "    lines = file.readlines()\n",
    "    vals = lines[0].split(',')\n",
    "    vals =  [float(x) for x in vals]\n",
    "    print(len(vals))\n",
    "    print(vals[:100])\n",
    "\n",
    "\n",
    "#For metabolomics:\n",
    "#sns.histplot(vals, bins = 50,color='#59C3C3',edgecolor=\"k\") \n",
    "\n",
    "#For proteomics:\n",
    "sns.histplot(vals, bins = 50,color='#4062BB',edgecolor=\"k\") \n",
    "\n",
    "#For integrated data:\n",
    "#sns.histplot(vals, bins = 50,color='#52489C',edgecolor=\"k\") \n",
    "\n",
    "\n",
    "plt.title('Pathway pair '+ edge_name,fontsize=16)\n",
    "plt.xlabel('Delta value',fontsize=13)\n",
    "plt.ylabel('Count',fontsize=13) \n",
    "\n",
    "plt.axvline(x=comparison, color='r', linewidth=0.5, linestyle='--', dashes=(8, 5))\n",
    "plt.axvline(x=-comparison, color='r', linewidth=0.5, linestyle='--', dashes=(8, 5))\n",
    "\n",
    "#Count number of values (made absolute) that are over the initial test statistic (made absolute) for two sided permutation test\n",
    "counter = 0 \n",
    "for index in range(len(vals)):  #len(final_list) = number of permutations\n",
    "    if abs(vals[index]) >= comparison:   \n",
    "        counter += 1\n",
    "print(counter)\n",
    "\n",
    "\n",
    "#MUST RUN THE ABOVE CODE TO LOAD IN THE NUMBER OF VALUES THAT ARE ABOVE THE INITIAL TEST STATISTIC SO I KNOW WHETHER THE PATHWAY PAIR IS SIGNIFICANT AFTER FDR CORRECTION\n",
    "if sig_edge_boolean[test_num] == True:\n",
    "    plt.text(-0.8, -2600, \"Adjusted p-value significant\",fontsize=10)\n",
    "else:\n",
    "    plt.text(-0.8, -2600, \"Not significant\",fontsize=10)\n",
    "plt.text(-0.8, -3200, \"Unadjusted p-value: \" + str(pval_array[test_num]),fontsize=10)\n",
    "plt.text(-0.8, -3800, \"FDR-adjusted p-value: \" + str(adjusted_pval[test_num]),fontsize=10)\n",
    "plt.text(-0.8, -4400, \"Number of values above initial test statistic: \" + str(counter),fontsize=10)\n",
    "\n",
    "\n",
    "\n",
    "plt.xlim(-0.9,0.9)   #-log_10(0.005) = 2.301...\n",
    "plt.ylim(0,15000) \n",
    "\n",
    "#plt.savefig( 'Figures/Pathway ' + edge_name + '.png' , dpi=200,bbox_inches = 'tight' , pad_inches = 0.2 , facecolor='w')"
   ]
  }
 ],
 "metadata": {
  "kernelspec": {
   "display_name": "Imperial_Project2",
   "language": "python",
   "name": "python3"
  },
  "language_info": {
   "codemirror_mode": {
    "name": "ipython",
    "version": 3
   },
   "file_extension": ".py",
   "mimetype": "text/x-python",
   "name": "python",
   "nbconvert_exporter": "python",
   "pygments_lexer": "ipython3",
   "version": "3.10.11"
  },
  "orig_nbformat": 4
 },
 "nbformat": 4,
 "nbformat_minor": 2
}
