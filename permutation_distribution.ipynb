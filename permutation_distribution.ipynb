{
 "cells": [
  {
   "cell_type": "code",
   "execution_count": null,
   "metadata": {},
   "outputs": [],
   "source": [
    "import pandas as pd\n",
    "import os\n",
    "import pickle"
   ]
  },
  {
   "cell_type": "code",
   "execution_count": null,
   "metadata": {},
   "outputs": [],
   "source": [
    "#Download the initial test statistics\n",
    "df = pd.read_csv('Data/permutation_test_files_metabolomics/initial_tstats.csv', index_col=0)\n",
    "#df = pd.read_csv('Data/permutation_test_files_proteomics/initial_tstats.csv', index_col=0)\n"
   ]
  },
  {
   "cell_type": "markdown",
   "metadata": {},
   "source": [
    "### Reading in the files"
   ]
  },
  {
   "cell_type": "markdown",
   "metadata": {},
   "source": [
    "Used to test the code I use for the HPC"
   ]
  },
  {
   "cell_type": "code",
   "execution_count": null,
   "metadata": {},
   "outputs": [],
   "source": [
    "os.getcwd()"
   ]
  },
  {
   "cell_type": "code",
   "execution_count": null,
   "metadata": {},
   "outputs": [],
   "source": [
    "#path = os.getcwd() + '\\\\Data\\\\permutation_test_files_metabolomics'\n",
    "#path = os.getcwd() + '\\\\Data\\\\permutation_test_files_proteomics'\n",
    "path = os.getcwd() + '\\\\Data\\\\permutation_test_files_integrated'"
   ]
  },
  {
   "cell_type": "markdown",
   "metadata": {},
   "source": [
    "Read all the files that start with 'Run' inside a folder:"
   ]
  },
  {
   "cell_type": "code",
   "execution_count": null,
   "metadata": {},
   "outputs": [],
   "source": [
    "final_list = []\n",
    "\n",
    "for filename in os.listdir(path): #also lists directories\n",
    "    if filename.startswith('Run'):\n",
    "        file_num = int(filename[3:-4])  #obtain the number of the Run\n",
    "        if file_num > 11:\n",
    "            print(filename)\n",
    "            with open(os.path.join(path, filename), 'rb') as file: # open in readonly mode\n",
    "                list1 = pickle.load(file)\n",
    "            final_list.append(list1)"
   ]
  },
  {
   "cell_type": "markdown",
   "metadata": {},
   "source": [
    "Read all the files in a folder that starts with 'Results':"
   ]
  },
  {
   "cell_type": "code",
   "execution_count": null,
   "metadata": {},
   "outputs": [],
   "source": [
    "path = os.getcwd() + '\\\\Data\\\\permutation_test_files_metabolomics'\n",
    "final_list = []\n",
    "\n",
    "for filename in os.listdir(path): #also lists directories\n",
    "    if filename.startswith('Results'):\n",
    "        print(filename)\n",
    "        #for file in os.listdir(path + '\\\\' + filename): \n",
    "        for file in os.listdir(os.path.join(path,filename)):\n",
    "            print(file)\n",
    "            with open(os.path.join(path, filename,file), 'rb') as file: # open in readonly mode\n",
    "                list1 = pickle.load(file)\n",
    "            final_list.append(list1)"
   ]
  },
  {
   "cell_type": "markdown",
   "metadata": {},
   "source": [
    "In a folder with directories list (Results1, Results2, Results3 etc) go through each as a separate array job:\n"
   ]
  },
  {
   "cell_type": "code",
   "execution_count": null,
   "metadata": {},
   "outputs": [],
   "source": [
    "#index_num = sys.argv[1]  #this should return the array number within the array job\n",
    "index_num = 1 #for example\n",
    "path = os.getcwd() + '\\\\Data\\\\permutation_test_files_metabolomics\\\\Results' + str(index_num)\n",
    "final_list = []\n",
    "\n",
    "for filename in os.listdir(path): #also lists directories\n",
    "    print(filename)\n",
    "    with open(os.path.join(path, filename), 'rb') as file: # open in readonly mode\n",
    "        list1 = pickle.load(file)\n",
    "    final_list.append(list1)"
   ]
  },
  {
   "cell_type": "code",
   "execution_count": null,
   "metadata": {},
   "outputs": [],
   "source": [
    "len(final_list)\n",
    "\n",
    "for list1 in final_list:\n",
    "    print(len(list1))\n",
    "    print(list1[:3])"
   ]
  },
  {
   "cell_type": "markdown",
   "metadata": {},
   "source": [
    "### Calculate which edges are significant"
   ]
  },
  {
   "attachments": {},
   "cell_type": "markdown",
   "metadata": {},
   "source": [
    "Calculates number of permuted values above the initial test statistic, then divides by number of tests and works out p-value, before outputting the significant edges: (NOT RECOMMENDED, p-values not FDR corrected)"
   ]
  },
  {
   "cell_type": "code",
   "execution_count": null,
   "metadata": {},
   "outputs": [],
   "source": [
    "sig_edges = []\n",
    "edgelist = df.index\n",
    "\n",
    "for index,pathway_pair in enumerate(edgelist):   #test all pathways\n",
    "    comparison = df.Initial_tstat[index]    #get initial test statistic\n",
    "    counter = 0\n",
    "    \n",
    "    for list1 in final_list:  #len(final_list) = number of permutations\n",
    "        if abs(list1[index]) >= comparison:   \n",
    "            counter += 1\n",
    "    \n",
    "    p_val = (counter/len(final_list))    #divide number of tests above or equal to the test statistic by total number of tests\n",
    "\n",
    "    if p_val < 0.01:  #for 100,000 permutations\n",
    "        sig_edges.append(pathway_pair)  \n",
    "        \n",
    "print(len(sig_edges))\n",
    "sig_edges"
   ]
  },
  {
   "attachments": {},
   "cell_type": "markdown",
   "metadata": {},
   "source": [
    "Calculates number of permuted values above the initial test statistic (more scalable)"
   ]
  },
  {
   "cell_type": "code",
   "execution_count": null,
   "metadata": {},
   "outputs": [],
   "source": [
    "num_vals = []  #number of permuted values above the magnitude of the test statistic\n",
    "#sig_edges = []\n",
    "edgelist = df.index\n",
    "\n",
    "for index in range(len(edgelist)):   #test all pathways\n",
    "    comparison = df.Initial_tstat[index]    #get initial test statistic\n",
    "    print(comparison)\n",
    "    counter = 0\n",
    "    \n",
    "    for list1 in final_list:  #len(final_list) = number of permutations\n",
    "        if abs(list1[index]) >= comparison:   \n",
    "            counter += 1\n",
    "    num_vals.append(counter)\n",
    "\n",
    "num_vals"
   ]
  },
  {
   "attachments": {},
   "cell_type": "markdown",
   "metadata": {},
   "source": [
    "### Another alternative: (but converting to numpy array actually seems to take up more memory)"
   ]
  },
  {
   "cell_type": "code",
   "execution_count": null,
   "metadata": {},
   "outputs": [],
   "source": [
    "import numpy as np\n",
    "\n",
    "final_matrix = np.empty((0,len(df)), int)\n",
    "\n",
    "for filename in os.listdir(path):\n",
    "    if filename != 'initial_tstats.csv':\n",
    "        with open(os.path.join(path, filename), 'rb') as file: # open in readonly mode\n",
    "            list1 = pickle.load(file)\n",
    "        final_matrix = np.append(final_matrix, np.array([list1]), axis=0)"
   ]
  },
  {
   "cell_type": "code",
   "execution_count": null,
   "metadata": {},
   "outputs": [],
   "source": [
    "final_matrix.shape"
   ]
  },
  {
   "cell_type": "code",
   "execution_count": null,
   "metadata": {},
   "outputs": [],
   "source": [
    "final_matrix = np.array(final_list) \n",
    "\n",
    "final_matrix.shape\n",
    "\n",
    "sig_edges = []\n",
    "edgelist = df.index\n",
    "\n",
    "for index,pathway_pair in enumerate(edgelist):   #test all pathways\n",
    "    comparison = df.Initial_tstat[index]    #get initial test statistic\n",
    "    counter = 0\n",
    "    \n",
    "    col = abs(final_matrix[:,index])  #index a column and turn into absolute values\n",
    "    counter = (col >= comparison).sum()\n",
    "\n",
    "    \n",
    "    p_val = (counter/len(final_list))    #divide number of tests above or equal to the test statistic by total number of tests\n",
    "\n",
    "    if p_val < 0.01:  #for 100,000 permutations\n",
    "        sig_edges.append(pathway_pair)  \n",
    "        \n",
    "print(len(sig_edges))"
   ]
  },
  {
   "cell_type": "code",
   "execution_count": null,
   "metadata": {},
   "outputs": [],
   "source": [
    "#comparing the size of the object from the first method vs second method ()\n",
    "from sys import getsizeof\n",
    "print(getsizeof(final_list))\n",
    "print(getsizeof(final_matrix))"
   ]
  },
  {
   "cell_type": "markdown",
   "metadata": {},
   "source": [
    "Saving the file:"
   ]
  },
  {
   "cell_type": "code",
   "execution_count": null,
   "metadata": {},
   "outputs": [],
   "source": [
    "#Writing as text file\n",
    "with open ('Data/permutation_test_files_metabolomics/vals_test.txt', 'w') as file:\n",
    "     file.write(','.join(str(i) for i in num_vals))"
   ]
  },
  {
   "cell_type": "code",
   "execution_count": null,
   "metadata": {},
   "outputs": [],
   "source": [
    "#Pickling the file to save on memory space\n",
    "with open('Data/permutation_test_files_metabolomics/vals_test.txt', \"wb\") as file:  \n",
    "       pickle.dump(output,file)"
   ]
  },
  {
   "attachments": {},
   "cell_type": "markdown",
   "metadata": {},
   "source": [
    "### Read in HPC results (reading ten files):"
   ]
  },
  {
   "cell_type": "code",
   "execution_count": null,
   "metadata": {},
   "outputs": [],
   "source": [
    "import os \n",
    "import numpy as np \n",
    "import statsmodels.stats.multitest\n",
    "import pandas as pd\n",
    "from itertools import compress\n",
    "\n",
    "import seaborn as sns\n",
    "import matplotlib.pyplot as plt"
   ]
  },
  {
   "cell_type": "code",
   "execution_count": null,
   "metadata": {},
   "outputs": [],
   "source": [
    "#Read ten files that have the number of edges that are of a higher value that the initial test statistic\n",
    "\n",
    "#path = os.getcwd() + '\\\\Data\\\\permutation_test_files_metabolomics\\\\Values'\n",
    "#path = os.getcwd() + '\\\\Data\\\\permutation_test_files_metabolomics_withoutPA\\\\Values'\n",
    "path = os.getcwd() + '\\\\Data\\\\permutation_test_files_proteomics\\\\Values'\n",
    "#path = os.getcwd() + '\\\\Data\\\\permutation_test_files_integrated\\\\Values'\n",
    "val_array = []\n",
    "\n",
    "\n",
    "for filename in os.listdir(path): #also lists directories\n",
    "    with open(os.path.join(path, filename)) as file:    \n",
    "        lines = file.readlines()\n",
    "        vals = lines[0].split(';')\n",
    "        vals =  [int(x) for x in vals]\n",
    "        #print(vals)\n",
    "        if filename == 'vals1.txt':\n",
    "            val_array = np.array(vals)\n",
    "        else:\n",
    "            val_array = np.vstack([val_array, vals])"
   ]
  },
  {
   "cell_type": "code",
   "execution_count": null,
   "metadata": {},
   "outputs": [],
   "source": [
    "val_array\n",
    "val_array2 = val_array.sum(axis=0) #add up the values by columns for each pathway pair\n",
    "pval_array = val_array2 / 100000\n",
    "pval_array[:20]\n",
    "\n",
    "print(len(pval_array)) #10,296 for metabolomic,55,278 for metabolomic_withoutPA, 166,753 values for proteomic, 251,695 values for integrated\n",
    "(pval_array < 0.05).sum() #763 for metabolomic, 3933 for metabolomic_withoutPA, 58,115 values for proteomic, 68,299 values for integrated\n",
    "\n",
    "#Before I realised I forgot to scale: 795 values for metabolomic, 56,256 values for proteomic, 65,208 values for integrated"
   ]
  },
  {
   "cell_type": "code",
   "execution_count": null,
   "metadata": {},
   "outputs": [],
   "source": [
    "sns.histplot(pval_array, bins = 50,color='#B8CDF8',edgecolor=\"k\") \n",
    "\n",
    "#plt.title('Metabolomic unadjusted p-value distribution',fontsize=16)\n",
    "#plt.title('Metabolomic without PA unadjusted p-value distribution',fontsize=16)\n",
    "#plt.title('Proteomic unadjusted p-value distribution',fontsize=16)\n",
    "#plt.title('Integrated unadjusted p-value distribution',fontsize=16)\n",
    "\n",
    "plt.xlabel('Unadjusted p-value',fontsize=13)\n",
    "plt.ylabel('Count',fontsize=13) \n",
    "\n",
    "\n",
    "#plt.savefig( 'Figures/unadjusted_pval_metabolomic.png' , dpi=200,bbox_inches = 'tight' , pad_inches = 0.2 , facecolor='w')\n",
    "#plt.savefig( 'Figures/unadjusted_pval_metabolomic_withoutPA.png' , dpi=200,bbox_inches = 'tight' , pad_inches = 0.2 , facecolor='w')\n",
    "#plt.savefig( 'Figures/unadjusted_pval_proteomic.png' , dpi=200,bbox_inches = 'tight' , pad_inches = 0.2 , facecolor='w')\n",
    "#plt.savefig( 'Figures/unadjusted_pval_integrated.png' , dpi=200,bbox_inches = 'tight' , pad_inches = 0.2 , facecolor='w')"
   ]
  },
  {
   "cell_type": "code",
   "execution_count": null,
   "metadata": {},
   "outputs": [],
   "source": [
    "sig_edge_boolean,adjusted_pval = statsmodels.stats.multitest.fdrcorrection(pval_array, alpha=0.005, method='poscorr', is_sorted=False)\n",
    "sig_edge_boolean"
   ]
  },
  {
   "cell_type": "code",
   "execution_count": null,
   "metadata": {},
   "outputs": [],
   "source": [
    "sig_edge_boolean2,adjusted_pval2 = statsmodels.stats.multitest.fdrcorrection(pval_array, alpha=0.005, method='indep', is_sorted=False)\n",
    "sig_edge_boolean2"
   ]
  },
  {
   "cell_type": "code",
   "execution_count": null,
   "metadata": {},
   "outputs": [],
   "source": [
    "print(adjusted_pval)\n",
    "print(adjusted_pval2)"
   ]
  },
  {
   "cell_type": "code",
   "execution_count": null,
   "metadata": {},
   "outputs": [],
   "source": [
    "sig_edge_boolean == sig_edge_boolean2\n",
    "np.array_equiv(sig_edge_boolean,sig_edge_boolean2)"
   ]
  },
  {
   "cell_type": "code",
   "execution_count": null,
   "metadata": {},
   "outputs": [],
   "source": [
    "adjusted_pval"
   ]
  },
  {
   "cell_type": "code",
   "execution_count": null,
   "metadata": {},
   "outputs": [],
   "source": [
    "(adjusted_pval < 0.005).sum()"
   ]
  },
  {
   "cell_type": "code",
   "execution_count": null,
   "metadata": {},
   "outputs": [],
   "source": [
    "significance_ordered = list(adjusted_pval[adjusted_pval < 0.005])\n",
    "significance_ordered.sort()\n",
    "significance_ordered"
   ]
  },
  {
   "cell_type": "code",
   "execution_count": null,
   "metadata": {},
   "outputs": [],
   "source": [
    "sum(sig_edge_boolean) \n",
    "\n",
    "#One-sided permutation testing:\n",
    "#Metabolomic - 214 edges at p < 0.005 and 53 edges at  p < 0.005\n",
    "#Proteomic - 15,730 edges at p < 0.05 and 8,753 edges at p < 0.005\n",
    "#Integrated - 45,123 edges at p < 0.05 and 9,069 edges at p < 0.005\n",
    "\n",
    "#Two sided permutation testing (before I realised that I forgot to scale the two dataset after subsetting)\n",
    "#Metabolomic - 8 edges significant with method=indep and method=poscorr\n",
    "#Metabolomic without PA - 70 edges significant with method=indep and method=poscorr\n",
    "#Proteomic - 31,486 edges significant with method=indep and method=poscorr\n",
    "#Integrated - 26,761 edges significant with method=indep and method=poscorr (less than proteomic because more edges so penalised more heavily)\n"
   ]
  },
  {
   "cell_type": "code",
   "execution_count": null,
   "metadata": {},
   "outputs": [],
   "source": [
    "sns.histplot(adjusted_pval, bins = 50,color='#B8CDF8',edgecolor=\"k\") \n",
    "\n",
    "#plt.title('Metabolomic adjusted p-value distribution',fontsize=16)\n",
    "#plt.title('Metabolomic without PA adjusted p-value distribution',fontsize=16)\n",
    "plt.title('Proteomic adjusted p-value distribution',fontsize=16)\n",
    "#plt.title('Integrated adjusted p-value distribution',fontsize=16)\n",
    "\n",
    "plt.xlabel('Adjusted p-value',fontsize=13)\n",
    "plt.ylabel('Count',fontsize=13) \n",
    "\n",
    "#plt.savefig( 'Figures/adjusted_pval_metabolomic.png' , dpi=200,bbox_inches = 'tight' , pad_inches = 0.2 , facecolor='w')\n",
    "#plt.savefig( 'Figures/adjusted_pval_metabolomic_withoutPA.png' , dpi=200,bbox_inches = 'tight' , pad_inches = 0.2 , facecolor='w')\n",
    "#plt.savefig( 'Figures/adjusted_pval_proteomic.png' , dpi=200,bbox_inches = 'tight' , pad_inches = 0.2 , facecolor='w')\n",
    "#plt.savefig( 'Figures/adjusted_pval_integrated.png' , dpi=200,bbox_inches = 'tight' , pad_inches = 0.2 , facecolor='w')\n",
    "\n"
   ]
  },
  {
   "attachments": {},
   "cell_type": "markdown",
   "metadata": {},
   "source": [
    "Easier to obtain the reverse (i.e. edges that are not significant), since then they can be removed easily"
   ]
  },
  {
   "cell_type": "code",
   "execution_count": null,
   "metadata": {},
   "outputs": [],
   "source": [
    "not_sig_edge_boolean = [not elem for elem in sig_edge_boolean]\n",
    "sum(not_sig_edge_boolean )"
   ]
  },
  {
   "cell_type": "code",
   "execution_count": null,
   "metadata": {},
   "outputs": [],
   "source": [
    "#Load dataset\n",
    "#df = pd.read_csv('Data/permutation_test_files_metabolomics/initial_tstats.csv', index_col=0)\n",
    "#df = pd.read_csv('Data/permutation_test_files_metabolomics_withoutPA/initial_tstats.csv', index_col=0)\n",
    "#df = pd.read_csv('Data/permutation_test_files_proteomics/initial_tstats.csv', index_col=0)\n",
    "df = pd.read_csv('Data/permutation_test_files_integrated/initial_tstats.csv', index_col=0)\n",
    "edgelist = df.index\n",
    "\n",
    "\n",
    "sig_edges = list(compress(edgelist,sig_edge_boolean))\n",
    "not_sig_edges = list(compress(edgelist,not_sig_edge_boolean))\n",
    "\n",
    "#Zip p-values to edge names to form dictionary (so I can test significance of differentially expressed genes)\n",
    "edgelist_tuple = []\n",
    "for i in range(len(edgelist)):\n",
    "    edge = edgelist[i].split(\",\")\n",
    "    edge = (edge[0],edge[1][1:])\n",
    "    edgelist_tuple.append(edge)\n",
    "    \n",
    "p_val_dict  = dict(zip(edgelist_tuple, adjusted_pval))"
   ]
  },
  {
   "cell_type": "markdown",
   "metadata": {},
   "source": [
    "Saving the significant edges: Easier to compare with the naive networks and the other omics networks as well <br>\n",
    "Saving the non-significant edges: Easier when constructing the differential network analysis"
   ]
  },
  {
   "cell_type": "code",
   "execution_count": null,
   "metadata": {},
   "outputs": [],
   "source": [
    "#with open ('Data/permutation_test_files_metabolomics/sig_edges.txt', 'w') as file:\n",
    "#     file.write(','.join(str(i) for i in sig_edges))\n",
    "     \n",
    "#with open ('Data/permutation_test_files_metabolomics/not_sig_edges.txt', 'w') as file:\n",
    "#     file.write(','.join(str(i) for i in not_sig_edges))"
   ]
  },
  {
   "cell_type": "code",
   "execution_count": null,
   "metadata": {},
   "outputs": [],
   "source": [
    "#Save number of significant edges BEFORE FDR CORRECTION\n",
    "\n",
    "#sig_edges_beforefdr = list(compress(edgelist,pval_array < 0.05))\n",
    "#print(len(sig_edges_beforefdr))\n",
    "\n",
    "#with open ('Data/permutation_test_files_metabolomics/sig_edges_beforefdr.txt', 'w') as file:\n",
    "#     file.write(','.join(str(i) for i in sig_edges_beforefdr))"
   ]
  },
  {
   "cell_type": "code",
   "execution_count": null,
   "metadata": {},
   "outputs": [],
   "source": [
    "#with open ('Data/permutation_test_files_metabolomics_withoutPA/sig_edges.txt', 'w') as file:\n",
    "#     file.write(','.join(str(i) for i in sig_edges))\n",
    "     \n",
    "#with open ('Data/permutation_test_files_metabolomics_withoutPA/not_sig_edges.txt', 'w') as file:\n",
    "#     file.write(','.join(str(i) for i in not_sig_edges))"
   ]
  },
  {
   "cell_type": "code",
   "execution_count": null,
   "metadata": {},
   "outputs": [],
   "source": [
    "#with open ('Data/permutation_test_files_proteomics/sig_edges.txt', 'w') as file:\n",
    "#     file.write(','.join(str(i) for i in sig_edges))\n",
    "     \n",
    "#with open ('Data/permutation_test_files_proteomics/not_sig_edges.txt', 'w') as file:\n",
    "#     file.write(','.join(str(i) for i in not_sig_edges))"
   ]
  },
  {
   "cell_type": "code",
   "execution_count": null,
   "metadata": {},
   "outputs": [],
   "source": [
    "#with open ('Data/permutation_test_files_integrated/sig_edges.txt', 'w') as file:\n",
    "#     file.write(','.join(str(i) for i in sig_edges))\n",
    "     \n",
    "#with open ('Data/permutation_test_files_integrated/not_sig_edges.txt', 'w') as file:\n",
    "#     file.write(','.join(str(i) for i in not_sig_edges))"
   ]
  },
  {
   "attachments": {},
   "cell_type": "markdown",
   "metadata": {},
   "source": [
    "### Plotting the test statistic distribution for randomly chosen pathway pairs\n"
   ]
  },
  {
   "cell_type": "code",
   "execution_count": null,
   "metadata": {},
   "outputs": [],
   "source": [
    "import pandas as pd\n",
    "import os\n",
    "import random\n",
    "import pickle\n",
    "import seaborn as sns\n",
    "import matplotlib.pyplot as plt"
   ]
  },
  {
   "cell_type": "code",
   "execution_count": null,
   "metadata": {},
   "outputs": [],
   "source": [
    "#Download the initial test statistics\n",
    "#df = pd.read_csv('Data/permutation_test_files_metabolomics/initial_tstats.csv', index_col=0)\n",
    "#df = pd.read_csv('Data/permutation_test_files_proteomics/initial_tstats.csv', index_col=0)\n",
    "df = pd.read_csv('Data/permutation_test_files_integrated/initial_tstats.csv', index_col=0)\n",
    "\n",
    "\n",
    "#path = os.getcwd() + '\\\\Data\\\\permutation_test_files_metabolomics'\n",
    "#path = os.getcwd() + '\\\\Data\\\\permutation_test_files_proteomics'\n",
    "path = os.getcwd() + '\\\\Data\\\\permutation_test_files_integrated'"
   ]
  },
  {
   "cell_type": "code",
   "execution_count": null,
   "metadata": {},
   "outputs": [],
   "source": [
    "df"
   ]
  },
  {
   "cell_type": "markdown",
   "metadata": {},
   "source": [
    "Selecting random pathways and writing to a file without the HPC:"
   ]
  },
  {
   "cell_type": "code",
   "execution_count": null,
   "metadata": {},
   "outputs": [],
   "source": [
    "\n",
    "\n",
    "#pathway_list = []\n",
    "\n",
    "#for i in range(8): #take 8 random pathways\n",
    "#    index = random.randrange(0, len(df)) #Gives index from 0 to (len(df)-1), better for indexing with unpickled files which are stored as lists\n",
    "#    print(index)\n",
    "#    for filename in os.listdir(path):\n",
    "#            if filename.startswith('Run'):\n",
    "#                with open(os.path.join(path, filename),'rb') as file:\n",
    "#                    list1 = pickle.load(file)   \n",
    "#                    #print(len(list1))\n",
    "#                    pathway_list.append(list1[index])\n",
    "#    with open('Data/permutation_test_files_metabolomics/test_distribution'+str(index)+'.txt', 'w') as file:\n",
    "#        file.write(','.join(str(i) for i in pathway_list))\n",
    "#    print(len(pathway_list))\n",
    "#    pathway_list = []\n",
    "\n",
    "\n"
   ]
  },
  {
   "attachments": {},
   "cell_type": "markdown",
   "metadata": {},
   "source": [
    "Read in the test distribution files that were made from the HPC and plotting:"
   ]
  },
  {
   "cell_type": "code",
   "execution_count": null,
   "metadata": {},
   "outputs": [],
   "source": [
    "val_array = []\n",
    "\n",
    "\n",
    "#Run all the test distribution files:\n",
    "#for filename in os.listdir(path): #also lists directories\n",
    "#    if filename.startswith('test'):\n",
    "#        with open(os.path.join(path, filename)) as file:    \n",
    "#            lines = file.readlines()\n",
    "#            vals = lines[0].split(',')\n",
    "#            vals =  [float(x) for x in vals]\n",
    "#            print(len(vals))\n",
    "#            print(vals[:100])\n",
    "            \n",
    "\n",
    "#I've plotted figures for the following (metabolomics): 855, 1496 (sig before correction), 1884, 1897, 2391, 2681 (sig before correction, not normal), 2747, 3660, 4665, 4692, 5958, 7664 (normal), 8257, 9949, 10215\n",
    "#I've plotted figures for the following (proteomics): 492 (sig - no permutations over), 1863 (weird bimodal distribution, 3212 (sig before correction), 3379, 11886 (sig before correction), 15302 (sig before correction), 19587 (sig before correction, weird distribution), 44413 (sig), 80764, 98000(sig), 142402, 143312, 145571 (sig, weird distribution), 153715 (sig - no permutations over), 157122 (not sig, normal)\n",
    "#I've plotted figures for the following (integrated): 19156, 29535, 39570, 67801 (sig before correction), 82140, 96565, 96908 (sig before correction, normal), 101041, 124135, 184762 (sig), 236500 (sig before correction)\n",
    "\n",
    "#Open the test distribution files one by one:\n",
    "test_num = 239468\n",
    "#with open('Data/permutation_test_files_metabolomics/Test_distribution/test_distribution'+str(test_num)+'.txt') as file:\n",
    "#with open('Data/permutation_test_files_proteomics/Test_distribution/test_distribution'+str(test_num)+'.txt') as file:\n",
    "with open('Data/permutation_test_files_integrated/Test_distribution/test_distribution'+str(test_num)+'.txt') as file:\n",
    "    comparison = df.Initial_tstat[test_num]\n",
    "    edge_name = df.index[test_num]\n",
    "\n",
    "    lines = file.readlines()\n",
    "    vals = lines[0].split(',')\n",
    "    vals =  [float(x) for x in vals]\n",
    "    print(len(vals))\n",
    "    print(vals[:100])\n",
    "\n",
    "\n",
    "#For metabolomics:\n",
    "#sns.histplot(vals, bins = 50,color='#59C3C3',edgecolor=\"k\") \n",
    "\n",
    "#For proteomics:\n",
    "#sns.histplot(vals, bins = 50,color='#4062BB',edgecolor=\"k\") \n",
    "\n",
    "#For integrated data:\n",
    "sns.histplot(vals, bins = 50,color='#52489C',edgecolor=\"k\") \n",
    "\n",
    "\n",
    "plt.title('Pathway pair '+ edge_name,fontsize=16)\n",
    "plt.xlabel('Delta value',fontsize=13)\n",
    "plt.ylabel('Count',fontsize=13) \n",
    "\n",
    "plt.axvline(x=comparison, color='r', linewidth=0.5, linestyle='--', dashes=(8, 5))\n",
    "plt.axvline(x=-comparison, color='r', linewidth=0.5, linestyle='--', dashes=(8, 5))\n",
    "\n",
    "#Count number of values (made absolute) that are over the initial test statistic (made absolute) for two sided permutation test\n",
    "counter = 0 \n",
    "for index in range(len(vals)):  #len(final_list) = number of permutations\n",
    "    if abs(vals[index]) >= comparison:   \n",
    "        counter += 1\n",
    "print(counter)\n",
    "\n",
    "\n",
    "#MUST RUN THE ABOVE CODE TO LOAD IN THE NUMBER OF VALUES THAT ARE ABOVE THE INITIAL TEST STATISTIC SO I KNOW WHETHER THE PATHWAY PAIR IS SIGNIFICANT AFTER FDR CORRECTION\n",
    "if sig_edge_boolean[test_num] == True:\n",
    "    plt.text(-0.8, -2600, \"Adjusted p-value significant\",fontsize=10)\n",
    "else:\n",
    "    plt.text(-0.8, -2600, \"Not significant\",fontsize=10)\n",
    "plt.text(-0.8, -3200, \"Unadjusted p-value: \" + str(pval_array[test_num]),fontsize=10)\n",
    "plt.text(-0.8, -3800, \"FDR-adjusted p-value: \" + str(adjusted_pval[test_num]),fontsize=10)\n",
    "plt.text(-0.8, -4400, \"Number of values above initial test statistic: \" + str(counter),fontsize=10)\n",
    "\n",
    "\n",
    "\n",
    "plt.xlim(-0.9,0.9)   #-log_10(0.005) = 2.301...\n",
    "plt.ylim(0,15000) \n",
    "\n",
    "#plt.savefig( 'Figures/Pathway ' + edge_name + '.png' , dpi=200,bbox_inches = 'tight' , pad_inches = 0.2 , facecolor='w')"
   ]
  },
  {
   "cell_type": "markdown",
   "metadata": {},
   "source": [
    "### Comparing the difference in edges with other networks"
   ]
  },
  {
   "cell_type": "markdown",
   "metadata": {},
   "source": [
    "Comparing with the naive networks (mild vs severe) to see if they agree with the differential network results:"
   ]
  },
  {
   "cell_type": "code",
   "execution_count": null,
   "metadata": {},
   "outputs": [],
   "source": [
    "import networkx as nx"
   ]
  },
  {
   "cell_type": "code",
   "execution_count": null,
   "metadata": {},
   "outputs": [],
   "source": [
    "mild = nx.read_gml(\"Cytoscape/metabolomic_final_mildcases.gml\")\n",
    "severe = nx.read_gml(\"Cytoscape/metabolomic_final_severecases.gml\")"
   ]
  },
  {
   "cell_type": "code",
   "execution_count": null,
   "metadata": {},
   "outputs": [],
   "source": [
    "mild = nx.read_gml(\"Cytoscape/proteomic_final_mildcases.gml\")\n",
    "severe = nx.read_gml(\"Cytoscape/proteomic_final_severecases.gml\")"
   ]
  },
  {
   "cell_type": "code",
   "execution_count": null,
   "metadata": {},
   "outputs": [],
   "source": [
    "mild = nx.read_gml(\"Cytoscape/integrated_final_mildcases.gml\")\n",
    "severe = nx.read_gml(\"Cytoscape/integrated_final_severecases.gml\")"
   ]
  },
  {
   "cell_type": "code",
   "execution_count": null,
   "metadata": {},
   "outputs": [],
   "source": [
    "mild_edges = list(mild.edges())\n",
    "print(len(mild_edges))\n",
    "severe_edges = list(severe.edges())\n",
    "print(len(severe_edges))"
   ]
  },
  {
   "cell_type": "code",
   "execution_count": null,
   "metadata": {},
   "outputs": [],
   "source": [
    "#Example code from https://stackoverflow.com/questions/41125909/python-find-elements-in-one-list-that-are-not-in-the-other\n",
    "list_1=[\"a\", \"b\", \"c\", \"d\", \"e\"]\n",
    "list_2=[\"a\", \"f\", \"c\", \"m\"]\n",
    "set(list_2) - set(list_1)\n",
    "\n",
    "#set(['m', 'f'])"
   ]
  },
  {
   "cell_type": "code",
   "execution_count": null,
   "metadata": {},
   "outputs": [],
   "source": [
    "#Edges present in the mild network but not the severe network\n",
    "print(len(list(set(mild_edges) - set(severe_edges))))\n",
    "mild = list(set(mild_edges) - set(severe_edges))"
   ]
  },
  {
   "cell_type": "code",
   "execution_count": null,
   "metadata": {},
   "outputs": [],
   "source": [
    "#Edges present in the severe network but not the mild network\n",
    "print(len(list(set(severe_edges) - set(mild_edges))))\n",
    "severe = list(set(severe_edges) - set(mild_edges))"
   ]
  },
  {
   "cell_type": "code",
   "execution_count": null,
   "metadata": {},
   "outputs": [],
   "source": [
    "#Edges present in both mild and severe\n",
    "print(len(list(set(severe_edges) & set(mild_edges))))\n",
    "mild_severe = list(set(severe_edges) & set(mild_edges))"
   ]
  },
  {
   "cell_type": "code",
   "execution_count": null,
   "metadata": {},
   "outputs": [],
   "source": [
    "#Reading in the edges expressed in the differential metabolomic network\n",
    "#with open('Data/permutation_test_files_metabolomics/sig_edges_beforefdr.txt') as f:\n",
    "#with open('Data/permutation_test_files_metabolomics/sig_edges.txt') as f:\n",
    "#with open('Data/permutation_test_files_proteomics/sig_edges.txt') as f:\n",
    "with open('Data/permutation_test_files_integrated/sig_edges.txt') as f:\n",
    "    lines = f.readlines()\n",
    "\n",
    "edges_remaining = []\n",
    "\n",
    "edges = lines[0].split(\",\")\n",
    "\n",
    "for index in range(0,len(edges),2):\n",
    "    list1 = edges[index],(edges[index+1][1:]) #becomes a tuple\n",
    "    edges_remaining.append(list1)\n",
    "\n",
    "print(len(edges_remaining))\n",
    "#edges_remaining"
   ]
  },
  {
   "cell_type": "code",
   "execution_count": null,
   "metadata": {},
   "outputs": [],
   "source": [
    "intersection = list(set(edges_remaining).intersection(list(set(mild))))  \n",
    "len(intersection)"
   ]
  },
  {
   "cell_type": "code",
   "execution_count": null,
   "metadata": {},
   "outputs": [],
   "source": [
    "intersection = list(set(edges_remaining).intersection(list(set(severe)))) \n",
    "len(intersection) "
   ]
  },
  {
   "cell_type": "code",
   "execution_count": null,
   "metadata": {},
   "outputs": [],
   "source": [
    "intersection = list(set(edges_remaining).intersection(list(set(mild_severe)))) \n",
    "len(intersection) "
   ]
  },
  {
   "cell_type": "markdown",
   "metadata": {},
   "source": [
    "### Comparing with the significant edges BETWEEN the different omics:"
   ]
  },
  {
   "cell_type": "code",
   "execution_count": null,
   "metadata": {},
   "outputs": [],
   "source": [
    "def edge_num (omics):\n",
    "    with open('Data/permutation_test_files_'+omics+'/sig_edges.txt') as f:\n",
    "    #with open('Data/permutation_test_files_'+omics+'/sig_edges_beforefdr.txt') as f:    #for metabolomic data since there are so few edges left\n",
    "        lines = f.readlines()\n",
    "    edges_remaining = []\n",
    "    edges = lines[0].split(\",\")\n",
    "\n",
    "    for index in range(0,len(edges),2):\n",
    "        list1 = edges[index],(edges[index+1][1:]) #becomes a tuple\n",
    "        edges_remaining.append(list1)\n",
    "\n",
    "    return edges_remaining\n"
   ]
  },
  {
   "cell_type": "code",
   "execution_count": null,
   "metadata": {},
   "outputs": [],
   "source": [
    "proteomic_edges = edge_num('proteomics')\n",
    "integrated_edges = edge_num('integrated')\n",
    "metabolomic_edges = edge_num('metabolomics')"
   ]
  },
  {
   "cell_type": "code",
   "execution_count": null,
   "metadata": {},
   "outputs": [],
   "source": [
    "len(integrated_edges)"
   ]
  },
  {
   "cell_type": "code",
   "execution_count": null,
   "metadata": {},
   "outputs": [],
   "source": [
    "intersection = list(set(integrated_edges).intersection(list(set(metabolomic_edges))))  \n",
    "len(intersection) "
   ]
  },
  {
   "cell_type": "code",
   "execution_count": null,
   "metadata": {},
   "outputs": [],
   "source": [
    "intersection = (set(metabolomic_edges) & set(proteomic_edges) & set(integrated_edges))  \n",
    "len(intersection) "
   ]
  },
  {
   "cell_type": "code",
   "execution_count": null,
   "metadata": {},
   "outputs": [],
   "source": [
    "len(list(set(integrated_edges) - (set(metabolomic_edges)|set(proteomic_edges)))) #Pathway pairs for integrated data not detected by either single omics"
   ]
  },
  {
   "cell_type": "markdown",
   "metadata": {},
   "source": [
    "### Get number of common pathways between the three omics"
   ]
  },
  {
   "cell_type": "code",
   "execution_count": null,
   "metadata": {},
   "outputs": [],
   "source": [
    "import pandas as pd\n",
    "import sspa"
   ]
  },
  {
   "cell_type": "code",
   "execution_count": null,
   "metadata": {},
   "outputs": [],
   "source": [
    "metabolomic_df = pd.read_csv('Data/Su_COVID_metabolomics_processed_commoncases.csv', index_col=0)\n",
    "proteomic_df = pd.read_csv('Data/Su_COVID_proteomics_processed_commoncases.csv', index_col=0)\n",
    "integrated_df = pd.read_csv(\"Data/Su_integrated_data.csv\", index_col=0)\n",
    "\n",
    "#Remove root pathways\n",
    "#Convert pathway ID to name\n",
    "root_path = pd.read_excel('Data/Root_pathways.xlsx', header=None)\n",
    "root_pathway_dict = {root_path[0][i]:root_path[1][i] for i in range(0,len(root_path))}\n",
    "root_pathway_names = list(root_pathway_dict.keys())"
   ]
  },
  {
   "cell_type": "code",
   "execution_count": null,
   "metadata": {},
   "outputs": [],
   "source": [
    "reactome_pathways = sspa.process_gmt(\"Data/Reactome_Homo_sapiens_pathways_compounds_R84.gmt\")\n",
    "kpca_scores = sspa.sspa_kpca(metabolomic_df.iloc[:,:-2], reactome_pathways)\n",
    "\n",
    "#Using Sara's code\n",
    "kpca_scores = kpca_scores.drop(columns = list(set(root_pathway_names) & set(kpca_scores.columns)))\n",
    "\n",
    "metabolomic_pathways = kpca_scores.columns\n",
    "metabolomic_pathways"
   ]
  },
  {
   "cell_type": "code",
   "execution_count": null,
   "metadata": {},
   "outputs": [],
   "source": [
    "#Load in a file downloaded from https://reactome.org/download/current/UniProt2Reactome_All_Levels.txt\n",
    "reactome_pathways = sspa.process_reactome('Homo sapiens', infile = 'Data/UniProt2Reactome_All_Levels_ver84.txt', download_latest = False, filepath = None)\n",
    "kpca_scores = sspa.sspa_kpca(proteomic_df.iloc[:,:-2], reactome_pathways)\n",
    "\n",
    "#Using Sara's code\n",
    "kpca_scores = kpca_scores.drop(columns = list(set(root_pathway_names) & set(kpca_scores.columns)))\n",
    "\n",
    "proteomic_pathways = kpca_scores.columns\n",
    "proteomic_pathways"
   ]
  },
  {
   "cell_type": "code",
   "execution_count": null,
   "metadata": {},
   "outputs": [],
   "source": [
    "reactome_pathways = pd.read_csv(\"Data/Reactome_multi_omics_ChEBI_Uniprot.csv\", index_col=0,dtype=\"str\")\n",
    "kpca_scores = sspa.sspa_kpca(integrated_df.iloc[:,:-2], reactome_pathways)\n",
    "\n",
    "#Using Sara's code\n",
    "kpca_scores = kpca_scores.drop(columns = list(set(root_pathway_names) & set(kpca_scores.columns)))\n",
    "\n",
    "integrated_pathways = kpca_scores.columns\n",
    "integrated_pathways"
   ]
  },
  {
   "cell_type": "code",
   "execution_count": null,
   "metadata": {},
   "outputs": [],
   "source": [
    "intersection = list(set(metabolomic_pathways).intersection(list(set(proteomic_pathways))))   #47 pathways\n",
    "intersection = (set(metabolomic_pathways) & set(proteomic_pathways) & set(integrated_pathways))  #47 pathways \n",
    "\n",
    "intersection = list(set(metabolomic_pathways).intersection(list(set(integrated_pathways))))  #144 pathways (same as number of metabolomic)\n",
    "intersection = list(set(proteomic_pathways).intersection(list(set(integrated_pathways))))  #578 pathways (same as number of proteomic)\n",
    "\n",
    "#710 pathways in integrated dataset\n",
    "#((144+578)-47+35)\n",
    "\n",
    "len(list(set(integrated_pathways) - (set(metabolomic_pathways)|set(proteomic_pathways)))) #35 pathways for integrated data not detected by either single omics"
   ]
  },
  {
   "cell_type": "code",
   "execution_count": null,
   "metadata": {},
   "outputs": [],
   "source": [
    "new_pathways = list(set(integrated_pathways) - (set(metabolomic_pathways)|set(proteomic_pathways)))\n",
    "new_pathways"
   ]
  },
  {
   "cell_type": "code",
   "execution_count": null,
   "metadata": {},
   "outputs": [],
   "source": [
    "#Get number of pathways that have been influenced\n",
    "\n",
    "df = pd.read_csv(\"Data/Su_integrated_data.csv\", index_col=0)\n",
    "reactome_pathways = pd.read_csv(\"Data/Reactome_multi_omics_ChEBI_Uniprot.csv\", index_col=0,dtype=\"str\")\n",
    "\n",
    "\n",
    "kpca_scores = sspa.sspa_kpca(integrated_df.iloc[:,:-2], reactome_pathways)\n",
    "\n",
    "#Using Sara's code\n",
    "kpca_scores = kpca_scores.drop(columns = list(set(root_pathway_names) & set(kpca_scores.columns)))\n",
    "\n",
    "#Obtain pathways and corresponding metabolites for all Reactome pathways, store as dictionary\n",
    "orig_dict = sspa.utils.pathwaydf_to_dict(reactome_pathways)\n",
    "\n",
    "#Filter out dictionary to retain only the pathways that remain after kPCA\n",
    "my_keys = kpca_scores.columns\n",
    "pathways_dict = {key: orig_dict[key] for key in my_keys}\n",
    "\n",
    "#Filter out the compounds in the pathways that are not present in the dataset\n",
    "\n",
    "#Obtain all unique values in dataset\n",
    "compounds_present = list(df.columns[:-2])\n",
    "filtered_dict = {} \n",
    "\n",
    "#My code adapted from Cecilia's\n",
    "#If the key values are not part of the compounds in dataset then remove\n",
    "for key,value in pathways_dict.items():\n",
    "    new_val = [item for item in value if item in compounds_present]\n",
    "    if len(new_val) >= 2: #at least two compounds in the pathway\n",
    "        filtered_dict[key] = new_val"
   ]
  },
  {
   "cell_type": "code",
   "execution_count": null,
   "metadata": {},
   "outputs": [
    {
     "data": {
      "text/plain": [
       "['R-HSA-9734735',\n",
       " 'R-HSA-196807',\n",
       " 'R-HSA-379398',\n",
       " 'R-HSA-901042',\n",
       " 'R-HSA-2672351',\n",
       " 'R-HSA-193681',\n",
       " 'R-HSA-1483249',\n",
       " 'R-HSA-73942',\n",
       " 'R-HSA-202131',\n",
       " 'R-HSA-8868773',\n",
       " 'R-HSA-8978934',\n",
       " 'R-HSA-203615',\n",
       " 'R-HSA-373760',\n",
       " 'R-HSA-975576',\n",
       " 'R-HSA-9634815',\n",
       " 'R-HSA-379401',\n",
       " 'R-HSA-70350',\n",
       " 'R-HSA-9660821',\n",
       " 'R-HSA-983712',\n",
       " 'R-HSA-209968',\n",
       " 'R-HSA-9694631',\n",
       " 'R-HSA-5652084',\n",
       " 'R-HSA-5579029',\n",
       " 'R-HSA-379397',\n",
       " 'R-HSA-187015',\n",
       " 'R-HSA-975578',\n",
       " 'R-HSA-8939902',\n",
       " 'R-HSA-1483166',\n",
       " 'R-HSA-71240',\n",
       " 'R-HSA-194002',\n",
       " 'R-HSA-532668',\n",
       " 'R-HSA-2162123',\n",
       " 'R-HSA-389661',\n",
       " 'R-HSA-9755088',\n",
       " 'R-HSA-193993']"
      ]
     },
     "metadata": {},
     "output_type": "display_data"
    }
   ],
   "source": [
    "new_pathways"
   ]
  },
  {
   "cell_type": "code",
   "execution_count": null,
   "metadata": {},
   "outputs": [],
   "source": [
    "#All 35 new pathways comprised of one metabolite and one protein\n",
    "\n",
    "proteomic_only_pathway = []\n",
    "proteomic_pathway_with_onemetabolite = []\n",
    "metabolomic_only_pathway = []\n",
    "metabolomic_pathway_with_oneprotein = []\n",
    "both_omic = []\n",
    "new_pathway = []\n",
    "\n",
    "for key,values in filtered_dict.items():\n",
    "    #if key in new_pathways:\n",
    "        #print(values)\n",
    "    #print(values)\n",
    "    proteomic=False\n",
    "    metabolomic=False\n",
    "    both=False\n",
    "\n",
    "\n",
    "    proteins = 0\n",
    "    metabolites = 0\n",
    "\n",
    "    for value in values:\n",
    "\n",
    "        if value[0].isalpha():\n",
    "            proteins += 1\n",
    "        else:\n",
    "            metabolites += 1\n",
    "\n",
    "    \n",
    "    if metabolites == 0:\n",
    "        proteomic_only_pathway.append(key)\n",
    "    if proteins > 1 and metabolites == 1:\n",
    "        proteomic_pathway_with_onemetabolite.append(key)\n",
    "    \n",
    "    if proteins == 0:\n",
    "        metabolomic_only_pathway.append(key)\n",
    "    if metabolites > 1 and proteins == 1:\n",
    "        metabolomic_pathway_with_oneprotein.append(key)\n",
    "\n",
    "    if metabolites > 1 and proteins > 1:\n",
    "        both_omic.append(key)\n",
    "    if proteins == 1 and metabolites == 1:\n",
    "        new_pathway.append(key)\n",
    "\n"
   ]
  },
  {
   "cell_type": "code",
   "execution_count": null,
   "metadata": {},
   "outputs": [
    {
     "name": "stdout",
     "output_type": "stream",
     "text": [
      "485\n",
      "46\n",
      "65\n",
      "32\n",
      "47\n",
      "35\n"
     ]
    }
   ],
   "source": [
    "print(len(proteomic_only_pathway))\n",
    "print(len(proteomic_pathway_with_onemetabolite))\n",
    "print(len(metabolomic_only_pathway))\n",
    "print(len(metabolomic_pathway_with_oneprotein))\n",
    "print(len(both_omic))\n",
    "print(len(new_pathway))"
   ]
  },
  {
   "cell_type": "code",
   "execution_count": null,
   "metadata": {},
   "outputs": [],
   "source": [
    "for key,values in filtered_dict.items():\n",
    "    #if key in new_pathways:\n",
    "        #print(values)\n",
    "    print(values)\n",
    "    proteomic=False\n",
    "    metabolomic=False\n",
    "    both=False\n",
    "\n",
    "\n",
    "    for value in values:\n",
    "\n",
    "        if value[0].isalpha() and metabolomic==False:\n",
    "            proteomic=True\n",
    "        elif value[0].isdigit() and proteomic==False:\n",
    "            metabolomic=True\n",
    "\n",
    "        elif value[0].isalpha() and metabolomic==True:\n",
    "            both=True\n",
    "            metabolomic=False\n",
    "            break\n",
    "        elif value[0].isdigit() and proteomic==True:\n",
    "            both=True\n",
    "            proteomic=False\n",
    "            break\n",
    "\n",
    "    if proteomic == True:\n",
    "        proteomic_only.append(key)\n",
    "    if metabolomic == True:\n",
    "        metabolomic_only.append(key)\n",
    "    if both == True:\n",
    "        both_omic.append(key)\n"
   ]
  },
  {
   "cell_type": "markdown",
   "metadata": {},
   "source": [
    "### Comparing the initial test statistics of the three omics to see which edges were affected"
   ]
  },
  {
   "cell_type": "code",
   "execution_count": null,
   "metadata": {},
   "outputs": [],
   "source": [
    "import pandas as pd"
   ]
  },
  {
   "cell_type": "markdown",
   "metadata": {},
   "source": [
    "Comparing the initial test statistics of the integrated data with the proteomic initial test statistics:"
   ]
  },
  {
   "cell_type": "code",
   "execution_count": null,
   "metadata": {},
   "outputs": [],
   "source": [
    "#Load dataset\n",
    "metabolomic = pd.read_csv('Data/permutation_test_files_metabolomics/initial_tstats.csv', index_col=0)\n",
    "proteomic = pd.read_csv('Data/permutation_test_files_proteomics/initial_tstats.csv', index_col=0)\n",
    "integrated = pd.read_csv('Data/permutation_test_files_integrated/initial_tstats.csv', index_col=0)"
   ]
  },
  {
   "cell_type": "code",
   "execution_count": null,
   "metadata": {},
   "outputs": [],
   "source": [
    "metabolomic = metabolomic.rename(columns={'Initial_tstat': 'metabolomic_tstat'})\n",
    "proteomic = proteomic.rename(columns={'Initial_tstat': 'proteomic_tstat'})\n",
    "integrated = integrated.rename(columns={'Initial_tstat': 'integrated_tstat'})"
   ]
  },
  {
   "cell_type": "code",
   "execution_count": null,
   "metadata": {},
   "outputs": [],
   "source": [
    "initial_tstat_comp = proteomic.join(integrated)\n",
    "initial_tstat_comp"
   ]
  },
  {
   "cell_type": "code",
   "execution_count": null,
   "metadata": {},
   "outputs": [],
   "source": [
    "#Number of pathway pairs with initial test statistic that are the same\n",
    "\n",
    "proteomic_only_edge = []\n",
    "metabolomic_influence_edge = []\n",
    "counter = 0\n",
    "\n",
    "for edge in initial_tstat_comp.index:\n",
    "    if initial_tstat_comp.loc[edge].proteomic_tstat == initial_tstat_comp.loc[edge].integrated_tstat:\n",
    "        proteomic_only_edge.append(edge)\n",
    "        counter += 1\n",
    "    else:\n",
    "        metabolomic_influence_edge.append(edge)\n",
    "\n",
    "\n",
    "print(counter)\n",
    "\n",
    "#166,753 edges of the proteomic initial test statistic dataset are all included in the integrated initial test statistic data\n",
    "#117,381 edges out of 166,753 are identical\n",
    "#Therefore 49,372 edges were influenced by the metabolomic data\n",
    "\n",
    "len(metabolomic_influence_edge)"
   ]
  },
  {
   "cell_type": "code",
   "execution_count": null,
   "metadata": {},
   "outputs": [],
   "source": [
    "#Change to tuple format so you can compare with the significant edges\n",
    "\n",
    "metabolomic_influence_edge_tuple = []\n",
    "for i in range(len(metabolomic_influence_edge)):\n",
    "    edge = metabolomic_influence_edge[i].split(\",\")\n",
    "    edge = (edge[0],edge[1][1:])\n",
    "    #edge = tuple(sorted(edge))\n",
    "    metabolomic_influence_edge_tuple.append(edge)\n",
    "\n",
    "\n",
    "proteomic_only_edge_tuple  = []\n",
    "for i in range(len(proteomic_only_edge )):\n",
    "    edge = proteomic_only_edge [i].split(\",\")\n",
    "    edge = (edge[0],edge[1][1:])\n",
    "    #edge = tuple(sorted(edge))\n",
    "    proteomic_only_edge_tuple.append(edge)"
   ]
  },
  {
   "cell_type": "code",
   "execution_count": null,
   "metadata": {},
   "outputs": [],
   "source": [
    "integrated_edge = integrated.index\n",
    "\n",
    "integrated_edge_tuple  = []\n",
    "for i in range(len(integrated_edge)):\n",
    "    edge = integrated_edge [i].split(\",\")\n",
    "    edge = (edge[0],edge[1][1:])\n",
    "    #edge = tuple(sorted(edge))\n",
    "    integrated_edge_tuple.append(edge)\n",
    "\n"
   ]
  },
  {
   "cell_type": "code",
   "execution_count": 123,
   "metadata": {},
   "outputs": [
    {
     "name": "stdout",
     "output_type": "stream",
     "text": [
      "49372\n",
      "2786\n",
      "2425\n"
     ]
    },
    {
     "data": {
      "text/plain": [
       "1438"
      ]
     },
     "execution_count": 123,
     "metadata": {},
     "output_type": "execute_result"
    }
   ],
   "source": [
    "#Need to see proportion of metabolomic-influenced edges that are significantly differentially expressed edges (from differential network) in the proteomic data vs the integrated data\n",
    "print(len(metabolomic_influence_edge))\n",
    "print(len(list(set(proteomic_edges).intersection(set(metabolomic_influence_edge_tuple))))) #2786 edges significant\n",
    "print(len(list(set(integrated_edges).intersection(set(metabolomic_influence_edge_tuple))))) #After integrating with the metabolomic data, 2425 significant\n",
    "\n",
    "\n",
    "#1438 edges are the same between 2786 edges and 2425 edges\n",
    "list1 = list(set(proteomic_edges).intersection(set(metabolomic_influence_edge_tuple)))\n",
    "list2 = list(set(integrated_edges).intersection(set(metabolomic_influence_edge_tuple)))\n",
    "len(list(set(list1).intersection(set(list2))))"
   ]
  },
  {
   "cell_type": "code",
   "execution_count": null,
   "metadata": {},
   "outputs": [],
   "source": [
    "#Showing that 'Metabolomic influenced' proteomic pathways are instances where at least one pathway is a common pathway OR one pathway is influenced by one metabolite (not enough to be considered a pathway in the metabolomic set)\n",
    "\n",
    "list1 = list(set(proteomic_edges).intersection(set(metabolomic_influence_edge_tuple)))\n",
    "\n",
    "common_pathways = list(set(proteomic_pathways) & set(metabolomic_pathways))\n",
    "print(len(common_pathways))\n",
    "counter = 0 \n",
    "\n",
    "influenced_noncommon_pathways = []\n",
    "for edges in list1:\n",
    "    pathway_pair = list(edges)\n",
    "    if (pathway_pair[0] in common_pathways) or (pathway_pair[1] in common_pathways):\n",
    "        #print(pathway_pair)\n",
    "        counter += 1\n",
    "    else:\n",
    "        influenced_noncommon_pathways.append(edges)\n",
    "\n",
    "\n",
    "print(counter)\n",
    "#1371 pathway pairs have one common pathway in them, out of 49,372 metabolomic influenced protein pathways\n",
    "#The other cases are where there is one metabolite added to one of the pathways that is not enough to be constituted as a pathway in the metabolomics dataset"
   ]
  },
  {
   "cell_type": "code",
   "execution_count": null,
   "metadata": {},
   "outputs": [],
   "source": [
    "df = pd.read_csv('Data/Su_COVID_metabolomics_processed_commoncases.csv', index_col=0)\n",
    "reactome_pathways = sspa.process_gmt(\"Data/Reactome_Homo_sapiens_pathways_compounds_R84.gmt\")\n",
    "\n",
    "#df = pd.read_csv(\"Data/Su_integrated_data.csv\", index_col=0)\n",
    "#reactome_pathways = pd.read_csv(\"Data/Reactome_multi_omics_ChEBI_Uniprot.csv\", index_col=0,dtype=\"str\")\n",
    "\n",
    "\n",
    "kpca_scores = sspa.sspa_kpca(integrated_df.iloc[:,:-2], reactome_pathways)\n",
    "\n",
    "#Using Sara's code\n",
    "kpca_scores = kpca_scores.drop(columns = list(set(root_pathway_names) & set(kpca_scores.columns)))\n",
    "\n",
    "#Obtain pathways and corresponding metabolites for all Reactome pathways, store as dictionary\n",
    "orig_dict = sspa.utils.pathwaydf_to_dict(reactome_pathways)\n",
    "\n",
    "#Filter out dictionary to retain only the pathways that remain after kPCA\n",
    "my_keys = kpca_scores.columns\n",
    "pathways_dict = {key: orig_dict[key] for key in my_keys}\n",
    "\n",
    "#Filter out the compounds in the pathways that are not present in the dataset\n",
    "\n",
    "#Obtain all unique values in dataset\n",
    "compounds_present = list(df.columns[:-2])\n",
    "filtered_dict = {} \n",
    "\n",
    "#My code adapted from Cecilia's\n",
    "#If the key values are not part of the compounds in dataset then remove\n",
    "for key,value in pathways_dict.items():\n",
    "    new_val = [item for item in value if item in compounds_present]\n",
    "    if len(new_val) >= 2: #at least two compounds in the pathway\n",
    "        filtered_dict[key] = new_val"
   ]
  },
  {
   "cell_type": "code",
   "execution_count": null,
   "metadata": {},
   "outputs": [],
   "source": [
    "print(influenced_noncommon_pathways)\n",
    "list(reactome_pathways.loc['R-HSA-422475'])\n",
    "filtered_dict['R-HSA-422475']"
   ]
  },
  {
   "cell_type": "markdown",
   "metadata": {},
   "source": [
    "Comparing the initial test statistics of the integrated data with the metabolomic initial test statistics:"
   ]
  },
  {
   "cell_type": "code",
   "execution_count": null,
   "metadata": {},
   "outputs": [],
   "source": [
    "initial_tstat_comp = metabolomic.join(integrated)\n",
    "initial_tstat_comp"
   ]
  },
  {
   "cell_type": "code",
   "execution_count": null,
   "metadata": {},
   "outputs": [],
   "source": [
    "#Number of pathway pairs with initial test statistic that are the same\n",
    "metabolomic_only_edge = []\n",
    "proteomic_influence_edge = []\n",
    "\n",
    "counter = 0\n",
    "for edge in initial_tstat_comp.index:\n",
    "    if initial_tstat_comp.loc[edge].metabolomic_tstat == initial_tstat_comp.loc[edge].integrated_tstat:\n",
    "        metabolomic_only_edge.append(edge)\n",
    "        counter += 1\n",
    "    else:\n",
    "        proteomic_influence_edge.append(edge)\n",
    "\n",
    "print(counter)\n",
    "\n",
    "#10,296 edges of the metabolomic initial test statistic dataset are all included in the integrated initial test statistic data\n",
    "#2,088 edges out of 10,296 are identical\n",
    "#Therefore 8,208 edges were influenced by the proteomic data\n",
    "\n",
    "proteomic_influence_edge"
   ]
  },
  {
   "cell_type": "code",
   "execution_count": null,
   "metadata": {},
   "outputs": [],
   "source": [
    "proteomic_influence_edge_tuple = []\n",
    "for i in range(len(proteomic_influence_edge)):\n",
    "    edge = proteomic_influence_edge[i].split(\",\")\n",
    "    edge = (edge[0],edge[1][1:])\n",
    "    #edge = tuple(sorted(edge))\n",
    "    proteomic_influence_edge_tuple.append(edge)\n",
    "\n",
    "\n",
    "metabolomic_only_edge_tuple = []\n",
    "for i in range(len(metabolomic_only_edge)):\n",
    "    edge = metabolomic_only_edge[i].split(\",\")\n",
    "    edge = (edge[0],edge[1][1:])\n",
    "    #edge = tuple(sorted(edge))\n",
    "    metabolomic_only_edge_tuple.append(edge)"
   ]
  },
  {
   "cell_type": "code",
   "execution_count": null,
   "metadata": {},
   "outputs": [],
   "source": [
    "#Need to see proportion of proteomic-influenced edges that are significant edges in the metabolomic data vs the integrated data\n",
    "print(len(proteomic_influence_edge))\n",
    "print(len(list(set(metabolomic_edges).intersection(set(proteomic_influence_edge_tuple))))) #43 edges significant\n",
    "print(len(list(set(integrated_edges).intersection(set(proteomic_influence_edge_tuple))))) #After integrating with the proteomic data, 170 significant\n",
    "\n",
    "#8 edges are the same between 43 edges and 170 edges\n",
    "list1 = list(set(metabolomic_edges).intersection(set(proteomic_influence_edge_tuple)))\n",
    "list2 = list(set(integrated_edges).intersection(set(proteomic_influence_edge_tuple)))\n",
    "len(list(set(list1).intersection(set(list2))))"
   ]
  },
  {
   "cell_type": "markdown",
   "metadata": {},
   "source": [
    "### Testing the integrated only pathways"
   ]
  },
  {
   "cell_type": "code",
   "execution_count": 129,
   "metadata": {},
   "outputs": [
    {
     "data": {
      "text/plain": [
       "2535"
      ]
     },
     "execution_count": 129,
     "metadata": {},
     "output_type": "execute_result"
    }
   ],
   "source": [
    "integrated_only = list(set(integrated_edges) - (set(metabolomic_edges)|set(proteomic_edges)))\n",
    "len(integrated_only)"
   ]
  },
  {
   "cell_type": "markdown",
   "metadata": {},
   "source": [
    "Common pathway | Common pathway            =   47   <br>\n",
    "\n",
    "Common pathway | Metabolite only pathway      =   81   <br>\n",
    "Proteomic-influenced metabolomic pathway | (Any)  =  26    <br>\n",
    "\n",
    "Common pathway | Protein only edge   =   668   <br>\n",
    "Proteomic-influenced metabolomic pathway | (Any)  =  272    <br>\n",
    "\n",
    "Pathway only in metabolomics | Pathway only in proteomics   =   676   <br>\n",
    "\n",
    "False positives: <br>\n",
    "Pathway only in metabolomics | Pathway only in metabolomics   =   95  <br>\n",
    "Pathway only in metabolomics | Pathway only in metabolomics   =   95  <br>\n",
    "\n",
    "New integrated pathways: <br>\n",
    "New pathway | (Any)   =   669  <br>\n"
   ]
  },
  {
   "cell_type": "code",
   "execution_count": 184,
   "metadata": {},
   "outputs": [
    {
     "name": "stdout",
     "output_type": "stream",
     "text": [
      "485\n",
      "46\n",
      "65\n",
      "32\n",
      "47\n",
      "35\n"
     ]
    }
   ],
   "source": [
    "print(len(proteomic_only_pathway))\n",
    "print(len(proteomic_pathway_with_onemetabolite))\n",
    "print(len(metabolomic_only_pathway))\n",
    "print(len(metabolomic_pathway_with_oneprotein))\n",
    "print(len(both_omic))\n",
    "print(len(new_pathway))"
   ]
  },
  {
   "cell_type": "code",
   "execution_count": 124,
   "metadata": {},
   "outputs": [
    {
     "name": "stdout",
     "output_type": "stream",
     "text": [
      "47\n"
     ]
    }
   ],
   "source": [
    "#Pathways where both are common pathways\n",
    "\n",
    "common_pathways = list(set(proteomic_pathways) & set(metabolomic_pathways))\n",
    "len(common_pathways)\n",
    "\n",
    "counter = 0 \n",
    "\n",
    "for edges in integrated_only:\n",
    "    pathway_pair = list(edges)\n",
    "    if (pathway_pair[0] in common_pathways) and (pathway_pair[1] in common_pathways):\n",
    "        #print(pathway_pair)\n",
    "        counter += 1\n",
    "\n",
    "print(counter)"
   ]
  },
  {
   "cell_type": "code",
   "execution_count": 125,
   "metadata": {},
   "outputs": [
    {
     "name": "stdout",
     "output_type": "stream",
     "text": [
      "154\n",
      "987\n"
     ]
    }
   ],
   "source": [
    "#Proteomic influenced metabolomic pair (i.e. pairs with one of the 47 common pathways and one metabolomic only pair)\n",
    "print(len(list(set(proteomic_influence_edge_tuple).intersection(set(integrated_only)))))\n",
    "#Metabolomic influenced proteomic pair (i.e. pairs with one of the 47 common pathways and one proteomic only pair)\n",
    "print(len(list(set(metabolomic_influence_edge_tuple).intersection(set(integrated_only)))))"
   ]
  },
  {
   "cell_type": "code",
   "execution_count": 143,
   "metadata": {},
   "outputs": [
    {
     "data": {
      "text/plain": [
       "[('R-HSA-112311', 'R-HSA-110331'),\n",
       " ('R-HSA-112311', 'R-HSA-112310'),\n",
       " ('R-HSA-112315', 'R-HSA-110331'),\n",
       " ('R-HSA-112315', 'R-HSA-112310'),\n",
       " ('R-HSA-112315', 'R-HSA-112311'),\n",
       " ('R-HSA-1237112', 'R-HSA-112311'),\n",
       " ('R-HSA-1237112', 'R-HSA-112315'),\n",
       " ('R-HSA-1368082', 'R-HSA-112311'),\n",
       " ('R-HSA-1368082', 'R-HSA-112315'),\n",
       " ('R-HSA-1368108', 'R-HSA-112311'),\n",
       " ('R-HSA-1368108', 'R-HSA-112315'),\n",
       " ('R-HSA-1428517', 'R-HSA-110331'),\n",
       " ('R-HSA-1428517', 'R-HSA-112310'),\n",
       " ('R-HSA-1428517', 'R-HSA-112311'),\n",
       " ('R-HSA-1428517', 'R-HSA-112315'),\n",
       " ('R-HSA-1428517', 'R-HSA-1237112'),\n",
       " ('R-HSA-1428517', 'R-HSA-1368082'),\n",
       " ('R-HSA-1428517', 'R-HSA-1368108'),\n",
       " ('R-HSA-1483148', 'R-HSA-112311'),\n",
       " ('R-HSA-1483148', 'R-HSA-112315'),\n",
       " ('R-HSA-1483148', 'R-HSA-1428517'),\n",
       " ('R-HSA-1483206', 'R-HSA-110331'),\n",
       " ('R-HSA-1483206', 'R-HSA-112310'),\n",
       " ('R-HSA-1483206', 'R-HSA-112311'),\n",
       " ('R-HSA-1483206', 'R-HSA-112315'),\n",
       " ('R-HSA-1483206', 'R-HSA-1237112'),\n",
       " ('R-HSA-1483206', 'R-HSA-1368082'),\n",
       " ('R-HSA-1483206', 'R-HSA-1368108'),\n",
       " ('R-HSA-1483206', 'R-HSA-1428517'),\n",
       " ('R-HSA-1483206', 'R-HSA-1483148'),\n",
       " ('R-HSA-1483255', 'R-HSA-110331'),\n",
       " ('R-HSA-1483255', 'R-HSA-112310'),\n",
       " ('R-HSA-1483255', 'R-HSA-112311'),\n",
       " ('R-HSA-1483255', 'R-HSA-112315'),\n",
       " ('R-HSA-1483255', 'R-HSA-1237112'),\n",
       " ('R-HSA-1483255', 'R-HSA-1368082'),\n",
       " ('R-HSA-1483255', 'R-HSA-1368108'),\n",
       " ('R-HSA-1483255', 'R-HSA-1428517'),\n",
       " ('R-HSA-1483255', 'R-HSA-1483148'),\n",
       " ('R-HSA-1483255', 'R-HSA-1483206'),\n",
       " ('R-HSA-1483257', 'R-HSA-110331'),\n",
       " ('R-HSA-1483257', 'R-HSA-112310'),\n",
       " ('R-HSA-1483257', 'R-HSA-112311'),\n",
       " ('R-HSA-1483257', 'R-HSA-112315'),\n",
       " ('R-HSA-1483257', 'R-HSA-1237112'),\n",
       " ('R-HSA-1483257', 'R-HSA-1368082'),\n",
       " ('R-HSA-1483257', 'R-HSA-1368108'),\n",
       " ('R-HSA-1483257', 'R-HSA-1428517'),\n",
       " ('R-HSA-1483257', 'R-HSA-1483148'),\n",
       " ('R-HSA-1483257', 'R-HSA-1483206'),\n",
       " ('R-HSA-1483257', 'R-HSA-1483255'),\n",
       " ('R-HSA-156580', 'R-HSA-110331'),\n",
       " ('R-HSA-156580', 'R-HSA-112310'),\n",
       " ('R-HSA-156580', 'R-HSA-112311'),\n",
       " ('R-HSA-156580', 'R-HSA-112315'),\n",
       " ('R-HSA-156580', 'R-HSA-1237112'),\n",
       " ('R-HSA-156580', 'R-HSA-1368082'),\n",
       " ('R-HSA-156580', 'R-HSA-1368108'),\n",
       " ('R-HSA-156580', 'R-HSA-1428517'),\n",
       " ('R-HSA-156580', 'R-HSA-1483148'),\n",
       " ('R-HSA-156580', 'R-HSA-1483206'),\n",
       " ('R-HSA-156580', 'R-HSA-1483255'),\n",
       " ('R-HSA-156580', 'R-HSA-1483257'),\n",
       " ('R-HSA-156582', 'R-HSA-112311'),\n",
       " ('R-HSA-156582', 'R-HSA-112315'),\n",
       " ('R-HSA-156582', 'R-HSA-1428517'),\n",
       " ('R-HSA-156582', 'R-HSA-1483206'),\n",
       " ('R-HSA-156582', 'R-HSA-1483255'),\n",
       " ('R-HSA-156582', 'R-HSA-1483257'),\n",
       " ('R-HSA-156582', 'R-HSA-156580'),\n",
       " ('R-HSA-156584', 'R-HSA-110331'),\n",
       " ('R-HSA-156584', 'R-HSA-112310'),\n",
       " ('R-HSA-156584', 'R-HSA-112311'),\n",
       " ('R-HSA-156584', 'R-HSA-112315'),\n",
       " ('R-HSA-156584', 'R-HSA-1237112'),\n",
       " ('R-HSA-156584', 'R-HSA-1368082'),\n",
       " ('R-HSA-156584', 'R-HSA-1368108'),\n",
       " ('R-HSA-156584', 'R-HSA-1428517'),\n",
       " ('R-HSA-156584', 'R-HSA-1483148'),\n",
       " ('R-HSA-156584', 'R-HSA-1483206'),\n",
       " ('R-HSA-156584', 'R-HSA-1483255'),\n",
       " ('R-HSA-156584', 'R-HSA-1483257'),\n",
       " ('R-HSA-156584', 'R-HSA-156580'),\n",
       " ('R-HSA-156584', 'R-HSA-156582'),\n",
       " ('R-HSA-15869', 'R-HSA-110331'),\n",
       " ('R-HSA-15869', 'R-HSA-112310'),\n",
       " ('R-HSA-15869', 'R-HSA-112311'),\n",
       " ('R-HSA-15869', 'R-HSA-112315'),\n",
       " ('R-HSA-15869', 'R-HSA-1237112'),\n",
       " ('R-HSA-15869', 'R-HSA-1368082'),\n",
       " ('R-HSA-15869', 'R-HSA-1368108'),\n",
       " ('R-HSA-15869', 'R-HSA-1428517'),\n",
       " ('R-HSA-15869', 'R-HSA-1483148'),\n",
       " ('R-HSA-15869', 'R-HSA-1483206'),\n",
       " ('R-HSA-15869', 'R-HSA-1483255'),\n",
       " ('R-HSA-15869', 'R-HSA-1483257'),\n",
       " ('R-HSA-15869', 'R-HSA-156580'),\n",
       " ('R-HSA-15869', 'R-HSA-156582'),\n",
       " ('R-HSA-15869', 'R-HSA-156584'),\n",
       " ('R-HSA-1592230', 'R-HSA-110331'),\n",
       " ('R-HSA-1592230', 'R-HSA-112310'),\n",
       " ('R-HSA-1592230', 'R-HSA-112311'),\n",
       " ('R-HSA-1592230', 'R-HSA-112315'),\n",
       " ('R-HSA-1592230', 'R-HSA-1237112'),\n",
       " ('R-HSA-1592230', 'R-HSA-1368082'),\n",
       " ('R-HSA-1592230', 'R-HSA-1368108'),\n",
       " ('R-HSA-1592230', 'R-HSA-1428517'),\n",
       " ('R-HSA-1592230', 'R-HSA-1483148'),\n",
       " ('R-HSA-1592230', 'R-HSA-1483206'),\n",
       " ('R-HSA-1592230', 'R-HSA-1483255'),\n",
       " ('R-HSA-1592230', 'R-HSA-1483257'),\n",
       " ('R-HSA-1592230', 'R-HSA-156580'),\n",
       " ('R-HSA-1592230', 'R-HSA-156582'),\n",
       " ('R-HSA-1592230', 'R-HSA-156584'),\n",
       " ('R-HSA-1592230', 'R-HSA-15869'),\n",
       " ('R-HSA-159418', 'R-HSA-110331'),\n",
       " ('R-HSA-159418', 'R-HSA-112310'),\n",
       " ('R-HSA-159418', 'R-HSA-112311'),\n",
       " ('R-HSA-159418', 'R-HSA-112315'),\n",
       " ('R-HSA-159418', 'R-HSA-1237112'),\n",
       " ('R-HSA-159418', 'R-HSA-1368082'),\n",
       " ('R-HSA-159418', 'R-HSA-1368108'),\n",
       " ('R-HSA-159418', 'R-HSA-1428517'),\n",
       " ('R-HSA-159418', 'R-HSA-1483148'),\n",
       " ('R-HSA-159418', 'R-HSA-1483206'),\n",
       " ('R-HSA-159418', 'R-HSA-1483255'),\n",
       " ('R-HSA-159418', 'R-HSA-1483257'),\n",
       " ('R-HSA-159418', 'R-HSA-156580'),\n",
       " ('R-HSA-159418', 'R-HSA-156582'),\n",
       " ('R-HSA-159418', 'R-HSA-156584'),\n",
       " ('R-HSA-159418', 'R-HSA-15869'),\n",
       " ('R-HSA-159418', 'R-HSA-1592230'),\n",
       " ('R-HSA-1614603', 'R-HSA-112311'),\n",
       " ('R-HSA-1614603', 'R-HSA-112315'),\n",
       " ('R-HSA-1614603', 'R-HSA-1428517'),\n",
       " ('R-HSA-1614603', 'R-HSA-1483206'),\n",
       " ('R-HSA-1614603', 'R-HSA-1483255'),\n",
       " ('R-HSA-1614603', 'R-HSA-1483257'),\n",
       " ('R-HSA-1614603', 'R-HSA-156580'),\n",
       " ('R-HSA-1614603', 'R-HSA-156584'),\n",
       " ('R-HSA-1614603', 'R-HSA-15869'),\n",
       " ('R-HSA-1614603', 'R-HSA-1592230'),\n",
       " ('R-HSA-1614603', 'R-HSA-159418'),\n",
       " ('R-HSA-1614635', 'R-HSA-110331'),\n",
       " ('R-HSA-1614635', 'R-HSA-112310'),\n",
       " ('R-HSA-1614635', 'R-HSA-112311'),\n",
       " ('R-HSA-1614635', 'R-HSA-112315'),\n",
       " ('R-HSA-1614635', 'R-HSA-1237112'),\n",
       " ('R-HSA-1614635', 'R-HSA-1368082'),\n",
       " ('R-HSA-1614635', 'R-HSA-1368108'),\n",
       " ('R-HSA-1614635', 'R-HSA-1428517'),\n",
       " ('R-HSA-1614635', 'R-HSA-1483148'),\n",
       " ('R-HSA-1614635', 'R-HSA-1483206'),\n",
       " ('R-HSA-1614635', 'R-HSA-1483255'),\n",
       " ('R-HSA-1614635', 'R-HSA-1483257'),\n",
       " ('R-HSA-1614635', 'R-HSA-156580'),\n",
       " ('R-HSA-1614635', 'R-HSA-156582'),\n",
       " ('R-HSA-1614635', 'R-HSA-156584'),\n",
       " ('R-HSA-1614635', 'R-HSA-15869'),\n",
       " ('R-HSA-1614635', 'R-HSA-1592230'),\n",
       " ('R-HSA-1614635', 'R-HSA-159418'),\n",
       " ('R-HSA-1614635', 'R-HSA-1614603'),\n",
       " ('R-HSA-163685', 'R-HSA-112311'),\n",
       " ('R-HSA-163685', 'R-HSA-112315'),\n",
       " ('R-HSA-163685', 'R-HSA-1428517'),\n",
       " ('R-HSA-163685', 'R-HSA-1483206'),\n",
       " ('R-HSA-163685', 'R-HSA-1483255'),\n",
       " ('R-HSA-163685', 'R-HSA-1483257'),\n",
       " ('R-HSA-163685', 'R-HSA-156580'),\n",
       " ('R-HSA-163685', 'R-HSA-156584'),\n",
       " ('R-HSA-163685', 'R-HSA-15869'),\n",
       " ('R-HSA-163685', 'R-HSA-1592230'),\n",
       " ('R-HSA-163685', 'R-HSA-159418'),\n",
       " ('R-HSA-163685', 'R-HSA-1614635'),\n",
       " ('R-HSA-1655829', 'R-HSA-110331'),\n",
       " ('R-HSA-1655829', 'R-HSA-112310'),\n",
       " ('R-HSA-1655829', 'R-HSA-112311'),\n",
       " ('R-HSA-1655829', 'R-HSA-112315'),\n",
       " ('R-HSA-1655829', 'R-HSA-1237112'),\n",
       " ('R-HSA-1655829', 'R-HSA-1368082'),\n",
       " ('R-HSA-1655829', 'R-HSA-1368108'),\n",
       " ('R-HSA-1655829', 'R-HSA-1428517'),\n",
       " ('R-HSA-1655829', 'R-HSA-1483148'),\n",
       " ('R-HSA-1655829', 'R-HSA-1483206'),\n",
       " ('R-HSA-1655829', 'R-HSA-1483255'),\n",
       " ('R-HSA-1655829', 'R-HSA-1483257'),\n",
       " ('R-HSA-1655829', 'R-HSA-156580'),\n",
       " ('R-HSA-1655829', 'R-HSA-156582'),\n",
       " ('R-HSA-1655829', 'R-HSA-156584'),\n",
       " ('R-HSA-1655829', 'R-HSA-15869'),\n",
       " ('R-HSA-1655829', 'R-HSA-1592230'),\n",
       " ('R-HSA-1655829', 'R-HSA-159418'),\n",
       " ('R-HSA-1655829', 'R-HSA-1614603'),\n",
       " ('R-HSA-1655829', 'R-HSA-1614635'),\n",
       " ('R-HSA-1655829', 'R-HSA-163685'),\n",
       " ('R-HSA-1660661', 'R-HSA-112311'),\n",
       " ('R-HSA-1660661', 'R-HSA-112315'),\n",
       " ('R-HSA-1660661', 'R-HSA-1428517'),\n",
       " ('R-HSA-1660661', 'R-HSA-1483206'),\n",
       " ('R-HSA-1660661', 'R-HSA-1483255'),\n",
       " ('R-HSA-1660661', 'R-HSA-1483257'),\n",
       " ('R-HSA-1660661', 'R-HSA-156580'),\n",
       " ('R-HSA-1660661', 'R-HSA-156584'),\n",
       " ('R-HSA-1660661', 'R-HSA-15869'),\n",
       " ('R-HSA-1660661', 'R-HSA-1592230'),\n",
       " ('R-HSA-1660661', 'R-HSA-159418'),\n",
       " ('R-HSA-1660661', 'R-HSA-1614635'),\n",
       " ('R-HSA-1660661', 'R-HSA-1655829'),\n",
       " ('R-HSA-168249', 'R-HSA-110331'),\n",
       " ('R-HSA-168249', 'R-HSA-112310'),\n",
       " ('R-HSA-168249', 'R-HSA-112311'),\n",
       " ('R-HSA-168249', 'R-HSA-112315'),\n",
       " ('R-HSA-168249', 'R-HSA-1237112'),\n",
       " ('R-HSA-168249', 'R-HSA-1368082'),\n",
       " ('R-HSA-168249', 'R-HSA-1368108'),\n",
       " ('R-HSA-168249', 'R-HSA-1428517'),\n",
       " ('R-HSA-168249', 'R-HSA-1483148'),\n",
       " ('R-HSA-168249', 'R-HSA-1483206'),\n",
       " ('R-HSA-168249', 'R-HSA-1483255'),\n",
       " ('R-HSA-168249', 'R-HSA-1483257'),\n",
       " ('R-HSA-168249', 'R-HSA-156580'),\n",
       " ('R-HSA-168249', 'R-HSA-156582'),\n",
       " ('R-HSA-168249', 'R-HSA-156584'),\n",
       " ('R-HSA-168249', 'R-HSA-15869'),\n",
       " ('R-HSA-168249', 'R-HSA-1592230'),\n",
       " ('R-HSA-168249', 'R-HSA-159418'),\n",
       " ('R-HSA-168249', 'R-HSA-1614603'),\n",
       " ('R-HSA-168249', 'R-HSA-1614635'),\n",
       " ('R-HSA-168249', 'R-HSA-163685'),\n",
       " ('R-HSA-168249', 'R-HSA-1655829'),\n",
       " ('R-HSA-168249', 'R-HSA-1660661'),\n",
       " ('R-HSA-189200', 'R-HSA-110331'),\n",
       " ('R-HSA-189200', 'R-HSA-112310'),\n",
       " ('R-HSA-189200', 'R-HSA-112311'),\n",
       " ('R-HSA-189200', 'R-HSA-112315'),\n",
       " ('R-HSA-189200', 'R-HSA-1237112'),\n",
       " ('R-HSA-189200', 'R-HSA-1368082'),\n",
       " ('R-HSA-189200', 'R-HSA-1368108'),\n",
       " ('R-HSA-189200', 'R-HSA-1428517'),\n",
       " ('R-HSA-189200', 'R-HSA-1483148'),\n",
       " ('R-HSA-189200', 'R-HSA-1483206'),\n",
       " ('R-HSA-189200', 'R-HSA-1483255'),\n",
       " ('R-HSA-189200', 'R-HSA-1483257'),\n",
       " ('R-HSA-189200', 'R-HSA-156580'),\n",
       " ('R-HSA-189200', 'R-HSA-156582'),\n",
       " ('R-HSA-189200', 'R-HSA-156584'),\n",
       " ('R-HSA-189200', 'R-HSA-15869'),\n",
       " ('R-HSA-189200', 'R-HSA-1592230'),\n",
       " ('R-HSA-189200', 'R-HSA-159418'),\n",
       " ('R-HSA-189200', 'R-HSA-1614603'),\n",
       " ('R-HSA-189200', 'R-HSA-1614635'),\n",
       " ('R-HSA-189200', 'R-HSA-163685'),\n",
       " ('R-HSA-189200', 'R-HSA-1655829'),\n",
       " ('R-HSA-189200', 'R-HSA-1660661'),\n",
       " ('R-HSA-189200', 'R-HSA-168249'),\n",
       " ('R-HSA-192105', 'R-HSA-112311'),\n",
       " ('R-HSA-192105', 'R-HSA-112315'),\n",
       " ('R-HSA-192105', 'R-HSA-1428517'),\n",
       " ('R-HSA-192105', 'R-HSA-1483206'),\n",
       " ('R-HSA-192105', 'R-HSA-1483255'),\n",
       " ('R-HSA-192105', 'R-HSA-1483257'),\n",
       " ('R-HSA-192105', 'R-HSA-156580'),\n",
       " ('R-HSA-192105', 'R-HSA-156584'),\n",
       " ('R-HSA-192105', 'R-HSA-15869'),\n",
       " ('R-HSA-192105', 'R-HSA-1592230'),\n",
       " ('R-HSA-192105', 'R-HSA-159418'),\n",
       " ('R-HSA-192105', 'R-HSA-1614635'),\n",
       " ('R-HSA-192105', 'R-HSA-1655829'),\n",
       " ('R-HSA-192105', 'R-HSA-168249'),\n",
       " ('R-HSA-192105', 'R-HSA-189200'),\n",
       " ('R-HSA-192456', 'R-HSA-112311'),\n",
       " ('R-HSA-192456', 'R-HSA-112315'),\n",
       " ('R-HSA-192456', 'R-HSA-1428517'),\n",
       " ('R-HSA-192456', 'R-HSA-1483206'),\n",
       " ('R-HSA-192456', 'R-HSA-1483255'),\n",
       " ('R-HSA-192456', 'R-HSA-1483257'),\n",
       " ('R-HSA-192456', 'R-HSA-156580'),\n",
       " ('R-HSA-192456', 'R-HSA-156584'),\n",
       " ('R-HSA-192456', 'R-HSA-15869'),\n",
       " ('R-HSA-192456', 'R-HSA-1592230'),\n",
       " ('R-HSA-192456', 'R-HSA-159418'),\n",
       " ('R-HSA-192456', 'R-HSA-1614635'),\n",
       " ('R-HSA-192456', 'R-HSA-1655829'),\n",
       " ('R-HSA-192456', 'R-HSA-168249'),\n",
       " ('R-HSA-192456', 'R-HSA-189200'),\n",
       " ('R-HSA-193368', 'R-HSA-112311'),\n",
       " ('R-HSA-193368', 'R-HSA-112315'),\n",
       " ('R-HSA-193368', 'R-HSA-1428517'),\n",
       " ('R-HSA-193368', 'R-HSA-1483206'),\n",
       " ('R-HSA-193368', 'R-HSA-1483255'),\n",
       " ('R-HSA-193368', 'R-HSA-1483257'),\n",
       " ('R-HSA-193368', 'R-HSA-156580'),\n",
       " ('R-HSA-193368', 'R-HSA-156584'),\n",
       " ('R-HSA-193368', 'R-HSA-15869'),\n",
       " ('R-HSA-193368', 'R-HSA-1592230'),\n",
       " ('R-HSA-193368', 'R-HSA-159418'),\n",
       " ('R-HSA-193368', 'R-HSA-1614635'),\n",
       " ('R-HSA-193368', 'R-HSA-1655829'),\n",
       " ('R-HSA-193368', 'R-HSA-168249'),\n",
       " ('R-HSA-193368', 'R-HSA-189200'),\n",
       " ('R-HSA-194068', 'R-HSA-110331'),\n",
       " ('R-HSA-194068', 'R-HSA-112310'),\n",
       " ('R-HSA-194068', 'R-HSA-112311'),\n",
       " ('R-HSA-194068', 'R-HSA-112315'),\n",
       " ('R-HSA-194068', 'R-HSA-1237112'),\n",
       " ('R-HSA-194068', 'R-HSA-1368082'),\n",
       " ('R-HSA-194068', 'R-HSA-1368108'),\n",
       " ('R-HSA-194068', 'R-HSA-1428517'),\n",
       " ('R-HSA-194068', 'R-HSA-1483148'),\n",
       " ('R-HSA-194068', 'R-HSA-1483206'),\n",
       " ('R-HSA-194068', 'R-HSA-1483255'),\n",
       " ('R-HSA-194068', 'R-HSA-1483257'),\n",
       " ('R-HSA-194068', 'R-HSA-156580'),\n",
       " ('R-HSA-194068', 'R-HSA-156582'),\n",
       " ('R-HSA-194068', 'R-HSA-156584'),\n",
       " ('R-HSA-194068', 'R-HSA-15869'),\n",
       " ('R-HSA-194068', 'R-HSA-1592230'),\n",
       " ('R-HSA-194068', 'R-HSA-1614603'),\n",
       " ('R-HSA-194068', 'R-HSA-1614635'),\n",
       " ('R-HSA-194068', 'R-HSA-163685'),\n",
       " ('R-HSA-194068', 'R-HSA-1655829'),\n",
       " ('R-HSA-194068', 'R-HSA-1660661'),\n",
       " ('R-HSA-194068', 'R-HSA-168249'),\n",
       " ('R-HSA-194068', 'R-HSA-189200'),\n",
       " ('R-HSA-194068', 'R-HSA-192105'),\n",
       " ('R-HSA-194068', 'R-HSA-192456'),\n",
       " ('R-HSA-194068', 'R-HSA-193368'),\n",
       " ('R-HSA-196071', 'R-HSA-110331'),\n",
       " ('R-HSA-196071', 'R-HSA-112310'),\n",
       " ('R-HSA-196071', 'R-HSA-112311'),\n",
       " ('R-HSA-196071', 'R-HSA-112315'),\n",
       " ('R-HSA-196071', 'R-HSA-1237112'),\n",
       " ('R-HSA-196071', 'R-HSA-1368082'),\n",
       " ('R-HSA-196071', 'R-HSA-1368108'),\n",
       " ('R-HSA-196071', 'R-HSA-1428517'),\n",
       " ('R-HSA-196071', 'R-HSA-1483148'),\n",
       " ('R-HSA-196071', 'R-HSA-1483206'),\n",
       " ('R-HSA-196071', 'R-HSA-1483255'),\n",
       " ('R-HSA-196071', 'R-HSA-1483257'),\n",
       " ('R-HSA-196071', 'R-HSA-156580'),\n",
       " ('R-HSA-196071', 'R-HSA-156582'),\n",
       " ('R-HSA-196071', 'R-HSA-156584'),\n",
       " ('R-HSA-196071', 'R-HSA-15869'),\n",
       " ('R-HSA-196071', 'R-HSA-1592230'),\n",
       " ('R-HSA-196071', 'R-HSA-159418'),\n",
       " ('R-HSA-196071', 'R-HSA-1614603'),\n",
       " ('R-HSA-196071', 'R-HSA-1614635'),\n",
       " ('R-HSA-196071', 'R-HSA-163685'),\n",
       " ('R-HSA-196071', 'R-HSA-1655829'),\n",
       " ('R-HSA-196071', 'R-HSA-1660661'),\n",
       " ('R-HSA-196071', 'R-HSA-168249'),\n",
       " ('R-HSA-196071', 'R-HSA-189200'),\n",
       " ('R-HSA-196071', 'R-HSA-192105'),\n",
       " ('R-HSA-196071', 'R-HSA-192456'),\n",
       " ('R-HSA-196071', 'R-HSA-193368'),\n",
       " ('R-HSA-196071', 'R-HSA-194068'),\n",
       " ('R-HSA-196849', 'R-HSA-110331'),\n",
       " ('R-HSA-196849', 'R-HSA-112310'),\n",
       " ('R-HSA-196849', 'R-HSA-112311'),\n",
       " ('R-HSA-196849', 'R-HSA-112315'),\n",
       " ('R-HSA-196849', 'R-HSA-1237112'),\n",
       " ('R-HSA-196849', 'R-HSA-1368082'),\n",
       " ('R-HSA-196849', 'R-HSA-1368108'),\n",
       " ('R-HSA-196849', 'R-HSA-1428517'),\n",
       " ('R-HSA-196849', 'R-HSA-1483148'),\n",
       " ('R-HSA-196849', 'R-HSA-1483206'),\n",
       " ('R-HSA-196849', 'R-HSA-1483255'),\n",
       " ('R-HSA-196849', 'R-HSA-1483257'),\n",
       " ('R-HSA-196849', 'R-HSA-156580'),\n",
       " ('R-HSA-196849', 'R-HSA-156582'),\n",
       " ('R-HSA-196849', 'R-HSA-156584'),\n",
       " ('R-HSA-196849', 'R-HSA-15869'),\n",
       " ('R-HSA-196849', 'R-HSA-1592230'),\n",
       " ('R-HSA-196849', 'R-HSA-159418'),\n",
       " ('R-HSA-196849', 'R-HSA-1614603'),\n",
       " ('R-HSA-196849', 'R-HSA-1614635'),\n",
       " ('R-HSA-196849', 'R-HSA-163685'),\n",
       " ('R-HSA-196849', 'R-HSA-1655829'),\n",
       " ('R-HSA-196849', 'R-HSA-1660661'),\n",
       " ('R-HSA-196849', 'R-HSA-168249'),\n",
       " ('R-HSA-196849', 'R-HSA-189200'),\n",
       " ('R-HSA-196849', 'R-HSA-192105'),\n",
       " ('R-HSA-196849', 'R-HSA-192456'),\n",
       " ('R-HSA-196849', 'R-HSA-193368'),\n",
       " ('R-HSA-196849', 'R-HSA-194068'),\n",
       " ('R-HSA-196849', 'R-HSA-196071'),\n",
       " ('R-HSA-196854', 'R-HSA-110331'),\n",
       " ('R-HSA-196854', 'R-HSA-112310'),\n",
       " ('R-HSA-196854', 'R-HSA-112311'),\n",
       " ('R-HSA-196854', 'R-HSA-112315'),\n",
       " ('R-HSA-196854', 'R-HSA-1237112'),\n",
       " ('R-HSA-196854', 'R-HSA-1368082'),\n",
       " ('R-HSA-196854', 'R-HSA-1368108'),\n",
       " ('R-HSA-196854', 'R-HSA-1428517'),\n",
       " ('R-HSA-196854', 'R-HSA-1483148'),\n",
       " ('R-HSA-196854', 'R-HSA-1483206'),\n",
       " ('R-HSA-196854', 'R-HSA-1483255'),\n",
       " ('R-HSA-196854', 'R-HSA-1483257'),\n",
       " ('R-HSA-196854', 'R-HSA-156580'),\n",
       " ('R-HSA-196854', 'R-HSA-156582'),\n",
       " ('R-HSA-196854', 'R-HSA-156584'),\n",
       " ('R-HSA-196854', 'R-HSA-15869'),\n",
       " ('R-HSA-196854', 'R-HSA-1592230'),\n",
       " ('R-HSA-196854', 'R-HSA-159418'),\n",
       " ('R-HSA-196854', 'R-HSA-1614603'),\n",
       " ('R-HSA-196854', 'R-HSA-1614635'),\n",
       " ('R-HSA-196854', 'R-HSA-163685'),\n",
       " ('R-HSA-196854', 'R-HSA-1655829'),\n",
       " ('R-HSA-196854', 'R-HSA-1660661'),\n",
       " ('R-HSA-196854', 'R-HSA-168249'),\n",
       " ('R-HSA-196854', 'R-HSA-189200'),\n",
       " ('R-HSA-196854', 'R-HSA-192105'),\n",
       " ('R-HSA-196854', 'R-HSA-192456'),\n",
       " ('R-HSA-196854', 'R-HSA-193368'),\n",
       " ('R-HSA-196854', 'R-HSA-194068'),\n",
       " ('R-HSA-196854', 'R-HSA-196071'),\n",
       " ('R-HSA-196854', 'R-HSA-196849'),\n",
       " ('R-HSA-1989781', 'R-HSA-110331'),\n",
       " ('R-HSA-1989781', 'R-HSA-112310'),\n",
       " ('R-HSA-1989781', 'R-HSA-112311'),\n",
       " ('R-HSA-1989781', 'R-HSA-112315'),\n",
       " ('R-HSA-1989781', 'R-HSA-1237112'),\n",
       " ('R-HSA-1989781', 'R-HSA-1368082'),\n",
       " ('R-HSA-1989781', 'R-HSA-1368108'),\n",
       " ('R-HSA-1989781', 'R-HSA-1428517'),\n",
       " ('R-HSA-1989781', 'R-HSA-1483148'),\n",
       " ('R-HSA-1989781', 'R-HSA-1483206'),\n",
       " ('R-HSA-1989781', 'R-HSA-1483255'),\n",
       " ('R-HSA-1989781', 'R-HSA-1483257'),\n",
       " ('R-HSA-1989781', 'R-HSA-156580'),\n",
       " ('R-HSA-1989781', 'R-HSA-156582'),\n",
       " ('R-HSA-1989781', 'R-HSA-156584'),\n",
       " ('R-HSA-1989781', 'R-HSA-15869'),\n",
       " ('R-HSA-1989781', 'R-HSA-1592230'),\n",
       " ('R-HSA-1989781', 'R-HSA-159418'),\n",
       " ('R-HSA-1989781', 'R-HSA-1614603'),\n",
       " ('R-HSA-1989781', 'R-HSA-1614635'),\n",
       " ('R-HSA-1989781', 'R-HSA-163685'),\n",
       " ('R-HSA-1989781', 'R-HSA-1655829'),\n",
       " ('R-HSA-1989781', 'R-HSA-1660661'),\n",
       " ('R-HSA-1989781', 'R-HSA-168249'),\n",
       " ('R-HSA-1989781', 'R-HSA-189200'),\n",
       " ('R-HSA-1989781', 'R-HSA-192105'),\n",
       " ('R-HSA-1989781', 'R-HSA-192456'),\n",
       " ('R-HSA-1989781', 'R-HSA-193368'),\n",
       " ('R-HSA-1989781', 'R-HSA-194068'),\n",
       " ('R-HSA-1989781', 'R-HSA-196071'),\n",
       " ('R-HSA-1989781', 'R-HSA-196849'),\n",
       " ('R-HSA-1989781', 'R-HSA-196854'),\n",
       " ('R-HSA-211859', 'R-HSA-110331'),\n",
       " ('R-HSA-211859', 'R-HSA-112310'),\n",
       " ('R-HSA-211859', 'R-HSA-112311'),\n",
       " ('R-HSA-211859', 'R-HSA-112315'),\n",
       " ('R-HSA-211859', 'R-HSA-1237112'),\n",
       " ('R-HSA-211859', 'R-HSA-1368082'),\n",
       " ('R-HSA-211859', 'R-HSA-1368108'),\n",
       " ('R-HSA-211859', 'R-HSA-1428517'),\n",
       " ('R-HSA-211859', 'R-HSA-1483148'),\n",
       " ('R-HSA-211859', 'R-HSA-1483206'),\n",
       " ('R-HSA-211859', 'R-HSA-1483255'),\n",
       " ('R-HSA-211859', 'R-HSA-1483257'),\n",
       " ('R-HSA-211859', 'R-HSA-156580'),\n",
       " ('R-HSA-211859', 'R-HSA-156582'),\n",
       " ('R-HSA-211859', 'R-HSA-156584'),\n",
       " ('R-HSA-211859', 'R-HSA-15869'),\n",
       " ('R-HSA-211859', 'R-HSA-1592230'),\n",
       " ('R-HSA-211859', 'R-HSA-159418'),\n",
       " ('R-HSA-211859', 'R-HSA-1614603'),\n",
       " ('R-HSA-211859', 'R-HSA-1614635'),\n",
       " ('R-HSA-211859', 'R-HSA-163685'),\n",
       " ('R-HSA-211859', 'R-HSA-1655829'),\n",
       " ('R-HSA-211859', 'R-HSA-1660661'),\n",
       " ('R-HSA-211859', 'R-HSA-168249'),\n",
       " ('R-HSA-211859', 'R-HSA-189200'),\n",
       " ('R-HSA-211859', 'R-HSA-192105'),\n",
       " ('R-HSA-211859', 'R-HSA-192456'),\n",
       " ('R-HSA-211859', 'R-HSA-193368'),\n",
       " ('R-HSA-211859', 'R-HSA-194068'),\n",
       " ('R-HSA-211859', 'R-HSA-196071'),\n",
       " ('R-HSA-211859', 'R-HSA-196849'),\n",
       " ('R-HSA-211859', 'R-HSA-196854'),\n",
       " ('R-HSA-211859', 'R-HSA-1989781'),\n",
       " ('R-HSA-211897', 'R-HSA-110331'),\n",
       " ('R-HSA-211897', 'R-HSA-112310'),\n",
       " ('R-HSA-211897', 'R-HSA-112311'),\n",
       " ('R-HSA-211897', 'R-HSA-112315'),\n",
       " ('R-HSA-211897', 'R-HSA-1237112'),\n",
       " ('R-HSA-211897', 'R-HSA-1368082'),\n",
       " ('R-HSA-211897', 'R-HSA-1368108'),\n",
       " ('R-HSA-211897', 'R-HSA-1428517'),\n",
       " ('R-HSA-211897', 'R-HSA-1483148'),\n",
       " ('R-HSA-211897', 'R-HSA-1483206'),\n",
       " ('R-HSA-211897', 'R-HSA-1483255'),\n",
       " ('R-HSA-211897', 'R-HSA-1483257'),\n",
       " ('R-HSA-211897', 'R-HSA-156580'),\n",
       " ('R-HSA-211897', 'R-HSA-156582'),\n",
       " ('R-HSA-211897', 'R-HSA-156584'),\n",
       " ('R-HSA-211897', 'R-HSA-15869'),\n",
       " ('R-HSA-211897', 'R-HSA-1592230'),\n",
       " ('R-HSA-211897', 'R-HSA-159418'),\n",
       " ('R-HSA-211897', 'R-HSA-1614603'),\n",
       " ('R-HSA-211897', 'R-HSA-1614635'),\n",
       " ('R-HSA-211897', 'R-HSA-163685'),\n",
       " ('R-HSA-211897', 'R-HSA-1655829'),\n",
       " ('R-HSA-211897', 'R-HSA-1660661'),\n",
       " ('R-HSA-211897', 'R-HSA-168249'),\n",
       " ('R-HSA-211897', 'R-HSA-189200'),\n",
       " ('R-HSA-211897', 'R-HSA-192105'),\n",
       " ('R-HSA-211897', 'R-HSA-192456'),\n",
       " ('R-HSA-211897', 'R-HSA-193368'),\n",
       " ('R-HSA-211897', 'R-HSA-194068'),\n",
       " ('R-HSA-211897', 'R-HSA-196071'),\n",
       " ('R-HSA-211897', 'R-HSA-196849'),\n",
       " ('R-HSA-211897', 'R-HSA-196854'),\n",
       " ('R-HSA-211897', 'R-HSA-1989781'),\n",
       " ('R-HSA-211897', 'R-HSA-211859'),\n",
       " ('R-HSA-211945', 'R-HSA-110331'),\n",
       " ('R-HSA-211945', 'R-HSA-112310'),\n",
       " ('R-HSA-211945', 'R-HSA-112311'),\n",
       " ('R-HSA-211945', 'R-HSA-112315'),\n",
       " ('R-HSA-211945', 'R-HSA-1237112'),\n",
       " ('R-HSA-211945', 'R-HSA-1368082'),\n",
       " ('R-HSA-211945', 'R-HSA-1368108'),\n",
       " ('R-HSA-211945', 'R-HSA-1428517'),\n",
       " ('R-HSA-211945', 'R-HSA-1483148'),\n",
       " ('R-HSA-211945', 'R-HSA-1483206'),\n",
       " ('R-HSA-211945', 'R-HSA-1483255'),\n",
       " ('R-HSA-211945', 'R-HSA-1483257'),\n",
       " ('R-HSA-211945', 'R-HSA-156580'),\n",
       " ('R-HSA-211945', 'R-HSA-156582'),\n",
       " ('R-HSA-211945', 'R-HSA-156584'),\n",
       " ('R-HSA-211945', 'R-HSA-15869'),\n",
       " ('R-HSA-211945', 'R-HSA-1592230'),\n",
       " ('R-HSA-211945', 'R-HSA-159418'),\n",
       " ('R-HSA-211945', 'R-HSA-1614603'),\n",
       " ('R-HSA-211945', 'R-HSA-1614635'),\n",
       " ('R-HSA-211945', 'R-HSA-163685'),\n",
       " ('R-HSA-211945', 'R-HSA-1655829'),\n",
       " ('R-HSA-211945', 'R-HSA-1660661'),\n",
       " ('R-HSA-211945', 'R-HSA-168249'),\n",
       " ('R-HSA-211945', 'R-HSA-189200'),\n",
       " ('R-HSA-211945', 'R-HSA-192105'),\n",
       " ('R-HSA-211945', 'R-HSA-192456'),\n",
       " ('R-HSA-211945', 'R-HSA-193368'),\n",
       " ('R-HSA-211945', 'R-HSA-194068'),\n",
       " ('R-HSA-211945', 'R-HSA-196071'),\n",
       " ('R-HSA-211945', 'R-HSA-196849'),\n",
       " ('R-HSA-211945', 'R-HSA-196854'),\n",
       " ('R-HSA-211945', 'R-HSA-1989781'),\n",
       " ('R-HSA-211945', 'R-HSA-211859'),\n",
       " ('R-HSA-211945', 'R-HSA-211897'),\n",
       " ('R-HSA-211957', 'R-HSA-112311'),\n",
       " ('R-HSA-211957', 'R-HSA-112315'),\n",
       " ('R-HSA-211957', 'R-HSA-1428517'),\n",
       " ('R-HSA-211957', 'R-HSA-1483206'),\n",
       " ('R-HSA-211957', 'R-HSA-1483255'),\n",
       " ('R-HSA-211957', 'R-HSA-1483257'),\n",
       " ('R-HSA-211957', 'R-HSA-156580'),\n",
       " ('R-HSA-211957', 'R-HSA-156584'),\n",
       " ('R-HSA-211957', 'R-HSA-15869'),\n",
       " ('R-HSA-211957', 'R-HSA-1592230'),\n",
       " ('R-HSA-211957', 'R-HSA-159418'),\n",
       " ('R-HSA-211957', 'R-HSA-1614635'),\n",
       " ('R-HSA-211957', 'R-HSA-1655829'),\n",
       " ('R-HSA-211957', 'R-HSA-168249'),\n",
       " ('R-HSA-211957', 'R-HSA-189200'),\n",
       " ('R-HSA-211957', 'R-HSA-194068'),\n",
       " ('R-HSA-211957', 'R-HSA-196071'),\n",
       " ('R-HSA-211957', 'R-HSA-196849'),\n",
       " ('R-HSA-211957', 'R-HSA-196854'),\n",
       " ('R-HSA-211957', 'R-HSA-1989781'),\n",
       " ('R-HSA-211957', 'R-HSA-211859'),\n",
       " ('R-HSA-211957', 'R-HSA-211897'),\n",
       " ('R-HSA-211957', 'R-HSA-211945'),\n",
       " ('R-HSA-211976', 'R-HSA-110331'),\n",
       " ('R-HSA-211976', 'R-HSA-112310'),\n",
       " ('R-HSA-211976', 'R-HSA-112311'),\n",
       " ('R-HSA-211976', 'R-HSA-112315'),\n",
       " ('R-HSA-211976', 'R-HSA-1237112'),\n",
       " ('R-HSA-211976', 'R-HSA-1368082'),\n",
       " ('R-HSA-211976', 'R-HSA-1368108'),\n",
       " ('R-HSA-211976', 'R-HSA-1428517'),\n",
       " ('R-HSA-211976', 'R-HSA-1483148'),\n",
       " ('R-HSA-211976', 'R-HSA-1483206'),\n",
       " ('R-HSA-211976', 'R-HSA-1483255'),\n",
       " ('R-HSA-211976', 'R-HSA-1483257'),\n",
       " ('R-HSA-211976', 'R-HSA-156580'),\n",
       " ('R-HSA-211976', 'R-HSA-156582'),\n",
       " ('R-HSA-211976', 'R-HSA-156584'),\n",
       " ('R-HSA-211976', 'R-HSA-15869'),\n",
       " ('R-HSA-211976', 'R-HSA-1592230'),\n",
       " ('R-HSA-211976', 'R-HSA-159418'),\n",
       " ('R-HSA-211976', 'R-HSA-1614603'),\n",
       " ('R-HSA-211976', 'R-HSA-1614635'),\n",
       " ('R-HSA-211976', 'R-HSA-163685'),\n",
       " ('R-HSA-211976', 'R-HSA-1655829'),\n",
       " ('R-HSA-211976', 'R-HSA-1660661'),\n",
       " ('R-HSA-211976', 'R-HSA-168249'),\n",
       " ('R-HSA-211976', 'R-HSA-189200'),\n",
       " ('R-HSA-211976', 'R-HSA-192105'),\n",
       " ('R-HSA-211976', 'R-HSA-192456'),\n",
       " ('R-HSA-211976', 'R-HSA-193368'),\n",
       " ('R-HSA-211976', 'R-HSA-194068'),\n",
       " ('R-HSA-211976', 'R-HSA-196071'),\n",
       " ('R-HSA-211976', 'R-HSA-196849'),\n",
       " ('R-HSA-211976', 'R-HSA-196854'),\n",
       " ('R-HSA-211976', 'R-HSA-1989781'),\n",
       " ('R-HSA-211976', 'R-HSA-211859'),\n",
       " ('R-HSA-211976', 'R-HSA-211897'),\n",
       " ('R-HSA-211976', 'R-HSA-211945'),\n",
       " ('R-HSA-211976', 'R-HSA-211957'),\n",
       " ('R-HSA-211981', 'R-HSA-110331'),\n",
       " ('R-HSA-211981', 'R-HSA-112310'),\n",
       " ('R-HSA-211981', 'R-HSA-112311'),\n",
       " ('R-HSA-211981', 'R-HSA-112315'),\n",
       " ('R-HSA-211981', 'R-HSA-1237112'),\n",
       " ('R-HSA-211981', 'R-HSA-1368082'),\n",
       " ('R-HSA-211981', 'R-HSA-1368108'),\n",
       " ('R-HSA-211981', 'R-HSA-1428517'),\n",
       " ('R-HSA-211981', 'R-HSA-1483148'),\n",
       " ('R-HSA-211981', 'R-HSA-1483206'),\n",
       " ('R-HSA-211981', 'R-HSA-1483255'),\n",
       " ('R-HSA-211981', 'R-HSA-1483257'),\n",
       " ('R-HSA-211981', 'R-HSA-156580'),\n",
       " ('R-HSA-211981', 'R-HSA-156582'),\n",
       " ('R-HSA-211981', 'R-HSA-156584'),\n",
       " ('R-HSA-211981', 'R-HSA-15869'),\n",
       " ('R-HSA-211981', 'R-HSA-1592230'),\n",
       " ('R-HSA-211981', 'R-HSA-159418'),\n",
       " ('R-HSA-211981', 'R-HSA-1614603'),\n",
       " ('R-HSA-211981', 'R-HSA-1614635'),\n",
       " ('R-HSA-211981', 'R-HSA-163685'),\n",
       " ('R-HSA-211981', 'R-HSA-1655829'),\n",
       " ('R-HSA-211981', 'R-HSA-1660661'),\n",
       " ('R-HSA-211981', 'R-HSA-168249'),\n",
       " ('R-HSA-211981', 'R-HSA-189200'),\n",
       " ('R-HSA-211981', 'R-HSA-192105'),\n",
       " ('R-HSA-211981', 'R-HSA-192456'),\n",
       " ('R-HSA-211981', 'R-HSA-193368'),\n",
       " ('R-HSA-211981', 'R-HSA-194068'),\n",
       " ('R-HSA-211981', 'R-HSA-196071'),\n",
       " ('R-HSA-211981', 'R-HSA-196849'),\n",
       " ('R-HSA-211981', 'R-HSA-196854'),\n",
       " ('R-HSA-211981', 'R-HSA-1989781'),\n",
       " ('R-HSA-211981', 'R-HSA-211859'),\n",
       " ('R-HSA-211981', 'R-HSA-211897'),\n",
       " ('R-HSA-211981', 'R-HSA-211945'),\n",
       " ('R-HSA-211981', 'R-HSA-211957'),\n",
       " ('R-HSA-211981', 'R-HSA-211976'),\n",
       " ('R-HSA-2142753', 'R-HSA-110331'),\n",
       " ('R-HSA-2142753', 'R-HSA-112310'),\n",
       " ('R-HSA-2142753', 'R-HSA-112311'),\n",
       " ('R-HSA-2142753', 'R-HSA-112315'),\n",
       " ('R-HSA-2142753', 'R-HSA-1237112'),\n",
       " ('R-HSA-2142753', 'R-HSA-1368082'),\n",
       " ('R-HSA-2142753', 'R-HSA-1368108'),\n",
       " ('R-HSA-2142753', 'R-HSA-1428517'),\n",
       " ('R-HSA-2142753', 'R-HSA-1483148'),\n",
       " ('R-HSA-2142753', 'R-HSA-1483206'),\n",
       " ('R-HSA-2142753', 'R-HSA-1483255'),\n",
       " ('R-HSA-2142753', 'R-HSA-1483257'),\n",
       " ('R-HSA-2142753', 'R-HSA-156580'),\n",
       " ('R-HSA-2142753', 'R-HSA-156582'),\n",
       " ('R-HSA-2142753', 'R-HSA-156584'),\n",
       " ('R-HSA-2142753', 'R-HSA-15869'),\n",
       " ('R-HSA-2142753', 'R-HSA-1592230'),\n",
       " ('R-HSA-2142753', 'R-HSA-159418'),\n",
       " ('R-HSA-2142753', 'R-HSA-1614603'),\n",
       " ('R-HSA-2142753', 'R-HSA-1614635'),\n",
       " ('R-HSA-2142753', 'R-HSA-163685'),\n",
       " ('R-HSA-2142753', 'R-HSA-1655829'),\n",
       " ('R-HSA-2142753', 'R-HSA-1660661'),\n",
       " ('R-HSA-2142753', 'R-HSA-168249'),\n",
       " ('R-HSA-2142753', 'R-HSA-189200'),\n",
       " ('R-HSA-2142753', 'R-HSA-192105'),\n",
       " ('R-HSA-2142753', 'R-HSA-192456'),\n",
       " ('R-HSA-2142753', 'R-HSA-193368'),\n",
       " ('R-HSA-2142753', 'R-HSA-194068'),\n",
       " ('R-HSA-2142753', 'R-HSA-196071'),\n",
       " ('R-HSA-2142753', 'R-HSA-196849'),\n",
       " ('R-HSA-2142753', 'R-HSA-196854'),\n",
       " ('R-HSA-2142753', 'R-HSA-1989781'),\n",
       " ('R-HSA-2142753', 'R-HSA-211859'),\n",
       " ('R-HSA-2142753', 'R-HSA-211897'),\n",
       " ('R-HSA-2142753', 'R-HSA-211945'),\n",
       " ('R-HSA-2142753', 'R-HSA-211957'),\n",
       " ('R-HSA-2142753', 'R-HSA-211976'),\n",
       " ('R-HSA-2142753', 'R-HSA-211981'),\n",
       " ('R-HSA-2151201', 'R-HSA-110331'),\n",
       " ('R-HSA-2151201', 'R-HSA-112310'),\n",
       " ('R-HSA-2151201', 'R-HSA-112311'),\n",
       " ('R-HSA-2151201', 'R-HSA-112315'),\n",
       " ('R-HSA-2151201', 'R-HSA-1237112'),\n",
       " ('R-HSA-2151201', 'R-HSA-1368082'),\n",
       " ('R-HSA-2151201', 'R-HSA-1368108'),\n",
       " ('R-HSA-2151201', 'R-HSA-1428517'),\n",
       " ('R-HSA-2151201', 'R-HSA-1483148'),\n",
       " ('R-HSA-2151201', 'R-HSA-1483206'),\n",
       " ('R-HSA-2151201', 'R-HSA-1483255'),\n",
       " ('R-HSA-2151201', 'R-HSA-1483257'),\n",
       " ('R-HSA-2151201', 'R-HSA-156580'),\n",
       " ('R-HSA-2151201', 'R-HSA-156582'),\n",
       " ('R-HSA-2151201', 'R-HSA-156584'),\n",
       " ('R-HSA-2151201', 'R-HSA-15869'),\n",
       " ('R-HSA-2151201', 'R-HSA-1592230'),\n",
       " ('R-HSA-2151201', 'R-HSA-159418'),\n",
       " ('R-HSA-2151201', 'R-HSA-1614603'),\n",
       " ('R-HSA-2151201', 'R-HSA-1614635'),\n",
       " ('R-HSA-2151201', 'R-HSA-163685'),\n",
       " ('R-HSA-2151201', 'R-HSA-1655829'),\n",
       " ('R-HSA-2151201', 'R-HSA-1660661'),\n",
       " ('R-HSA-2151201', 'R-HSA-168249'),\n",
       " ('R-HSA-2151201', 'R-HSA-189200'),\n",
       " ('R-HSA-2151201', 'R-HSA-192105'),\n",
       " ('R-HSA-2151201', 'R-HSA-192456'),\n",
       " ('R-HSA-2151201', 'R-HSA-193368'),\n",
       " ('R-HSA-2151201', 'R-HSA-194068'),\n",
       " ('R-HSA-2151201', 'R-HSA-196071'),\n",
       " ('R-HSA-2151201', 'R-HSA-196849'),\n",
       " ('R-HSA-2151201', 'R-HSA-196854'),\n",
       " ('R-HSA-2151201', 'R-HSA-1989781'),\n",
       " ('R-HSA-2151201', 'R-HSA-211859'),\n",
       " ('R-HSA-2151201', 'R-HSA-211897'),\n",
       " ('R-HSA-2151201', 'R-HSA-211945'),\n",
       " ('R-HSA-2151201', 'R-HSA-211957'),\n",
       " ('R-HSA-2151201', 'R-HSA-211976'),\n",
       " ('R-HSA-2151201', 'R-HSA-211981'),\n",
       " ('R-HSA-2151201', 'R-HSA-2142753'),\n",
       " ('R-HSA-2161522', 'R-HSA-112311'),\n",
       " ('R-HSA-2161522', 'R-HSA-112315'),\n",
       " ('R-HSA-2161522', 'R-HSA-1428517'),\n",
       " ('R-HSA-2161522', 'R-HSA-1483206'),\n",
       " ('R-HSA-2161522', 'R-HSA-1483255'),\n",
       " ('R-HSA-2161522', 'R-HSA-1483257'),\n",
       " ('R-HSA-2161522', 'R-HSA-156580'),\n",
       " ('R-HSA-2161522', 'R-HSA-156584'),\n",
       " ('R-HSA-2161522', 'R-HSA-15869'),\n",
       " ('R-HSA-2161522', 'R-HSA-1592230'),\n",
       " ('R-HSA-2161522', 'R-HSA-159418'),\n",
       " ('R-HSA-2161522', 'R-HSA-1614635'),\n",
       " ('R-HSA-2161522', 'R-HSA-1655829'),\n",
       " ('R-HSA-2161522', 'R-HSA-168249'),\n",
       " ('R-HSA-2161522', 'R-HSA-189200'),\n",
       " ('R-HSA-2161522', 'R-HSA-194068'),\n",
       " ('R-HSA-2161522', 'R-HSA-196071'),\n",
       " ('R-HSA-2161522', 'R-HSA-196849'),\n",
       " ('R-HSA-2161522', 'R-HSA-196854'),\n",
       " ('R-HSA-2161522', 'R-HSA-1989781'),\n",
       " ('R-HSA-2161522', 'R-HSA-211859'),\n",
       " ('R-HSA-2161522', 'R-HSA-211897'),\n",
       " ('R-HSA-2161522', 'R-HSA-211945'),\n",
       " ('R-HSA-2161522', 'R-HSA-211976'),\n",
       " ('R-HSA-2161522', 'R-HSA-211981'),\n",
       " ('R-HSA-2161522', 'R-HSA-2142753'),\n",
       " ('R-HSA-2161522', 'R-HSA-2151201'),\n",
       " ('R-HSA-2161541', 'R-HSA-112311'),\n",
       " ('R-HSA-2161541', 'R-HSA-112315'),\n",
       " ('R-HSA-2161541', 'R-HSA-1428517'),\n",
       " ('R-HSA-2161541', 'R-HSA-1483206'),\n",
       " ('R-HSA-2161541', 'R-HSA-1483255'),\n",
       " ('R-HSA-2161541', 'R-HSA-1483257'),\n",
       " ('R-HSA-2161541', 'R-HSA-156580'),\n",
       " ('R-HSA-2161541', 'R-HSA-156584'),\n",
       " ('R-HSA-2161541', 'R-HSA-15869'),\n",
       " ('R-HSA-2161541', 'R-HSA-1592230'),\n",
       " ('R-HSA-2161541', 'R-HSA-159418'),\n",
       " ('R-HSA-2161541', 'R-HSA-1614635'),\n",
       " ('R-HSA-2161541', 'R-HSA-1655829'),\n",
       " ('R-HSA-2161541', 'R-HSA-168249'),\n",
       " ('R-HSA-2161541', 'R-HSA-189200'),\n",
       " ('R-HSA-2161541', 'R-HSA-194068'),\n",
       " ('R-HSA-2161541', 'R-HSA-196071'),\n",
       " ('R-HSA-2161541', 'R-HSA-196849'),\n",
       " ('R-HSA-2161541', 'R-HSA-196854'),\n",
       " ('R-HSA-2161541', 'R-HSA-1989781'),\n",
       " ('R-HSA-2161541', 'R-HSA-211859'),\n",
       " ('R-HSA-2161541', 'R-HSA-211897'),\n",
       " ('R-HSA-2161541', 'R-HSA-211945'),\n",
       " ('R-HSA-2161541', 'R-HSA-211976'),\n",
       " ('R-HSA-2161541', 'R-HSA-211981'),\n",
       " ('R-HSA-2161541', 'R-HSA-2142753'),\n",
       " ('R-HSA-2161541', 'R-HSA-2151201'),\n",
       " ('R-HSA-2187338', 'R-HSA-110331'),\n",
       " ('R-HSA-2187338', 'R-HSA-112310'),\n",
       " ('R-HSA-2187338', 'R-HSA-112311'),\n",
       " ('R-HSA-2187338', 'R-HSA-112315'),\n",
       " ('R-HSA-2187338', 'R-HSA-1237112'),\n",
       " ('R-HSA-2187338', 'R-HSA-1368082'),\n",
       " ('R-HSA-2187338', 'R-HSA-1368108'),\n",
       " ('R-HSA-2187338', 'R-HSA-1428517'),\n",
       " ('R-HSA-2187338', 'R-HSA-1483148'),\n",
       " ('R-HSA-2187338', 'R-HSA-1483206'),\n",
       " ('R-HSA-2187338', 'R-HSA-1483255'),\n",
       " ('R-HSA-2187338', 'R-HSA-1483257'),\n",
       " ('R-HSA-2187338', 'R-HSA-156580'),\n",
       " ('R-HSA-2187338', 'R-HSA-156582'),\n",
       " ('R-HSA-2187338', 'R-HSA-156584'),\n",
       " ('R-HSA-2187338', 'R-HSA-15869'),\n",
       " ('R-HSA-2187338', 'R-HSA-1592230'),\n",
       " ('R-HSA-2187338', 'R-HSA-159418'),\n",
       " ('R-HSA-2187338', 'R-HSA-1614603'),\n",
       " ('R-HSA-2187338', 'R-HSA-1614635'),\n",
       " ('R-HSA-2187338', 'R-HSA-163685'),\n",
       " ('R-HSA-2187338', 'R-HSA-1655829'),\n",
       " ('R-HSA-2187338', 'R-HSA-1660661'),\n",
       " ('R-HSA-2187338', 'R-HSA-168249'),\n",
       " ('R-HSA-2187338', 'R-HSA-189200'),\n",
       " ('R-HSA-2187338', 'R-HSA-192105'),\n",
       " ('R-HSA-2187338', 'R-HSA-192456'),\n",
       " ('R-HSA-2187338', 'R-HSA-193368'),\n",
       " ('R-HSA-2187338', 'R-HSA-194068'),\n",
       " ('R-HSA-2187338', 'R-HSA-196071'),\n",
       " ('R-HSA-2187338', 'R-HSA-196849'),\n",
       " ('R-HSA-2187338', 'R-HSA-196854'),\n",
       " ('R-HSA-2187338', 'R-HSA-1989781'),\n",
       " ('R-HSA-2187338', 'R-HSA-211859'),\n",
       " ('R-HSA-2187338', 'R-HSA-211897'),\n",
       " ('R-HSA-2187338', 'R-HSA-211945'),\n",
       " ('R-HSA-2187338', 'R-HSA-211957'),\n",
       " ('R-HSA-2187338', 'R-HSA-211976'),\n",
       " ('R-HSA-2187338', 'R-HSA-211981'),\n",
       " ('R-HSA-2187338', 'R-HSA-2142753'),\n",
       " ('R-HSA-2187338', 'R-HSA-2151201'),\n",
       " ('R-HSA-2187338', 'R-HSA-2161522'),\n",
       " ('R-HSA-2187338', 'R-HSA-2161541'),\n",
       " ('R-HSA-2262752', 'R-HSA-110331'),\n",
       " ('R-HSA-2262752', 'R-HSA-112310'),\n",
       " ('R-HSA-2262752', 'R-HSA-112311'),\n",
       " ('R-HSA-2262752', 'R-HSA-112315'),\n",
       " ('R-HSA-2262752', 'R-HSA-1237112'),\n",
       " ('R-HSA-2262752', 'R-HSA-1368082'),\n",
       " ('R-HSA-2262752', 'R-HSA-1368108'),\n",
       " ('R-HSA-2262752', 'R-HSA-1428517'),\n",
       " ('R-HSA-2262752', 'R-HSA-1483148'),\n",
       " ('R-HSA-2262752', 'R-HSA-1483206'),\n",
       " ('R-HSA-2262752', 'R-HSA-1483255'),\n",
       " ('R-HSA-2262752', 'R-HSA-1483257'),\n",
       " ('R-HSA-2262752', 'R-HSA-156580'),\n",
       " ('R-HSA-2262752', 'R-HSA-156582'),\n",
       " ('R-HSA-2262752', 'R-HSA-156584'),\n",
       " ('R-HSA-2262752', 'R-HSA-15869'),\n",
       " ('R-HSA-2262752', 'R-HSA-1592230'),\n",
       " ('R-HSA-2262752', 'R-HSA-159418'),\n",
       " ('R-HSA-2262752', 'R-HSA-1614603'),\n",
       " ('R-HSA-2262752', 'R-HSA-1614635'),\n",
       " ('R-HSA-2262752', 'R-HSA-163685'),\n",
       " ('R-HSA-2262752', 'R-HSA-1655829'),\n",
       " ('R-HSA-2262752', 'R-HSA-1660661'),\n",
       " ('R-HSA-2262752', 'R-HSA-168249'),\n",
       " ('R-HSA-2262752', 'R-HSA-189200'),\n",
       " ('R-HSA-2262752', 'R-HSA-192105'),\n",
       " ('R-HSA-2262752', 'R-HSA-192456'),\n",
       " ('R-HSA-2262752', 'R-HSA-193368'),\n",
       " ('R-HSA-2262752', 'R-HSA-194068'),\n",
       " ('R-HSA-2262752', 'R-HSA-196071'),\n",
       " ('R-HSA-2262752', 'R-HSA-196849'),\n",
       " ('R-HSA-2262752', 'R-HSA-196854'),\n",
       " ('R-HSA-2262752', 'R-HSA-1989781'),\n",
       " ('R-HSA-2262752', 'R-HSA-211859'),\n",
       " ('R-HSA-2262752', 'R-HSA-211897'),\n",
       " ('R-HSA-2262752', 'R-HSA-211945'),\n",
       " ('R-HSA-2262752', 'R-HSA-211957'),\n",
       " ('R-HSA-2262752', 'R-HSA-211976'),\n",
       " ('R-HSA-2262752', 'R-HSA-211981'),\n",
       " ('R-HSA-2262752', 'R-HSA-2142753'),\n",
       " ('R-HSA-2262752', 'R-HSA-2151201'),\n",
       " ('R-HSA-2262752', 'R-HSA-2161522'),\n",
       " ('R-HSA-2262752', 'R-HSA-2161541'),\n",
       " ('R-HSA-2262752', 'R-HSA-2187338'),\n",
       " ('R-HSA-2408508', 'R-HSA-110331'),\n",
       " ('R-HSA-2408508', 'R-HSA-112310'),\n",
       " ('R-HSA-2408508', 'R-HSA-112311'),\n",
       " ('R-HSA-2408508', 'R-HSA-112315'),\n",
       " ('R-HSA-2408508', 'R-HSA-1237112'),\n",
       " ('R-HSA-2408508', 'R-HSA-1368082'),\n",
       " ('R-HSA-2408508', 'R-HSA-1368108'),\n",
       " ('R-HSA-2408508', 'R-HSA-1428517'),\n",
       " ('R-HSA-2408508', 'R-HSA-1483148'),\n",
       " ('R-HSA-2408508', 'R-HSA-1483206'),\n",
       " ('R-HSA-2408508', 'R-HSA-1483255'),\n",
       " ('R-HSA-2408508', 'R-HSA-1483257'),\n",
       " ('R-HSA-2408508', 'R-HSA-156580'),\n",
       " ('R-HSA-2408508', 'R-HSA-156582'),\n",
       " ('R-HSA-2408508', 'R-HSA-156584'),\n",
       " ('R-HSA-2408508', 'R-HSA-15869'),\n",
       " ('R-HSA-2408508', 'R-HSA-1592230'),\n",
       " ('R-HSA-2408508', 'R-HSA-159418'),\n",
       " ('R-HSA-2408508', 'R-HSA-1614603'),\n",
       " ('R-HSA-2408508', 'R-HSA-1614635'),\n",
       " ('R-HSA-2408508', 'R-HSA-163685'),\n",
       " ('R-HSA-2408508', 'R-HSA-1655829'),\n",
       " ('R-HSA-2408508', 'R-HSA-1660661'),\n",
       " ('R-HSA-2408508', 'R-HSA-168249'),\n",
       " ('R-HSA-2408508', 'R-HSA-189200'),\n",
       " ('R-HSA-2408508', 'R-HSA-192105'),\n",
       " ('R-HSA-2408508', 'R-HSA-192456'),\n",
       " ('R-HSA-2408508', 'R-HSA-193368'),\n",
       " ('R-HSA-2408508', 'R-HSA-194068'),\n",
       " ('R-HSA-2408508', 'R-HSA-196071'),\n",
       " ('R-HSA-2408508', 'R-HSA-196849'),\n",
       " ('R-HSA-2408508', 'R-HSA-196854'),\n",
       " ('R-HSA-2408508', 'R-HSA-1989781'),\n",
       " ('R-HSA-2408508', 'R-HSA-211859'),\n",
       " ('R-HSA-2408508', 'R-HSA-211897'),\n",
       " ('R-HSA-2408508', 'R-HSA-211945'),\n",
       " ('R-HSA-2408508', 'R-HSA-211957'),\n",
       " ('R-HSA-2408508', 'R-HSA-211976'),\n",
       " ('R-HSA-2408508', 'R-HSA-211981'),\n",
       " ('R-HSA-2408508', 'R-HSA-2142753'),\n",
       " ('R-HSA-2408508', 'R-HSA-2151201'),\n",
       " ('R-HSA-2408508', 'R-HSA-2161522'),\n",
       " ('R-HSA-2408508', 'R-HSA-2161541'),\n",
       " ('R-HSA-2408508', 'R-HSA-2187338'),\n",
       " ('R-HSA-2408508', 'R-HSA-2262752'),\n",
       " ('R-HSA-2408522', 'R-HSA-110331'),\n",
       " ('R-HSA-2408522', 'R-HSA-112310'),\n",
       " ('R-HSA-2408522', 'R-HSA-112311'),\n",
       " ('R-HSA-2408522', 'R-HSA-112315'),\n",
       " ('R-HSA-2408522', 'R-HSA-1237112'),\n",
       " ('R-HSA-2408522', 'R-HSA-1368082'),\n",
       " ('R-HSA-2408522', 'R-HSA-1368108'),\n",
       " ('R-HSA-2408522', 'R-HSA-1428517'),\n",
       " ('R-HSA-2408522', 'R-HSA-1483148'),\n",
       " ('R-HSA-2408522', 'R-HSA-1483206'),\n",
       " ('R-HSA-2408522', 'R-HSA-1483255'),\n",
       " ('R-HSA-2408522', 'R-HSA-1483257'),\n",
       " ('R-HSA-2408522', 'R-HSA-156580'),\n",
       " ('R-HSA-2408522', 'R-HSA-156582'),\n",
       " ('R-HSA-2408522', 'R-HSA-156584'),\n",
       " ('R-HSA-2408522', 'R-HSA-15869'),\n",
       " ('R-HSA-2408522', 'R-HSA-1592230'),\n",
       " ('R-HSA-2408522', 'R-HSA-159418'),\n",
       " ('R-HSA-2408522', 'R-HSA-1614603'),\n",
       " ('R-HSA-2408522', 'R-HSA-1614635'),\n",
       " ('R-HSA-2408522', 'R-HSA-163685'),\n",
       " ('R-HSA-2408522', 'R-HSA-1655829'),\n",
       " ('R-HSA-2408522', 'R-HSA-1660661'),\n",
       " ('R-HSA-2408522', 'R-HSA-168249'),\n",
       " ('R-HSA-2408522', 'R-HSA-189200'),\n",
       " ('R-HSA-2408522', 'R-HSA-192105'),\n",
       " ('R-HSA-2408522', 'R-HSA-192456'),\n",
       " ('R-HSA-2408522', 'R-HSA-193368'),\n",
       " ('R-HSA-2408522', 'R-HSA-194068'),\n",
       " ('R-HSA-2408522', 'R-HSA-196071'),\n",
       " ('R-HSA-2408522', 'R-HSA-196849'),\n",
       " ('R-HSA-2408522', 'R-HSA-196854'),\n",
       " ('R-HSA-2408522', 'R-HSA-1989781'),\n",
       " ('R-HSA-2408522', 'R-HSA-211859'),\n",
       " ('R-HSA-2408522', 'R-HSA-211897'),\n",
       " ('R-HSA-2408522', 'R-HSA-211945'),\n",
       " ('R-HSA-2408522', 'R-HSA-211957'),\n",
       " ('R-HSA-2408522', 'R-HSA-211976'),\n",
       " ('R-HSA-2408522', 'R-HSA-211981'),\n",
       " ('R-HSA-2408522', 'R-HSA-2142753'),\n",
       " ('R-HSA-2408522', 'R-HSA-2151201'),\n",
       " ('R-HSA-2408522', 'R-HSA-2161522'),\n",
       " ('R-HSA-2408522', 'R-HSA-2161541'),\n",
       " ('R-HSA-2408522', 'R-HSA-2187338'),\n",
       " ('R-HSA-2408522', 'R-HSA-2262752'),\n",
       " ('R-HSA-2426168', 'R-HSA-110331'),\n",
       " ('R-HSA-2426168', 'R-HSA-112310'),\n",
       " ('R-HSA-2426168', 'R-HSA-112311'),\n",
       " ('R-HSA-2426168', 'R-HSA-112315'),\n",
       " ('R-HSA-2426168', 'R-HSA-1237112'),\n",
       " ('R-HSA-2426168', 'R-HSA-1368082'),\n",
       " ('R-HSA-2426168', 'R-HSA-1368108'),\n",
       " ('R-HSA-2426168', 'R-HSA-1428517'),\n",
       " ('R-HSA-2426168', 'R-HSA-1483148'),\n",
       " ('R-HSA-2426168', 'R-HSA-1483206'),\n",
       " ('R-HSA-2426168', 'R-HSA-1483255'),\n",
       " ('R-HSA-2426168', 'R-HSA-1483257'),\n",
       " ('R-HSA-2426168', 'R-HSA-156580'),\n",
       " ('R-HSA-2426168', 'R-HSA-156582'),\n",
       " ('R-HSA-2426168', 'R-HSA-156584'),\n",
       " ('R-HSA-2426168', 'R-HSA-15869'),\n",
       " ('R-HSA-2426168', 'R-HSA-1592230'),\n",
       " ('R-HSA-2426168', 'R-HSA-159418'),\n",
       " ('R-HSA-2426168', 'R-HSA-1614603'),\n",
       " ('R-HSA-2426168', 'R-HSA-1614635'),\n",
       " ('R-HSA-2426168', 'R-HSA-163685'),\n",
       " ('R-HSA-2426168', 'R-HSA-1660661'),\n",
       " ('R-HSA-2426168', 'R-HSA-168249'),\n",
       " ('R-HSA-2426168', 'R-HSA-189200'),\n",
       " ('R-HSA-2426168', 'R-HSA-192105'),\n",
       " ('R-HSA-2426168', 'R-HSA-192456'),\n",
       " ('R-HSA-2426168', 'R-HSA-193368'),\n",
       " ('R-HSA-2426168', 'R-HSA-194068'),\n",
       " ('R-HSA-2426168', 'R-HSA-196071'),\n",
       " ('R-HSA-2426168', 'R-HSA-196849'),\n",
       " ('R-HSA-2426168', 'R-HSA-196854'),\n",
       " ('R-HSA-2426168', 'R-HSA-1989781'),\n",
       " ('R-HSA-2426168', 'R-HSA-211859'),\n",
       " ('R-HSA-2426168', 'R-HSA-211897'),\n",
       " ('R-HSA-2426168', 'R-HSA-211945'),\n",
       " ('R-HSA-2426168', 'R-HSA-211957'),\n",
       " ('R-HSA-2426168', 'R-HSA-211976'),\n",
       " ('R-HSA-2426168', 'R-HSA-211981'),\n",
       " ('R-HSA-2426168', 'R-HSA-2142753'),\n",
       " ('R-HSA-2426168', 'R-HSA-2151201'),\n",
       " ('R-HSA-2426168', 'R-HSA-2161522'),\n",
       " ...]"
      ]
     },
     "execution_count": 143,
     "metadata": {},
     "output_type": "execute_result"
    }
   ],
   "source": [
    "proteomic_influence_edge_tuple"
   ]
  },
  {
   "cell_type": "code",
   "execution_count": 142,
   "metadata": {},
   "outputs": [
    {
     "name": "stdout",
     "output_type": "stream",
     "text": [
      "715\n"
     ]
    }
   ],
   "source": [
    "list1 = list(set(metabolomic_influence_edge_tuple).intersection(set(integrated_only)))\n",
    "\n",
    "counter = 0 \n",
    "\n",
    "for edges in list1:\n",
    "    pathway_pair = list(edges)\n",
    "    if ((pathway_pair[0] in common_pathways) or (pathway_pair[1] not in common_pathways)):\n",
    "        counter += 1\n",
    "    if ((pathway_pair[1] in common_pathways) and (pathway_pair[0] not in common_pathways)):\n",
    "        #print(pathway_pair)\n",
    "        counter += 1\n",
    "\n",
    "print(counter)"
   ]
  },
  {
   "cell_type": "code",
   "execution_count": 134,
   "metadata": {},
   "outputs": [
    {
     "name": "stdout",
     "output_type": "stream",
     "text": [
      "810\n"
     ]
    }
   ],
   "source": [
    "#Pathways where there is only one common pathway \n",
    "\n",
    "common_pathways = list(set(proteomic_pathways) & set(metabolomic_pathways))\n",
    "len(common_pathways)\n",
    "\n",
    "counter = 0 \n",
    "\n",
    "for edges in integrated_only:\n",
    "    pathway_pair = list(edges)\n",
    "    if ((pathway_pair[0] in common_pathways) and (pathway_pair[1] not in common_pathways)):\n",
    "        counter += 1\n",
    "    if ((pathway_pair[1] in common_pathways) and (pathway_pair[0] not in common_pathways)):\n",
    "        #print(pathway_pair)\n",
    "        counter += 1\n",
    "\n",
    "print(counter)"
   ]
  },
  {
   "cell_type": "code",
   "execution_count": 131,
   "metadata": {},
   "outputs": [
    {
     "name": "stdout",
     "output_type": "stream",
     "text": [
      "81\n"
     ]
    }
   ],
   "source": [
    "#Pathways where only one is a common pathway and the other is a metabolomics only pathway\n",
    "\n",
    "common_pathways = list(set(proteomic_pathways) & set(metabolomic_pathways))\n",
    "len(common_pathways)\n",
    "\n",
    "counter = 0 \n",
    "\n",
    "for edges in integrated_only:\n",
    "    pathway_pair = list(edges)\n",
    "    if ((pathway_pair[0] in common_pathways) and (pathway_pair[1] not in common_pathways) and (pathway_pair[1] in metabolomic_pathways)):\n",
    "        counter += 1\n",
    "    if ((pathway_pair[1] in common_pathways) and (pathway_pair[0] not in common_pathways) and (pathway_pair[0] in metabolomic_pathways)):\n",
    "        #print(pathway_pair)\n",
    "        counter += 1\n",
    "\n",
    "print(counter)"
   ]
  },
  {
   "cell_type": "code",
   "execution_count": 127,
   "metadata": {},
   "outputs": [
    {
     "name": "stdout",
     "output_type": "stream",
     "text": [
      "668\n"
     ]
    }
   ],
   "source": [
    "#Pathways where only one is a common pathway and the other is a proteomics only pathway\n",
    "\n",
    "common_pathways = list(set(proteomic_pathways) & set(metabolomic_pathways))\n",
    "len(common_pathways)\n",
    "\n",
    "counter = 0 \n",
    "\n",
    "for edges in integrated_only:\n",
    "    pathway_pair = list(edges)\n",
    "    if ((pathway_pair[0] in common_pathways) and (pathway_pair[1] not in common_pathways) and (pathway_pair[1] in proteomic_pathways)):\n",
    "        counter += 1\n",
    "    if ((pathway_pair[1] in common_pathways) and (pathway_pair[0] not in common_pathways) and (pathway_pair[0] in proteomic_pathways)):\n",
    "        #print(pathway_pair)\n",
    "        counter += 1\n",
    "\n",
    "print(counter)"
   ]
  },
  {
   "cell_type": "code",
   "execution_count": 128,
   "metadata": {},
   "outputs": [
    {
     "name": "stdout",
     "output_type": "stream",
     "text": [
      "676\n"
     ]
    }
   ],
   "source": [
    "#Pathway pairs where one is part of metabolomics and not proteomics and the other is vice versa\n",
    "\n",
    "counter = 0 \n",
    "\n",
    "for edges in integrated_only:\n",
    "    pathway_pair = list(edges)\n",
    "    if (pathway_pair[0] in metabolomic_pathways and pathway_pair[0] not in proteomic_pathways) and (pathway_pair[1] in proteomic_pathways and pathway_pair[1] not in metabolomic_pathways):\n",
    "        counter += 1\n",
    "    if (pathway_pair[0] in proteomic_pathways and pathway_pair[0] not in metabolomic_pathways) and (pathway_pair[1] in metabolomic_pathways and pathway_pair[1] not in proteomic_pathways):\n",
    "        counter += 1\n",
    "        \n",
    "print(counter)"
   ]
  },
  {
   "cell_type": "code",
   "execution_count": 118,
   "metadata": {},
   "outputs": [
    {
     "name": "stdout",
     "output_type": "stream",
     "text": [
      "95\n",
      "1\n"
     ]
    }
   ],
   "source": [
    "#Probably false postives:  96 overall\n",
    "#Proteomic influenced only (i.e. pairs where both pathways are only in the proteomic dataset)\n",
    "print(len(list(set(proteomic_only_edge_tuple).intersection(set(integrated_only)))))\n",
    "#Metabolomic influenced only (i.e. pairs where both pathways are only in the metabolomic dataset)\n",
    "print(len(list(set(metabolomic_only_edge_tuple).intersection(set(integrated_only)))))"
   ]
  },
  {
   "cell_type": "code",
   "execution_count": 119,
   "metadata": {},
   "outputs": [],
   "source": [
    "#Check the significance of the 'false positives' IN THE INTEGRATED DATASET\n",
    "proteomic_false_pos = list(set(proteomic_only_edge_tuple).intersection(set(integrated_only)))\n",
    "metabolomic_false_pos = list(set(metabolomic_only_edge_tuple).intersection(set(integrated_only)))"
   ]
  },
  {
   "cell_type": "code",
   "execution_count": 120,
   "metadata": {},
   "outputs": [
    {
     "ename": "NameError",
     "evalue": "name 'p_val_dict' is not defined",
     "output_type": "error",
     "traceback": [
      "\u001b[1;31m---------------------------------------------------------------------------\u001b[0m",
      "\u001b[1;31mNameError\u001b[0m                                 Traceback (most recent call last)",
      "Cell \u001b[1;32mIn[120], line 5\u001b[0m\n\u001b[0;32m      2\u001b[0m metabolomic_false_pos_pval \u001b[39m=\u001b[39m []\n\u001b[0;32m      4\u001b[0m \u001b[39mfor\u001b[39;00m edge \u001b[39min\u001b[39;00m proteomic_false_pos:\n\u001b[1;32m----> 5\u001b[0m     \u001b[39mif\u001b[39;00m edge \u001b[39min\u001b[39;00m \u001b[39mlist\u001b[39m(p_val_dict\u001b[39m.\u001b[39mkeys()):\n\u001b[0;32m      6\u001b[0m         proteomic_false_pos_pval\u001b[39m.\u001b[39mappend(p_val_dict[edge])\n\u001b[0;32m      8\u001b[0m \u001b[39mfor\u001b[39;00m edge \u001b[39min\u001b[39;00m metabolomic_false_pos:\n",
      "\u001b[1;31mNameError\u001b[0m: name 'p_val_dict' is not defined"
     ]
    }
   ],
   "source": [
    "proteomic_false_pos_pval = []\n",
    "metabolomic_false_pos_pval = []\n",
    "\n",
    "for edge in proteomic_false_pos:\n",
    "    if edge in list(p_val_dict.keys()):\n",
    "        proteomic_false_pos_pval.append(p_val_dict[edge])\n",
    "\n",
    "for edge in metabolomic_false_pos:\n",
    "    if edge in list(p_val_dict.keys()):\n",
    "        metabolomic_false_pos_pval.append(p_val_dict[edge])\n",
    "\n",
    "proteomic_false_pos_pval[:100]\n",
    "#len(proteomic_false_pos_pval)\n",
    "\n",
    "print(metabolomic_false_pos_pval) #[0.000747091124962897] (not that close to threshold)\n",
    "sum(proteomic_false_pos_pval)/len(proteomic_false_pos_pval)  #average = 0.0045  #close to p < 0.05 threshold"
   ]
  },
  {
   "cell_type": "code",
   "execution_count": 121,
   "metadata": {},
   "outputs": [
    {
     "name": "stdout",
     "output_type": "stream",
     "text": [
      "669\n"
     ]
    }
   ],
   "source": [
    "#Pathway pairs where at least one is one of the 35 new pathways\n",
    " \n",
    "counter = 0 \n",
    "\n",
    "for edges in integrated_only:\n",
    "    pathway_pair = list(edges)\n",
    "    if (pathway_pair[0] in new_pathways) or (pathway_pair[1] in new_pathways):\n",
    "        #print(pathway_pair[0])\n",
    "        counter += 1\n",
    "\n",
    "print(counter)"
   ]
  },
  {
   "cell_type": "code",
   "execution_count": 137,
   "metadata": {},
   "outputs": [
    {
     "name": "stdout",
     "output_type": "stream",
     "text": [
      "14\n"
     ]
    }
   ],
   "source": [
    "#Pathway pairs where at least one is one of the 35 new pathways\n",
    " \n",
    "counter = 0 \n",
    "\n",
    "for edges in integrated_only:\n",
    "    pathway_pair = list(edges)\n",
    "    if (pathway_pair[1] in new_pathways) and (pathway_pair[0] in new_pathways):\n",
    "        #print(pathway_pair[0])\n",
    "        counter += 1\n",
    "\n",
    "print(counter)\n",
    "\n",
    "#38+23"
   ]
  },
  {
   "cell_type": "code",
   "execution_count": 122,
   "metadata": {},
   "outputs": [
    {
     "data": {
      "text/plain": [
       "2535"
      ]
     },
     "execution_count": 122,
     "metadata": {},
     "output_type": "execute_result"
    }
   ],
   "source": [
    "len(list(set(integrated_edge_tuple).intersection(set(integrated_only))))"
   ]
  }
 ],
 "metadata": {
  "kernelspec": {
   "display_name": "Imperial_Project2",
   "language": "python",
   "name": "python3"
  },
  "language_info": {
   "codemirror_mode": {
    "name": "ipython",
    "version": 3
   },
   "file_extension": ".py",
   "mimetype": "text/x-python",
   "name": "python",
   "nbconvert_exporter": "python",
   "pygments_lexer": "ipython3",
   "version": "3.11.3"
  },
  "orig_nbformat": 4
 },
 "nbformat": 4,
 "nbformat_minor": 2
}
