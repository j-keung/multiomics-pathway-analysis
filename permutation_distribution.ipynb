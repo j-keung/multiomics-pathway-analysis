{
 "cells": [
  {
   "cell_type": "code",
   "execution_count": 1,
   "metadata": {},
   "outputs": [],
   "source": [
    "\n",
    "import pandas as pd\n",
    "import os"
   ]
  },
  {
   "cell_type": "code",
   "execution_count": 2,
   "metadata": {},
   "outputs": [],
   "source": [
    "#Download the initial test statistics\n",
    "df = pd.read_csv('Data/permutation_test_files_proteomics/initial_tstats.csv', index_col=0)\n"
   ]
  },
  {
   "cell_type": "code",
   "execution_count": 3,
   "metadata": {},
   "outputs": [],
   "source": [
    "\n",
    "path = os.getcwd() + '\\\\Data\\\\permutation_test_files_proteomics'"
   ]
  },
  {
   "cell_type": "code",
   "execution_count": 3,
   "metadata": {},
   "outputs": [
    {
     "data": {
      "text/plain": [
       "'R-HSA-109606, R-HSA-109581'"
      ]
     },
     "execution_count": 3,
     "metadata": {},
     "output_type": "execute_result"
    }
   ],
   "source": [
    "edgelist = df.index\n",
    "edgelist[0]"
   ]
  },
  {
   "cell_type": "code",
   "execution_count": 4,
   "metadata": {},
   "outputs": [
    {
     "ename": "NameError",
     "evalue": "name 'path' is not defined",
     "output_type": "error",
     "traceback": [
      "\u001b[1;31m---------------------------------------------------------------------------\u001b[0m",
      "\u001b[1;31mNameError\u001b[0m                                 Traceback (most recent call last)",
      "Cell \u001b[1;32mIn[4], line 5\u001b[0m\n\u001b[0;32m      2\u001b[0m sig_edges \u001b[39m=\u001b[39m []\n\u001b[0;32m      4\u001b[0m \u001b[39mfor\u001b[39;00m index,pathway_pair \u001b[39min\u001b[39;00m \u001b[39menumerate\u001b[39m(edgelist[:\u001b[39m5\u001b[39m]):   \u001b[39m#test all pathways\u001b[39;00m\n\u001b[1;32m----> 5\u001b[0m     \u001b[39mfor\u001b[39;00m filename \u001b[39min\u001b[39;00m os\u001b[39m.\u001b[39mlistdir(path):\n\u001b[0;32m      6\u001b[0m         \u001b[39mif\u001b[39;00m filename \u001b[39m!=\u001b[39m \u001b[39m'\u001b[39m\u001b[39minitial_tstats.csv\u001b[39m\u001b[39m'\u001b[39m:\n\u001b[0;32m      7\u001b[0m             \u001b[39mwith\u001b[39;00m \u001b[39mopen\u001b[39m(os\u001b[39m.\u001b[39mpath\u001b[39m.\u001b[39mjoin(path, filename)) \u001b[39mas\u001b[39;00m file_in:    \n",
      "\u001b[1;31mNameError\u001b[0m: name 'path' is not defined"
     ]
    }
   ],
   "source": [
    "pathway_list = []\n",
    "sig_edges = []\n",
    "\n",
    "for index,pathway_pair in enumerate(edgelist[:5]):   #test all pathways\n",
    "    for filename in os.listdir(path):\n",
    "        if filename != 'initial_tstats.csv':\n",
    "            with open(os.path.join(path, filename)) as file_in:    \n",
    "                lines = file_in.readlines()\n",
    "                pathway_stat = float(lines[0].split(',')[index])\n",
    "                pathway_list.append(pathway_stat)\n",
    "    \n",
    "    print(pathway_list, pathway_pair)\n",
    "\n",
    "    comparison = df.Initial_tstat[index]    #get initial test statistic\n",
    "    print(comparison)\n",
    "    counter = 0\n",
    "    \n",
    "    for num in pathway_list:  #len(pathway_list) = number of permutations\n",
    "        if abs(num) >= comparison:   \n",
    "            counter += 1\n",
    "    \n",
    "    print(counter)\n",
    "    p_val = (counter/len(pathway_list))    #divide number of tests above or equal to the test statistic by total number of tests\n",
    "\n",
    "    if p_val < 0.01:  #for 100,000 permutations\n",
    "        sig_edges.append(pathway_pair)  \n",
    "\n",
    "    pathway_list = []\n",
    "\n",
    "print(sig_edges)"
   ]
  },
  {
   "cell_type": "code",
   "execution_count": 26,
   "metadata": {},
   "outputs": [
    {
     "data": {
      "text/plain": [
       "[]"
      ]
     },
     "execution_count": 26,
     "metadata": {},
     "output_type": "execute_result"
    }
   ],
   "source": [
    "sig_edges"
   ]
  },
  {
   "cell_type": "code",
   "execution_count": 35,
   "metadata": {},
   "outputs": [
    {
     "name": "stdout",
     "output_type": "stream",
     "text": [
      "-0.5646745805638236\n"
     ]
    }
   ],
   "source": [
    "with open(\"Data/permutation_test_files_proteomics/Run9.txt\") as file_in:    \n",
    "                lines = file_in.readlines()\n",
    "                pathway_stat = float(lines[0].split(',')[1])\n",
    "                print(pathway_stat)"
   ]
  },
  {
   "cell_type": "code",
   "execution_count": null,
   "metadata": {},
   "outputs": [],
   "source": [
    "with open ('Data/permutation_test_files_proteomics/sig_edges.txt', 'w') as file:\n",
    "     file.write(','.join(str(i) for i in sig_edges))"
   ]
  },
  {
   "cell_type": "code",
   "execution_count": null,
   "metadata": {},
   "outputs": [],
   "source": []
  },
  {
   "cell_type": "code",
   "execution_count": null,
   "metadata": {},
   "outputs": [],
   "source": []
  }
 ],
 "metadata": {
  "kernelspec": {
   "display_name": "Imperial_Project2",
   "language": "python",
   "name": "python3"
  },
  "language_info": {
   "codemirror_mode": {
    "name": "ipython",
    "version": 3
   },
   "file_extension": ".py",
   "mimetype": "text/x-python",
   "name": "python",
   "nbconvert_exporter": "python",
   "pygments_lexer": "ipython3",
   "version": "3.10.11"
  },
  "orig_nbformat": 4
 },
 "nbformat": 4,
 "nbformat_minor": 2
}
