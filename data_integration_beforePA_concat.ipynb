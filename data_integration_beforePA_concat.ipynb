{
 "cells": [
  {
   "cell_type": "markdown",
   "metadata": {},
   "source": [
    "### Create multi-omics pathways"
   ]
  },
  {
   "cell_type": "code",
   "execution_count": 1,
   "metadata": {},
   "outputs": [],
   "source": [
    "import pandas as pd\n",
    "import sspa"
   ]
  },
  {
   "cell_type": "markdown",
   "metadata": {},
   "source": [
    "Downloading the multiomics data is as easy as downloading from the sspa package. However, the latest pathway version is v85, whereas I have used v84 for the single omics metabolomics and proteomics dataset. Therefore, I would have have to manually concatenate the v84 pathway files together for metabolomics and proteomics."
   ]
  },
  {
   "cell_type": "markdown",
   "metadata": {},
   "source": [
    "Method 1: Downloading from sspa package"
   ]
  },
  {
   "cell_type": "code",
   "execution_count": null,
   "metadata": {},
   "outputs": [],
   "source": [
    "#Download Reactome latest multi-omics\n",
    "reactome_mouse_latest_mo = sspa.process_reactome(\"Mus musculus\", download_latest=True, filepath=\".\", omics_type='multiomics')"
   ]
  },
  {
   "cell_type": "code",
   "execution_count": null,
   "metadata": {},
   "outputs": [],
   "source": [
    "#Download Reactome latest multi-omics\n",
    "reactome_human_latest_mo = sspa.process_reactome(\"Homo sapiens\", download_latest=True, filepath=\".\", omics_type='multiomics')"
   ]
  },
  {
   "cell_type": "markdown",
   "metadata": {},
   "source": [
    "Method 2: Manually concatentating specific version files"
   ]
  },
  {
   "cell_type": "code",
   "execution_count": null,
   "metadata": {},
   "outputs": [],
   "source": [
    "#Metabolomic pathways (ChEBI IDs)\n",
    "metabolomic_reactome_pathways = sspa.process_gmt(\"Data/Reactome_Homo_sapiens_pathways_compounds_R84.gmt\")"
   ]
  },
  {
   "cell_type": "code",
   "execution_count": null,
   "metadata": {},
   "outputs": [],
   "source": [
    "#Proteomic pathways  (UniProt IDs)\n",
    "proteomic_reactome_pathways = sspa.process_reactome('Homo sapiens', infile = 'Data/UniProt2Reactome_All_Levels.txt', download_latest = False, filepath = None)"
   ]
  },
  {
   "cell_type": "code",
   "execution_count": null,
   "metadata": {},
   "outputs": [],
   "source": [
    "proteomic_reactome_pathways = proteomic_reactome_pathways.rename_axis('Pathway_ID')\n",
    "proteomic_reactome_pathways"
   ]
  },
  {
   "cell_type": "markdown",
   "metadata": {},
   "source": [
    "Currently the only index is the Pathway ID. I create a multi-index so that the Pathway name also becomes part of the index as well."
   ]
  },
  {
   "cell_type": "code",
   "execution_count": null,
   "metadata": {},
   "outputs": [],
   "source": [
    "metabolomic_reactome_pathways.set_index([metabolomic_reactome_pathways.index, metabolomic_reactome_pathways['Pathway_name']], inplace=True)\n",
    "metabolomic_reactome_pathways.drop(['Pathway_name'], axis=1, inplace=True)"
   ]
  },
  {
   "cell_type": "code",
   "execution_count": null,
   "metadata": {},
   "outputs": [],
   "source": [
    "proteomic_reactome_pathways.set_index([proteomic_reactome_pathways.index, proteomic_reactome_pathways['Pathway_name']], inplace=True)\n",
    "proteomic_reactome_pathways.drop(['Pathway_name'], axis=1, inplace=True)"
   ]
  },
  {
   "cell_type": "code",
   "execution_count": null,
   "metadata": {},
   "outputs": [],
   "source": [
    "display(metabolomic_reactome_pathways)\n",
    "display(proteomic_reactome_pathways)"
   ]
  },
  {
   "cell_type": "code",
   "execution_count": null,
   "metadata": {},
   "outputs": [],
   "source": [
    "#Merge pathways on uniprot index\n",
    "reactome_mo = metabolomic_reactome_pathways.merge(proteomic_reactome_pathways, how='outer', left_index=True, right_index=True)    \n",
    "reactome_mo\n"
   ]
  },
  {
   "cell_type": "code",
   "execution_count": null,
   "metadata": {},
   "outputs": [],
   "source": [
    "reactome_mo.iloc[:,4000:]\n",
    "reactome_mo"
   ]
  },
  {
   "cell_type": "code",
   "execution_count": null,
   "metadata": {},
   "outputs": [],
   "source": [
    "#Pathway_name column turns from index to normal column\n",
    "reactome_mo = reactome_mo.reset_index(level=[1]) \n",
    "reactome_mo.index\n"
   ]
  },
  {
   "cell_type": "code",
   "execution_count": 95,
   "metadata": {},
   "outputs": [],
   "source": [
    "reactome_mo.to_csv(\"Data/Reactome_multi_omics_ChEBI_Uniprot.csv\")"
   ]
  },
  {
   "cell_type": "code",
   "execution_count": 71,
   "metadata": {},
   "outputs": [],
   "source": [
    "#Read in file to check\n",
    "mo_pathways = pd.read_csv(\"Data/Reactome_multi_omics_ChEBI_Uniprot.csv\", index_col=0,dtype=\"str\")\n",
    "#Dtype warning because in some columns, some values are in string format whereas some are in integer format, that's why I specify dtype=\"str\""
   ]
  },
  {
   "cell_type": "code",
   "execution_count": 96,
   "metadata": {},
   "outputs": [
    {
     "data": {
      "text/html": [
       "<div>\n",
       "<style scoped>\n",
       "    .dataframe tbody tr th:only-of-type {\n",
       "        vertical-align: middle;\n",
       "    }\n",
       "\n",
       "    .dataframe tbody tr th {\n",
       "        vertical-align: top;\n",
       "    }\n",
       "\n",
       "    .dataframe thead th {\n",
       "        text-align: right;\n",
       "    }\n",
       "</style>\n",
       "<table border=\"1\" class=\"dataframe\">\n",
       "  <thead>\n",
       "    <tr style=\"text-align: right;\">\n",
       "      <th></th>\n",
       "      <th>Pathway_name</th>\n",
       "      <th>2_x</th>\n",
       "      <th>3_x</th>\n",
       "      <th>4_x</th>\n",
       "      <th>5_x</th>\n",
       "      <th>6_x</th>\n",
       "      <th>7_x</th>\n",
       "      <th>8_x</th>\n",
       "      <th>9_x</th>\n",
       "      <th>10_x</th>\n",
       "      <th>...</th>\n",
       "      <th>2588</th>\n",
       "      <th>2589</th>\n",
       "      <th>2590</th>\n",
       "      <th>2591</th>\n",
       "      <th>2592</th>\n",
       "      <th>2593</th>\n",
       "      <th>2594</th>\n",
       "      <th>2595</th>\n",
       "      <th>2596</th>\n",
       "      <th>2597</th>\n",
       "    </tr>\n",
       "    <tr>\n",
       "      <th>Pathway_ID</th>\n",
       "      <th></th>\n",
       "      <th></th>\n",
       "      <th></th>\n",
       "      <th></th>\n",
       "      <th></th>\n",
       "      <th></th>\n",
       "      <th></th>\n",
       "      <th></th>\n",
       "      <th></th>\n",
       "      <th></th>\n",
       "      <th></th>\n",
       "      <th></th>\n",
       "      <th></th>\n",
       "      <th></th>\n",
       "      <th></th>\n",
       "      <th></th>\n",
       "      <th></th>\n",
       "      <th></th>\n",
       "      <th></th>\n",
       "      <th></th>\n",
       "      <th></th>\n",
       "    </tr>\n",
       "  </thead>\n",
       "  <tbody>\n",
       "    <tr>\n",
       "      <th>R-HSA-1059683</th>\n",
       "      <td>Interleukin-6 signaling</td>\n",
       "      <td>30616</td>\n",
       "      <td>456216</td>\n",
       "      <td>NaN</td>\n",
       "      <td>NaN</td>\n",
       "      <td>NaN</td>\n",
       "      <td>NaN</td>\n",
       "      <td>NaN</td>\n",
       "      <td>NaN</td>\n",
       "      <td>NaN</td>\n",
       "      <td>...</td>\n",
       "      <td>NaN</td>\n",
       "      <td>NaN</td>\n",
       "      <td>NaN</td>\n",
       "      <td>NaN</td>\n",
       "      <td>NaN</td>\n",
       "      <td>NaN</td>\n",
       "      <td>NaN</td>\n",
       "      <td>NaN</td>\n",
       "      <td>NaN</td>\n",
       "      <td>NaN</td>\n",
       "    </tr>\n",
       "    <tr>\n",
       "      <th>R-HSA-109581</th>\n",
       "      <td>Apoptosis</td>\n",
       "      <td>61120</td>\n",
       "      <td>4705</td>\n",
       "      <td>456216</td>\n",
       "      <td>28494</td>\n",
       "      <td>36080</td>\n",
       "      <td>15377</td>\n",
       "      <td>43474</td>\n",
       "      <td>47575</td>\n",
       "      <td>30616</td>\n",
       "      <td>...</td>\n",
       "      <td>NaN</td>\n",
       "      <td>NaN</td>\n",
       "      <td>NaN</td>\n",
       "      <td>NaN</td>\n",
       "      <td>NaN</td>\n",
       "      <td>NaN</td>\n",
       "      <td>NaN</td>\n",
       "      <td>NaN</td>\n",
       "      <td>NaN</td>\n",
       "      <td>NaN</td>\n",
       "    </tr>\n",
       "    <tr>\n",
       "      <th>R-HSA-109582</th>\n",
       "      <td>Hemostasis</td>\n",
       "      <td>15366</td>\n",
       "      <td>91144</td>\n",
       "      <td>15377</td>\n",
       "      <td>15378</td>\n",
       "      <td>15379</td>\n",
       "      <td>456215</td>\n",
       "      <td>456216</td>\n",
       "      <td>35366</td>\n",
       "      <td>57895</td>\n",
       "      <td>...</td>\n",
       "      <td>NaN</td>\n",
       "      <td>NaN</td>\n",
       "      <td>NaN</td>\n",
       "      <td>NaN</td>\n",
       "      <td>NaN</td>\n",
       "      <td>NaN</td>\n",
       "      <td>NaN</td>\n",
       "      <td>NaN</td>\n",
       "      <td>NaN</td>\n",
       "      <td>NaN</td>\n",
       "    </tr>\n",
       "    <tr>\n",
       "      <th>R-HSA-109606</th>\n",
       "      <td>Intrinsic Pathway for Apoptosis</td>\n",
       "      <td>456216</td>\n",
       "      <td>28494</td>\n",
       "      <td>36080</td>\n",
       "      <td>15377</td>\n",
       "      <td>43474</td>\n",
       "      <td>47575</td>\n",
       "      <td>30616</td>\n",
       "      <td>NaN</td>\n",
       "      <td>NaN</td>\n",
       "      <td>...</td>\n",
       "      <td>NaN</td>\n",
       "      <td>NaN</td>\n",
       "      <td>NaN</td>\n",
       "      <td>NaN</td>\n",
       "      <td>NaN</td>\n",
       "      <td>NaN</td>\n",
       "      <td>NaN</td>\n",
       "      <td>NaN</td>\n",
       "      <td>NaN</td>\n",
       "      <td>NaN</td>\n",
       "    </tr>\n",
       "    <tr>\n",
       "      <th>R-HSA-109703</th>\n",
       "      <td>PKB-mediated events</td>\n",
       "      <td>456216</td>\n",
       "      <td>57836</td>\n",
       "      <td>15377</td>\n",
       "      <td>58165</td>\n",
       "      <td>456215</td>\n",
       "      <td>30616</td>\n",
       "      <td>NaN</td>\n",
       "      <td>NaN</td>\n",
       "      <td>NaN</td>\n",
       "      <td>...</td>\n",
       "      <td>NaN</td>\n",
       "      <td>NaN</td>\n",
       "      <td>NaN</td>\n",
       "      <td>NaN</td>\n",
       "      <td>NaN</td>\n",
       "      <td>NaN</td>\n",
       "      <td>NaN</td>\n",
       "      <td>NaN</td>\n",
       "      <td>NaN</td>\n",
       "      <td>NaN</td>\n",
       "    </tr>\n",
       "    <tr>\n",
       "      <th>...</th>\n",
       "      <td>...</td>\n",
       "      <td>...</td>\n",
       "      <td>...</td>\n",
       "      <td>...</td>\n",
       "      <td>...</td>\n",
       "      <td>...</td>\n",
       "      <td>...</td>\n",
       "      <td>...</td>\n",
       "      <td>...</td>\n",
       "      <td>...</td>\n",
       "      <td>...</td>\n",
       "      <td>...</td>\n",
       "      <td>...</td>\n",
       "      <td>...</td>\n",
       "      <td>...</td>\n",
       "      <td>...</td>\n",
       "      <td>...</td>\n",
       "      <td>...</td>\n",
       "      <td>...</td>\n",
       "      <td>...</td>\n",
       "      <td>...</td>\n",
       "    </tr>\n",
       "    <tr>\n",
       "      <th>R-HSA-983695</th>\n",
       "      <td>Antigen activates B Cell Receptor (BCR) leadin...</td>\n",
       "      <td>57540</td>\n",
       "      <td>456216</td>\n",
       "      <td>57836</td>\n",
       "      <td>203600</td>\n",
       "      <td>36080</td>\n",
       "      <td>29108</td>\n",
       "      <td>17815</td>\n",
       "      <td>30616</td>\n",
       "      <td>58456</td>\n",
       "      <td>...</td>\n",
       "      <td>NaN</td>\n",
       "      <td>NaN</td>\n",
       "      <td>NaN</td>\n",
       "      <td>NaN</td>\n",
       "      <td>NaN</td>\n",
       "      <td>NaN</td>\n",
       "      <td>NaN</td>\n",
       "      <td>NaN</td>\n",
       "      <td>NaN</td>\n",
       "      <td>NaN</td>\n",
       "    </tr>\n",
       "    <tr>\n",
       "      <th>R-HSA-983705</th>\n",
       "      <td>Signaling by the B Cell Receptor (BCR)</td>\n",
       "      <td>57540</td>\n",
       "      <td>11750</td>\n",
       "      <td>456216</td>\n",
       "      <td>29034</td>\n",
       "      <td>57836</td>\n",
       "      <td>58189</td>\n",
       "      <td>203600</td>\n",
       "      <td>29105</td>\n",
       "      <td>36080</td>\n",
       "      <td>...</td>\n",
       "      <td>NaN</td>\n",
       "      <td>NaN</td>\n",
       "      <td>NaN</td>\n",
       "      <td>NaN</td>\n",
       "      <td>NaN</td>\n",
       "      <td>NaN</td>\n",
       "      <td>NaN</td>\n",
       "      <td>NaN</td>\n",
       "      <td>NaN</td>\n",
       "      <td>NaN</td>\n",
       "    </tr>\n",
       "    <tr>\n",
       "      <th>R-HSA-983712</th>\n",
       "      <td>Ion channel transport</td>\n",
       "      <td>15365</td>\n",
       "      <td>17544</td>\n",
       "      <td>57613</td>\n",
       "      <td>49552</td>\n",
       "      <td>15377</td>\n",
       "      <td>15378</td>\n",
       "      <td>35475</td>\n",
       "      <td>30616</td>\n",
       "      <td>456216</td>\n",
       "      <td>...</td>\n",
       "      <td>NaN</td>\n",
       "      <td>NaN</td>\n",
       "      <td>NaN</td>\n",
       "      <td>NaN</td>\n",
       "      <td>NaN</td>\n",
       "      <td>NaN</td>\n",
       "      <td>NaN</td>\n",
       "      <td>NaN</td>\n",
       "      <td>NaN</td>\n",
       "      <td>NaN</td>\n",
       "    </tr>\n",
       "    <tr>\n",
       "      <th>R-HSA-991365</th>\n",
       "      <td>Activation of GABAB receptors</td>\n",
       "      <td>58189</td>\n",
       "      <td>29103</td>\n",
       "      <td>17552</td>\n",
       "      <td>59888</td>\n",
       "      <td>43474</td>\n",
       "      <td>18420</td>\n",
       "      <td>37565</td>\n",
       "      <td>NaN</td>\n",
       "      <td>NaN</td>\n",
       "      <td>...</td>\n",
       "      <td>NaN</td>\n",
       "      <td>NaN</td>\n",
       "      <td>NaN</td>\n",
       "      <td>NaN</td>\n",
       "      <td>NaN</td>\n",
       "      <td>NaN</td>\n",
       "      <td>NaN</td>\n",
       "      <td>NaN</td>\n",
       "      <td>NaN</td>\n",
       "      <td>NaN</td>\n",
       "    </tr>\n",
       "    <tr>\n",
       "      <th>R-HSA-997272</th>\n",
       "      <td>Inhibition  of voltage gated Ca2+ channels via...</td>\n",
       "      <td>59888</td>\n",
       "      <td>29103</td>\n",
       "      <td>NaN</td>\n",
       "      <td>NaN</td>\n",
       "      <td>NaN</td>\n",
       "      <td>NaN</td>\n",
       "      <td>NaN</td>\n",
       "      <td>NaN</td>\n",
       "      <td>NaN</td>\n",
       "      <td>...</td>\n",
       "      <td>NaN</td>\n",
       "      <td>NaN</td>\n",
       "      <td>NaN</td>\n",
       "      <td>NaN</td>\n",
       "      <td>NaN</td>\n",
       "      <td>NaN</td>\n",
       "      <td>NaN</td>\n",
       "      <td>NaN</td>\n",
       "      <td>NaN</td>\n",
       "      <td>NaN</td>\n",
       "    </tr>\n",
       "  </tbody>\n",
       "</table>\n",
       "<p>2613 rows × 4101 columns</p>\n",
       "</div>"
      ],
      "text/plain": [
       "                                                    Pathway_name     2_x  \\\n",
       "Pathway_ID                                                                 \n",
       "R-HSA-1059683                            Interleukin-6 signaling   30616   \n",
       "R-HSA-109581                                           Apoptosis   61120   \n",
       "R-HSA-109582                                          Hemostasis   15366   \n",
       "R-HSA-109606                     Intrinsic Pathway for Apoptosis  456216   \n",
       "R-HSA-109703                                 PKB-mediated events  456216   \n",
       "...                                                          ...     ...   \n",
       "R-HSA-983695   Antigen activates B Cell Receptor (BCR) leadin...   57540   \n",
       "R-HSA-983705              Signaling by the B Cell Receptor (BCR)   57540   \n",
       "R-HSA-983712                               Ion channel transport   15365   \n",
       "R-HSA-991365                       Activation of GABAB receptors   58189   \n",
       "R-HSA-997272   Inhibition  of voltage gated Ca2+ channels via...   59888   \n",
       "\n",
       "                  3_x     4_x     5_x     6_x     7_x     8_x    9_x    10_x  \\\n",
       "Pathway_ID                                                                     \n",
       "R-HSA-1059683  456216     NaN     NaN     NaN     NaN     NaN    NaN     NaN   \n",
       "R-HSA-109581     4705  456216   28494   36080   15377   43474  47575   30616   \n",
       "R-HSA-109582    91144   15377   15378   15379  456215  456216  35366   57895   \n",
       "R-HSA-109606    28494   36080   15377   43474   47575   30616    NaN     NaN   \n",
       "R-HSA-109703    57836   15377   58165  456215   30616     NaN    NaN     NaN   \n",
       "...               ...     ...     ...     ...     ...     ...    ...     ...   \n",
       "R-HSA-983695   456216   57836  203600   36080   29108   17815  30616   58456   \n",
       "R-HSA-983705    11750  456216   29034   57836   58189  203600  29105   36080   \n",
       "R-HSA-983712    17544   57613   49552   15377   15378   35475  30616  456216   \n",
       "R-HSA-991365    29103   17552   59888   43474   18420   37565    NaN     NaN   \n",
       "R-HSA-997272    29103     NaN     NaN     NaN     NaN     NaN    NaN     NaN   \n",
       "\n",
       "               ... 2588 2589 2590 2591 2592 2593 2594 2595 2596 2597  \n",
       "Pathway_ID     ...                                                    \n",
       "R-HSA-1059683  ...  NaN  NaN  NaN  NaN  NaN  NaN  NaN  NaN  NaN  NaN  \n",
       "R-HSA-109581   ...  NaN  NaN  NaN  NaN  NaN  NaN  NaN  NaN  NaN  NaN  \n",
       "R-HSA-109582   ...  NaN  NaN  NaN  NaN  NaN  NaN  NaN  NaN  NaN  NaN  \n",
       "R-HSA-109606   ...  NaN  NaN  NaN  NaN  NaN  NaN  NaN  NaN  NaN  NaN  \n",
       "R-HSA-109703   ...  NaN  NaN  NaN  NaN  NaN  NaN  NaN  NaN  NaN  NaN  \n",
       "...            ...  ...  ...  ...  ...  ...  ...  ...  ...  ...  ...  \n",
       "R-HSA-983695   ...  NaN  NaN  NaN  NaN  NaN  NaN  NaN  NaN  NaN  NaN  \n",
       "R-HSA-983705   ...  NaN  NaN  NaN  NaN  NaN  NaN  NaN  NaN  NaN  NaN  \n",
       "R-HSA-983712   ...  NaN  NaN  NaN  NaN  NaN  NaN  NaN  NaN  NaN  NaN  \n",
       "R-HSA-991365   ...  NaN  NaN  NaN  NaN  NaN  NaN  NaN  NaN  NaN  NaN  \n",
       "R-HSA-997272   ...  NaN  NaN  NaN  NaN  NaN  NaN  NaN  NaN  NaN  NaN  \n",
       "\n",
       "[2613 rows x 4101 columns]"
      ]
     },
     "execution_count": 96,
     "metadata": {},
     "output_type": "execute_result"
    }
   ],
   "source": [
    "mo_pathways"
   ]
  },
  {
   "cell_type": "markdown",
   "metadata": {},
   "source": [
    "### Create multiomic dataset"
   ]
  },
  {
   "cell_type": "code",
   "execution_count": 74,
   "metadata": {},
   "outputs": [],
   "source": [
    "#Load datasets\n",
    "metabolomic_df = pd.read_csv('Data/Su_COVID_metabolomics_processed_ChEBI.csv', index_col=0)\n",
    "metabolomic_df.index= metabolomic_df.index.str.rstrip('-BL')\n",
    "\n",
    "proteomic_df = pd.read_csv('Data/Su_COVID_proteomics_processed.csv', index_col=0)"
   ]
  },
  {
   "cell_type": "code",
   "execution_count": 76,
   "metadata": {},
   "outputs": [],
   "source": [
    "#Filter to common samples\n",
    "list1 = list(metabolomic_df.index)\n",
    "list2 = list(proteomic_df.index)\n",
    "\n",
    "#Obtain common samples and subset accordingly\n",
    "intersection = list(set(metabolomic_df.index.tolist()) & set(proteomic_df.index.tolist())) #set removes duplicates\n",
    "intersection = [sample for sample in intersection if sample.startswith(\"INCOV\")]\n",
    "\n",
    "metabolomic_df = metabolomic_df[metabolomic_df.index.isin(intersection)]\n",
    "proteomic_df = proteomic_df[proteomic_df.index.isin(intersection)]\n"
   ]
  },
  {
   "cell_type": "code",
   "execution_count": 84,
   "metadata": {},
   "outputs": [],
   "source": [
    "concat_omics = pd.concat([metabolomic_df.iloc[:,:-2], proteomic_df], axis=1)"
   ]
  },
  {
   "cell_type": "code",
   "execution_count": 88,
   "metadata": {},
   "outputs": [],
   "source": [
    "concat_omics.to_csv(\"Data/Su_multi_omics_data.csv\")"
   ]
  },
  {
   "cell_type": "code",
   "execution_count": 90,
   "metadata": {},
   "outputs": [],
   "source": [
    "#Read in file to check\n",
    "multiomic_df = pd.read_csv(\"Data/Su_multi_omics_data.csv\", index_col=0)"
   ]
  },
  {
   "cell_type": "code",
   "execution_count": 94,
   "metadata": {},
   "outputs": [
    {
     "data": {
      "text/plain": [
       "1372          float64\n",
       "16610         float64\n",
       "72665         float64\n",
       "27823         float64\n",
       "30915         float64\n",
       "               ...   \n",
       "Q9Y5L3        float64\n",
       "Q9Y5V3        float64\n",
       "Q9Y653        float64\n",
       "WHO_status     object\n",
       "Group          object\n",
       "Length: 789, dtype: object"
      ]
     },
     "execution_count": 94,
     "metadata": {},
     "output_type": "execute_result"
    }
   ],
   "source": [
    "multiomic_df.dtypes"
   ]
  },
  {
   "cell_type": "code",
   "execution_count": null,
   "metadata": {},
   "outputs": [],
   "source": [
    "#Test kPCA on whole dataset\n",
    "kpca_scores_all = sspa.sspa_kpca(multiomic_df, mo_pathways)"
   ]
  }
 ],
 "metadata": {
  "kernelspec": {
   "display_name": "Imperial_Project2",
   "language": "python",
   "name": "python3"
  },
  "language_info": {
   "codemirror_mode": {
    "name": "ipython",
    "version": 3
   },
   "file_extension": ".py",
   "mimetype": "text/x-python",
   "name": "python",
   "nbconvert_exporter": "python",
   "pygments_lexer": "ipython3",
   "version": "3.10.11"
  },
  "orig_nbformat": 4
 },
 "nbformat": 4,
 "nbformat_minor": 2
}
