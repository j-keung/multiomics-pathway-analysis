{
 "cells": [
  {
   "cell_type": "code",
   "execution_count": null,
   "metadata": {},
   "outputs": [],
   "source": [
    "#Load libraries \n",
    "import pandas as pd\n",
    "import sspa\n",
    "import scipy\n",
    "import numpy as np \n",
    "#import os #get path location\n",
    "#import pickle"
   ]
  },
  {
   "cell_type": "code",
   "execution_count": null,
   "metadata": {},
   "outputs": [],
   "source": [
    "#Read in dataset\n",
    "multiomic_df = pd.read_csv(\"Data/Su_multi_omics_data.csv\", index_col=0)"
   ]
  },
  {
   "cell_type": "code",
   "execution_count": null,
   "metadata": {},
   "outputs": [],
   "source": [
    "#Read in pathway file\n",
    "mo_pathways = pd.read_csv(\"Data/Reactome_multi_omics_ChEBI_Uniprot.csv\", index_col=0,dtype=\"str\")\n",
    "#Dtype warning because in some columns, some values are in string format whereas some are in integer format, that's why I specify dtype=\"str\""
   ]
  },
  {
   "cell_type": "code",
   "execution_count": null,
   "metadata": {},
   "outputs": [],
   "source": [
    "#Download the root pathways\n",
    "root_path = pd.read_excel('Data/Root_pathways.xlsx', header=None)\n",
    "root_pathway_dict = {root_path[0][i]:root_path[1][i] for i in range(0,len(root_path))}\n",
    "root_pathway_names = list(root_pathway_dict.keys())"
   ]
  },
  {
   "cell_type": "code",
   "execution_count": null,
   "metadata": {},
   "outputs": [],
   "source": [
    "#Test kPCA on whole dataset\n",
    "kpca_scores_all = sspa.sspa_kpca(multiomic_df, mo_pathways) #737 pathways\n",
    "\n",
    "#Remove root pathways first\n",
    "kpca_scores_all = kpca_scores_all.drop(columns = list(set(root_pathway_names) & set(kpca_scores_all.columns))) #using Sara's code to drop root pathways\n",
    "\n",
    "kpca_scores_all #710 pathways"
   ]
  },
  {
   "cell_type": "code",
   "execution_count": null,
   "metadata": {},
   "outputs": [],
   "source": [
    "#Separate dataset into two groups\n",
    "df_mild = (multiomic_df[multiomic_df[\"WHO_status\"] == '1-2']).iloc[:,:-2] #45 samples, remove the metadata\n",
    "df_severe = (multiomic_df[(multiomic_df[\"WHO_status\"] == '3-4') | (multiomic_df[\"WHO_status\"] == '5-7')]).iloc[:,:-2] #83 samples"
   ]
  },
  {
   "cell_type": "markdown",
   "metadata": {},
   "source": [
    "### Step 1: Determine initial test-statistic"
   ]
  },
  {
   "cell_type": "code",
   "execution_count": null,
   "metadata": {},
   "outputs": [],
   "source": [
    "#Function to calculate the squared Spearman correlation matrix \n",
    "\n",
    "def squared_spearman_corr(data):\n",
    "    kpca_scores = sspa.sspa_kpca(data, mo_pathways)   \n",
    "    kpca_scores = kpca_scores.drop(columns = list(set(root_pathway_names) & set(kpca_scores.columns))) #using Sara's code to drop root pathways\n",
    "\n",
    "    spearman_results = scipy.stats.spearmanr(kpca_scores)\n",
    "    squared_spearman_coef = np.square(spearman_results[0]) #correlation coefficients (spearman_results[1] gives the p-values)\n",
    "\n",
    "    return squared_spearman_coef,list(kpca_scores.columns)\n",
    "\n",
    "\n",
    "\n",
    "\n",
    "#Function to calculate the absolute difference between two matrices and then determine the mean for each edge\n",
    "\n",
    "def absolute_val(data1,data2,edgelist):\n",
    "    abs_rho_squared = np.absolute(np.array(data1) - np.array(data2))\n",
    "\n",
    "    #Mask the upper half of the dataframe (so I don't view the comparisons between the two same genes, and also the duplicate comparisons are removed)\n",
    "    mask = abs_rho_squared.copy()\n",
    "    mask = np.triu(np.ones(mask.shape)).astype(bool)\n",
    "    mask = np.invert(mask) #invert true and false values so the diagonal is False as well\n",
    "    non_dup_abs_squared = pd.DataFrame(abs_rho_squared, columns = edgelist, index = edgelist)\n",
    "    non_dup_abs_squared = pd.DataFrame(non_dup_abs_squared).where(mask) #Replace all false values with NaN using mask\n",
    "\n",
    "    abs_squared_list = non_dup_abs_squared.stack().reset_index()\n",
    "    abs_squared_list['level_0'] = abs_squared_list[\"level_0\"].astype(str) + \", \" + abs_squared_list['level_1']\n",
    "    abs_squared_list.columns = [\"Edges\",\"na\",\"Initial_tstat\"]\n",
    "    abs_squared_list.index = abs_squared_list[\"Edges\"]\n",
    "    abs_squared_list = abs_squared_list.drop(columns = [\"Edges\",\"na\"])\n",
    "\n",
    "    return(abs_squared_list)"
   ]
  },
  {
   "cell_type": "markdown",
   "metadata": {},
   "source": [
    "Note: For the delta squared correlation values for the unshuffled data (i.e. the real data) I keep the indices (pathway edges). Since I already have a record of the edges, there is no need to keep the edges for each permutation, since the order is the same each time. "
   ]
  },
  {
   "cell_type": "code",
   "execution_count": null,
   "metadata": {},
   "outputs": [],
   "source": [
    "spearman_mild,edgelist = squared_spearman_corr(df_mild)\n",
    "spearman_severe,edgelist = squared_spearman_corr(df_severe)\n",
    "\n",
    "output = absolute_val(spearman_mild,spearman_severe,edgelist)"
   ]
  },
  {
   "cell_type": "code",
   "execution_count": null,
   "metadata": {},
   "outputs": [],
   "source": [
    "output   #251695 pathway pairs (because of 710 pathways)"
   ]
  },
  {
   "cell_type": "code",
   "execution_count": null,
   "metadata": {},
   "outputs": [],
   "source": [
    "output.to_csv(\"Data/permutation_test_files_integrated/initial_tstats.csv\")"
   ]
  },
  {
   "cell_type": "markdown",
   "metadata": {},
   "source": [
    "### Step 2: Shuffle the labels"
   ]
  },
  {
   "cell_type": "markdown",
   "metadata": {},
   "source": [
    "### Step 3: Read in the permutation files "
   ]
  },
  {
   "cell_type": "markdown",
   "metadata": {},
   "source": [
    "### Step 4: Compare the difference in edges with other networks"
   ]
  },
  {
   "cell_type": "markdown",
   "metadata": {},
   "source": [
    "Comparing with the significant edges in the proteomic differential network (after FDR correction) and the metabolomic differential network (before FDR correction because only 10 edges afterwards):"
   ]
  },
  {
   "cell_type": "code",
   "execution_count": 9,
   "metadata": {},
   "outputs": [],
   "source": [
    "def edge_num (omics):\n",
    "    with open('Data/permutation_test_files_'+omics+'/sig_edges.txt') as f:\n",
    "        lines = f.readlines()\n",
    "    edges_remaining = []\n",
    "    edges = lines[0].split(\",\")\n",
    "\n",
    "    for index in range(0,len(edges),2):\n",
    "        list1 = edges[index],(edges[index+1][1:])\n",
    "        edges_remaining.append(tuple(list1))\n",
    "\n",
    "    return edges_remaining\n"
   ]
  },
  {
   "cell_type": "code",
   "execution_count": 10,
   "metadata": {},
   "outputs": [],
   "source": [
    "proteomic_edges = edge_num('proteomics')\n",
    "integrated_edges = edge_num('integrated')"
   ]
  },
  {
   "cell_type": "code",
   "execution_count": 16,
   "metadata": {},
   "outputs": [],
   "source": [
    "with open('Data/permutation_test_files_metabolomics/sig_edges_beforefdr.txt') as f:\n",
    "    lines = f.readlines()\n",
    "    edges_remaining = []\n",
    "    edges = lines[0].split(\",\")\n",
    "\n",
    "    for index in range(0,len(edges),2):\n",
    "        list1 = edges[index],(edges[index+1][1:])\n",
    "        edges_remaining.append(tuple(list1))\n",
    "\n",
    "metabolomic_edges = edges_remaining"
   ]
  },
  {
   "cell_type": "code",
   "execution_count": 23,
   "metadata": {},
   "outputs": [
    {
     "data": {
      "text/plain": [
       "24600"
      ]
     },
     "execution_count": 23,
     "metadata": {},
     "output_type": "execute_result"
    }
   ],
   "source": [
    "len(integrated_edges)"
   ]
  },
  {
   "cell_type": "code",
   "execution_count": 24,
   "metadata": {},
   "outputs": [
    {
     "data": {
      "text/plain": [
       "21000"
      ]
     },
     "execution_count": 24,
     "metadata": {},
     "output_type": "execute_result"
    }
   ],
   "source": [
    "intersection = list(set(integrated_edges).intersection(list(set(proteomic_edges))))  \n",
    "len(intersection) "
   ]
  }
 ],
 "metadata": {
  "kernelspec": {
   "display_name": "Imperial_Project2",
   "language": "python",
   "name": "python3"
  },
  "language_info": {
   "codemirror_mode": {
    "name": "ipython",
    "version": 3
   },
   "file_extension": ".py",
   "mimetype": "text/x-python",
   "name": "python",
   "nbconvert_exporter": "python",
   "pygments_lexer": "ipython3",
   "version": "3.10.11"
  },
  "orig_nbformat": 4
 },
 "nbformat": 4,
 "nbformat_minor": 2
}
