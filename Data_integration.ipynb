{
 "cells": [
  {
   "cell_type": "code",
   "execution_count": null,
   "metadata": {},
   "outputs": [],
   "source": [
    "#Load libraries \n",
    "import sspa\n",
    "import networkx as nx\n",
    "import pandas as pd\n",
    "import numpy as np\n",
    "import scipy\n",
    "import matplotlib.pyplot as plt\n",
    "import seaborn as sns"
   ]
  },
  {
   "attachments": {},
   "cell_type": "markdown",
   "metadata": {},
   "source": [
    "### Check sample overlap between datasets"
   ]
  },
  {
   "cell_type": "code",
   "execution_count": null,
   "metadata": {},
   "outputs": [],
   "source": [
    "df = pd.read_csv('Data/Su_COVID_metabolomics_processed_ChEBI.csv', index_col=0)\n",
    "df2 = pd.read_csv('Data/Su_COVID_proteomics_processed.csv', index_col=0)"
   ]
  },
  {
   "cell_type": "code",
   "execution_count": null,
   "metadata": {},
   "outputs": [],
   "source": [
    "df.index= df.index.str.rstrip('-BL')  #remove 'BL' label from the cases (so I can match to proteomic data)"
   ]
  },
  {
   "cell_type": "code",
   "execution_count": null,
   "metadata": {},
   "outputs": [],
   "source": [
    "def sample_overlap(status):\n",
    "    list1 = list(df[df['WHO_status']== status].index)\n",
    "    list2 = list(df2[df2['WHO_status']== status].index)\n",
    "    #print(list1)\n",
    "    #print(list2)\n",
    "    intersection = list(set(list1).intersection(list(set(list2))))  #set removes duplicates\n",
    "    print(status, \"      Common samples:\",len(intersection),\"         Metabolomic samples:\",len(list1),\"       Proteomic samples:\",len(list2))\n",
    "    #print(set(list1) - set(list2),set(list2) - set(list1))   #Different samples between the two\n",
    "\n",
    "sample_overlap('0')\n",
    "sample_overlap('1-2')\n",
    "sample_overlap('3-4')\n",
    "sample_overlap('5-7')\n",
    "\n",
    "#print(df['WHO_status'].value_counts()) "
   ]
  },
  {
   "cell_type": "code",
   "execution_count": null,
   "metadata": {},
   "outputs": [],
   "source": [
    "df = pd.read_csv('Data/Su_COVID_metabolomics_processed_ChEBI.csv', index_col=0)\n",
    "df2 = pd.read_csv('Data/Su_COVID_proteomics_processed.csv', index_col=0)\n",
    "\n",
    "df.index= df.index.str.rstrip('-BL')  #remove 'BL' label from the cases (so I can match to proteomic data)\n",
    "\n",
    "list1 = list(df.index)\n",
    "list2 = list(df2.index)\n",
    "#print(list1)\n",
    "#print(list2)\n",
    "intersection = list(set(list1).intersection(list(set(list2))))  #set removes duplicates\n",
    "\n",
    "print(len(intersection))"
   ]
  },
  {
   "attachments": {},
   "cell_type": "markdown",
   "metadata": {},
   "source": [
    "### Obtaining pathway names for the graph"
   ]
  },
  {
   "cell_type": "code",
   "execution_count": null,
   "metadata": {},
   "outputs": [],
   "source": [
    "#Load dataset\n",
    "metabolomic = nx.read_gml(\"Cytoscape/metabolomic_prefiltered.gml\")\n",
    "proteomic = nx.read_gml(\"Cytoscape/proteomic_prefiltered.gml\")\n"
   ]
  },
  {
   "cell_type": "code",
   "execution_count": null,
   "metadata": {},
   "outputs": [],
   "source": [
    "#Load dataset\n",
    "#This is when the pathway scores are calculated subset to the 128 SAMPLES common to both datasets\n",
    "metabolomic = nx.read_gml(\"Cytoscape/metabolomic_prefiltered_commoncases.gml\")\n",
    "proteomic = nx.read_gml(\"Cytoscape/proteomic_prefiltered_commoncases.gml\")\n",
    "\n",
    "#metabolomic = nx.read_gml(\"Cytoscape/metabolomic_prefiltered_mildcases.gml\")\n",
    "#proteomic = nx.read_gml(\"Cytoscape/proteomic_prefiltered_mildcases.gml\")\n",
    "\n",
    "#metabolomic = nx.read_gml(\"Cytoscape/metabolomic_prefiltered_severecases.gml\")\n",
    "#proteomic = nx.read_gml(\"Cytoscape/proteomic_prefiltered_severecases.gml\")"
   ]
  },
  {
   "cell_type": "code",
   "execution_count": null,
   "metadata": {},
   "outputs": [],
   "source": [
    "print(proteomic.number_of_nodes())\n",
    "print(proteomic.number_of_edges())\n",
    "\n",
    "print(metabolomic.number_of_nodes())\n",
    "print(metabolomic.number_of_edges())\n",
    "\n",
    "#Pathways in common\n",
    "common_nodes = list(set(proteomic.nodes).intersection(list(set(metabolomic.nodes))))\n",
    "len(common_nodes)"
   ]
  },
  {
   "cell_type": "code",
   "execution_count": null,
   "metadata": {},
   "outputs": [],
   "source": [
    "#Filter out pathways that are not present in both omic sets\n",
    "\n",
    "proteomic_copy =  proteomic.copy()\n",
    "for n in list(proteomic.nodes()):\n",
    "    if n not in common_nodes:\n",
    "        proteomic_copy.remove_node(n)\n",
    "\n",
    "metabolomic_copy =  metabolomic.copy()\n",
    "for n in list(metabolomic.nodes()):\n",
    "    if n not in common_nodes:\n",
    "        metabolomic_copy.remove_node(n)\n",
    "\n"
   ]
  },
  {
   "attachments": {},
   "cell_type": "markdown",
   "metadata": {},
   "source": [
    "### Plot the parameter values for both omics datasets "
   ]
  },
  {
   "cell_type": "code",
   "execution_count": null,
   "metadata": {},
   "outputs": [],
   "source": [
    "def find_val(list1,list2,value):\n",
    "    for node1, node2, data in proteomic_copy.edges(data=True):\n",
    "        list1.append(data[value])\n",
    "    for node1, node2, data in metabolomic_copy.edges(data=True):\n",
    "        list2.append(data[value])\n",
    "\n"
   ]
  },
  {
   "attachments": {},
   "cell_type": "markdown",
   "metadata": {},
   "source": [
    "Comparing the Spearman p-values of the two omics:"
   ]
  },
  {
   "cell_type": "code",
   "execution_count": null,
   "metadata": {},
   "outputs": [],
   "source": [
    "proteomic_pval = []\n",
    "metabolomic_pval = []\n",
    "\n",
    "find_val(proteomic_pval,metabolomic_pval,'Spearman_pval')\n",
    "\n",
    "#It's not possible to take the log10 of zero, we ignore the divide by zero warning\n",
    "#Transform the p-values on a -log10 scale\n",
    "#Any infinite values after the log-transform were originally zeroes\n",
    "\n",
    "np.seterr(divide = 'ignore')    \n",
    "\n",
    "log_proteomic_pval = -np.log10(proteomic_pval)\n",
    "log_metabolomic_pval = -np.log10(metabolomic_pval)\n",
    "\n",
    "np.seterr(divide = 'warn') \n",
    "    "
   ]
  },
  {
   "cell_type": "code",
   "execution_count": null,
   "metadata": {},
   "outputs": [],
   "source": [
    "print(np.median(proteomic_pval))\n",
    "print(np.median(metabolomic_pval))\n",
    "\n",
    "print(np.mean(proteomic_pval))\n",
    "print(np.mean(metabolomic_pval))\n",
    "\n",
    "print(sum(i == 1  for i in metabolomic_pval))"
   ]
  },
  {
   "cell_type": "code",
   "execution_count": null,
   "metadata": {},
   "outputs": [],
   "source": [
    "sns.scatterplot(x=log_proteomic_pval, y=log_metabolomic_pval,s=8)       #color='#FFD580',s=10\n",
    "                \n",
    "plt.title('Comparison of Spearman correlation p-values',fontsize=16)\n",
    "plt.xlabel(\"Proteomic Spearman p-values (-log10)\",fontsize=13, labelpad=5)\n",
    "plt.ylabel(\"Metabolomic Spearman p-values (-log10)\",fontsize=13, labelpad=10) \n",
    "\n",
    "#Changing the axis limits to focus on the significant area only\n",
    "#plt.xlim(-np.log10(0.005),)   #-log_10(0.005) = 2.301...\n",
    "#plt.ylim(-np.log10(0.005),)\n",
    "\n",
    "#plt.savefig('Figures/omics_Spearman_pval.png' ,dpi=200,bbox_inches = 'tight' , pad_inches = 0.2 , facecolor='w')"
   ]
  },
  {
   "attachments": {},
   "cell_type": "markdown",
   "metadata": {},
   "source": [
    "Comparing the Spearman correlation coefficients of the two omics:"
   ]
  },
  {
   "cell_type": "code",
   "execution_count": null,
   "metadata": {},
   "outputs": [],
   "source": [
    "proteomic_corr = []\n",
    "metabolomic_corr = []\n",
    "find_val(proteomic_corr,metabolomic_corr,'Squared_corr')\n",
    "\n",
    "\n",
    "sns.scatterplot(x=proteomic_corr, y=metabolomic_corr,s=8)       #color='#FFD580',s=10\n",
    "                \n",
    "plt.title('Comparison of squared Spearman correlation coefficients',fontsize=16)\n",
    "plt.xlabel(\"Proteomic Spearman correlation\",fontsize=13, labelpad=5)\n",
    "plt.ylabel(\"Metabolomic Spearman correlation\",fontsize=13, labelpad=10) \n",
    "\n",
    "#plt.savefig('Figures/omics_spearman_corr.png' ,dpi=200,bbox_inches = 'tight' , pad_inches = 0.2 , facecolor='w')"
   ]
  },
  {
   "cell_type": "code",
   "execution_count": null,
   "metadata": {},
   "outputs": [],
   "source": [
    "print(np.median(proteomic_corr))\n",
    "print(np.median(metabolomic_corr))\n",
    "\n",
    "print(np.mean(proteomic_corr))\n",
    "print(np.mean(metabolomic_corr))"
   ]
  },
  {
   "attachments": {},
   "cell_type": "markdown",
   "metadata": {},
   "source": [
    "Highlight edges which are significant in Spearman correlation scatterplot:"
   ]
  },
  {
   "cell_type": "code",
   "execution_count": null,
   "metadata": {},
   "outputs": [],
   "source": [
    "proteomic_copy.edges(data=True)"
   ]
  },
  {
   "cell_type": "code",
   "execution_count": null,
   "metadata": {},
   "outputs": [],
   "source": [
    "proteomic_pval = []\n",
    "metabolomic_pval = []\n",
    "find_val(proteomic_pval,metabolomic_pval,'Spearman_pval')\n",
    "\n",
    "proteomic_oc = []\n",
    "metabolomic_oc = []\n",
    "find_val(proteomic_oc,metabolomic_oc,'Overlap_coef')"
   ]
  },
  {
   "cell_type": "code",
   "execution_count": null,
   "metadata": {},
   "outputs": [],
   "source": [
    "omics_corr_df = pd.DataFrame(\n",
    "    {'Proteomic_corr': proteomic_corr,\n",
    "     'Metabolomic_corr': metabolomic_corr,\n",
    "     'Proteomic_pval': proteomic_pval,\n",
    "     'Metabolomic_pval': metabolomic_pval,\n",
    "     'Proteomic_overlap': proteomic_oc,\n",
    "     \"Metabolomic_overlap\": metabolomic_oc\n",
    "    })"
   ]
  },
  {
   "cell_type": "code",
   "execution_count": null,
   "metadata": {},
   "outputs": [],
   "source": [
    "omics_corr_df.iloc[-10:,:]\n",
    "omics_corr_df[\"Sig\"] = np.nan\n",
    "omics_corr_df[\"Overlap\"] = np.nan\n",
    "omics_corr_df\n"
   ]
  },
  {
   "cell_type": "code",
   "execution_count": null,
   "metadata": {},
   "outputs": [],
   "source": [
    "for i in range(len(omics_corr_df)):\n",
    "    if ((omics_corr_df.Proteomic_pval[i]) >= 0.005) and ((omics_corr_df.Metabolomic_pval[i]) < 0.005):\n",
    "        omics_corr_df.Sig[i] = \"Proteomic insignificant\"\n",
    "    elif ((omics_corr_df.Proteomic_pval[i]) < 0.005) and ((omics_corr_df.Metabolomic_pval[i]) >= 0.005):\n",
    "        omics_corr_df.Sig[i] = \"Metabolomic insignificant\"\n",
    "    elif ((omics_corr_df.Proteomic_pval[i]) >= 0.005) and ((omics_corr_df.Metabolomic_pval[i]) >= 0.005):\n",
    "        omics_corr_df.Sig[i] = \"Both insignificant\"\n",
    "    else:\n",
    "        omics_corr_df.Sig[i] = \"Significant\"\n",
    "        \n",
    "display(omics_corr_df)\n",
    "\n",
    "\n",
    "print(omics_corr_df.Sig.str.count(\"Significant\").sum())\n",
    "\n",
    "print(len(omics_corr_df[omics_corr_df['Metabolomic_corr'] == 0.9999999999999996]))  #31 out of 1,081 edges, 0.9999999999999996 for all cases, 1 for common cases subset\n",
    "omics_corr_df['Metabolomic_corr'][1080]"
   ]
  },
  {
   "cell_type": "code",
   "execution_count": null,
   "metadata": {},
   "outputs": [],
   "source": [
    "fig, ax = plt.subplots()  #i do this because ax.legend is needed to remove the legend title\n",
    "\n",
    "sns.scatterplot(\n",
    "    data=omics_corr_df,\n",
    "    x=\"Proteomic_corr\", \n",
    "    y=\"Metabolomic_corr\",\n",
    "    hue=\"Sig\",\n",
    "    hue_order = ['Metabolomic insignificant','Proteomic insignificant','Both insignificant','Significant'],\n",
    "    #alpha=0.5,\n",
    "    s=8)       #color='#FFD580',s=10\n",
    "        \n",
    "plt.title('Comparison of squared Spearman correlation coefficients',fontsize=16)\n",
    "plt.xlabel(\"Proteomic Spearman correlation\",fontsize=13, labelpad=5)\n",
    "plt.ylabel(\"Metabolomic Spearman correlation\",fontsize=13, labelpad=10) \n",
    "\n",
    "legend = ax.legend(bbox_to_anchor=(1.4,0.6), prop={'size': 8})\n",
    "#plt.legend(framealpha=1, frameon = 'True', title=\"p-value\",title_fontsize='large', prop={'size': 10}, bbox_to_anchor=(1.35, 0.7)) \n",
    "\n",
    "#plt.savefig('Figures/ALL_omics_spearman_corr_sigedges.png' ,dpi=200,bbox_inches = 'tight' , pad_inches = 0.2 , facecolor='w')"
   ]
  },
  {
   "cell_type": "code",
   "execution_count": null,
   "metadata": {},
   "outputs": [],
   "source": [
    "\n",
    "for i in range(len(omics_corr_df)):\n",
    "    if ((omics_corr_df.Proteomic_overlap[i]) < 0.5) and ((omics_corr_df.Metabolomic_overlap[i]) < 0.5):\n",
    "        omics_corr_df.Overlap[i] = \"Low overlap < 0.5\"\n",
    "    elif ((omics_corr_df.Proteomic_overlap[i]) >= 0.5) and ((omics_corr_df.Metabolomic_overlap[i]) < 0.5):\n",
    "        omics_corr_df.Overlap[i] = \"Proteomic overlap\"\n",
    "    elif ((omics_corr_df.Proteomic_overlap[i]) < 0.5) and ((omics_corr_df.Metabolomic_overlap[i]) >= 0.5):\n",
    "        omics_corr_df.Overlap[i] = \"Metabolomic overlap\"\n",
    "    elif ((omics_corr_df.Proteomic_overlap[i]) >= 0.5) and ((omics_corr_df.Metabolomic_overlap[i]) >= 0.5):\n",
    "        omics_corr_df.Overlap[i] = \"Overlap for both\"\n",
    "\n",
    "\n",
    "display(omics_corr_df)\n",
    "\n",
    "\n",
    "print(omics_corr_df.Overlap.str.count(\"Low overlap < 0.5\").sum()) #766 out of 1,081 edges (same for whole dataset and also when subset to common cases)\n",
    "print(len(omics_corr_df[omics_corr_df['Metabolomic_overlap'] == 0]))  #597 out of 1,081 edges (same for whole dataset and also when subset to common cases)"
   ]
  },
  {
   "cell_type": "code",
   "execution_count": null,
   "metadata": {},
   "outputs": [],
   "source": [
    "fig, ax = plt.subplots()  #i do this because ax.legend is needed to remove the legend title\n",
    "\n",
    "sns.scatterplot(\n",
    "    data=omics_corr_df,\n",
    "    x=\"Proteomic_corr\", \n",
    "    y=\"Metabolomic_corr\",\n",
    "    hue=\"Overlap\",\n",
    "    hue_order = ['Proteomic overlap','Metabolomic overlap','Overlap for both','Low overlap < 0.5'],\n",
    "    s=8)       #color='#FFD580',s=10\n",
    "        \n",
    "plt.title('Comparison of squared Spearman correlation coefficients',fontsize=16)\n",
    "plt.xlabel(\"Proteomic Spearman correlation\",fontsize=13, labelpad=5)\n",
    "plt.ylabel(\"Metabolomic Spearman correlation\",fontsize=13, labelpad=10) \n",
    "\n",
    "legend = ax.legend(bbox_to_anchor=(1.4,0.6), prop={'size': 8})\n",
    "#plt.legend(framealpha=1, frameon = 'True', title=\"p-value\",title_fontsize='large', prop={'size': 10}, bbox_to_anchor=(1.35, 0.7)) \n",
    "\n",
    "#plt.savefig('Figures/COMMONCCASES_omics_spearman_corr_oc.png' ,dpi=200,bbox_inches = 'tight' , pad_inches = 0.2 , facecolor='w')"
   ]
  },
  {
   "attachments": {},
   "cell_type": "markdown",
   "metadata": {},
   "source": [
    "Comparing the overlap coefficient of the two omics:"
   ]
  },
  {
   "cell_type": "code",
   "execution_count": null,
   "metadata": {},
   "outputs": [],
   "source": [
    "proteomic_oc = []\n",
    "metabolomic_oc = []\n",
    "\n",
    "find_val(proteomic_oc,metabolomic_oc,'Overlap_coef')\n",
    "\n",
    "sns.scatterplot(x=proteomic_oc, y=metabolomic_oc,s=8)       #color='#FFD580',s=10\n",
    "                \n",
    "plt.title('Comparison of overlap coefficients',fontsize=16)\n",
    "plt.xlabel(\"Proteomic overlap coefficient\",fontsize=13, labelpad=5)\n",
    "plt.ylabel(\"Metabolomic overlap coefficient\",fontsize=13, labelpad=10) \n",
    "\n",
    "#plt.savefig('Figures/omics_overlap_coef.png' ,dpi=200,bbox_inches = 'tight' , pad_inches = 0.2 , facecolor='w')"
   ]
  },
  {
   "attachments": {},
   "cell_type": "markdown",
   "metadata": {},
   "source": [
    "Since there are fewer points observed than expected, it is possible that many of the points are overlapping.\n",
    "Therefore we should plot a regression line to check if there is a trend, and also to reduce the point transparency."
   ]
  },
  {
   "cell_type": "code",
   "execution_count": null,
   "metadata": {},
   "outputs": [],
   "source": [
    "#Obtain regression values\n",
    "#https://docs.scipy.org/doc/scipy/reference/generated/scipy.stats.linregress.html\n",
    "\n",
    "plot = sns.regplot(x=proteomic_oc, y=metabolomic_oc,scatter_kws={'s':5,'alpha':0.3},line_kws={'linewidth':2})  #,color='red,x_jitter=0.005,y_jitter=0.005\n",
    "plt.title('Comparison of overlap coefficients',fontsize=16)\n",
    "plt.xlabel(\"Proteomic overlap coefficient\",fontsize=13, labelpad=5)\n",
    "plt.ylabel(\"Metabolomic overlap coefficient\",fontsize=13, labelpad=10) \n",
    "\n",
    "res = scipy.stats.linregress(x=proteomic_oc, y=metabolomic_oc)\n",
    "print(f\"R-squared: {res.rvalue**2:.6f}\")\n",
    "plt.rcParams['font.size'] = 14  #change font size of the r-squared label\n",
    "plt.text(0.5, 0.25, f\"R-squared: {res.rvalue**2:.6f}\")\n",
    "\n",
    "#plt.savefig('Figures/omics_overlap_coef.png' ,dpi=200,bbox_inches = 'tight' , pad_inches = 0.2 , facecolor='w')\n"
   ]
  },
  {
   "cell_type": "code",
   "execution_count": null,
   "metadata": {},
   "outputs": [],
   "source": [
    "print(np.median(proteomic_oc))\n",
    "print(np.median(metabolomic_oc))\n",
    "\n",
    "print(np.mean(proteomic_oc))\n",
    "print(np.mean(metabolomic_oc))\n",
    "\n",
    "print(sum(i == 0  for i in metabolomic_oc))\n",
    "print(sum(i == 0  for i in proteomic_oc))"
   ]
  },
  {
   "attachments": {},
   "cell_type": "markdown",
   "metadata": {},
   "source": [
    "### Method 1 - Combine both pre-filtered networks together and combine the p-values"
   ]
  },
  {
   "attachments": {},
   "cell_type": "markdown",
   "metadata": {},
   "source": [
    "The networks were constructed in NetworkX but the edges have not been filtered out"
   ]
  },
  {
   "cell_type": "code",
   "execution_count": null,
   "metadata": {},
   "outputs": [],
   "source": [
    "#https://networkx.org/documentation/stable/reference/algorithms/operators.html\n",
    "# compose = \"Compose graph G with H by combining nodes and edges into a single graph.\"\n",
    "\n",
    "#If networks have the same edge, keep the attributes of the last network\n",
    "#I.e. Right now the edges have the metabolite edge attributes\n",
    "G = nx.compose(proteomic_copy,metabolomic_copy)\n",
    "\n",
    "#len(proteomic_copy.edges & metabolomic_copy.edges)\n",
    "#nx.draw(G, with_labels = True)\n",
    "\n",
    "print(G.edges['R-HSA-112315', 'R-HSA-1483257'])"
   ]
  },
  {
   "attachments": {},
   "cell_type": "markdown",
   "metadata": {},
   "source": [
    "Combining the p-values"
   ]
  },
  {
   "cell_type": "code",
   "execution_count": null,
   "metadata": {},
   "outputs": [],
   "source": [
    "#Using Fisher's method to combine the p-values: Example code\n",
    "p_values_list= [5.202380530055585e-20, 7.5913348658720385e-25]\n",
    "print(scipy.stats.combine_pvalues(p_values_list, method='fisher'))  #output gives two numbers; first is the test statistic, second is the p-value (what we want)\n",
    "\n",
    "#Using harmonic mean p-value method to combine the p-values: Example code\n",
    "scipy.stats.hmean(p_values_list)\n"
   ]
  },
  {
   "cell_type": "code",
   "execution_count": null,
   "metadata": {},
   "outputs": [],
   "source": [
    "edge_dict = {e: ([   proteomic_copy.edges[e]['Spearman_pval']  ,  metabolomic_copy.edges[e]['Spearman_pval']  ]) for e in proteomic_copy.edges & metabolomic_copy.edges}\n",
    "print(edge_dict)\n",
    "\n",
    "combined_pvals_fisher = []\n",
    "combined_pvals_hmean = []\n",
    "\n",
    "for k,v in edge_dict.items():\n",
    "\n",
    "    #Fisher's method\n",
    "    test_stat,pval = scipy.stats.combine_pvalues(v, method='fisher',weights=None)\n",
    "    combined_pvals_fisher.append(pval)\n",
    "\n",
    "    #Harmonic mean p-value\n",
    "    combined_pvals_hmean.append(scipy.stats.hmean(v))\n",
    "\n",
    "    \n",
    "\n",
    "print(combined_pvals_fisher)\n",
    "print(combined_pvals_hmean)\n",
    "\n",
    "print(sum(i < 0.005 for i in combined_pvals_fisher))\n",
    "print(sum(i < 0.005  for i in combined_pvals_hmean))"
   ]
  },
  {
   "cell_type": "code",
   "execution_count": null,
   "metadata": {},
   "outputs": [],
   "source": [
    "#It's not possible to take the log10 of zero, we ignore the divide by zero warning\n",
    "#Transform the p-values on a -log10 scale\n",
    "\n",
    "np.seterr(divide = 'ignore')    \n",
    "\n",
    "log_combined_pvals_fisher = -np.log10(combined_pvals_fisher)\n",
    "log_combined_pvals_hmean = -np.log10(combined_pvals_hmean)\n",
    "\n",
    "np.seterr(divide = 'warn') "
   ]
  },
  {
   "cell_type": "code",
   "execution_count": null,
   "metadata": {},
   "outputs": [],
   "source": [
    "len(combined_pvals_fisher)\n",
    "len(combined_pvals_hmean)"
   ]
  },
  {
   "cell_type": "code",
   "execution_count": null,
   "metadata": {},
   "outputs": [],
   "source": [
    "#Code aims to see whether the edges significant with the two methods are subsets of each other i.e. how many edges are significant for one but not the other\n",
    "\n",
    "keylist = []\n",
    "vallist = []\n",
    "for i in range(1081):\n",
    "    fisher = combined_pvals_fisher[i]\n",
    "    hmean = combined_pvals_hmean[i]\n",
    "\n",
    "    if fisher < 0.005 and hmean >= 0.005:\n",
    "        vallist.append(hmean)\n",
    "    if hmean < 0.005 and fisher >=0.005:\n",
    "        keylist.append(fisher)\n",
    "  \n",
    "\n",
    "print(sum(i < 0.005 for i in combined_pvals_fisher))\n",
    "print(sum(i < 0.005 for i in combined_pvals_hmean))\n",
    "\n",
    "print(len(keylist))\n",
    "print(len(vallist))"
   ]
  },
  {
   "cell_type": "code",
   "execution_count": null,
   "metadata": {},
   "outputs": [],
   "source": [
    "sns.scatterplot(x=log_combined_pvals_fisher, y=log_combined_pvals_hmean,s=8)       #color='#FFD580',s=10\n",
    "                \n",
    "plt.title('Comparison of p-value combining methods',fontsize=16)\n",
    "plt.xlabel(\"Fisher's method p-values (-log10)\",fontsize=13, labelpad=5)\n",
    "plt.ylabel(\"Harmonic mean p-values (-log10)\",fontsize=13, labelpad=10) \n",
    "\n",
    "plt.xlim(0,)   #-log_10(0.005) = 2.301...\n",
    "plt.ylim(0,)\n",
    "\n",
    "\n",
    "#Changing the axis limits to focus on the boundary \n",
    "#plt.xlim(0,-np.log10(0.005)+1.5)   #-log_10(0.005) = 2.301...\n",
    "#plt.ylim(0,-np.log10(0.005)+1.5)\n",
    "\n",
    "#plt.axvline(x=-np.log10(0.005), color='r', linewidth=0.1, linestyle='-')\n",
    "#plt.axhline(y=-np.log10(0.005), color='r', linewidth=0.1, linestyle='-')\n",
    "\n",
    "#plt.savefig('Figures/p_val_combining_methods.png' ,dpi=200,bbox_inches = 'tight' , pad_inches = 0.2 , facecolor='w')"
   ]
  },
  {
   "cell_type": "code",
   "execution_count": null,
   "metadata": {},
   "outputs": [],
   "source": [
    "#Using harmonic mean p-value method \n",
    "edge_data = {e:combined_pvals_hmean[index] for index,e in enumerate(proteomic_copy.edges & metabolomic_copy.edges) } # for e in proteomic_copy.edges & metabolomic_copy.edges\n",
    "nx.set_edge_attributes(G, edge_data, 'Spearman_pval')"
   ]
  },
  {
   "cell_type": "code",
   "execution_count": null,
   "metadata": {},
   "outputs": [],
   "source": [
    "#On the original single omic metabolomic and proteomic dataset showing the Spearman correlation, highlight which edges are significant after combining the p-values\n",
    "\n",
    "def find_val(list1,list2,value):\n",
    "    for node1, node2, data in proteomic_copy.edges(data=True):\n",
    "        list1.append(data[value])\n",
    "    for node1, node2, data in metabolomic_copy.edges(data=True):\n",
    "        list2.append(data[value])\n",
    "\n",
    "proteomic_corr = []\n",
    "metabolomic_corr = []\n",
    "find_val(proteomic_corr,metabolomic_corr,'Squared_corr')\n",
    "\n",
    "\n",
    "combined_pval_list = []\n",
    "for node1, node2, data in G.edges(data=True):\n",
    "        combined_pval_list.append(data['Spearman_pval'])\n",
    " \n",
    "\n",
    "omics_corr_df = pd.DataFrame(\n",
    "    {'Proteomic_corr': proteomic_corr,\n",
    "     'Metabolomic_corr': metabolomic_corr,\n",
    "     'Combined_pval': combined_pval_list\n",
    "    })\n",
    "\n",
    "omics_corr_df.iloc[-10:,:]\n",
    "omics_corr_df[\"Sig\"] = np.nan\n",
    "\n",
    "for i in range(len(omics_corr_df)):\n",
    "    if ((omics_corr_df.Combined_pval[i]) >= 0.005):\n",
    "        omics_corr_df.Sig[i] = \"Insignificant\"\n",
    "    else:\n",
    "        omics_corr_df.Sig[i] = \"Significant\"\n",
    "        \n",
    "display(omics_corr_df)\n",
    "\n",
    "\n",
    "print(omics_corr_df.Sig.str.count(\"Significant\").sum())  #936 edges significant for whole dataset, 585 edges for the common cases\n",
    "\n",
    "fig, ax = plt.subplots()  #i do this because ax.legend is needed to remove the legend title\n",
    "\n",
    "sns.scatterplot(\n",
    "    data=omics_corr_df,\n",
    "    x=\"Proteomic_corr\", \n",
    "    y=\"Metabolomic_corr\",\n",
    "    hue=\"Sig\",\n",
    "    #alpha=0.5,\n",
    "    s=8)       #color='#FFD580',s=10\n",
    "        \n",
    "plt.title('Comparison of squared Spearman correlation coefficients',fontsize=16)\n",
    "plt.xlabel(\"Proteomic Spearman correlation\",fontsize=13, labelpad=5)\n",
    "plt.ylabel(\"Metabolomic Spearman correlation\",fontsize=13, labelpad=10) \n",
    "\n",
    "legend = ax.legend(bbox_to_anchor=(1.26,0.6), prop={'size': 8})\n",
    "#plt.legend(framealpha=1, frameon = 'True', title=\"p-value\",title_fontsize='large', prop={'size': 10}, bbox_to_anchor=(1.35, 0.7)) \n",
    "\n",
    "#plt.savefig('Figures/ALL_COMBINEDPVAL_omics_spearman_corr_sigedges.png' ,dpi=200,bbox_inches = 'tight' , pad_inches = 0.2 , facecolor='w')"
   ]
  },
  {
   "attachments": {},
   "cell_type": "markdown",
   "metadata": {},
   "source": [
    "Comparing the average of the Spearman correlation coefficients with other methods i.e. harmonic mean, taking the max value of the Spearman results"
   ]
  },
  {
   "cell_type": "code",
   "execution_count": null,
   "metadata": {},
   "outputs": [],
   "source": [
    "proteomic_copy.edges(data=True)"
   ]
  },
  {
   "cell_type": "code",
   "execution_count": null,
   "metadata": {},
   "outputs": [],
   "source": [
    "edge_dict = {e: ([ proteomic_copy.edges[e]['Squared_corr']  ,  metabolomic_copy.edges[e]['Squared_corr']  ]) for e in proteomic_copy.edges & metabolomic_copy.edges}\n",
    "print(edge_dict)\n",
    "\n",
    "averaged_corr = []\n",
    "combined_corr_hmean = []\n",
    "max_corr = []\n",
    "\n",
    "for k,v in edge_dict.items():\n",
    "\n",
    "    #Taking the average of the two Spearman correlation coefficients\n",
    "    averaged_corr.append((sum(v))/2)\n",
    "\n",
    "    #Harmonic mean of the Spearman correlation coefficients\n",
    "    combined_corr_hmean.append(scipy.stats.hmean(v))\n",
    "\n",
    "    #Taking the maximum value from the two Spearman correlation coefficients\n",
    "    max_corr.append(max(v))\n",
    "\n",
    "print(averaged_corr)  \n",
    "print(combined_corr_hmean)\n",
    "print(max_corr)"
   ]
  },
  {
   "cell_type": "code",
   "execution_count": null,
   "metadata": {},
   "outputs": [],
   "source": [
    "sns.scatterplot(x=averaged_corr, y=combined_corr_hmean,s=8)       #color='#FFD580',s=10\n",
    "                \n",
    "plt.title('Comparison of Spearman correlation combining methods',fontsize=16)\n",
    "plt.xlabel(\"Average of correlation values\",fontsize=13, labelpad=5)\n",
    "plt.ylabel(\"Harmonic mean of correlation values\",fontsize=13, labelpad=10) \n",
    "\n",
    "plt.xlim(0,)  \n",
    "plt.ylim(0,)\n",
    "\n",
    "#plt.savefig('Figures/COMMONCASES_correlation_combining_methods_hmean.png' ,dpi=200,bbox_inches = 'tight' , pad_inches = 0.2 , facecolor='w')"
   ]
  },
  {
   "cell_type": "code",
   "execution_count": null,
   "metadata": {},
   "outputs": [],
   "source": [
    "sns.scatterplot(x=averaged_corr, y=max_corr,s=8)       #color='#FFD580',s=10\n",
    "                \n",
    "plt.title('Comparison of Spearman correlation combining methods',fontsize=16)\n",
    "plt.xlabel(\"Average of correlation values\",fontsize=13, labelpad=5)\n",
    "plt.ylabel(\"Maximum of correlation values\",fontsize=13, labelpad=10) \n",
    "\n",
    "plt.xlim(0,)  \n",
    "plt.ylim(0,)\n",
    "\n",
    "#plt.savefig('Figures/COMMONCASES_correlation_combining_methods_maxcorr.png' ,dpi=200,bbox_inches = 'tight' , pad_inches = 0.2 , facecolor='w')"
   ]
  },
  {
   "cell_type": "code",
   "execution_count": null,
   "metadata": {},
   "outputs": [],
   "source": [
    "#Get the average for the Spearman correlation coefficients and the overlap coefficient\n",
    "#HOWEVER it is not recommended to take the average of the p-values, thus we combine them using one of two methods: Fisher's method OR harmonic p-value\n",
    "\n",
    "def add_attributes(attribute_name):\n",
    "    edge_data = {e: ((proteomic_copy.edges[e][attribute_name] + metabolomic_copy.edges[e][attribute_name])/2) for e in proteomic_copy.edges & metabolomic_copy.edges}\n",
    "    nx.set_edge_attributes(G, edge_data, attribute_name)\n",
    "\n",
    "\n",
    "#Print all edge information (data=True means to display edge attribute data as well)\n",
    "#print(G.edges(data=True))             \n",
    "\n",
    "add_attributes(\"Squared_corr\")\n",
    "add_attributes(\"Overlap_coef\")\n",
    "\n",
    "\n",
    "print(proteomic_copy.edges['R-HSA-112315', 'R-HSA-1483257'])\n",
    "print(metabolomic_copy.edges['R-HSA-112315', 'R-HSA-1483257'])\n",
    "print(G.edges['R-HSA-112315', 'R-HSA-1483257'])\n",
    "\n",
    "#print(proteomic_copy.edges['R-HSA-2262752', 'R-HSA-8978868'])\n",
    "#print(metabolomic_copy.edges['R-HSA-2262752', 'R-HSA-8978868'])\n",
    "#print(G.edges['R-HSA-2262752', 'R-HSA-8978868'])\n"
   ]
  },
  {
   "cell_type": "code",
   "execution_count": null,
   "metadata": {},
   "outputs": [],
   "source": [
    "#Filter out edges based on Spearman p-value and Overlap Coefficient\n",
    "edges_to_remove = [(u,v) for u,v,e in G.edges(data=True) if (e['Spearman_pval'] >= 0.005 or e['Overlap_coef'] >= 0.5)]\n",
    "len(edges_to_remove)\n",
    "edges_to_remove"
   ]
  },
  {
   "cell_type": "code",
   "execution_count": null,
   "metadata": {},
   "outputs": [],
   "source": [
    "G.remove_edges_from(edges_to_remove)\n",
    "print(G.number_of_nodes())\n",
    "print(G.number_of_edges())\n",
    "G.nodes()"
   ]
  },
  {
   "cell_type": "code",
   "execution_count": null,
   "metadata": {},
   "outputs": [],
   "source": [
    "nx.draw(G, with_labels = True)"
   ]
  },
  {
   "attachments": {},
   "cell_type": "markdown",
   "metadata": {},
   "source": [
    "### Method 2 - Filter out edges separately by Spearman p-value then average out the Spearman correlation and Overlap Coefficient"
   ]
  },
  {
   "cell_type": "code",
   "execution_count": null,
   "metadata": {},
   "outputs": [],
   "source": [
    "#Filter out edges based on Spearman p-value and Overlap Coefficient\n",
    "edges_to_remove_proteomic = [(u,v) for u,v,e in proteomic_copy.edges(data=True) if (e['Spearman_pval'] >= 0.05 )]\n",
    "print(len(edges_to_remove_proteomic))\n",
    "\n",
    "edges_to_remove_metabolomic = [(u,v) for u,v,e in metabolomic_copy.edges(data=True) if (e['Spearman_pval'] >= 0.05 )]\n",
    "print(len(edges_to_remove_metabolomic))\n",
    "\n",
    "edges_to_remove = set( edges_to_remove_proteomic + edges_to_remove_metabolomic )\n",
    "print(len(edges_to_remove))\n",
    "\n",
    "G = nx.compose(proteomic_copy,metabolomic_copy)\n",
    "print(G.edges['R-HSA-112315', 'R-HSA-1483257'])\n",
    "\n",
    "def add_attributes(attribute_name):\n",
    "    edge_data = {e: ((proteomic_copy.edges[e][attribute_name] + metabolomic_copy.edges[e][attribute_name])/2) for e in proteomic_copy.edges & metabolomic_copy.edges}\n",
    "    nx.set_edge_attributes(G, edge_data, attribute_name)\n",
    "\n",
    "\n",
    "#Print all edge information (data=True means to display edge attribute data as well)\n",
    "#print(G.edges(data=True))             \n",
    "\n",
    "add_attributes(\"Squared_corr\")\n",
    "add_attributes(\"Overlap_coef\")\n",
    "\n",
    "\n",
    "print(proteomic_copy.edges['R-HSA-112315', 'R-HSA-1483257'])\n",
    "print(metabolomic_copy.edges['R-HSA-112315', 'R-HSA-1483257'])\n",
    "print(G.edges['R-HSA-112315', 'R-HSA-1483257'])\n",
    "\n",
    "G.remove_edges_from(edges_to_remove)\n",
    "print(G.number_of_nodes())\n",
    "print(G.number_of_edges())\n",
    "G.nodes()\n",
    "\n",
    "#Filter out edges based on Spearman p-value and Overlap Coefficient\n",
    "edges_to_remove = [(u,v) for u,v,e in G.edges(data=True) if e['Overlap_coef'] >= 0.5]\n",
    "len(edges_to_remove)\n",
    "\n",
    "G.remove_edges_from(edges_to_remove)\n",
    "print(G.number_of_nodes())\n",
    "print(G.number_of_edges())\n",
    "G.nodes()"
   ]
  },
  {
   "attachments": {},
   "cell_type": "markdown",
   "metadata": {},
   "source": [
    "### Setting node attributes (Next stage after running either Method 1 or Method 2)"
   ]
  },
  {
   "cell_type": "code",
   "execution_count": null,
   "metadata": {},
   "outputs": [],
   "source": [
    "#Nodes with no edges\n",
    "nodes_to_remove = list(nx.isolates(G))\n",
    "nodes_to_remove\n",
    "\n",
    "#['R-HSA-196071', 'R-HSA-2151201']"
   ]
  },
  {
   "cell_type": "code",
   "execution_count": null,
   "metadata": {},
   "outputs": [],
   "source": [
    "#nodes_to_remove=['R-HSA-196071']\n",
    "G.remove_nodes_from(nodes_to_remove)"
   ]
  },
  {
   "cell_type": "code",
   "execution_count": null,
   "metadata": {},
   "outputs": [],
   "source": [
    "#IF YOU DON'T REMOVE THE EDGES, DON'T RUN THIS CODE\n",
    "\n",
    "#Add the betweenness centrality as a node attribute\n",
    "betweenness= nx.betweenness_centrality(G, normalized=True) #output as dictionary\n",
    "#display(betweenness)\n",
    "nx.set_node_attributes(G, betweenness, \"betweenness\")\n",
    "\n",
    "#Add the betweenness centrality as a node attribute\n",
    "degree= nx.degree_centrality(G) #output as dictionary\n",
    "#display(degree)\n",
    "nx.set_node_attributes(G, degree, \"degrees\")\n",
    "\n",
    "\n",
    "#Check\n",
    "#G.nodes['R-HSA-112315']#[\"betweenness\"]\n",
    "#G.nodes['R-HSA-196071']#[\"betweenness\"]"
   ]
  },
  {
   "cell_type": "code",
   "execution_count": null,
   "metadata": {},
   "outputs": [],
   "source": [
    "#Using Cecilia's code\n",
    "\n",
    "#Creating graph\n",
    "hierarchy = pd.read_csv('Data/ReactomePathwaysRelation.txt', sep='\\t', header=None)\n",
    "\n",
    "#From the pathways, subset to Homo sapiens only\n",
    "hierarchy_hsa = hierarchy[hierarchy[0].str.contains('HSA')]\n",
    "\n",
    "#Return unique values in the first column that is not in the second column as a numpy array\n",
    "#These values are not child pathways in any instances\n",
    "hierarchy_hsa_parents = np.setdiff1d(hierarchy_hsa[0], hierarchy_hsa[1])\n",
    "\n",
    "#Add the unique values not in the second column as a second attached dataset to the bottom of the original data\n",
    "#The first column represents the parent column, the second column is the child column\n",
    "hierarchy_hsa_all = pd.concat([hierarchy_hsa, pd.DataFrame([hierarchy_hsa_parents, hierarchy_hsa_parents], index=[0, 1]).T])\n",
    "\n",
    "#DiGraph is a directed graph\n",
    "H = nx.from_pandas_edgelist(hierarchy_hsa, source=0, target=1, create_using=nx.DiGraph())\n"
   ]
  },
  {
   "cell_type": "code",
   "execution_count": null,
   "metadata": {},
   "outputs": [],
   "source": [
    "#Find the root pathway \n",
    "\n",
    "def find_root(H,child):\n",
    "    #Find parent from child \n",
    "    parent = list(H.predecessors(child))\n",
    "\n",
    "    #Keep the loop going until the highest level is reached\n",
    "    if len(parent) == 0:\n",
    "        return child\n",
    "    else:  \n",
    "        return find_root(H, parent[0])\n",
    "\n",
    "hierarchy_hsa_all['Root'] = [find_root(H, i) for i in hierarchy_hsa_all[1]]\n",
    "\n",
    "hierarchy_hsa_all.columns = ['Parent', 'Child', 'Root']\n",
    "\n",
    "#There are 83 instances of duplicates, however all the child duplicates have the same root (even though different parents) after checking\n",
    "\n",
    "\n",
    "\n",
    "#Convert pathway ID to name\n",
    "root_path = pd.read_excel('Data/Root_pathways.xlsx', header=None)\n",
    "root_pathway_dict = {root_path[0][i]:root_path[1][i] for i in range(0,len(root_path))}\n",
    "\n",
    "\n",
    "\n",
    "#Assign name to each node\n",
    "root_pathways = {}\n",
    "for pathway in list(H.nodes):\n",
    "    index = hierarchy_hsa_all.Child[hierarchy_hsa_all.Child == pathway].index.tolist()[0]\n",
    "    root_pathway  = hierarchy_hsa_all.Root[index]\n",
    "    label = root_pathway_dict[root_pathway]\n",
    "    root_pathways[pathway] = label\n",
    "\n",
    "\n"
   ]
  },
  {
   "cell_type": "code",
   "execution_count": null,
   "metadata": {},
   "outputs": [],
   "source": [
    "#shows all the root pathways in Reactome\n",
    "set(hierarchy_hsa_all['Root'] )\n",
    "#shows all the root pathways present in the original dataset\n",
    "set(root_pathways.values())\n",
    "\n",
    "nx.set_node_attributes(G, root_pathways, \"root_pathway\")\n",
    "\n",
    "print(G.number_of_nodes()) "
   ]
  },
  {
   "cell_type": "code",
   "execution_count": null,
   "metadata": {},
   "outputs": [],
   "source": [
    "\n",
    "louvain_clusters = nx.community.louvain_communities(G, weight='Squared_corr',seed=100,resolution=1.5)\n",
    "print(len(louvain_clusters))\n",
    "\n",
    "louvain_dict = {}\n",
    "for index,grouping in enumerate(louvain_clusters):\n",
    "    for pathway in grouping:\n",
    "        louvain_dict[pathway] = index+1\n",
    "\n",
    "nx.set_node_attributes(G, louvain_dict, \"louvain\")\n",
    "    "
   ]
  },
  {
   "attachments": {},
   "cell_type": "markdown",
   "metadata": {},
   "source": [
    "Note that for the separate omics analyses I use different pathway files for the separate metabolomics and proteomics data (since different compounds form the pathways), however since we take the intersection of the compounds for data integration it is fine to use the metabolomics pathways file to load in the pathway names."
   ]
  },
  {
   "cell_type": "code",
   "execution_count": null,
   "metadata": {},
   "outputs": [],
   "source": [
    "reactome_pathways = sspa.process_gmt(\"Data/Reactome_Homo_sapiens_pathways_compounds_R84.gmt\")\n",
    "\n",
    "pathway_name_dict = {reactome_pathways.index[i]:reactome_pathways[\"Pathway_name\"][i] for i in range(0,len(reactome_pathways))}\n",
    "pathway_name_dict['R-HSA-1483257']\n",
    "pathway_name_dict = {k:pathway_name_dict[k] for k in list(G.nodes)}\n",
    "#G = nx.relabel_nodes(G, pathway_name_dict)\n",
    "nx.set_node_attributes(G, pathway_name_dict, \"pathway_name\")\n",
    "G.nodes"
   ]
  },
  {
   "cell_type": "code",
   "execution_count": null,
   "metadata": {},
   "outputs": [],
   "source": [
    "print(G.number_of_nodes())\n",
    "print(G.number_of_edges())\n",
    "G.edges['R-HSA-112315', 'R-HSA-1483257']#[\"Spearman_pval\"]\n",
    "G.nodes['R-HSA-112315']#[\"betweenness\"]"
   ]
  },
  {
   "cell_type": "code",
   "execution_count": null,
   "metadata": {},
   "outputs": [],
   "source": [
    "#nx.write_gml(G,'Cytoscape/integrated_commoncases_harmonic.gml')\n",
    "#nx.write_gml(G,'Cytoscape/integrated_all_harmonic.gml')\n",
    "#nx.write_gml(G,'Cytoscape/integrated_mildcases_harmonic.gml')\n",
    "#nx.write_gml(G,'Cytoscape/integrated_severecases_harmonic.gml')"
   ]
  }
 ],
 "metadata": {
  "kernelspec": {
   "display_name": "Imperial_Project2",
   "language": "python",
   "name": "python3"
  },
  "language_info": {
   "codemirror_mode": {
    "name": "ipython",
    "version": 3
   },
   "file_extension": ".py",
   "mimetype": "text/x-python",
   "name": "python",
   "nbconvert_exporter": "python",
   "pygments_lexer": "ipython3",
   "version": "3.10.11"
  },
  "orig_nbformat": 4
 },
 "nbformat": 4,
 "nbformat_minor": 2
}
