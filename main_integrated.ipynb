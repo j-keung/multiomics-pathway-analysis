{
 "cells": [
  {
   "cell_type": "code",
   "execution_count": 1,
   "id": "5a17959a-e57d-4b6a-bf35-ebb68ac0e07a",
   "metadata": {},
   "outputs": [],
   "source": [
    "#Load libraries \n",
    "\n",
    "import pandas as pd\n",
    "import seaborn as sns\n",
    "import matplotlib.pyplot as plt\n",
    "#import numpy as np\n",
    "#from sklearn.decomposition import PCA\n",
    "#import sspa\n",
    "#from sklearn.preprocessing import StandardScaler\n",
    "#import scipy \n",
    "#import networkx as nx\n"
   ]
  },
  {
   "cell_type": "code",
   "execution_count": 2,
   "id": "dca3371e",
   "metadata": {},
   "outputs": [],
   "source": [
    "#Read in file to check\n",
    "df = pd.read_csv(\"Data/Su_multi_omics_data.csv\", index_col=0)"
   ]
  },
  {
   "cell_type": "code",
   "execution_count": 5,
   "id": "fa13b804",
   "metadata": {},
   "outputs": [],
   "source": [
    "#This function takes in dataframe, and masks one half and the diagonal to remove duplicates to prepare for a histogram plot\n",
    "def duplicate_removal(df):\n",
    "    #Mask the upper half of the dataframe (so I don't view the comparisons between the two same genes, and also the duplicate comparisons are removed)\n",
    "    mask =  df.copy()\n",
    "    mask = np.triu(np.ones(mask.shape)).astype(bool)\n",
    "    mask = np.invert(mask) #invert true and false values so the diagonal is False as well\n",
    "    non_dup_df = pd.DataFrame(df)\n",
    "    non_dup_df = non_dup_df.where(mask) #Replace all false values with NaN using mask\n",
    "\n",
    "    spearman_hist = non_dup_df.to_numpy().flatten()\n",
    "    spearman_hist = spearman_hist[~np.isnan(spearman_hist)] #remove nan values\n",
    "\n",
    "    return spearman_hist"
   ]
  },
  {
   "attachments": {},
   "cell_type": "markdown",
   "id": "8b5e73a1",
   "metadata": {},
   "source": [
    "### Data exploration"
   ]
  },
  {
   "cell_type": "code",
   "execution_count": 3,
   "id": "e9cd462e",
   "metadata": {},
   "outputs": [
    {
     "name": "stdout",
     "output_type": "stream",
     "text": [
      "Number of compounds: 787\n",
      "Number of samples: 128\n",
      "3-4    56\n",
      "1-2    45\n",
      "5-7    27\n",
      "Name: WHO_status, dtype: int64\n",
      "COVID19     128\n",
      "Name: Group, dtype: int64\n"
     ]
    },
    {
     "data": {
      "text/plain": [
       "WHO_status    object\n",
       "Group         object\n",
       "dtype: object"
      ]
     },
     "execution_count": 3,
     "metadata": {},
     "output_type": "execute_result"
    }
   ],
   "source": [
    "print(\"Number of compounds:\", len(df. columns[:-2]) )\n",
    "print(\"Number of samples:\", len(df. index))\n",
    "\n",
    "print(df['WHO_status'].value_counts()) \n",
    "print(df['Group'].value_counts())\n",
    "\n",
    "#return non-integer columns\n",
    "df.dtypes[df.dtypes != 'int64'][df.dtypes != 'float64']"
   ]
  },
  {
   "cell_type": "code",
   "execution_count": 10,
   "id": "b8001c6a-c137-4013-8f87-743622833502",
   "metadata": {},
   "outputs": [
    {
     "name": "stdout",
     "output_type": "stream",
     "text": [
      "13.771030461658697\n",
      "-9.506183139855432\n",
      "1372      0.019365\n",
      "16610     0.398610\n",
      "72665     0.108141\n",
      "27823    -0.072835\n",
      "30915     0.238716\n",
      "            ...   \n",
      "Q9Y4K4    0.521649\n",
      "Q9Y5A7    0.514509\n",
      "Q9Y5L3    0.107199\n",
      "Q9Y5V3    0.636190\n",
      "Q9Y653    0.303120\n",
      "Length: 787, dtype: float64\n",
      "1372      1.087371\n",
      "16610     1.032185\n",
      "72665     1.178213\n",
      "27823     1.054734\n",
      "30915     1.072768\n",
      "            ...   \n",
      "Q9Y4K4    0.896218\n",
      "Q9Y5A7    1.015167\n",
      "Q9Y5L3    1.197713\n",
      "Q9Y5V3    0.783753\n",
      "Q9Y653    1.042096\n",
      "Length: 787, dtype: float64\n"
     ]
    }
   ],
   "source": [
    "#Check data is standardised \n",
    "\n",
    "df_num  = df.iloc[:,:-2] #all rows, all columns apart from last two\n",
    "print(df_num.max().max())\n",
    "print(df_num.min().min())\n",
    "print(df_num.mean(axis = 0)) #mean of 0\n",
    "print(df_num.std(axis = 0)) #sd of 1\n"
   ]
  },
  {
   "cell_type": "code",
   "execution_count": 21,
   "id": "44de2cf8",
   "metadata": {},
   "outputs": [
    {
     "data": {
      "text/plain": [
       "array([ 1.93652564e-02,  3.98610310e-01,  1.08141211e-01, -7.28354575e-02,\n",
       "        2.38715838e-01,  3.41888904e-01,  4.99199301e-01,  2.64577869e-01,\n",
       "        5.58715933e-01,  1.65769607e-02,  2.02231946e-01, -4.29411526e-02,\n",
       "        4.95759447e-01,  3.07111239e-01, -1.89525412e-01, -1.89432149e-01,\n",
       "        1.99486439e-01,  1.59705013e-01,  3.59641927e-01,  2.65855880e-01,\n",
       "       -5.95384519e-02,  2.76695624e-01,  5.23706429e-01, -1.47175843e-01,\n",
       "        5.64500153e-01,  3.71204068e-01,  1.50720412e-01,  4.00601335e-01,\n",
       "        2.15058411e-01, -1.43704171e-01, -3.45911837e-01,  1.63025245e-01,\n",
       "       -9.32958368e-02,  4.61531063e-01,  2.00351259e-01, -1.00658303e-01,\n",
       "        5.85679150e-03,  2.72050524e-01,  3.24442023e-01,  5.58710081e-01,\n",
       "       -2.07590369e-02,  2.42636398e-01,  3.53125634e-01,  3.02434112e-01,\n",
       "        2.93344446e-01,  5.25525337e-02,  2.18243295e-01, -1.11867958e-01,\n",
       "        3.21353211e-01, -4.05701450e-01, -1.35918631e-01,  6.34518602e-01,\n",
       "        7.36680018e-01,  3.65770966e-01,  3.45056560e-01,  4.43874816e-01,\n",
       "       -3.60734262e-01,  2.44106598e-01, -6.66694815e-02,  2.45721390e-01,\n",
       "        2.43572765e-01, -1.06838824e-01, -6.11220561e-02,  3.76765054e-01,\n",
       "        1.31436483e-01, -1.38377787e-01,  5.13098823e-01,  1.48058719e-01,\n",
       "        2.18671590e-01,  2.02127306e-01,  1.45963549e-01, -5.39206768e-01,\n",
       "        1.25431844e-01,  1.27728117e-02,  2.62086782e-01,  3.64320029e-01,\n",
       "       -2.15257886e-01,  1.62780064e-01, -4.91516356e-01,  2.97251139e-01,\n",
       "       -3.26128163e-03,  5.22507627e-02, -2.95387896e-01,  1.77276165e-01,\n",
       "        3.21715426e-01,  3.70610781e-01,  4.72591173e-01,  1.41577095e-01,\n",
       "        5.90468991e-02,  4.55984353e-01,  4.32527759e-01, -1.58860031e-01,\n",
       "        1.44893327e-01,  3.20277984e-01,  2.84353642e-01,  3.37961758e-01,\n",
       "        4.71019128e-01,  3.63726696e-01,  1.91291314e-02,  4.67267260e-01,\n",
       "        4.95177546e-01,  2.14958803e-02, -1.12071927e-01,  2.42039385e-01,\n",
       "        1.42856528e-01, -1.34088578e-01,  5.87421403e-02, -1.31586283e-01,\n",
       "        1.04129522e-01,  1.42834228e-01, -5.37275524e-01,  1.16503502e-01,\n",
       "        5.62814713e-01, -2.30404451e-01,  4.32524655e-01,  5.70859808e-01,\n",
       "        5.37855762e-01, -6.06959341e-02, -4.68667788e-01,  8.78176080e-02,\n",
       "        1.62768504e-01,  1.05517027e-02, -3.02922928e-01,  4.19374824e-01,\n",
       "        8.18784547e-02,  2.20077857e-01,  1.50935866e-01, -4.81521391e-01,\n",
       "        1.26375290e-01, -2.58253077e-01,  1.05973204e-01,  2.11518498e-01,\n",
       "        5.92734759e-01,  2.91595191e-01,  3.49009539e-01,  2.75746818e-01,\n",
       "        2.03325296e-02, -2.57124259e-01,  4.66243180e-01, -1.11269956e-01,\n",
       "        2.73297049e-01,  1.41675791e-01,  1.36762457e-01,  4.23555593e-01,\n",
       "        5.68415204e-01,  3.99830783e-01,  3.54890720e-01,  2.43188922e-01,\n",
       "        2.97177065e-01,  4.59489013e-01,  1.47389757e-01,  3.89053298e-02,\n",
       "        3.14500558e-01,  3.10283599e-02, -4.61003044e-02,  3.42391823e-01,\n",
       "       -2.39933112e-01,  3.64132169e-01,  3.56707299e-02,  6.08162113e-02,\n",
       "       -1.74189413e-02,  5.48030859e-01,  6.59990408e-03,  5.16569595e-01,\n",
       "        1.16105719e-01,  2.32301171e-01,  4.71049574e-01,  2.93052900e-01,\n",
       "       -3.82475574e-01, -1.52663372e-01,  2.98194512e-01, -3.36595668e-01,\n",
       "       -1.09081005e-01, -2.49826554e-01,  3.67433001e-01, -1.83758147e-01,\n",
       "        6.07729382e-01,  2.52652589e-01,  2.33541032e-01, -1.58682471e-01,\n",
       "       -2.07087932e-01,  6.76972267e-01,  2.39305226e-01,  3.93776398e-02,\n",
       "        1.81080462e-01, -5.11680442e-01, -8.81059302e-02, -3.51888729e-01,\n",
       "        1.74304463e-01, -4.14023896e-01, -1.42518950e-01,  6.06127717e-02,\n",
       "        3.15126752e-01, -1.09766187e-01, -1.11292276e-01,  2.53666920e-01,\n",
       "        3.62129524e-01, -1.68926607e-01,  1.03894224e-01,  2.72651616e-01,\n",
       "       -3.57986460e-01, -2.99445914e-01, -5.67156758e-01,  2.01022997e-01,\n",
       "        1.04007278e-01,  3.56005699e-01,  2.08265286e-01,  3.33131505e-01,\n",
       "        1.86229980e-01,  1.60142206e-01, -1.15209424e-01,  3.15574379e-01,\n",
       "        2.84526616e-01,  2.01143443e-01,  4.04236581e-01, -1.72105956e-01,\n",
       "       -5.75167596e-01, -1.24407639e-01, -2.70360865e-01,  1.55699183e-01,\n",
       "        3.55017033e-01,  4.57236340e-01, -3.01820114e-01,  1.09263424e-01,\n",
       "       -2.30476218e-01,  2.88652876e-02,  2.66392809e-01,  2.51063453e-01,\n",
       "        2.08680505e-01,  4.64011289e-02, -2.22158167e-01, -3.41845856e-01,\n",
       "       -1.33388993e-01, -1.50463541e-01, -3.72738035e-01,  3.75462621e-01,\n",
       "        4.04076164e-01,  3.44576438e-01,  1.76288766e-01,  5.25590948e-02,\n",
       "        1.32083942e-01,  2.69213967e-01,  4.72311708e-01,  3.08946234e-01,\n",
       "        1.95839928e-01,  2.40661265e-02,  2.28867959e-03,  4.65896359e-02,\n",
       "        1.71242080e-01,  2.87521026e-01, -2.13219584e-02,  3.07635933e-01,\n",
       "        1.92381249e-02, -2.91591942e-01,  2.34253656e-01,  1.21410950e-01,\n",
       "       -5.25414991e-01,  3.62239407e-01, -3.21040861e-01, -3.67464687e-01,\n",
       "       -1.42824374e-01, -2.24108710e-01,  1.85790322e-01,  1.33307643e-02,\n",
       "        5.14169530e-01, -1.74529973e-01,  2.26505740e-01, -1.36607499e-01,\n",
       "        2.23450808e-01, -2.63617720e-02, -2.46018824e-01,  6.06390798e-01,\n",
       "        1.82871277e-01, -1.42652167e-01, -1.56785909e-01, -1.92751626e-01,\n",
       "        2.68014021e-02, -6.24434626e-02, -1.46587250e-01, -3.90562846e-01,\n",
       "        1.15557894e-01, -7.12474676e-02, -3.39474798e-01,  4.10580849e-02,\n",
       "        2.76252449e-01, -3.08734670e-01, -3.42098185e-01,  3.11573050e-02,\n",
       "       -1.47302560e-01,  2.59341341e-01, -7.98333758e-02,  1.60671950e-01,\n",
       "        3.41524215e-02, -2.35178304e-01, -4.96457279e-01, -6.00612373e-02,\n",
       "        1.47720664e-01, -5.76197169e-02, -7.49975266e-03,  1.91638423e-01,\n",
       "       -2.86808022e-01,  2.18655712e-01, -4.40814701e-01, -6.71573415e-02,\n",
       "       -3.18235001e-01,  3.81636192e-01, -1.35758232e-01, -7.21976802e-02,\n",
       "       -1.16505644e-01, -2.49272392e-01, -3.27232589e-01,  3.84407046e-01,\n",
       "        3.50376082e-01, -3.24508278e-01,  1.25247719e-01,  6.38029078e-02,\n",
       "       -1.20340097e-01,  3.04626727e-01, -1.34864030e-01,  3.29766402e-01,\n",
       "       -9.30081445e-02,  1.42230379e-01,  4.03216226e-02,  4.73670948e-01,\n",
       "       -1.39555464e-02,  3.45411959e-02, -1.07712705e-01,  2.27828064e-01,\n",
       "       -3.12243094e-01,  1.52243719e-01,  2.91270275e-01,  1.77943975e-01,\n",
       "       -2.49081830e-01,  6.59712208e-01,  4.96220172e-01,  3.65083542e-01,\n",
       "        3.85904068e-01,  3.43733339e-01, -6.04735256e-02,  6.00330866e-01,\n",
       "        2.99894435e-01,  3.49442920e-01,  5.50482222e-02,  3.93419362e-01,\n",
       "        1.04101178e-01,  2.29137343e-01,  9.93200710e-02, -2.58586896e-01,\n",
       "        5.01511042e-01,  1.07387868e-01,  1.94477765e-01,  1.96927463e-01,\n",
       "        5.34463351e-01,  4.43170054e-01,  3.51179638e-01,  2.83416171e-01,\n",
       "        2.22965408e-01,  3.62957456e-01, -4.20013974e-01, -3.97570671e-01,\n",
       "        1.13383410e-01,  3.16827108e-01,  5.40535478e-01,  1.34631236e-01,\n",
       "       -4.80542366e-01,  3.00406128e-01,  4.31149898e-01,  3.83058501e-01,\n",
       "        4.85626904e-01,  2.28861227e-01, -2.29187313e-01,  4.92462128e-01,\n",
       "        7.82157778e-03,  9.66232679e-02,  3.77776520e-01,  3.62778000e-01,\n",
       "        3.02956013e-01,  4.14764572e-01, -6.01744928e-02,  3.46089430e-01,\n",
       "        1.43603725e-01,  3.46258709e-01,  2.49540864e-01, -2.59521539e-01,\n",
       "        2.18918070e-01,  2.81563657e-01, -1.50538942e-01,  6.66690910e-01,\n",
       "        3.41941623e-01,  2.11966861e-01,  2.09434319e-01,  4.34506615e-01,\n",
       "        4.47384987e-01, -2.91365967e-01,  3.41951105e-01,  4.30522978e-01,\n",
       "        2.36464678e-01,  5.66354017e-01,  1.60444252e-01, -1.00850933e-01,\n",
       "        3.32195808e-01,  3.99049475e-01, -2.04403843e-01,  1.09798569e-01,\n",
       "        1.70393523e-01,  3.57091239e-02,  4.34727669e-01,  5.92092297e-01,\n",
       "       -1.38643217e-01,  1.61419601e-01, -1.28735941e-01,  1.85739239e-01,\n",
       "       -4.21388416e-01,  3.36645890e-01,  1.20753740e-01, -1.93899855e-01,\n",
       "        3.36100063e-01,  3.30549233e-01,  2.24447079e-01,  4.41914295e-01,\n",
       "        2.22718860e-01, -3.99832213e-01,  3.97322991e-01,  5.65986765e-01,\n",
       "        2.65900023e-01,  4.67642044e-01,  7.04567865e-01, -3.36938872e-01,\n",
       "        5.70397505e-01,  1.37486721e-01,  1.23465551e-01,  6.14682995e-01,\n",
       "        4.99040561e-01,  2.23330264e-01,  1.94894731e-01,  3.33451425e-01,\n",
       "        6.51470890e-01,  5.51361875e-01,  4.44742775e-01,  5.09459830e-02,\n",
       "       -6.54767233e-03,  5.10540785e-01,  4.13354082e-01, -2.95083245e-01,\n",
       "        6.02363519e-01,  4.97942921e-01, -5.14887949e-01,  4.32479766e-01,\n",
       "        5.10287687e-01,  1.20834215e-01,  2.89580103e-01,  3.94100267e-01,\n",
       "        5.49105534e-01,  6.30310748e-01,  4.35958492e-01,  6.13180760e-01,\n",
       "        3.03054104e-01,  5.21724459e-01,  2.84636276e-01,  4.94310291e-01,\n",
       "       -6.59888988e-03,  8.12677906e-01,  6.87002151e-01,  1.68122196e-01,\n",
       "       -4.56161380e-01,  5.84556661e-01,  7.03487847e-01, -2.43244277e-02,\n",
       "        1.66884710e-01, -5.12325547e-01,  2.69801534e-01,  3.44503381e-01,\n",
       "        1.83354305e-01, -1.00963987e-01, -3.64665426e-02, -9.82571205e-03,\n",
       "        2.06245470e-01,  5.60960378e-01,  1.44449611e-02,  4.56823584e-01,\n",
       "        4.24396436e-01,  6.17589678e-01,  6.00506283e-01,  4.68178023e-01,\n",
       "        5.32025633e-01,  2.52844442e-02,  4.14300590e-01,  1.49352102e-01,\n",
       "        2.31212171e-01,  3.52835721e-01,  2.82787278e-01,  5.73425780e-01,\n",
       "        6.74969183e-01,  2.46807327e-01,  5.24472287e-01,  1.39419160e-01,\n",
       "        4.43983609e-01,  1.06049889e-01,  5.17800292e-01,  2.82561275e-01,\n",
       "       -2.86197669e-01,  1.91018906e-01,  4.17474436e-01,  5.21211850e-01,\n",
       "        1.90579718e-01,  4.31079762e-01,  1.68456953e-01,  5.01540363e-01,\n",
       "        1.83092318e-01,  3.62322651e-01, -9.36992485e-04,  7.17493279e-01,\n",
       "        5.68733288e-01,  5.84182684e-01,  5.98142389e-01,  7.02501590e-01,\n",
       "        5.78449737e-01,  3.13600949e-01, -1.25912956e-01,  3.48156298e-01,\n",
       "        6.53350777e-01,  1.60085269e-01,  6.07865325e-01,  6.85319077e-01,\n",
       "        1.14094900e-01,  5.05208720e-01,  3.73526685e-01,  5.29146407e-01,\n",
       "        3.51759677e-01,  9.95180843e-02,  4.46182080e-01,  4.90334557e-01,\n",
       "        8.87000113e-03,  4.03369745e-01, -1.20484027e-01,  4.32441444e-01,\n",
       "        3.50571864e-01,  5.47508382e-01,  1.46595987e-01,  2.85240175e-01,\n",
       "        4.37902342e-02, -9.34801792e-02,  5.07988953e-01,  3.37786064e-01,\n",
       "        3.81245510e-01,  4.22488218e-01,  5.67210907e-01, -1.66632254e-01,\n",
       "        2.20527885e-01,  6.66481319e-01,  1.08412390e-01, -4.19787430e-02,\n",
       "        3.63503928e-01, -1.85077899e-01, -2.82028109e-01,  2.22246446e-01,\n",
       "        5.94798396e-01,  6.83249021e-01,  6.19446701e-01,  7.75406854e-02,\n",
       "        5.29978976e-01,  5.05894493e-01,  5.52047345e-01,  6.13919439e-01,\n",
       "        6.86551570e-01,  3.38635396e-01,  5.57319351e-01,  6.57764867e-01,\n",
       "        4.23767977e-01,  2.81670868e-01,  6.30935907e-01,  3.92818772e-01,\n",
       "        2.79767825e-01,  3.49163512e-01, -1.21462056e-01, -1.79764034e-01,\n",
       "        1.78030340e-01,  5.00712245e-01,  4.43751494e-01,  5.80524762e-01,\n",
       "        3.47343725e-01,  4.88734925e-01,  3.09984767e-03,  5.30330751e-01,\n",
       "       -2.07832048e-01,  2.67139088e-01,  6.53369628e-01,  5.67438132e-01,\n",
       "       -6.44920543e-02,  2.92028678e-01,  2.13583912e-01,  2.33085170e-01,\n",
       "        6.67948415e-01,  6.02541287e-01,  5.69507608e-01,  1.73972987e-01,\n",
       "        4.86467375e-01, -1.55376126e-01, -6.99835020e-01, -4.66118735e-01,\n",
       "        1.49938515e-01, -7.58669682e-02,  6.05832810e-01,  6.10462103e-01,\n",
       "        2.21486254e-01,  4.45258279e-01,  4.17812672e-01,  2.26353146e-01,\n",
       "        2.91407750e-01,  2.64750884e-02, -7.66237261e-02,  3.86759086e-01,\n",
       "        3.28720925e-01, -6.23010030e-03,  6.86155007e-01,  4.29920185e-01,\n",
       "        6.60574659e-02, -1.60597578e-01,  6.19970298e-02,  1.98590394e-01,\n",
       "        4.91588882e-01,  1.29876586e-01,  3.05401190e-01,  3.09987245e-01,\n",
       "        4.10025406e-01,  3.65491142e-01, -2.78003563e-01,  4.74783444e-01,\n",
       "        3.87589445e-01, -1.26351222e-01,  5.82007338e-01, -5.43691112e-03,\n",
       "        4.02405256e-01,  2.34534865e-01, -5.07277872e-01,  5.28449389e-01,\n",
       "       -5.08808361e-01,  3.46598080e-01,  4.41936015e-01,  4.77208683e-01,\n",
       "        3.23138204e-01,  3.80757516e-01,  4.00203180e-01,  3.30386068e-01,\n",
       "        3.56527072e-01,  5.50553905e-01,  4.00583784e-01,  3.43589758e-01,\n",
       "       -1.20052223e-02,  5.92442395e-01,  6.70684760e-01,  3.61344730e-01,\n",
       "       -3.25480921e-01,  6.21337900e-01, -1.55035153e-02,  3.57871816e-01,\n",
       "       -1.81945722e-01,  2.05563779e-01,  4.87257287e-01, -1.40650695e-01,\n",
       "        4.05819647e-01, -3.35204662e-01,  9.58306544e-02,  4.35666331e-03,\n",
       "        3.93700886e-03,  1.33943553e-01,  1.21306336e-01, -3.13416517e-01,\n",
       "        3.23762608e-01,  1.45895649e-01,  4.22004657e-01,  6.40441958e-01,\n",
       "       -2.07929551e-01,  3.04929936e-01,  9.88247921e-02,  4.79670276e-02,\n",
       "        5.49045298e-01,  5.53890798e-01, -5.73944911e-02, -4.77020676e-02,\n",
       "       -1.55608633e-01,  1.44217715e-01,  5.14415905e-01, -7.78697237e-02,\n",
       "       -1.13345569e-01,  4.91221375e-02,  3.98351370e-01,  9.62925751e-02,\n",
       "        3.38311086e-01,  5.33756619e-01,  2.56705662e-01, -2.64941569e-01,\n",
       "        4.68913869e-01,  1.37397439e-01,  2.89779964e-01,  2.89901286e-01,\n",
       "        3.81904264e-01,  3.60508794e-02, -1.74583274e-01,  6.75847201e-05,\n",
       "        5.97591440e-01,  3.13721914e-02,  1.92517683e-01,  6.69848128e-02,\n",
       "       -5.16899105e-01,  6.56642043e-01,  4.70799585e-01,  6.56601204e-01,\n",
       "        2.50687629e-01,  4.97989379e-01,  5.41491688e-01,  4.95580590e-01,\n",
       "        2.37394897e-01,  4.02307815e-01,  3.10606817e-01, -5.66009285e-02,\n",
       "        1.53466544e-02,  6.31094632e-01,  7.44093149e-01, -7.61200316e-01,\n",
       "        2.62301186e-01,  5.84071755e-01,  2.57812761e-01, -7.76126107e-02,\n",
       "        5.05593228e-01,  9.09804665e-03,  2.42719981e-01,  4.89045900e-01,\n",
       "        6.22553734e-01,  9.20682988e-02,  4.06640435e-01,  4.08508224e-01,\n",
       "       -2.34153833e-01,  2.95413844e-01,  4.78061116e-01,  5.21550689e-01,\n",
       "        1.56617902e-04,  5.08080511e-01,  4.75515456e-01,  1.40660915e-01,\n",
       "       -3.05734606e-01,  6.33822350e-01, -3.58779839e-01,  5.55012623e-01,\n",
       "       -1.62223224e-01, -1.85805145e-01,  6.29869139e-01,  5.62492410e-01,\n",
       "        5.64772495e-01, -1.79049835e-01,  5.40672149e-01,  6.11977498e-01,\n",
       "        5.02946337e-01,  5.46780469e-02,  2.45724781e-01,  2.74547418e-01,\n",
       "        3.80559686e-01,  4.93169609e-01,  1.86370410e-01,  3.52881647e-01,\n",
       "        7.19231978e-01, -3.72230347e-01,  4.06295058e-01, -1.61558031e-01,\n",
       "       -2.60396542e-01,  5.73626078e-01,  2.39774422e-01,  6.20465088e-01,\n",
       "        2.16150391e-01,  4.36375784e-01,  1.55873668e-01,  6.27036302e-01,\n",
       "        3.91303147e-01,  6.60857220e-01,  4.98185933e-01,  1.35524581e-01,\n",
       "        5.61734046e-01,  5.88433785e-01,  6.40832050e-01, -4.70806493e-01,\n",
       "        4.87145301e-01,  5.49600096e-01,  5.21649113e-01,  5.14508595e-01,\n",
       "        1.07198981e-01,  6.36190275e-01,  3.03120192e-01])"
      ]
     },
     "execution_count": 21,
     "metadata": {},
     "output_type": "execute_result"
    }
   ],
   "source": [
    "df_hist"
   ]
  },
  {
   "cell_type": "code",
   "execution_count": 24,
   "id": "c222796f",
   "metadata": {},
   "outputs": [
    {
     "data": {
      "image/png": "[encoded data removed]",
      "text/plain": [
       "<Figure size 640x480 with 1 Axes>"
      ]
     },
     "metadata": {},
     "output_type": "display_data"
    }
   ],
   "source": [
    "df_hist = df_num.mean(axis = 0) #axis = 0 by column\n",
    "sns.histplot(df_hist, bins = 30,color='#79C99E',edgecolor=\"k\") \n",
    "\n",
    "#The mean value for each compound has been plotted\n",
    "plt.title('Mean compound distribution',fontsize=16)\n",
    "plt.xlabel('Compound expression',fontsize=13)\n",
    "plt.ylabel('Count',fontsize=13) ;\n",
    "\n",
    "plt.savefig( 'Figures/mean_multiomic_distribution.png' , dpi=200,bbox_inches = 'tight' , pad_inches = 0.2 , facecolor='w')"
   ]
  },
  {
   "cell_type": "code",
   "execution_count": 26,
   "id": "8c05edbb",
   "metadata": {},
   "outputs": [
    {
     "data": {
      "image/png": "[encoded data removed]",
      "text/plain": [
       "<Figure size 640x480 with 1 Axes>"
      ]
     },
     "metadata": {},
     "output_type": "display_data"
    }
   ],
   "source": [
    "df_num = df_num.to_numpy()\n",
    "\n",
    "df_hist = df_num.flatten()\n",
    "sns.histplot(df_hist, bins = 40,color='#79C99E',edgecolor=\"k\") \n",
    "\n",
    "plt.title('Compound distribution',fontsize=16)\n",
    "plt.xlabel('Compound expression',fontsize=13)\n",
    "plt.ylabel('Count',fontsize=13) ;\n",
    "\n",
    "plt.savefig( 'Figures/multiomic_distribution.png' , dpi=200,bbox_inches = 'tight' , pad_inches = 0.2 , facecolor='w')"
   ]
  },
  {
   "cell_type": "code",
   "execution_count": null,
   "id": "441a1009",
   "metadata": {},
   "outputs": [
    {
     "data": {
      "image/png": "[encoded data removed]",
      "text/plain": [
       "<Figure size 640x480 with 1 Axes>"
      ]
     },
     "metadata": {},
     "output_type": "display_data"
    }
   ],
   "source": [
    "df_num = df_num.to_numpy()\n",
    "\n",
    "df_hist = df_num.flatten()\n",
    "sns.histplot(df_hist, bins = 40,color='#79C99E',edgecolor=\"k\") \n",
    "\n",
    "plt.title('Compound distribution',fontsize=16)\n",
    "plt.xlabel('Compound expression',fontsize=13)\n",
    "plt.ylabel('Count',fontsize=13) ;\n",
    "\n",
    "#plt.savefig( 'Figures/multiomic_distribution.png' , dpi=200,bbox_inches = 'tight' , pad_inches = 0.2 , facecolor='w')"
   ]
  },
  {
   "cell_type": "code",
   "execution_count": null,
   "id": "4cbab71f",
   "metadata": {},
   "outputs": [],
   "source": []
  },
  {
   "cell_type": "code",
   "execution_count": null,
   "id": "58e52052",
   "metadata": {},
   "outputs": [],
   "source": []
  },
  {
   "cell_type": "code",
   "execution_count": null,
   "id": "b1813ae4",
   "metadata": {},
   "outputs": [],
   "source": []
  },
  {
   "cell_type": "code",
   "execution_count": null,
   "id": "b5a25be6",
   "metadata": {},
   "outputs": [],
   "source": []
  },
  {
   "cell_type": "code",
   "execution_count": null,
   "id": "08e7de45-98ef-47f2-8a5f-2d635aa261fb",
   "metadata": {},
   "outputs": [],
   "source": [
    "#print(df.iloc[:,-5:])\n",
    "df_heatmap = df.groupby('WHO_status').mean(numeric_only=True)\n",
    "#print(df_heatmap.iloc[:,-5:])\n",
    "\n",
    "g = sns.clustermap(\n",
    "    df_heatmap,\n",
    "    metric='euclidean', \n",
    "    method =\"ward\",\n",
    "    row_cluster=False,\n",
    "    xticklabels=False,\n",
    "    cmap='RdBu_r',\n",
    "    figsize=(9,3),\n",
    "    dendrogram_ratio=0.2, \n",
    "    vmin=-2, \n",
    "    vmax=2) \n",
    "\n",
    "g2 = g.ax_heatmap\n",
    "g2.set_xlabel(\"Metabolites\", fontsize = 15,labelpad=10) #labelpad increases the distance between the axis label and the heatmap\n",
    "g2.set_ylabel(\"WHO status\", fontsize = 15, labelpad=12) \n",
    "g2.set_yticklabels(g2.get_yticklabels(), rotation=0, fontsize=10)  #rotate the y-axis labels so that they are horizontal\n",
    "\n",
    "x0, _y0, _w, _h = g.cbar_pos\n",
    "g.ax_cbar.set_position([1.15, 0.28, 0.03, 0.35])\n",
    "g.cax.set_title(\"Metabolite expression\",pad=10, size=13) #pad: increase spacing slightly  \n",
    "g.cax.tick_params(labelsize=10) #change font size of colourbar labels; \n",
    "\n",
    "#plt.savefig( 'Figures/metabolite_heatmap.png' , dpi=200,bbox_inches = 'tight' , pad_inches = 0.2 , facecolor='w')"
   ]
  },
  {
   "cell_type": "code",
   "execution_count": null,
   "id": "53895c4a-4085-4b4c-92cf-ce6e7c95cd74",
   "metadata": {},
   "outputs": [],
   "source": [
    "#Carry out PCA\n",
    "\n",
    "#from sklearn.decomposition import PCA\n",
    "\n",
    "features = df.columns[:-2]\n",
    "x = df.loc[:, features].values\n",
    "\n",
    "pca = PCA(n_components=2)\n",
    "principal_components = pca.fit_transform(x)\n",
    "df2 = pd.DataFrame(data = principal_components, columns = ['PC1', 'PC2'])\n",
    "\n",
    "#Restore original index\n",
    "df2 = df2.set_index(df.index)\n",
    "\n",
    "#Concatenate WHO information\n",
    "df3 = pd.concat([df2, df[['WHO_status']]], axis = 1)\n",
    "\n",
    "display(df3)\n",
    "\n",
    "\n",
    "\n",
    "sns.set_style(\"white\")\n",
    "\n",
    "\n",
    "sns.lmplot(\n",
    "    x='PC1', \n",
    "    y='PC2', \n",
    "    data=df3, \n",
    "    hue='WHO_status', \n",
    "    hue_order = ['0', '1-2', '3-4','5-7'],\n",
    "    fit_reg=False, #don't draw line of best fit\n",
    "    legend=False,\n",
    "    scatter_kws={\"s\": 20}\n",
    "    )\n",
    "#Note: I don't use the seaborn legend but check it matches with the seaborn legend\n",
    "\n",
    "\n",
    "plt.title('PCA for metabolites',fontsize=20)\n",
    "plt.xlabel('PC1 (' + str(round(pca.explained_variance_ratio_[0]*100,2)) + '%)',fontsize=15,)\n",
    "plt.ylabel('PC2 (' + str(round(pca.explained_variance_ratio_[1]*100,2)) + '%)',fontsize=15)\n",
    "plt.legend(framealpha=1, frameon = 'True', title=\"WHO status\",title_fontsize='large', prop={'size': 14}, bbox_to_anchor=(1.04, 0.7)) \n",
    "#This has more information on the bbox_to_anchor coordinates: https://stackoverflow.com/questions/4700614/how-to-put-the-legend-outside-the-plot\n",
    "\n",
    "#plt.savefig( 'Figures/metabolite_PCA.png' , dpi=200,bbox_inches = 'tight' , pad_inches = 0.2 , facecolor='w')\n"
   ]
  },
  {
   "attachments": {},
   "cell_type": "markdown",
   "id": "17753c30",
   "metadata": {},
   "source": [
    "### FOR DATA INTEGRATION STEP OR IF COMPARING BY CASE SEVERITY\n",
    "### Subset the data to common samples"
   ]
  },
  {
   "attachments": {},
   "cell_type": "markdown",
   "id": "ba7daca1",
   "metadata": {},
   "source": [
    "We make two different networks, one for the COVID cases 1-2 compared to COVID cases 3-7 <br>\n",
    "This is because there are only 18 samples in common between the metabolomic and proteomic datasets\n",
    "\n",
    "0       Common samples: 18           Metabolomic samples: 133        Proteomic samples: 123 <br>\n",
    "1-2       Common samples: 45          Metabolomic samples: 45        Proteomic samples: 48 <br>\n",
    "3-4       Common samples: 56          Metabolomic samples: 57        Proteomic samples: 59 <br>\n",
    "5-7       Common samples: 27          Metabolomic samples: 28        Proteomic samples: 28 <br>\n",
    "\n",
    "146 common samples overall,   128 cases, composed of (45 samples (WHO 1-2) vs 83 samples (WHO 3-7))"
   ]
  },
  {
   "cell_type": "code",
   "execution_count": null,
   "id": "80eb05c5",
   "metadata": {},
   "outputs": [],
   "source": [
    "df2 = pd.read_csv('Data/Su_COVID_proteomics_processed.csv', index_col=0)\n",
    "list1 = list(df.index)\n",
    "list2 = list(df2.index)\n",
    "\n",
    "#Obtain common samples and subset accordingly\n",
    "intersection = list(set(df.index.tolist()) & set(df2.index.tolist())) #set removes duplicates\n",
    "intersection = [sample for sample in intersection if sample.startswith(\"INCOV\")]\n",
    "df = df[df.index.isin(intersection)]\n",
    "\n",
    "print(len(df))"
   ]
  },
  {
   "cell_type": "code",
   "execution_count": null,
   "id": "856f9b5a",
   "metadata": {},
   "outputs": [],
   "source": [
    "df_mild = (df[df[\"WHO_status\"] == '1-2']) #45 samples, no need to remove the metadata, since I do that in a later step\n",
    "df_severe = (df[(df[\"WHO_status\"] == '3-4') | (df[\"WHO_status\"] == '5-7')]) #83 samples"
   ]
  },
  {
   "attachments": {},
   "cell_type": "markdown",
   "id": "5d47e96e",
   "metadata": {},
   "source": [
    "### Single sample pathway analysis"
   ]
  },
  {
   "cell_type": "code",
   "execution_count": null,
   "id": "90a37f36-2918-48ec-814c-a262553d1c56",
   "metadata": {},
   "outputs": [],
   "source": [
    "#Trying to download latest version of Reactome (version 84)\n",
    "\n",
    "\n",
    "#reactome_pathways = sspa.process_reactome(\"Homo sapiens\", download_latest=True, filepath=\".\")\n",
    "reactome_pathways = sspa.process_gmt(\"Data/Reactome_Homo_sapiens_pathways_compounds_R84.gmt\")\n",
    "#View name of pathway IDs\n",
    "reactome_pathways\n",
    "\n",
    "kpca_scores = sspa.sspa_kpca(df.iloc[:,:-2], reactome_pathways)\n",
    "#We have 160 pathways present, although the previous report had 165 pathways\n",
    "\n",
    "#print(kpca_scores.iloc[-10:,-2:])\n",
    "#print(kpca_scores)\n",
    "#won't work with the metabolite dataset with names\n",
    "kpca_scores"
   ]
  },
  {
   "cell_type": "code",
   "execution_count": null,
   "id": "b475747d",
   "metadata": {},
   "outputs": [],
   "source": [
    "#Remove root pathways\n",
    "#Convert pathway ID to name\n",
    "root_path = pd.read_excel('Data/Root_pathways.xlsx', header=None)\n",
    "root_pathway_dict = {root_path[0][i]:root_path[1][i] for i in range(0,len(root_path))}\n",
    "\n",
    "root_pathway_names = list(root_pathway_dict.keys())\n",
    "#Using Sara's code\n",
    "kpca_scores = kpca_scores.drop(columns = list(set(root_pathway_names) & set(kpca_scores.columns)))"
   ]
  },
  {
   "cell_type": "code",
   "execution_count": null,
   "id": "293796c6",
   "metadata": {},
   "outputs": [],
   "source": [
    "kpca_scores"
   ]
  },
  {
   "attachments": {},
   "cell_type": "markdown",
   "id": "ef082299",
   "metadata": {},
   "source": [
    "### kPCA figures"
   ]
  },
  {
   "cell_type": "code",
   "execution_count": null,
   "id": "a1b1b60c-5123-4635-b01e-d72e11786585",
   "metadata": {},
   "outputs": [],
   "source": [
    "\n",
    "kpca_hist = kpca_scores.to_numpy()\n",
    "kpca_hist = kpca_hist.flatten()\n",
    "sns.histplot(kpca_hist, bins = 40,color='#F7C3B1',edgecolor=\"k\") \n",
    "\n",
    "plt.title('Metabolite pathway score distribution',fontsize=16)\n",
    "plt.xlabel('Pathway score',fontsize=13, labelpad=5)\n",
    "plt.ylabel('Count',fontsize=13, labelpad=10) ;\n",
    "\n",
    "#plt.savefig( 'Figures/metabolite_pathway_distribution.png' , dpi=200,bbox_inches = 'tight' , pad_inches = 0.2 , facecolor='w')"
   ]
  },
  {
   "cell_type": "code",
   "execution_count": null,
   "id": "12472e54-00d9-4197-a1b3-ca43c80e569d",
   "metadata": {},
   "outputs": [],
   "source": [
    "#Carry out PCA\n",
    "\n",
    "#from sklearn.decomposition import PCA\n",
    "\n",
    "features = kpca_scores.columns\n",
    "x = kpca_scores.loc[:, features].values\n",
    "\n",
    "pca = PCA(n_components=2)\n",
    "principal_components = pca.fit_transform(x)\n",
    "df2 = pd.DataFrame(data = principal_components, columns = ['PC1', 'PC2'])\n",
    "\n",
    "#Restore original index\n",
    "df2 = df2.set_index(df.index)\n",
    "\n",
    "#Concatenate WHO information\n",
    "df3 = pd.concat([df2, df[['WHO_status']]], axis = 1)\n",
    "\n",
    "#display(df3)\n",
    "\n",
    "\n",
    "sns.set_style(\"white\")\n",
    "\n",
    "\n",
    "sns.lmplot(\n",
    "    x='PC1', \n",
    "    y='PC2', \n",
    "    data=df3, \n",
    "    hue='WHO_status', \n",
    "    hue_order = ['0', '1-2', '3-4','5-7'],\n",
    "    fit_reg=False, \n",
    "    legend=False,\n",
    "    scatter_kws={\"s\": 20}\n",
    "    )\n",
    "#Note: I don't use the seaborn legend but check it matches with the seaborn legend\n",
    "\n",
    "\n",
    "plt.title('PCA kPCA metabolite scores',fontsize=20)\n",
    "plt.xlabel('PC1 (' + str(round(pca.explained_variance_ratio_[0]*100,2)) + '%)',fontsize=15)\n",
    "plt.ylabel('PC2 (' + str(round(pca.explained_variance_ratio_[1]*100,2)) + '%)',fontsize=15)\n",
    "plt.legend(framealpha=1, frameon = 'True', title=\"WHO status\",title_fontsize='large', prop={'size': 14}, bbox_to_anchor=(1.04, 0.7))\n",
    "#This has more information on the bbox_to_anchor coordinates: https://stackoverflow.com/questions/4700614/how-to-put-the-legend-outside-the-plot\n",
    "#plt.savefig( 'Figures/metabolite_kPCA_PCA.png' , dpi=200,bbox_inches = 'tight' , pad_inches = 0.2 , facecolor='w')\n"
   ]
  },
  {
   "cell_type": "code",
   "execution_count": null,
   "id": "2b24a9a4-cc49-4a66-a436-d509e836bfeb",
   "metadata": {},
   "outputs": [],
   "source": [
    "#Normalise pathway scores : https://scikit-learn.org/stable/modules/generated/sklearn.preprocessing.StandardScaler.html\n",
    "\n",
    "#StandardScaler() normalises by column i.e. each pathway is normalised across all patients\n",
    "#mean of the observed values becomes 0 and the standard deviation is 1\n",
    "\n",
    "#After meeting: Normalising doesn't seem to have a large effect\n",
    "#Whether or not you normalise won't make a huge difference\n",
    "kpca_scores_norm = pd.DataFrame(StandardScaler().fit_transform(kpca_scores),columns=kpca_scores.columns, index=kpca_scores.index)\n",
    "\n",
    "#print(kpca_scores_norm.max().max())\n",
    "#print(kpca_scores_norm.min().min())\n",
    "#print(kpca_scores_norm.mean(axis = 0)) #mean of 0  \n",
    "#print(kpca_scores_norm.std(axis = 0)) #sd of 1\n",
    "\n",
    "\n",
    "\n",
    "kpca_hist = kpca_scores_norm.to_numpy()\n",
    "kpca_hist = kpca_hist.flatten()\n",
    "sns.histplot(kpca_hist, bins = 40,color='#F7C3B1',edgecolor=\"k\") \n",
    "\n",
    "plt.title('Normalised metabolite pathway score distribution',fontsize=16)\n",
    "plt.xlabel('Pathway score',fontsize=13, labelpad=5)\n",
    "plt.ylabel('Count',fontsize=13, labelpad=10) ;\n",
    "\n",
    "#plt.savefig( 'Figures/normalised_metabolite_pathway_distribution.png' , dpi=200,bbox_inches = 'tight' , pad_inches = 0.2 , facecolor='w')"
   ]
  },
  {
   "cell_type": "code",
   "execution_count": null,
   "id": "557d9605-96ee-46cc-8067-e56eb3982b5c",
   "metadata": {},
   "outputs": [],
   "source": [
    "#Carry out PCA on NORMALISED values\n",
    "\n",
    "#from sklearn.decomposition import PCA\n",
    "\n",
    "features = kpca_scores_norm.columns\n",
    "x = kpca_scores_norm.loc[:, features].values\n",
    "\n",
    "pca = PCA(n_components=2)\n",
    "principal_components = pca.fit_transform(x)\n",
    "df2 = pd.DataFrame(data = principal_components, columns = ['PC1', 'PC2'])\n",
    "\n",
    "#Restore original index\n",
    "df2 = df2.set_index(df.index)\n",
    "\n",
    "#Concatenate WHO information\n",
    "df3 = pd.concat([df2, df[['WHO_status']]], axis = 1)\n",
    "\n",
    "#display(df3)\n",
    "\n",
    "\n",
    "sns.set_style(\"white\")\n",
    "\n",
    "\n",
    "sns.lmplot(\n",
    "    x='PC1', \n",
    "    y='PC2', \n",
    "    data=df3, \n",
    "    hue='WHO_status', \n",
    "    hue_order = ['0', '1-2', '3-4','5-7'],\n",
    "    fit_reg=False, \n",
    "    legend=False,\n",
    "    scatter_kws={\"s\": 20}\n",
    "    )\n",
    "#Note: I don't use the seaborn legend but check it matches with the seaborn legend\n",
    "\n",
    "\n",
    "plt.title('PCA kPCA normalised metabolite scores',fontsize=20)\n",
    "plt.xlabel('PC1 (' + str(round(pca.explained_variance_ratio_[0]*100,2)) + '%)',fontsize=15)\n",
    "plt.ylabel('PC2 (' + str(round(pca.explained_variance_ratio_[1]*100,2)) + '%)',fontsize=15)\n",
    "plt.legend(framealpha=1, frameon = 'True', title=\"WHO status\",title_fontsize='large', prop={'size': 14}, bbox_to_anchor=(1.04, 0.7))\n",
    "#This has more information on the bbox_to_anchor coordinates: https://stackoverflow.com/questions/4700614/how-to-put-the-legend-outside-the-plot\n",
    "#plt.savefig( 'Figures/normalised_metabolite_kPCA_PCA.png' , dpi=200,bbox_inches = 'tight' , pad_inches = 0.2 , facecolor='w')\n",
    "\n"
   ]
  },
  {
   "attachments": {},
   "cell_type": "markdown",
   "id": "d2e9f366",
   "metadata": {},
   "source": [
    "### Spearman correlation coefficient"
   ]
  },
  {
   "cell_type": "code",
   "execution_count": null,
   "id": "3b3a0aa8",
   "metadata": {},
   "outputs": [],
   "source": [
    "kpca_scores"
   ]
  },
  {
   "cell_type": "code",
   "execution_count": null,
   "id": "3334a95d-3a72-42a1-ae4c-8b174ce228fd",
   "metadata": {},
   "outputs": [],
   "source": [
    "#Note: Spearman correlation coefficient results are the same whether or not the kPCA scores are normalised\n",
    "\n",
    "#\"If axis=0 (default), then each column represents a variable, with observations in the rows\"\n",
    "spearman_results = scipy.stats.spearmanr(kpca_scores)\n",
    "\n",
    "spearman_coef = spearman_results[0] #correlation coefficients\n",
    "spearman_pvals = spearman_results[1] #p-values\n",
    "\n",
    "\n",
    "#Using Sara's code (rather than having separate dataframes for each analysis, add all together in long format)\n",
    "squared_spearman_coef_df = pd.DataFrame(spearman_coef,columns = kpca_scores.columns, index=kpca_scores.columns)\n",
    "squared_spearman_coef_list = squared_spearman_coef_df.stack().reset_index()\n",
    "squared_spearman_coef_list.columns = [\"Pathway1\", \"Pathway2\", \"Spearman_corr\"]\n",
    "squared_spearman_coef_list[\"Squared_corr\"]  = np.square(squared_spearman_coef_list.Spearman_corr)\n",
    "\n",
    "spearman_pvals_df = pd.DataFrame(spearman_pvals,columns = kpca_scores.columns, index=kpca_scores.columns)\n",
    "spearman_pvals_list = spearman_pvals_df.stack().reset_index()\n",
    "spearman_pvals_list.columns = [\"Pathway1\", \"Pathway2\", \"pval\"]\n",
    "\n",
    "#Multiple testing correction for the p-values to prepare the corrected p-values for the final correlation network\n",
    "#Multiplies by the correct number of tests (i.e. not including the duplicates or self-comparisons)\n",
    "#Does not remove the diagonals or the duplicates themselves\n",
    "#  ((160x160)-160)  / 2\n",
    "num_of_tests = (len(kpca_scores.columns)**2 - len(kpca_scores.columns))/2\n",
    "print(num_of_tests)\n",
    "corrected_spearman_pvals = spearman_pvals_list.pval*num_of_tests\n",
    "#If the p-val goes beyond 1 (max number for a p-value, change to 1)\n",
    "corrected_spearman_pvals = np.where(corrected_spearman_pvals < 1, corrected_spearman_pvals, 1)\n",
    "spearman_pvals_list[\"pval_adj\"]  = corrected_spearman_pvals\n",
    "\n",
    "spearman_df = squared_spearman_coef_list.merge(spearman_pvals_list,on=[\"Pathway1\",\"Pathway2\"])\n",
    "\n",
    "display(spearman_df)"
   ]
  },
  {
   "attachments": {},
   "cell_type": "markdown",
   "id": "cb4d8f94",
   "metadata": {},
   "source": [
    "Bonferroni: https://avast.github.io/ep-stats/stats/multiple.html\n",
    "\n",
    "Method 1: The alpha value (0.05) is divided by the number of tests (e.g. 225 pathways x 225 pathways = 50,625) and then the original p-vals are compared to the adjusted alpha value\n",
    "\n",
    "Method 2: The alpha value remains unchanged and the individual p-values are adjusted (i.e. original p-value x number of tests) to increase them, and then compared to see if they cross the 0.05 significance level\n",
    "\n",
    "After adjustment, some corrected p-values go up to 1 (the maximum)"
   ]
  },
  {
   "cell_type": "code",
   "execution_count": null,
   "id": "b693f350",
   "metadata": {},
   "outputs": [],
   "source": [
    "#Perform multiple testing correlation on p-values after the duplicates are removed\n",
    "\n",
    "#All self-comparisons are significant with a p-value of 0, so we can subtract those from the number of significant values before we divide by 2\n",
    "sig_vals = (sum(i < 0.005 for i in spearman_df.pval_adj)-len(kpca_scores.columns))   /2\n",
    "non_sig_vals = sum(i >= 0.005 for i in spearman_df.pval_adj)/2\n",
    "\n",
    "print(\"Number of significant values:\", sig_vals)\n",
    "print(\"Number of non-significant values:\", non_sig_vals)\n",
    "(sig_vals/(sig_vals+non_sig_vals)) * 100"
   ]
  },
  {
   "cell_type": "code",
   "execution_count": null,
   "id": "85921c09",
   "metadata": {},
   "outputs": [],
   "source": [
    "squared_spearman_coef = np.square(spearman_coef)\n",
    "abs_spearman_coef = np.abs(spearman_coef)\n",
    "spearman_hist = duplicate_removal(squared_spearman_coef)  #using a function I defined in the intro section\n",
    "\n",
    "print(len(spearman_hist))\n",
    "sns.histplot(spearman_hist, bins = 50,color='#FFD580',edgecolor=\"k\") \n",
    "\n",
    "plt.title('Spearman correlation coefficient distribution',fontsize=16)\n",
    "plt.xlabel('Correlation score',fontsize=16, labelpad=5)\n",
    "plt.ylabel('Count',fontsize=16, labelpad=10) ;\n",
    "\n",
    "#plt.savefig('Figures/metabolite_spearman_correlation_distribution_squared_non_dup.png' , dpi=200,bbox_inches = 'tight' , pad_inches = 0.2 , facecolor='w')"
   ]
  },
  {
   "cell_type": "code",
   "execution_count": null,
   "id": "d3e6c717-2b84-4c48-8864-bc32bc5a2b78",
   "metadata": {},
   "outputs": [],
   "source": [
    "\n",
    "#The reason for plotting as absolute or squared is that kPCA does not determine the directionality of effect\n",
    "#Therefore the direction specified here is arbitrary i.e. negative pathway score does not mean downregulation of pathway\n",
    "\n",
    "\n",
    "g = sns.clustermap(\n",
    "    squared_spearman_coef,\n",
    "    metric='euclidean', \n",
    "    method =\"ward\",\n",
    "    cmap=\"OrRd\",    #Spectral_r for normal,  OrRd for the other two\n",
    "    xticklabels=False,\n",
    "    yticklabels=False,\n",
    "    figsize=(6,6),\n",
    "    dendrogram_ratio=0.15, \n",
    "    vmin=0, \n",
    "    vmax=1) \n",
    "\n",
    "g2 = g.ax_heatmap\n",
    "g2.set_xlabel(\"Pathways\", fontsize = 17, labelpad=10) #labelpad increases the distance between the axis label and the heatmap\n",
    "g2.set_ylabel(\"Pathways\", fontsize = 17, labelpad=10) \n",
    "\n",
    "x0, _y0, _w, _h = g.cbar_pos\n",
    "g.ax_cbar.set_position([1.1, 0.25, 0.03, 0.35])\n",
    "g.cax.set_title(\"Correlation score\",pad=13,size=13) #pad: increase spacing slightly  \n",
    "g.cax.tick_params(labelsize=12) #change font size of colourbar labels; \n",
    "\n",
    "#plt.savefig( 'Figures/squared_metabolite_spearman.png' , dpi=200,bbox_inches = 'tight' , pad_inches = 0.2 , facecolor='w')"
   ]
  },
  {
   "cell_type": "code",
   "execution_count": null,
   "id": "8cee5cc1",
   "metadata": {},
   "outputs": [],
   "source": [
    "#Plotting the Spearman p-values\n",
    "np.seterr(divide = 'ignore')    \n",
    "log_spearman_pvals = -np.log10(spearman_pvals)\n",
    "np.seterr(divide = 'warn') \n",
    "\n",
    "spearman_pval_hist = duplicate_removal(log_spearman_pvals)  #Some inf values that are not plotted (too far along axis)\n",
    "print(len(spearman_pval_hist))\n",
    "sns.histplot(spearman_pval_hist, bins = 50,color='#FFD580',edgecolor=\"k\") \n",
    "\n",
    "plt.title('Spearman p-value distribution',fontsize=16)\n",
    "plt.xlabel('Spearman p-values (-log10)',fontsize=16, labelpad=5)\n",
    "plt.ylabel('Count',fontsize=16, labelpad=10) ;\n",
    "\n",
    "#plt.savefig('Figures/metabolite_spearman_pval_distribution_non_dup.png' , dpi=200,bbox_inches = 'tight' , pad_inches = 0.2 , facecolor='w')"
   ]
  },
  {
   "attachments": {},
   "cell_type": "markdown",
   "id": "e52b3128",
   "metadata": {},
   "source": [
    "### Overlap coefficients"
   ]
  },
  {
   "attachments": {},
   "cell_type": "markdown",
   "id": "bc3e5db1",
   "metadata": {},
   "source": [
    "I believe that sspa kPCA automatically filters out all pathways that have less than 2 compounds in them (confirmed since the pathway with the minimum number of metabolites had 2 compounds). When I filter out the compounds that are not in the dataset, I only include them into the new dictionary if the values have more than 1 compound."
   ]
  },
  {
   "cell_type": "code",
   "execution_count": null,
   "id": "b30745c3-7ed5-440a-b24b-d6bce9d0e65e",
   "metadata": {},
   "outputs": [],
   "source": [
    "#Obtain pathways and corresponding metabolites for all Reactome pathways, store as dictionary\n",
    "orig_dict = sspa.utils.pathwaydf_to_dict(reactome_pathways)\n",
    "\n",
    "#Filter out dictionary to retain only the pathways that remain after kPCA\n",
    "my_keys = kpca_scores.columns\n",
    "pathways_dict = {key: orig_dict[key] for key in my_keys}\n"
   ]
  },
  {
   "cell_type": "code",
   "execution_count": null,
   "id": "f085493c",
   "metadata": {},
   "outputs": [],
   "source": [
    "#Filter out the compounds in the pathways that are not present in the dataset\n",
    "\n",
    "#Obtain all unique values in dataset\n",
    "compounds_present = list(df.columns[:-2])\n",
    "filtered_dict = {} \n",
    "\n",
    "#My code adapted from Cecilia's\n",
    "#If the key values are not part of the compounds in dataset then remove\n",
    "for key,value in pathways_dict.items():\n",
    "    new_val = [item for item in value if item in compounds_present]\n",
    "    if len(new_val) >= 2: #at least two compounds in the pathway\n",
    "        filtered_dict[key] = new_val\n",
    "\n"
   ]
  },
  {
   "cell_type": "code",
   "execution_count": null,
   "id": "7c53a4ec-046f-4cc1-b4d5-b02c9a7b4b40",
   "metadata": {},
   "outputs": [],
   "source": [
    "#Identifying all duplicate pathways from the Reactome pathway dictionary AFTER COMPOUNDS NOT IN PATHWAY REMOVED (the exact same metabolites, not subsets)\n",
    "\n",
    "metabolites = list(filtered_dict.values())\n",
    "\n",
    "from collections import Counter\n",
    "\n",
    "c = Counter(map(tuple,metabolites))\n",
    "dups = [k for k,v in c.items() if v>1]\n",
    "result = [list(t) for t in dups]\n",
    "\n",
    "for j in result:\n",
    "    value = {i for i in filtered_dict if filtered_dict[i]==j}\n",
    "    print(value)\n",
    "    "
   ]
  },
  {
   "cell_type": "code",
   "execution_count": null,
   "id": "bec4aa14",
   "metadata": {},
   "outputs": [],
   "source": [
    "#Find the pathways with the minimum and maximum number of metabolites in pathways AFTER COMPOUNDS NOT IN PATHWAY REMOVED\n",
    "\n",
    "max_len = max(metabolites, key=len)\n",
    "print(len(max_len))\n",
    "\n",
    "min_len = min(metabolites, key=len)\n",
    "print(len(min_len))\n",
    "\n",
    "\n",
    "for index in range(0,len(metabolites)):\n",
    "    length = 33\n",
    "    value = {key for key in filtered_dict if len(filtered_dict[key])==length}\n",
    "print(value)\n",
    "\n",
    "#len(filtered_dict['R-HSA-1430728'])"
   ]
  },
  {
   "cell_type": "code",
   "execution_count": null,
   "id": "12d5c35f",
   "metadata": {},
   "outputs": [],
   "source": [
    "#Checking Overlap coefficient code for the cell below\n",
    "\n",
    "list1 = ['A','B','C','D','E','F','G']\n",
    "list2 = ['A','B','C','J','K','L','M','N']\n",
    "intersection = list(set(list1).intersection(list(set(list2))))  #set removes duplicates\n",
    "numerator = len(intersection)\n",
    "\n",
    "smaller_set = []\n",
    "smaller_set.append(len(list1))\n",
    "smaller_set.append(len(list2))\n",
    "denominator = min(smaller_set)\n",
    "\n",
    "val = (numerator/denominator)\n",
    "print(val)"
   ]
  },
  {
   "cell_type": "code",
   "execution_count": null,
   "id": "0c80e27a-1aa9-43b5-9aa6-f172f599ec64",
   "metadata": {},
   "outputs": [],
   "source": [
    "#Difference between Jaccard similarity metric and S-S Overlap Coefficient\n",
    "#https://developer.nvidia.com/blog/similarity-in-graphs-jaccard-versus-the-overlap-coefficient/\n",
    "\n",
    "#Using Overlap Coefficient formula \n",
    "#My original code is in 'Overlap_coefficient_ver83.ipynb'\n",
    "#I adapted by code by looking at Cecilia's comments\n",
    "oc_matrix = np.zeros((len(my_keys),len(my_keys)))    \n",
    "\n",
    "for i in range(0,len(my_keys)):   \n",
    "    list1 = filtered_dict[my_keys[i]]\n",
    "    \n",
    "    for j in range(0,len(my_keys)):\n",
    "        list2 = filtered_dict[my_keys[j]]\n",
    "\n",
    "        # Szymkiewicz–Simpson coefficient\n",
    "        #Find intersection between two lists\n",
    "        intersection = len(list(set(list1).intersection(list(set(list2)))))\n",
    "        smaller_set = min(len(list1), len(list2))\n",
    "\n",
    "        val = intersection/smaller_set\n",
    "        oc_matrix[i][j] = val \n",
    "        "
   ]
  },
  {
   "cell_type": "code",
   "execution_count": null,
   "id": "0f93a06f",
   "metadata": {},
   "outputs": [],
   "source": [
    "oc_df = pd.DataFrame(oc_matrix, index=filtered_dict.keys(), columns=filtered_dict.keys())\n",
    "#Calculate number of edges with values above or equal to 0.5\n",
    "\n",
    "#If looking at whole matrix (not accounting for self comparisons or duplicates)\n",
    "#print(np.count_nonzero(oc_matrix >= 0.5)/(len(my_keys)*len(my_keys)))\n",
    "\n",
    "#Subtract by number of self-comparisons divided by 2\n",
    "high_overlap = (np.count_nonzero(oc_matrix >= 0.5) - len(my_keys)) / 2\n",
    "unique_edges =  ((len(my_keys)*len(my_keys)) - len(my_keys)) / 2\n",
    "\n",
    "print(high_overlap  /  unique_edges) \n"
   ]
  },
  {
   "cell_type": "code",
   "execution_count": null,
   "id": "a8282403",
   "metadata": {},
   "outputs": [],
   "source": [
    "oc_list = oc_df.stack().reset_index()\n",
    "oc_list.columns = [\"Pathway1\", \"Pathway2\", \"Overlap_coef\"]\n",
    "spearman_df = spearman_df.merge(oc_list,on=[\"Pathway1\",\"Pathway2\"])\n",
    "\n",
    "display(spearman_df)"
   ]
  },
  {
   "cell_type": "code",
   "execution_count": null,
   "id": "e3898459-ba00-4ac2-9a6e-c09bcf9fb1f2",
   "metadata": {},
   "outputs": [],
   "source": [
    "g = sns.clustermap(oc_matrix,\n",
    "metric='euclidean', \n",
    "method =\"ward\",\n",
    "cmap = \"OrRd\", \n",
    "xticklabels=False, \n",
    "yticklabels=False, \n",
    "figsize=(6,6),\n",
    "dendrogram_ratio=0.2, \n",
    "vmin=-0, \n",
    "vmax=1) \n",
    "\n",
    "g2 = g.ax_heatmap\n",
    "g2.set_xlabel(\"Pathways\", fontsize = 17, labelpad=10) #labelpad increases the distance between the axis label and the heatmap\n",
    "g2.set_ylabel(\"Pathways\", fontsize = 17, labelpad=10) \n",
    "g2.set(yticklabels=[])  #remove tick labels\n",
    "g2.tick_params(right=False) #remove ticks\n",
    "\n",
    "x0, _y0, _w, _h = g.cbar_pos\n",
    "g.ax_cbar.set_position([1.15, 0.25, 0.03, 0.35])\n",
    "g.cax.set_title(\"Overlap Coefficient\",pad=13,size=13) #pad: increase spacing slightly  \n",
    "g.cax.tick_params(labelsize=12) #change font size of colourbar labels; \n",
    "\n",
    "#plt.savefig( 'Figures/metabolite_overlap_coef.png' , dpi=200,bbox_inches = 'tight' , pad_inches = 0.2 , facecolor='w')"
   ]
  },
  {
   "cell_type": "code",
   "execution_count": null,
   "id": "b2b89411",
   "metadata": {},
   "outputs": [],
   "source": [
    "#Plotting the overlap coefficient\n",
    "\n",
    "oc_hist = duplicate_removal(oc_matrix)\n",
    "print(len(oc_hist))\n",
    "sns.histplot(oc_hist, bins = 50,color='#FFD580',edgecolor=\"k\") \n",
    "\n",
    "plt.title('Overlap coefficient distribution',fontsize=16)\n",
    "plt.xlabel('Overlap coefficient',fontsize=16, labelpad=5)\n",
    "plt.ylabel('Count',fontsize=16, labelpad=10) ;\n",
    "\n",
    "#plt.savefig('Figures/metabolite_overlap_coef_distribution_non_dup.png' , dpi=200,bbox_inches = 'tight' , pad_inches = 0.2 , facecolor='w')"
   ]
  },
  {
   "cell_type": "code",
   "execution_count": null,
   "id": "363120c7",
   "metadata": {},
   "outputs": [],
   "source": [
    "\n",
    "f, ax = plt.subplots()\n",
    "points = ax.scatter(x=oc_hist, y=spearman_pval_hist,c=spearman_hist, s=4, cmap=\"viridis\",alpha=0.3)\n",
    "\n",
    "cb = plt.colorbar(points, ticks=[0,0.2,0.4,0.6,0.8,1],shrink=0.5)\n",
    "cb.ax.set_position([0.9, 0.28, 0.03, 0.35])\n",
    "cb.ax.set_title('Spearman correlation',pad=10, size=10) #pad means the height of title away from colourbar\n",
    "\n",
    "\n",
    "plt.xlabel(\"Overlap coefficient\",fontsize=13, labelpad=5)\n",
    "plt.ylabel(\"Spearman p-values (-l0g10)\",fontsize=13, labelpad=10) \n",
    "\n",
    "plt.axvline(x=0.5, color='r', linewidth=0.3, linestyle='-')\n",
    "plt.axhline(y=-np.log10(0.005), color='r', linewidth=0.3, linestyle='-') ;\n",
    "\n",
    "#plt.savefig('Figures/metabolite_scatterplot.png' ,dpi=200,bbox_inches = 'tight' , pad_inches = 0.2 , facecolor='w')\n"
   ]
  },
  {
   "attachments": {},
   "cell_type": "markdown",
   "id": "22dbd969",
   "metadata": {},
   "source": [
    "### Constructing overlap coefficient network graphs"
   ]
  },
  {
   "cell_type": "code",
   "execution_count": null,
   "id": "878433ca",
   "metadata": {},
   "outputs": [],
   "source": [
    "#Practice code\n",
    "#Even for an edge going between two pathways, it's a single line here and in Cytoscape as well\n",
    "#If you wanted to draw multiple edges going between the same two nodes, you would need to draw a multigraph\n",
    "G = nx.Graph()\n",
    "\n",
    "practice_df = {'Pathway1': ['A', 'B', 'C', 'D','D'], 'Pathway2': ['B','A','D','C','D'], 'weight': [1,1,2,5,3]}\n",
    "pd.DataFrame(data=practice_df, index=[0, 1, 2, 3,4])\n",
    "\n",
    "G = nx.from_pandas_edgelist(df=practice_df, source='Pathway1', target='Pathway2', edge_attr='weight')\n",
    "\n",
    "nx.draw(G, with_labels = True)\n",
    "\n",
    "#nx.write_gml(G, \"test.gml\")"
   ]
  },
  {
   "attachments": {},
   "cell_type": "markdown",
   "id": "6c2ad143",
   "metadata": {},
   "source": [
    "Using Cecilia's code\n",
    "\n",
    "Note: I don't remove the duplicate edges for the overlap coefficient graph, they seemed to be removed during NetworkX graph construction.\n",
    "I do remove the diagonals though."
   ]
  },
  {
   "cell_type": "code",
   "execution_count": null,
   "id": "283ff6dc",
   "metadata": {},
   "outputs": [],
   "source": [
    "#Remove self-correlations\n",
    "spearman_df = spearman_df [spearman_df.Pathway1 != spearman_df.Pathway2]\n",
    "spearman_df = spearman_df.reset_index(drop=True)\n",
    "spearman_df"
   ]
  },
  {
   "cell_type": "code",
   "execution_count": null,
   "id": "97eda382",
   "metadata": {},
   "outputs": [],
   "source": [
    "\n",
    "#Add the nodes\n",
    "G = nx.Graph()\n",
    "G.add_nodes_from(oc_df.columns)\n",
    "\n",
    "#does not deal with duplicates i.e.  Pathway 1 to Pathway 2 and vice versa\n",
    "#but it's ok, because it shows up as one edge on the network in Cytoscape\n",
    "\n",
    "G = nx.from_pandas_edgelist(df=spearman_df, source='Pathway1', target='Pathway2', edge_attr='Overlap_coef')\n",
    "\n",
    "nx.draw(G, with_labels = True)\n",
    "print(G.number_of_edges())\n",
    "print(G.number_of_nodes())\n",
    "#nx.write_gml(G, \"Cytoscape/metabolomic_oc.gml\")"
   ]
  },
  {
   "attachments": {},
   "cell_type": "markdown",
   "id": "6989a09e",
   "metadata": {},
   "source": [
    "### Final correlation network"
   ]
  },
  {
   "attachments": {},
   "cell_type": "markdown",
   "id": "f1eb0a31",
   "metadata": {},
   "source": [
    "Remember to take the corrected Spearman p-values"
   ]
  },
  {
   "cell_type": "code",
   "execution_count": null,
   "id": "71983133",
   "metadata": {},
   "outputs": [],
   "source": [
    "spearman_df\n",
    "\n",
    "#spearman_df.to_csv(\"Data/metabolomic_edgelist_df_all.csv\")\n",
    "#spearman_df.to_csv(\"Data/metabolomic_edgelist_df_commoncases.csv\")"
   ]
  },
  {
   "cell_type": "code",
   "execution_count": null,
   "id": "e063c991",
   "metadata": {},
   "outputs": [],
   "source": [
    "#MAKE A GRAPH WITH ALL THE EDGES FOR THE INTEGRATION STAGE\n",
    "\n",
    "G = nx.Graph()\n",
    "G = nx.from_pandas_edgelist(df=spearman_df, source='Pathway1', target='Pathway2', edge_attr='Squared_corr')\n",
    "#G.add_nodes_from(isolated_nodes)\n",
    "nx.draw(G, with_labels = True)\n",
    "print(G.number_of_nodes())\n",
    "print(G.number_of_edges())\n",
    "\n",
    "\n",
    "#Add edge attributes\n",
    "spearman_pval_dict = {}\n",
    "overlap_coef_dict = {}\n",
    "for i in range(0,len(spearman_df)):\n",
    "    spearman_pval_dict[(spearman_df.Pathway1[i],spearman_df.Pathway2[i])] = spearman_df.pval_adj[i]\n",
    "    overlap_coef_dict[(spearman_df.Pathway1[i],spearman_df.Pathway2[i])] = spearman_df.Overlap_coef[i]\n",
    "\n",
    "\n",
    "nx.set_edge_attributes(G, spearman_pval_dict, \"Spearman_pval\")\n",
    "nx.set_edge_attributes(G, overlap_coef_dict, \"Overlap_coef\")\n",
    "\n",
    "G.edges[\"R-HSA-110331\",\"R-HSA-112310\"]#[\"Spearman_pval\"]\n",
    "\n",
    "#nx.write_gml(G,'Cytoscape/metabolomic_prefiltered.gml')\n",
    "#nx.write_gml(G,'Cytoscape/metabolomic_prefiltered_severecases.gml')\n"
   ]
  },
  {
   "cell_type": "code",
   "execution_count": null,
   "id": "be76d698",
   "metadata": {},
   "outputs": [],
   "source": [
    "#Create EDGE ATTRIBUTES table to filter out unneeded edges\n",
    "\n",
    "final_df = spearman_df[spearman_df[\"pval_adj\"] < 0.005]  \n",
    "final_df = final_df[final_df[\"Overlap_coef\"] < 0.5]\n",
    "final_df = final_df.reset_index(drop=True) \n",
    "display(final_df) #the duplicate edges have not been removed yet\n",
    "\n",
    "#In some instances, I have nodes which have no edges, and the results are different to Sara's\n",
    "#Can check the pathways prior to Overlap Coefficient filtering here\n",
    "#final_df[final_df[\"Pathway1\"] == \"R-HSA-196854\"]"
   ]
  },
  {
   "attachments": {},
   "cell_type": "markdown",
   "id": "148b11aa",
   "metadata": {},
   "source": [
    "Plot spearman correlation histogram to show edges AFTER filtering"
   ]
  },
  {
   "cell_type": "code",
   "execution_count": null,
   "id": "2fda1e00",
   "metadata": {},
   "outputs": [],
   "source": [
    "#Remove duplicates in the edge list\n",
    "\n",
    "final_df_copy = final_df.copy()\n",
    "\n",
    "#Remove duplicate pathways\n",
    "for i in range(0,len(final_df)):\n",
    "    val1 = final_df.Pathway1[i]\n",
    "    val2 = final_df.Pathway2[i]\n",
    "    #print(val1,val2)\n",
    "    #print(max(val1,val2))\n",
    "    final_df_copy.Pathway1[i] = min(val1,val2)\n",
    "    final_df_copy.Pathway2[i] = max(val1,val2)\n",
    "\n",
    "final_df_copy = final_df_copy.sort_values(['Pathway1','Pathway2'], ascending=True)\n",
    "final_df_copy = final_df_copy[::2]"
   ]
  },
  {
   "cell_type": "code",
   "execution_count": null,
   "id": "9fe4cd8e",
   "metadata": {},
   "outputs": [],
   "source": [
    "print(len(final_df_copy))\n",
    "spearman_hist = list(final_df_copy.Squared_corr)\n",
    "sns.histplot(spearman_hist, bins = 50,color='#FFD580',edgecolor=\"k\") \n",
    "\n",
    "plt.title('Spearman correlation coefficient distribution',fontsize=16)\n",
    "plt.xlabel('Correlation score',fontsize=16, labelpad=5)\n",
    "plt.ylabel('Count',fontsize=16, labelpad=10) ;\n",
    "\n",
    "#plt.savefig('Figures/metabolite_spearman_correlation_distribution_squared_afterfiltering.png' , dpi=200,bbox_inches = 'tight' , pad_inches = 0.2 , facecolor='w')"
   ]
  },
  {
   "cell_type": "code",
   "execution_count": null,
   "id": "050718e9",
   "metadata": {},
   "outputs": [],
   "source": [
    "pathways_with_edges = set(final_df.Pathway1)\n",
    "isolated_nodes = set(spearman_df.Pathway1) - set(pathways_with_edges) \n",
    "isolated_nodes\n",
    "#len(pathways_with_edges)"
   ]
  },
  {
   "cell_type": "code",
   "execution_count": null,
   "id": "a07f55e4",
   "metadata": {},
   "outputs": [],
   "source": [
    "#Draw network graph with new edges\n",
    "G = nx.Graph()\n",
    "G = nx.from_pandas_edgelist(df=final_df, source='Pathway1', target='Pathway2', edge_attr='Squared_corr')\n",
    "#G.add_nodes_from(isolated_nodes)\n",
    "nx.draw(G, with_labels = True)\n",
    "print(G.number_of_nodes())\n",
    "print(G.number_of_edges())"
   ]
  },
  {
   "cell_type": "code",
   "execution_count": null,
   "id": "9c5bbcd9",
   "metadata": {},
   "outputs": [],
   "source": [
    "\n",
    "#Add edge attributes\n",
    "spearman_pval_dict = {}\n",
    "overlap_coef_dict = {}\n",
    "for i in range(0,len(final_df)):\n",
    "    spearman_pval_dict[(final_df.Pathway1[i],final_df.Pathway2[i])] = final_df.pval_adj[i]\n",
    "    overlap_coef_dict[(final_df.Pathway1[i],final_df.Pathway2[i])] = final_df.Overlap_coef[i]\n",
    "    \n",
    "nx.set_edge_attributes(G, spearman_pval_dict, \"Spearman_pval\")\n",
    "nx.set_edge_attributes(G, overlap_coef_dict, \"Overlap_coef\")\n",
    "\n",
    "#G.edges[\"R-HSA-110331\",\"R-HSA-112310\"]#[\"Spearman_pval\"]\n",
    "\n"
   ]
  },
  {
   "attachments": {},
   "cell_type": "markdown",
   "id": "acbe3833",
   "metadata": {},
   "source": [
    "### Optional: Read in the metabolomic network to display the differential network"
   ]
  },
  {
   "cell_type": "code",
   "execution_count": null,
   "id": "3d245a34",
   "metadata": {},
   "outputs": [],
   "source": [
    "G = nx.read_gml(\"Cytoscape/metabolomic_prefiltered_commoncases.gml\")\n",
    "with open('Data/permutation_test_files_metabolomics/not_sig_edges.txt') as f:\n",
    "    lines = f.readlines()"
   ]
  },
  {
   "cell_type": "code",
   "execution_count": null,
   "id": "ef40a025",
   "metadata": {},
   "outputs": [],
   "source": [
    "edges_to_remove = []\n",
    "\n",
    "edges = lines[0].split(\",\")\n",
    "edges\n",
    "\n",
    "for index in range(0,len(edges),2):\n",
    "    list1 = edges[index],(edges[index+1][1:])\n",
    "    edges_to_remove.append(tuple(list1))\n",
    "\n",
    "len(edges_to_remove)"
   ]
  },
  {
   "cell_type": "code",
   "execution_count": null,
   "id": "04f75cbb",
   "metadata": {},
   "outputs": [],
   "source": [
    "G.remove_edges_from(edges_to_remove)\n",
    "print(G.number_of_nodes())\n",
    "print(G.number_of_edges())  \n",
    "G.nodes()"
   ]
  },
  {
   "cell_type": "code",
   "execution_count": null,
   "id": "7ae51534",
   "metadata": {},
   "outputs": [],
   "source": [
    "edges_to_remove_pval = [(u,v) for u,v,e in G.edges(data=True) if (e['Spearman_pval'] >= 0.005)]\n",
    "print(len(edges_to_remove_pval))\n",
    "edges_to_remove_pval"
   ]
  },
  {
   "cell_type": "code",
   "execution_count": null,
   "id": "d2253cd8",
   "metadata": {},
   "outputs": [],
   "source": [
    "edges_to_remove_oc = [(u,v) for u,v,e in G.edges(data=True) if (e['Overlap_coef'] >= 0.5)]\n",
    "print(len(edges_to_remove_oc))\n",
    "edges_to_remove_oc"
   ]
  },
  {
   "cell_type": "code",
   "execution_count": null,
   "id": "88f48dea",
   "metadata": {},
   "outputs": [],
   "source": [
    "len(list(set(edges_to_remove_pval).intersection(set(edges_to_remove_oc)))) #After filtering out the nonsignificant edges from the permutations, 6 of the edges from the metabolomic common case dataset have Spearman p-val >= 0.005 and OC >= 0.5 "
   ]
  },
  {
   "cell_type": "code",
   "execution_count": null,
   "id": "61134518",
   "metadata": {},
   "outputs": [],
   "source": [
    "edges_to_remove = [(u,v) for u,v,e in G.edges(data=True) if (e['Spearman_pval'] >= 0.005 or e['Overlap_coef'] >= 0.5)]\n",
    "G.remove_edges_from(edges_to_remove)\n",
    "print(G.number_of_nodes())\n",
    "print(G.number_of_edges())\n",
    "G.nodes(data=True)"
   ]
  },
  {
   "cell_type": "code",
   "execution_count": null,
   "id": "42beb5c8",
   "metadata": {},
   "outputs": [],
   "source": [
    "nodes_to_remove = list(nx.isolates(G))\n",
    "G.remove_nodes_from(nodes_to_remove)"
   ]
  },
  {
   "attachments": {},
   "cell_type": "markdown",
   "id": "ab94625d",
   "metadata": {},
   "source": [
    "### Setting node attributes"
   ]
  },
  {
   "attachments": {},
   "cell_type": "markdown",
   "id": "f4cb53d6",
   "metadata": {},
   "source": [
    "The betweenness centrality scores are the same whether or not the duplicates have been removed since the duplicate edges form the same edge when a graph is created"
   ]
  },
  {
   "cell_type": "code",
   "execution_count": null,
   "id": "8d880c72",
   "metadata": {},
   "outputs": [],
   "source": [
    "#IF YOU DON'T REMOVE THE EDGES, DON'T RUN THIS CODE\n",
    "\n",
    "#Add the betweenness centrality as a node attribute\n",
    "betweenness= nx.betweenness_centrality(G, normalized=True) #output as dictionary\n",
    "#display(betweenness)\n",
    "nx.set_node_attributes(G, betweenness, \"betweenness\")\n",
    "\n",
    "#Add the betweenness centrality as a node attribute\n",
    "degree= nx.degree_centrality(G) #output as dictionary\n",
    "#display(degree)\n",
    "nx.set_node_attributes(G, degree, \"degrees\")\n",
    "\n",
    "\n",
    "#Check\n",
    "print(G.number_of_nodes()) \n",
    "#G.nodes['R-HSA-110331']#[\"betweenness\"]"
   ]
  },
  {
   "attachments": {},
   "cell_type": "markdown",
   "id": "e6f1749e",
   "metadata": {},
   "source": [
    "Setting the highest level of the pathway hierarchy "
   ]
  },
  {
   "cell_type": "code",
   "execution_count": null,
   "id": "9a412bea",
   "metadata": {},
   "outputs": [],
   "source": [
    "#Using Cecilia's code\n",
    "\n",
    "#Creating graph\n",
    "hierarchy = pd.read_csv('Data/ReactomePathwaysRelation.txt', sep='\\t', header=None)\n",
    "\n",
    "#From the pathways, subset to Homo sapiens only\n",
    "hierarchy_hsa = hierarchy[hierarchy[0].str.contains('HSA')]\n",
    "\n",
    "#Return unique values in the first column that is not in the second column as a numpy array\n",
    "#These values are not child pathways in any instances\n",
    "hierarchy_hsa_parents = np.setdiff1d(hierarchy_hsa[0], hierarchy_hsa[1])\n",
    "\n",
    "#Add the unique values not in the second column as a second attached dataset to the bottom of the original data\n",
    "#The first column represents the parent column, the second column is the child column\n",
    "hierarchy_hsa_all = pd.concat([hierarchy_hsa, pd.DataFrame([hierarchy_hsa_parents, hierarchy_hsa_parents], index=[0, 1]).T])\n",
    "\n",
    "#DiGraph is a directed graph\n",
    "H = nx.from_pandas_edgelist(hierarchy_hsa, source=0, target=1, create_using=nx.DiGraph())\n"
   ]
  },
  {
   "cell_type": "code",
   "execution_count": null,
   "id": "a69b9d33",
   "metadata": {},
   "outputs": [],
   "source": [
    "#Find the root pathway\n",
    "\n",
    "def find_root(H,child):\n",
    "    #Find parent from child \n",
    "    parent = list(H.predecessors(child))\n",
    "\n",
    "    #Keep the loop going until the highest level is reached\n",
    "    if len(parent) == 0:\n",
    "        return child\n",
    "    else:  \n",
    "        return find_root(H, parent[0])\n",
    "\n",
    "hierarchy_hsa_all['Root'] = [find_root(H, i) for i in hierarchy_hsa_all[1]]\n",
    "\n",
    "hierarchy_hsa_all.columns = ['Parent', 'Child', 'Root']\n",
    "\n",
    "#There are 83 instances of duplicates, however all the child duplicates have the same root (even though different parents) after checking\n",
    "\n",
    "root_pathways = {}\n",
    "for pathway in list(H.nodes):\n",
    "    index = hierarchy_hsa_all.Child[hierarchy_hsa_all.Child == pathway].index.tolist()[0]\n",
    "    root_pathway  = hierarchy_hsa_all.Root[index]\n",
    "    label = root_pathway_dict[root_pathway]\n",
    "    root_pathways[pathway] = label\n"
   ]
  },
  {
   "cell_type": "code",
   "execution_count": null,
   "id": "bbae7a72",
   "metadata": {},
   "outputs": [],
   "source": [
    "#Shows all the root pathways in Reactome\n",
    "set(hierarchy_hsa_all['Root'] )\n",
    "#Shows all the root pathways present in the original dataset\n",
    "set(root_pathways.values())\n",
    "\n",
    "nx.set_node_attributes(G, root_pathways, \"root_pathway\")\n",
    "\n",
    "print(G.number_of_nodes()) "
   ]
  },
  {
   "cell_type": "code",
   "execution_count": null,
   "id": "289364bf",
   "metadata": {},
   "outputs": [],
   "source": [
    "#for some reason, not sure if really clustering by weight since it works with a typo \n",
    "#i think it works though, since changing the name gives a diff num of clusters even with seed set\n",
    "#Resolution = 1 is the default, increasing resolution will yield more communities\n",
    "louvain_clusters = nx.community.louvain_communities(G, weight='Squared_corr',seed=100,resolution=1.2)\n",
    "print(len(louvain_clusters))\n",
    "\n",
    "louvain_dict = {}\n",
    "for index,grouping in enumerate(louvain_clusters):\n",
    "    for pathway in grouping:\n",
    "        louvain_dict[pathway] = index+1\n",
    "\n",
    "nx.set_node_attributes(G, louvain_dict, \"louvain\")\n",
    "    "
   ]
  },
  {
   "cell_type": "code",
   "execution_count": null,
   "id": "6c5f1a7b",
   "metadata": {},
   "outputs": [],
   "source": [
    "reactome_pathways = sspa.process_gmt(\"Data/Reactome_Homo_sapiens_pathways_compounds_R84.gmt\")\n",
    "\n",
    "pathway_name_dict = {reactome_pathways.index[i]:reactome_pathways[\"Pathway_name\"][i] for i in range(0,len(reactome_pathways))}\n",
    "pathway_name_dict['R-HSA-1483257']\n",
    "pathway_name_dict = {k:pathway_name_dict[k] for k in list(G.nodes)}\n",
    "\n",
    "nx.set_node_attributes(G, pathway_name_dict, \"pathway_name\")"
   ]
  },
  {
   "cell_type": "code",
   "execution_count": null,
   "id": "d896c88e",
   "metadata": {},
   "outputs": [],
   "source": [
    "print(G.number_of_nodes())\n",
    "print(G.number_of_edges())\n",
    "\n",
    "print(G.nodes['R-HSA-110331'])#[\"betweenness\"]\n",
    "print(G.edges[\"R-HSA-110331\", \"R-HSA-112310\"])#[\"Spearman_pval\"]"
   ]
  },
  {
   "cell_type": "code",
   "execution_count": null,
   "id": "75dae2c1",
   "metadata": {},
   "outputs": [],
   "source": [
    "#nx.write_gml(G,'Cytoscape/metabolomic_final.gml')\n",
    "#nx.write_gml(G,'Cytoscape/metabolomic_final_severecases.gml')"
   ]
  }
 ],
 "metadata": {
  "kernelspec": {
   "display_name": "Python 3 (ipykernel)",
   "language": "python",
   "name": "python3"
  },
  "language_info": {
   "codemirror_mode": {
    "name": "ipython",
    "version": 3
   },
   "file_extension": ".py",
   "mimetype": "text/x-python",
   "name": "python",
   "nbconvert_exporter": "python",
   "pygments_lexer": "ipython3",
   "version": "3.10.11"
  }
 },
 "nbformat": 4,
 "nbformat_minor": 5
}
