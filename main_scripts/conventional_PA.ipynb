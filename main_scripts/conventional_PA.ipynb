{
 "cells": [
  {
   "cell_type": "code",
   "execution_count": null,
   "metadata": {},
   "outputs": [],
   "source": [
    "#Load libraries \n",
    "import pandas as pd\n",
    "import sspa\n",
    "import seaborn as sns\n",
    "import matplotlib.pyplot as plt\n",
    "import scipy\n"
   ]
  },
  {
   "cell_type": "code",
   "execution_count": null,
   "metadata": {},
   "outputs": [],
   "source": [
    "df = pd.read_csv('../Data/Su_COVID_metabolomics_processed_commoncases.csv', index_col=0)\n",
    "reactome_pathways = sspa.process_gmt(\"../Data/Reactome_Homo_sapiens_pathways_compounds_R84.gmt\")"
   ]
  },
  {
   "cell_type": "code",
   "execution_count": null,
   "metadata": {},
   "outputs": [],
   "source": [
    "df = pd.read_csv('../Data/Su_COVID_proteomics_processed_commoncases.csv', index_col=0)\n",
    "reactome_pathways = sspa.process_reactome('Homo sapiens', infile = '../Data/UniProt2Reactome_all_Levels_ver84.txt', download_latest = False, filepath = None)"
   ]
  },
  {
   "cell_type": "code",
   "execution_count": null,
   "metadata": {},
   "outputs": [],
   "source": [
    "#Convert pathway ID to name\n",
    "root_path = pd.read_excel('../Data/Root_pathways.xlsx', header=None)\n",
    "root_pathway_dict = {root_path[0][i]:root_path[1][i] for i in range(0,len(root_path))}\n",
    "\n",
    "root_pathway_names = list(root_pathway_dict.keys())\n",
    "#Remove root pathways\n",
    "reactome_pathways = reactome_pathways[~reactome_pathways.index.isin(root_pathway_names)]"
   ]
  },
  {
   "cell_type": "code",
   "execution_count": null,
   "metadata": {},
   "outputs": [],
   "source": [
    "for i in range(len(df.index)):\n",
    "    if df.WHO_status[i] == '1-2':\n",
    "        df['Group'][i] = 'Mild'\n",
    "    else:\n",
    "        df['Group'][i] = 'Severe'\n"
   ]
  },
  {
   "cell_type": "markdown",
   "metadata": {},
   "source": [
    "### Over-representation analysis"
   ]
  },
  {
   "cell_type": "code",
   "execution_count": null,
   "metadata": {},
   "outputs": [],
   "source": [
    "#Initiate an ORA object \n",
    "ora = sspa.sspa_ora(df.iloc[:,:-2], df[\"Group\"], reactome_pathways, 0.05, custom_background=None)\n",
    "#Carry out ORA\n",
    "ora_res = ora.over_representation_analysis()\n",
    "print(\"Number of differentially abundant molecules\", len(ora.DA_molecules))\n",
    "\n",
    "display(ora.DA_test_res.sort_values(by=\"P-value\"))\n",
    "display(ora_res.sort_values(by=\"P-value\"))\n",
    "\n",
    "\n",
    "top_10_pathways = ora_res.sort_values(by=\"P-value\").iloc[0:10, :]"
   ]
  },
  {
   "cell_type": "code",
   "execution_count": null,
   "metadata": {},
   "outputs": [],
   "source": [
    "#Change name to have a line break otherwise it won't fit on the plot\n",
    "top_10_pathways.Pathway_name[62] = '\\n Transport of inorganic cations/anions and \\n amino acids/oligopeptides   '"
   ]
  },
  {
   "cell_type": "code",
   "execution_count": null,
   "metadata": {},
   "outputs": [],
   "source": [
    "plt.figure(figsize=(9, 5))\n",
    "\n",
    "sns.set(font_scale = 2)\n",
    "sns.set_style(\"ticks\") # same as \"white\" but with ticks\n",
    "\n",
    "#If you want to colour by significance\n",
    "#bar_color = ['tab:green' if float(i) < 0.05 else 'tab:grey' for i in top_20_pathways['P-value']]\n",
    "#sns.barplot(data=top_10_pathways, y=\"Pathway_name\", x=\"P-value\", orient=\"h\", palette=bar_color) #rocket, magma\n",
    "\n",
    "#If you want to colour by gradient\n",
    "ax = sns.barplot(data=top_10_pathways, y=\"Pathway_name\", x=\"P-value\", orient=\"h\", palette=\"rocket\") #rocket, magma\n",
    "\n",
    "#Increase space between the bars and the axis\n",
    "ax.relim()\n",
    "ax.autoscale_view()\n",
    "\n",
    "\n",
    "#Add pathway coverage\n",
    "label = []\n",
    "for i in top_10_pathways.Coverage:\n",
    "    num = i.split('/')\n",
    "    print(num)\n",
    "    percent = (int(num[0]) / int(num[1])) *100\n",
    "    label.append(\"  \"+ str(round(percent,1))+ '%')\n",
    "\n",
    "print(label)\n",
    "\n",
    "ax.bar_label(ax.containers[0], labels=label)\n",
    "\n",
    "#plt.title('Metabolomics',fontsize=22,pad=10)\n",
    "plt.xlabel('Unadjusted p-value',fontsize=26)\n",
    "plt.ylabel('Pathway name',fontsize=26) \n",
    "plt.xlim(0, 0.2)\n",
    "\n",
    "\n",
    "plt.axvline(0.05, c=\"black\")\n",
    "\n",
    "\n",
    "#plt.savefig( '../Figures/proteomic_ORA_top_10.png' , dpi=300,bbox_inches = 'tight' , pad_inches = 0.2 , facecolor='w')"
   ]
  },
  {
   "cell_type": "code",
   "execution_count": null,
   "metadata": {},
   "outputs": [],
   "source": [
    "list(top_10_pathways.Coverage)"
   ]
  },
  {
   "cell_type": "markdown",
   "metadata": {},
   "source": [
    "For integrated data, take the two ORA results and combine the p-values with Fisher's method, which is what is commonly done (See Maghsoudi et al., 2021 for examples):"
   ]
  },
  {
   "cell_type": "code",
   "execution_count": null,
   "metadata": {},
   "outputs": [],
   "source": [
    "metabolomic_ora = ora_res.sort_values(by=\"P-value\")"
   ]
  },
  {
   "cell_type": "code",
   "execution_count": null,
   "metadata": {},
   "outputs": [],
   "source": [
    "proteomic_ora = ora_res.sort_values(by=\"P-value\")"
   ]
  },
  {
   "cell_type": "code",
   "execution_count": null,
   "metadata": {},
   "outputs": [],
   "source": [
    "metabolomic_ora.index = metabolomic_ora[\"ID\"]\n",
    "metabolomic_ora.drop(columns = [\"ID\"]) #using Sara's code to drop root pathways"
   ]
  },
  {
   "cell_type": "code",
   "execution_count": null,
   "metadata": {},
   "outputs": [],
   "source": [
    "proteomic_ora.index = proteomic_ora[\"ID\"]\n",
    "proteomic_ora.drop(columns = [\"ID\"]) #using Sara's code to drop root pathways"
   ]
  },
  {
   "cell_type": "code",
   "execution_count": null,
   "metadata": {},
   "outputs": [],
   "source": [
    "result = metabolomic_ora.merge(proteomic_ora, how='inner',right_index=True, left_index = True)\n",
    "#\"inner: use intersection of keys from both frames, similar to a SQL inner join; preserve the order of the left keys.\"\"conventional_PA copy.ipynb\"\n",
    "result[:5]"
   ]
  },
  {
   "cell_type": "code",
   "execution_count": null,
   "metadata": {},
   "outputs": [],
   "source": [
    "#Combine p-values\n",
    "\n",
    "result[\"combined_pval\"] = 0\n",
    "\n",
    "for i in range(len(result.index)):\n",
    "    ID_list = [result[\"P-value_x\"][i],result[\"P-value_y\"][i]]\n",
    "    print(ID_list)\n",
    "    test_stat,pval = scipy.stats.combine_pvalues(ID_list, method='fisher',weights=None)\n",
    "    print(pval)\n",
    "    result[\"combined_pval\"][i] = pval\n"
   ]
  },
  {
   "cell_type": "code",
   "execution_count": null,
   "metadata": {},
   "outputs": [],
   "source": [
    "result[:10]"
   ]
  },
  {
   "cell_type": "code",
   "execution_count": null,
   "metadata": {},
   "outputs": [],
   "source": [
    "top_10_pathways = result.sort_values(by=\"combined_pval\").iloc[0:10, :]"
   ]
  },
  {
   "cell_type": "markdown",
   "metadata": {},
   "source": [
    "For the single omics, percentage coverage can be calculated easily from the 'Coverage' column. For the integrated dataset, you need to find the Reactome pathway definitions."
   ]
  },
  {
   "cell_type": "code",
   "execution_count": null,
   "metadata": {},
   "outputs": [],
   "source": [
    "#Obtain pathway coverage for the top 10 results\n",
    "df = pd.read_csv(\"../Data/Su_integrated_data.csv\", index_col=0)\n",
    "reactome_pathways = pd.read_csv(\"../Data/Reactome_multi_omics_ChEBI_Uniprot.csv\", index_col=0,dtype=\"str\") #Dtype warning because in some columns, some values are in string format whereas some are in integer format, that's why I specify dtype=\"str\"\n",
    "kpca_scores = sspa.sspa_kpca(df.iloc[:,:-2], reactome_pathways)\n",
    "\n",
    "\n",
    "#Convert pathway ID to name\n",
    "root_path = pd.read_excel('../Data/Root_pathways.xlsx', header=None)\n",
    "root_pathway_dict = {root_path[0][i]:root_path[1][i] for i in range(0,len(root_path))}\n",
    "\n",
    "root_pathway_names = list(root_pathway_dict.keys())\n",
    "#Using Sara's code, remove root pathways\n",
    "kpca_scores = kpca_scores.drop(columns = list(set(root_pathway_names) & set(kpca_scores.columns)))\n",
    "\n",
    "\n",
    "\n",
    "#Filter out the molecules in the pathways that are not present in the dataset\n",
    "#Obtain all unique values in dataset\n",
    "compounds_present = list(df.columns[:-2])\n",
    "filtered_dict = {} \n",
    "\n",
    "#Obtain pathways and corresponding molecules for all Reactome pathways, store as dictionary\n",
    "orig_dict = sspa.utils.pathwaydf_to_dict(reactome_pathways)\n",
    "\n",
    "#Filter out dictionary to retain only the pathways that remain after kPCA\n",
    "my_keys = kpca_scores.columns\n",
    "pathways_dict = {key: orig_dict[key] for key in my_keys}\n",
    "\n",
    "\n",
    "#My code adapted from Cecilia's\n",
    "#If the key values are not part of the compounds in dataset then remove\n",
    "for key,value in pathways_dict.items():\n",
    "    new_val = [item for item in value if item in compounds_present]\n",
    "    if len(new_val) >= 2: #at least two compounds in the pathway\n",
    "        filtered_dict[key] = new_val"
   ]
  },
  {
   "cell_type": "code",
   "execution_count": null,
   "metadata": {},
   "outputs": [],
   "source": [
    "\n",
    "plt.figure(figsize=(9, 5.5))\n",
    "sns.set(font_scale = 2)\n",
    "\n",
    "sns.set_style(\"ticks\") # same as \"white\" but with ticks\n",
    "\n",
    "ax = sns.barplot(data=top_10_pathways, y=\"Pathway_name_x\", x=\"combined_pval\", orient=\"h\", palette=\"rocket\") #rocket, magma\n",
    "\n",
    "\n",
    "#Increase space between the bars and the axis\n",
    "ax.relim()\n",
    "ax.autoscale_view()\n",
    "\n",
    "\n",
    "\n",
    "label = []\n",
    "# percent1 = []\n",
    "# percent2 = []\n",
    "\n",
    "#Getting pathway coverage by taking the average of the metabolomic and proteomic pathway coverage (not ideal)\n",
    "# for i in range(10):\n",
    "#     pathway1 =  top_10_pathways.Coverage_x[i]\n",
    "#     num = pathway1.split('/')\n",
    "#     percent1 = (int(num[0]) / int(num[1])) *100\n",
    "#     print(percent1)\n",
    "\n",
    "#     pathway2 =  top_10_pathways.Coverage_y[i]\n",
    "#     num = pathway2.split('/')\n",
    "#     percent2 = (int(num[0]) / int(num[1])) *100\n",
    "#     print(percent2)\n",
    "\n",
    "#     percent = (percent1+percent2)/2\n",
    "#     print(percent)\n",
    "#     label.append(\"  \"+ str(round(percent,1))+ '%')\n",
    "\n",
    "# print(label)\n",
    "\n",
    "\n",
    "#Getting pathway coverage by using the Reactome pathway definitions concatenated together\n",
    "for i in range(10):\n",
    "    pathway_nam = top_10_pathways.iloc[i,0]\n",
    "    \n",
    "    num_in_df = len(filtered_dict[pathway_nam])\n",
    "    num_whole_pathway = len(orig_dict[pathway_nam])\n",
    "\n",
    "    percent = (num_in_df/num_whole_pathway) * 100\n",
    "\n",
    "    label.append(\"  \"+ str(round(percent,1))+ '%')\n",
    "\n",
    "ax.bar_label(ax.containers[0], labels=label)\n",
    "\n",
    "#plt.title('ORA for integrated data',fontsize=22,pad=10)\n",
    "plt.xlabel('Unadjusted p-value',fontsize=26)\n",
    "plt.ylabel('Pathway name',fontsize=26) \n",
    "plt.xlim(0, 0.57);\n",
    "\n",
    "plt.axvline(0.05, c=\"black\")\n",
    "\n",
    "#plt.savefig( '../Figures/integrated_ORA_top_10.png' , dpi=300,bbox_inches = 'tight' , pad_inches = 0.2 , facecolor='w')"
   ]
  },
  {
   "cell_type": "markdown",
   "metadata": {},
   "source": [
    "### Gene-set Enrichment Analysis"
   ]
  },
  {
   "cell_type": "code",
   "execution_count": null,
   "metadata": {},
   "outputs": [],
   "source": [
    "gsea_res = sspa.sspa_gsea(df.iloc[:,:-2], df[\"Group\"], reactome_pathways)"
   ]
  },
  {
   "cell_type": "code",
   "execution_count": null,
   "metadata": {},
   "outputs": [],
   "source": [
    "display(gsea_res.sort_values(by=\"P-adjust FDR\")) #0.54 is the lowest for metabolomic, 0.056 for proteomic\n",
    "#display(gsea_res.sort_values(by=\"P-value\"))"
   ]
  },
  {
   "cell_type": "code",
   "execution_count": null,
   "metadata": {},
   "outputs": [],
   "source": [
    "#Change name to have a line break otherwise it won't fit on the plot\n",
    "gsea_res.Pathway_name[0] = 'Regulation of Insulin-like Growth Factor (IGF) transport and \\n uptake by Insulin-like Growth Factor Binding Proteins (IGFBPs)'"
   ]
  },
  {
   "cell_type": "code",
   "execution_count": null,
   "metadata": {},
   "outputs": [],
   "source": [
    "top_10_pathways_gsea = gsea_res.sort_values(by=\"P-value\").iloc[0:10, :]\n",
    "top_10_pathways_gsea.index = range(len(top_10_pathways_gsea.index))"
   ]
  },
  {
   "cell_type": "markdown",
   "metadata": {},
   "source": [
    "For integrated data, take the two GSEA results and combine the p-values with Fisher's method, which is what is commonly done (See Maghsoudi et al., 2021 for examples):"
   ]
  },
  {
   "cell_type": "code",
   "execution_count": null,
   "metadata": {},
   "outputs": [],
   "source": [
    "metabolomic_gsea = gsea_res.sort_values(by=\"P-value\")\n",
    "metabolomic_gsea = metabolomic_gsea.set_index(['Pathway_ID'])"
   ]
  },
  {
   "cell_type": "code",
   "execution_count": null,
   "metadata": {},
   "outputs": [],
   "source": [
    "proteomic_gsea = gsea_res.sort_values(by=\"P-value\")\n",
    "proteomic_gsea = proteomic_gsea.set_index(['Pathway_ID'])"
   ]
  },
  {
   "cell_type": "code",
   "execution_count": null,
   "metadata": {},
   "outputs": [],
   "source": [
    "metabolomic_gsea"
   ]
  },
  {
   "cell_type": "code",
   "execution_count": null,
   "metadata": {},
   "outputs": [],
   "source": [
    "proteomic_gsea"
   ]
  },
  {
   "cell_type": "code",
   "execution_count": null,
   "metadata": {},
   "outputs": [],
   "source": [
    "result = metabolomic_gsea.merge(proteomic_gsea, how='inner',right_index=True, left_index = True)\n",
    "result[:5]"
   ]
  },
  {
   "cell_type": "code",
   "execution_count": null,
   "metadata": {},
   "outputs": [],
   "source": [
    "result[\"combined_pval\"] = 0"
   ]
  },
  {
   "cell_type": "code",
   "execution_count": null,
   "metadata": {},
   "outputs": [],
   "source": [
    "for i in range(len(result.index)):\n",
    "    ID_list = [result[\"P-value_x\"][i],result[\"P-value_y\"][i]]\n",
    "    print(ID_list)\n",
    "    test_stat,pval = scipy.stats.combine_pvalues(ID_list, method='fisher',weights=None)\n",
    "    print(pval)\n",
    "    result[\"combined_pval\"][i] = pval\n"
   ]
  },
  {
   "cell_type": "code",
   "execution_count": null,
   "metadata": {},
   "outputs": [],
   "source": [
    "top_10_pathways_gsea = result.sort_values(by=\"combined_pval\").iloc[0:10, :]"
   ]
  },
  {
   "cell_type": "markdown",
   "metadata": {},
   "source": [
    "For ORA, percentage coverage can be calculated easily from the 'Coverage' column. For GSEA, you need to find the Reactome pathway definitions. (ENTITY% IS NOT PATHWAY COVERAGE)"
   ]
  },
  {
   "cell_type": "code",
   "execution_count": null,
   "metadata": {},
   "outputs": [],
   "source": [
    "#Obtain pathway coverage for the top 10 results\n",
    "df = pd.read_csv('../Data/Su_COVID_metabolomics_processed_commoncases.csv', index_col=0)\n",
    "reactome_pathways = sspa.process_gmt(\"../Data/Reactome_Homo_sapiens_pathways_compounds_R84.gmt\")  #2294 Reactome pathways\n",
    "\n",
    "#df = pd.read_csv('../Data/Su_COVID_proteomics_processed_commoncases.csv', index_col=0)\n",
    "#reactome_pathways = sspa.process_reactome('Homo sapiens', infile = '../Data/UniProt2Reactome_All_Levels_ver84.txt', download_latest = False, filepath = None) #2596 Reactome pathways\n",
    "\n",
    "#df = pd.read_csv(\"../Data/Su_integrated_data.csv\", index_col=0)\n",
    "#reactome_pathways = pd.read_csv(\"../Data/Reactome_multi_omics_ChEBI_Uniprot.csv\", index_col=0,dtype=\"str\") #Dtype warning because in some columns, some values are in string format whereas some are in integer format, that's why I specify dtype=\"str\"\n",
    "\n",
    "\n",
    "\n",
    "kpca_scores = sspa.sspa_kpca(df.iloc[:,:-2], reactome_pathways)\n"
   ]
  },
  {
   "cell_type": "code",
   "execution_count": null,
   "metadata": {},
   "outputs": [],
   "source": [
    "#Convert pathway ID to name\n",
    "root_path = pd.read_excel('../Data/Root_pathways.xlsx', header=None)\n",
    "root_pathway_dict = {root_path[0][i]:root_path[1][i] for i in range(0,len(root_path))}\n",
    "\n",
    "root_pathway_names = list(root_pathway_dict.keys())\n",
    "#Using Sara's code, remove root pathways\n",
    "kpca_scores = kpca_scores.drop(columns = list(set(root_pathway_names) & set(kpca_scores.columns)))\n"
   ]
  },
  {
   "cell_type": "code",
   "execution_count": null,
   "metadata": {},
   "outputs": [],
   "source": [
    "\n",
    "#Filter out the molecules in the pathways that are not present in the dataset\n",
    "#Obtain all unique values in dataset\n",
    "compounds_present = list(df.columns[:-2])\n",
    "filtered_dict = {} \n",
    "\n",
    "#Obtain pathways and corresponding molecules for all Reactome pathways, store as dictionary\n",
    "orig_dict = sspa.utils.pathwaydf_to_dict(reactome_pathways)\n",
    "\n",
    "#Filter out dictionary to retain only the pathways that remain after kPCA\n",
    "my_keys = kpca_scores.columns\n",
    "pathways_dict = {key: orig_dict[key] for key in my_keys}\n",
    "\n",
    "\n",
    "#My code adapted from Cecilia's\n",
    "#If the key values are not part of the compounds in dataset then remove\n",
    "for key,value in pathways_dict.items():\n",
    "    new_val = [item for item in value if item in compounds_present]\n",
    "    if len(new_val) >= 2: #at least two compounds in the pathway\n",
    "        filtered_dict[key] = new_val"
   ]
  },
  {
   "cell_type": "markdown",
   "metadata": {},
   "source": [
    "Code for metabolomic and proteomic plot:"
   ]
  },
  {
   "cell_type": "code",
   "execution_count": null,
   "metadata": {},
   "outputs": [],
   "source": [
    "from matplotlib.lines import Line2D #To colour the bar by enrichment for the legend\n",
    "\n",
    "plt.figure(figsize=(10, 7))\n",
    "\n",
    "sns.set(font_scale = 2) #sns.set(font_scale = 1.2) for metabolomic because of long label\n",
    "sns.set_style(\"ticks\") # same as \"white\" but with ticks\n",
    "\n",
    "#Set bar colour based on normalised enrichment score sign\n",
    "bar_color = ['tab:red' if float(i) > 0 else 'tab:blue' for i in top_10_pathways_gsea['NES']]\n",
    "ax = sns.barplot(data=top_10_pathways_gsea, y=\"Pathway_name\", x=\"P-value\", orient=\"h\", palette=bar_color)\n",
    "\n",
    "#Increase space between the bars and the axis\n",
    "ax.relim()\n",
    "ax.autoscale_view()\n",
    "\n",
    "\n",
    "label=[]\n",
    "\n",
    "for i in range(10):\n",
    "\n",
    "    pathway_nam = top_10_pathways_gsea.Pathway_ID[i]\n",
    "    \n",
    "    num_in_df = len(filtered_dict[pathway_nam])\n",
    "    num_whole_pathway = len(orig_dict[pathway_nam])\n",
    "    \n",
    "    print(pathway_nam)\n",
    "    print(filtered_dict[pathway_nam])\n",
    "    print(orig_dict[pathway_nam])\n",
    "\n",
    "    percent = (num_in_df/num_whole_pathway) * 100\n",
    "\n",
    "    label.append(\"  \"+ str(round(percent,1))+ '%')\n",
    "\n",
    "\n",
    "print(label)\n",
    "\n",
    "\n",
    "\n",
    "ax.bar_label(ax.containers[0], labels=label)\n",
    "\n",
    "#plt.title('GSEA for integrated data',fontsize=22, pad=10)\n",
    "plt.xlabel('Unadjusted p-value',fontsize=26)\n",
    "plt.ylabel('Pathway name',fontsize=26) \n",
    "plt.xlim(0, 0.21);\n",
    "\n",
    "plt.axvline(0.05, c=\"black\")\n",
    "\n",
    "#Add legend\n",
    "custom_lines = [Line2D([0], [0], color='tab:red', lw=4),\n",
    "                Line2D([0], [0], color='tab:blue', lw=4)]\n",
    "plt.legend(handles=custom_lines, labels=['Positive enrichment score', 'Negative enrichment score'],loc=\"upper right\")\n",
    "\n",
    "\n",
    "#plt.savefig( '../Figures/integrated_GSEA_top_10.png' , dpi=300,bbox_inches = 'tight' , pad_inches = 0.2 , facecolor='w')"
   ]
  },
  {
   "cell_type": "markdown",
   "metadata": {},
   "source": [
    "Code for integrated plot:"
   ]
  },
  {
   "cell_type": "code",
   "execution_count": null,
   "metadata": {},
   "outputs": [],
   "source": [
    "from matplotlib.lines import Line2D #To colour the bar by enrichment for the legend\n",
    "\n",
    "plt.figure(figsize=(10, 7))\n",
    "\n",
    "sns.set(font_scale = 2) #sns.set(font_scale = 1.2) for metabolomic because of long label\n",
    "sns.set_style(\"ticks\") # same as \"white\" but with ticks\n",
    "\n",
    "#Set bar colour based on normalised enrichment score sign\n",
    "bar_color = ['tab:red' if float(i) > 0 else 'tab:blue' for i in top_10_pathways_gsea['NES_x']]\n",
    "ax = sns.barplot(data=top_10_pathways_gsea, y=\"Pathway_name_x\", x=\"combined_pval\", orient=\"h\", palette=bar_color)\n",
    "\n",
    "#Increase space between the bars and the axis\n",
    "ax.relim()\n",
    "ax.autoscale_view()\n",
    "\n",
    "\n",
    "label=[]\n",
    "# for i in range(10):\n",
    "#     pathway1 =  top_10_pathways_gsea[\"Entity %_x\"][i][:-1]\n",
    "    \n",
    "#     pathway2 =  top_10_pathways_gsea[\"Entity %_y\"][i][:-1]\n",
    "\n",
    "#     percent = (float(pathway1)+float(pathway2))/2\n",
    "#     print(percent)\n",
    "#     label.append(\"  \"+ str(round(percent,1))+ '%')\n",
    "\n",
    "# print(label)\n",
    "\n",
    "for i in range(10):\n",
    "\n",
    "    pathway_nam = top_10_pathways_gsea.index[i]\n",
    "    \n",
    "    num_in_df = len(filtered_dict[pathway_nam])\n",
    "    num_whole_pathway = len(orig_dict[pathway_nam])\n",
    "\n",
    "    percent = (num_in_df/num_whole_pathway) * 100\n",
    "\n",
    "    label.append(\"  \"+ str(round(percent,1))+ '%')\n",
    "\n",
    "\n",
    "print(label)\n",
    "\n",
    "\n",
    "\n",
    "ax.bar_label(ax.containers[0], labels=label)\n",
    "\n",
    "#plt.title('GSEA for integrated data',fontsize=22, pad=10)\n",
    "plt.xlabel('Unadjusted p-value',fontsize=26)\n",
    "plt.ylabel('Pathway name',fontsize=26) \n",
    "plt.xlim(0, 0.21);\n",
    "\n",
    "plt.axvline(0.05, c=\"black\")\n",
    "\n",
    "#Add legend\n",
    "custom_lines = [Line2D([0], [0], color='tab:red', lw=4),\n",
    "                Line2D([0], [0], color='tab:blue', lw=4)]\n",
    "plt.legend(handles=custom_lines, labels=['Positive enrichment score', 'Negative enrichment score'],loc=\"upper right\")\n",
    "\n",
    "\n",
    "#plt.savefig( '../Figures/integrated_GSEA_top_10.png' , dpi=300,bbox_inches = 'tight' , pad_inches = 0.2 , facecolor='w')"
   ]
  }
 ],
 "metadata": {
  "kernelspec": {
   "display_name": "Imperial_Project2",
   "language": "python",
   "name": "python3"
  },
  "language_info": {
   "codemirror_mode": {
    "name": "ipython",
    "version": 3
   },
   "file_extension": ".py",
   "mimetype": "text/x-python",
   "name": "python",
   "nbconvert_exporter": "python",
   "pygments_lexer": "ipython3",
   "version": "3.11.3"
  },
  "orig_nbformat": 4
 },
 "nbformat": 4,
 "nbformat_minor": 2
}
