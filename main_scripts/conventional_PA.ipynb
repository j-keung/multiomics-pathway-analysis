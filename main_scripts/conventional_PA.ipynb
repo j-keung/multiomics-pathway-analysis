{
 "cells": [
  {
   "cell_type": "code",
   "execution_count": null,
   "metadata": {},
   "outputs": [],
   "source": [
    "import pandas as pd\n",
    "import sspa\n",
    "import seaborn as sns\n",
    "import matplotlib.pyplot as plt\n",
    "import scipy\n"
   ]
  },
  {
   "cell_type": "code",
   "execution_count": null,
   "metadata": {},
   "outputs": [],
   "source": [
    "df = pd.read_csv('../Data/Su_COVID_metabolomics_processed_commoncases.csv', index_col=0)\n",
    "reactome_pathways = sspa.process_gmt(\"../Data/Reactome_Homo_sapiens_pathways_compounds_R84.gmt\")"
   ]
  },
  {
   "cell_type": "code",
   "execution_count": null,
   "metadata": {},
   "outputs": [],
   "source": [
    "df = pd.read_csv('../Data/Su_COVID_proteomics_processed_commoncases.csv', index_col=0)\n",
    "reactome_pathways = sspa.process_reactome('Homo sapiens', infile = '../Data/UniProt2Reactome_all_Levels_ver84.txt', download_latest = False, filepath = None)"
   ]
  },
  {
   "cell_type": "code",
   "execution_count": null,
   "metadata": {},
   "outputs": [],
   "source": [
    "#Convert pathway ID to name\n",
    "#root_path = pd.read_excel('../Data/Root_pathways.xlsx', header=None)\n",
    "#root_pathway_dict = {root_path[0][i]:root_path[1][i] for i in range(0,len(root_path))}\n",
    "\n",
    "#root_pathway_names = list(root_pathway_dict.keys())\n",
    "#Remove root pathways\n",
    "#reactome_pathways = reactome_pathways[~reactome_pathways.index.isin(root_pathway_names)]"
   ]
  },
  {
   "cell_type": "code",
   "execution_count": null,
   "metadata": {},
   "outputs": [],
   "source": [
    "for i in range(len(df.index)):\n",
    "    if df.WHO_status[i] == '1-2':\n",
    "        df['Group'][i] = 'Mild'\n",
    "    else:\n",
    "        df['Group'][i] = 'Severe'\n"
   ]
  },
  {
   "cell_type": "markdown",
   "metadata": {},
   "source": [
    "### Over-representation analysis"
   ]
  },
  {
   "cell_type": "code",
   "execution_count": null,
   "metadata": {},
   "outputs": [],
   "source": [
    "#Initiate an ORA object \n",
    "ora = sspa.sspa_ora(df.iloc[:,:-2], df[\"Group\"], reactome_pathways, 0.05, custom_background=None)\n",
    "#Carry out ORA\n",
    "ora_res = ora.over_representation_analysis()\n",
    "print(len(ora.DA_molecules))\n",
    "display(ora.DA_test_res.sort_values(by=\"P-value\"))\n",
    "display(ora_res.sort_values(by=\"P-value\"))\n",
    "\n",
    "\n",
    "top_10_pathways = ora_res.sort_values(by=\"P-value\").iloc[0:10, :]\n",
    "plt.figure(figsize=(9, 3.6))\n",
    "\n",
    "#If you want to colour by significance\n",
    "#bar_color = ['tab:green' if float(i) < 0.05 else 'tab:grey' for i in top_20_pathways['P-value']]\n",
    "#sns.barplot(data=top_10_pathways, y=\"Pathway_name\", x=\"P-value\", orient=\"h\", palette=bar_color) #rocket, magma\n",
    "\n",
    "#If you want to colour by gradient\n",
    "sns.barplot(data=top_10_pathways, y=\"Pathway_name\", x=\"P-value\", orient=\"h\", palette=\"rocket\") #rocket, magma\n",
    "\n",
    "plt.title('ORA for metabolomic data',fontsize=15)\n",
    "plt.xlabel('Unadjusted p-value',fontsize=13)\n",
    "plt.ylabel('Pathway name',fontsize=13) ;\n",
    "\n",
    "plt.axvline(0.05, c=\"black\")\n",
    "\n",
    "#plt.savefig( 'Figures/metabolomic_ORA_top_10.png' , dpi=200,bbox_inches = 'tight' , pad_inches = 0.2 , facecolor='w')"
   ]
  },
  {
   "cell_type": "markdown",
   "metadata": {},
   "source": [
    "For integrated data, take the two ORA results and combine the p-values with Fisher's method, which is what is commonly done (See Maghsoudi et al., 2021 for examples):"
   ]
  },
  {
   "cell_type": "code",
   "execution_count": null,
   "metadata": {},
   "outputs": [],
   "source": [
    "metabolomic_ora = ora_res.sort_values(by=\"P-value\")"
   ]
  },
  {
   "cell_type": "code",
   "execution_count": null,
   "metadata": {},
   "outputs": [],
   "source": [
    "proteomic_ora = ora_res.sort_values(by=\"P-value\")"
   ]
  },
  {
   "cell_type": "code",
   "execution_count": null,
   "metadata": {},
   "outputs": [],
   "source": [
    "metabolomic_ora.index = metabolomic_ora[\"ID\"]\n",
    "metabolomic_ora.drop(columns = [\"ID\"]) #using Sara's code to drop root pathways"
   ]
  },
  {
   "cell_type": "code",
   "execution_count": null,
   "metadata": {},
   "outputs": [],
   "source": [
    "proteomic_ora.index = proteomic_ora[\"ID\"]\n",
    "proteomic_ora.drop(columns = [\"ID\"]) #using Sara's code to drop root pathways"
   ]
  },
  {
   "cell_type": "code",
   "execution_count": null,
   "metadata": {},
   "outputs": [],
   "source": [
    "result = metabolomic_ora.merge(proteomic_ora, how='inner',right_index=True, left_index = True)\n",
    "result[:5]"
   ]
  },
  {
   "cell_type": "code",
   "execution_count": null,
   "metadata": {},
   "outputs": [],
   "source": [
    "result[\"combined_pval\"] = 0"
   ]
  },
  {
   "cell_type": "code",
   "execution_count": null,
   "metadata": {},
   "outputs": [],
   "source": [
    "for i in range(len(result.index)):\n",
    "    ID_list = [result[\"P-value_x\"][i],result[\"P-value_y\"][i]]\n",
    "    print(ID_list)\n",
    "    test_stat,pval = scipy.stats.combine_pvalues(ID_list, method='fisher',weights=None)\n",
    "    print(pval)\n",
    "    result[\"combined_pval\"][i] = pval\n"
   ]
  },
  {
   "cell_type": "code",
   "execution_count": null,
   "metadata": {},
   "outputs": [],
   "source": [
    "result[:10]"
   ]
  },
  {
   "cell_type": "code",
   "execution_count": null,
   "metadata": {},
   "outputs": [],
   "source": [
    "top_10_pathways = result.sort_values(by=\"combined_pval\").iloc[0:10, :]\n",
    "plt.figure(figsize=(9, 3.6))\n",
    "sns.barplot(data=top_10_pathways, y=\"Pathway_name_x\", x=\"combined_pval\", orient=\"h\", palette=\"rocket\") #rocket, magma\n",
    "\n",
    "plt.title('ORA for integrated data',fontsize=15)\n",
    "plt.xlabel('Unadjusted p-value',fontsize=13)\n",
    "plt.ylabel('Pathway name',fontsize=13) ;\n",
    "\n",
    "plt.axvline(0.05, c=\"black\")\n",
    "\n",
    "plt.savefig( 'Figures/integrated_ORA_top_10.png' , dpi=200,bbox_inches = 'tight' , pad_inches = 0.2 , facecolor='w')"
   ]
  },
  {
   "cell_type": "markdown",
   "metadata": {},
   "source": [
    "### Gene-set Enrichment Analysis"
   ]
  },
  {
   "cell_type": "code",
   "execution_count": null,
   "metadata": {},
   "outputs": [],
   "source": [
    "gsea_res = sspa.sspa_gsea(df.iloc[:,:-2], df[\"Group\"], reactome_pathways)"
   ]
  },
  {
   "cell_type": "code",
   "execution_count": null,
   "metadata": {},
   "outputs": [],
   "source": [
    "#display(gsea_res.sort_values(by=\"P-adjust FDR\")) #0.55 is the lowest for metabolomic, 0.06 for proteomic\n",
    "display(gsea_res.sort_values(by=\"P-value\"))"
   ]
  },
  {
   "cell_type": "code",
   "execution_count": null,
   "metadata": {},
   "outputs": [],
   "source": [
    "#Change name to have a line break otherwise it won't fit on the plot\n",
    "gsea_res.Pathway_name[0] = 'Regulation of Insulin-like Growth Factor (IGF) transport and \\n uptake by Insulin-like Growth Factor Binding Proteins (IGFBPs)'"
   ]
  },
  {
   "cell_type": "code",
   "execution_count": null,
   "metadata": {},
   "outputs": [],
   "source": [
    "from matplotlib.lines import Line2D\n",
    "\n",
    "top_10_pathways_gsea = gsea_res.sort_values(by=\"P-value\").iloc[0:10, :]\n",
    "plt.figure(figsize=(9, 3.6))\n",
    "\n",
    "# set bar colour based on normalised enrichment score sign\n",
    "bar_color = ['tab:red' if float(i) > 0 else 'tab:blue' for i in top_10_pathways_gsea['NES']]\n",
    "sns.barplot(data=top_10_pathways_gsea, y=\"Pathway_name\", x=\"P-value\", orient=\"h\", palette=bar_color)\n",
    "\n",
    "plt.title('GSEA for proteomic data',fontsize=15)\n",
    "plt.xlabel('Unadjusted p-value',fontsize=13)\n",
    "plt.ylabel('Pathway name',fontsize=13) ;\n",
    "\n",
    "plt.axvline(0.05, c=\"black\")\n",
    "\n",
    "# add legend\n",
    "custom_lines = [Line2D([0], [0], color='tab:red', lw=4),\n",
    "                Line2D([0], [0], color='tab:blue', lw=4)]\n",
    "plt.legend(handles=custom_lines, labels=['Positive enrichment score', 'Negative enrichment score'],loc=\"upper right\")\n",
    "\n",
    "#plt.savefig( 'Figures/proteomic_GSEA_top_10.png' , dpi=200,bbox_inches = 'tight' , pad_inches = 0.2 , facecolor='w')"
   ]
  },
  {
   "cell_type": "markdown",
   "metadata": {},
   "source": [
    "For integrated data, take the two GSEA results and combine the p-values with Fisher's method, which is what is commonly done (See Maghsoudi et al., 2021 for examples):"
   ]
  },
  {
   "cell_type": "code",
   "execution_count": null,
   "metadata": {},
   "outputs": [],
   "source": [
    "metabolomic_gsea = gsea_res.sort_values(by=\"P-value\")"
   ]
  },
  {
   "cell_type": "code",
   "execution_count": null,
   "metadata": {},
   "outputs": [],
   "source": [
    "proteomic_gsea = gsea_res.sort_values(by=\"P-value\")"
   ]
  },
  {
   "cell_type": "code",
   "execution_count": null,
   "metadata": {},
   "outputs": [],
   "source": [
    "metabolomic_gsea"
   ]
  },
  {
   "cell_type": "code",
   "execution_count": null,
   "metadata": {},
   "outputs": [],
   "source": [
    "proteomic_gsea"
   ]
  },
  {
   "cell_type": "code",
   "execution_count": null,
   "metadata": {},
   "outputs": [],
   "source": [
    "result = metabolomic_gsea.merge(proteomic_gsea, how='inner',right_index=True, left_index = True)\n",
    "result[:5]"
   ]
  },
  {
   "cell_type": "code",
   "execution_count": null,
   "metadata": {},
   "outputs": [],
   "source": [
    "result[\"combined_pval\"] = 0"
   ]
  },
  {
   "cell_type": "code",
   "execution_count": null,
   "metadata": {},
   "outputs": [],
   "source": [
    "for i in range(len(result.index)):\n",
    "    ID_list = [result[\"P-value_x\"][i],result[\"P-value_y\"][i]]\n",
    "    print(ID_list)\n",
    "    test_stat,pval = scipy.stats.combine_pvalues(ID_list, method='fisher',weights=None)\n",
    "    print(pval)\n",
    "    result[\"combined_pval\"][i] = pval\n"
   ]
  },
  {
   "cell_type": "code",
   "execution_count": null,
   "metadata": {},
   "outputs": [],
   "source": [
    "from matplotlib.lines import Line2D\n",
    "\n",
    "top_10_pathways_gsea = result.sort_values(by=\"combined_pval\").iloc[0:10, :]\n",
    "plt.figure(figsize=(9, 3.6))\n",
    "\n",
    "# set bar colour based on normalised enrichment score sign\n",
    "bar_color = ['tab:red' if float(i) > 0 else 'tab:blue' for i in top_10_pathways_gsea['NES_x']]\n",
    "sns.barplot(data=top_10_pathways_gsea, y=\"Pathway_name_x\", x=\"combined_pval\", orient=\"h\", palette=bar_color)\n",
    "\n",
    "plt.title('GSEA for integrated data',fontsize=15)\n",
    "plt.xlabel('Unadjusted p-value',fontsize=13)\n",
    "plt.ylabel('Pathway name',fontsize=13) ;\n",
    "\n",
    "plt.axvline(0.05, c=\"black\")\n",
    "\n",
    "#Add legend\n",
    "custom_lines = [Line2D([0], [0], color='tab:red', lw=4),\n",
    "                Line2D([0], [0], color='tab:blue', lw=4)]\n",
    "plt.legend(handles=custom_lines, labels=['Positive enrichment score', 'Negative enrichment score'],loc=\"upper right\")\n",
    "\n",
    "\n",
    "#plt.savefig( 'Figures/integrated_GSEA_top_10.png' , dpi=200,bbox_inches = 'tight' , pad_inches = 0.2 , facecolor='w')"
   ]
  }
 ],
 "metadata": {
  "kernelspec": {
   "display_name": "Imperial_Project2",
   "language": "python",
   "name": "python3"
  },
  "language_info": {
   "codemirror_mode": {
    "name": "ipython",
    "version": 3
   },
   "file_extension": ".py",
   "mimetype": "text/x-python",
   "name": "python",
   "nbconvert_exporter": "python",
   "pygments_lexer": "ipython3",
   "version": "3.11.3"
  },
  "orig_nbformat": 4
 },
 "nbformat": 4,
 "nbformat_minor": 2
}
