{
 "cells": [
  {
   "cell_type": "markdown",
   "metadata": {},
   "source": [
    "This script is used to 1.) compare the omics differential network, 2.) observe the common pathways between the omics differential networks, 3.) examine how the integration affects whether an edge becomes significant or not compared to the single omics only."
   ]
  },
  {
   "cell_type": "markdown",
   "metadata": {},
   "source": [
    "### Comparing with the significant edges BETWEEN the differential networks for all omics"
   ]
  },
  {
   "cell_type": "code",
   "execution_count": null,
   "metadata": {},
   "outputs": [],
   "source": [
    "def edge_num (omics):\n",
    "    with open('../Data/permutation_test_files_'+omics+'/sig_edges.txt') as f:\n",
    "        lines = f.readlines()\n",
    "    edges_remaining = []\n",
    "    edges = lines[0].split(\",\")\n",
    "\n",
    "    for index in range(0,len(edges),2):\n",
    "        list1 = edges[index],(edges[index+1][1:]) #becomes a tuple\n",
    "        edges_remaining.append(list1)\n",
    "\n",
    "    return edges_remaining\n"
   ]
  },
  {
   "cell_type": "code",
   "execution_count": null,
   "metadata": {},
   "outputs": [],
   "source": [
    "proteomic_edges = edge_num('proteomics')\n",
    "integrated_edges = edge_num('integrated')\n",
    "metabolomic_edges = edge_num('metabolomics')"
   ]
  },
  {
   "cell_type": "code",
   "execution_count": null,
   "metadata": {},
   "outputs": [],
   "source": [
    "intersection = list(set(metabolomic_edges).intersection(list(set(proteomic_edges))))  \n",
    "len(intersection) "
   ]
  },
  {
   "cell_type": "code",
   "execution_count": null,
   "metadata": {},
   "outputs": [],
   "source": [
    "intersection = list(set(integrated_edges).intersection(list(set(metabolomic_edges))))  \n",
    "len(intersection) "
   ]
  },
  {
   "cell_type": "code",
   "execution_count": null,
   "metadata": {},
   "outputs": [],
   "source": [
    "intersection = list(set(integrated_edges).intersection(list(set(proteomic_edges))))  \n",
    "len(intersection) "
   ]
  },
  {
   "cell_type": "code",
   "execution_count": null,
   "metadata": {},
   "outputs": [],
   "source": [
    "intersection = (set(metabolomic_edges) & set(proteomic_edges) & set(integrated_edges))  \n",
    "len(intersection) "
   ]
  },
  {
   "cell_type": "code",
   "execution_count": null,
   "metadata": {},
   "outputs": [],
   "source": [
    "#Pathway pairs for integrated data not detected by either single omics\n",
    "len(list(set(integrated_edges) - (set(metabolomic_edges)|set(proteomic_edges)))) "
   ]
  },
  {
   "cell_type": "markdown",
   "metadata": {},
   "source": [
    "### Get number of common pathways between the three omics"
   ]
  },
  {
   "cell_type": "code",
   "execution_count": null,
   "metadata": {},
   "outputs": [],
   "source": [
    "import pandas as pd\n",
    "import sspa"
   ]
  },
  {
   "cell_type": "code",
   "execution_count": null,
   "metadata": {},
   "outputs": [],
   "source": [
    "metabolomic_df = pd.read_csv('../Data/Su_COVID_metabolomics_processed_commoncases.csv', index_col=0)\n",
    "proteomic_df = pd.read_csv('../Data/Su_COVID_proteomics_processed_commoncases.csv', index_col=0)\n",
    "integrated_df = pd.read_csv(\"../Data/Su_integrated_data.csv\", index_col=0)\n",
    "\n",
    "#Remove root pathways\n",
    "#Convert pathway ID to name\n",
    "root_path = pd.read_excel('../Data/Root_pathways.xlsx', header=None)\n",
    "root_pathway_dict = {root_path[0][i]:root_path[1][i] for i in range(0,len(root_path))}\n",
    "root_pathway_names = list(root_pathway_dict.keys())"
   ]
  },
  {
   "cell_type": "markdown",
   "metadata": {},
   "source": [
    "Load in all the Reactome pathway definitions for all three omics:"
   ]
  },
  {
   "cell_type": "code",
   "execution_count": null,
   "metadata": {},
   "outputs": [],
   "source": [
    "reactome_pathways = sspa.process_gmt(\"../Data/Reactome_Homo_sapiens_pathways_compounds_R84.gmt\")\n",
    "kpca_scores = sspa.sspa_kpca(metabolomic_df.iloc[:,:-2], reactome_pathways)\n",
    "\n",
    "#Using Sara's code\n",
    "kpca_scores = kpca_scores.drop(columns = list(set(root_pathway_names) & set(kpca_scores.columns)))\n",
    "\n",
    "metabolomic_pathways = kpca_scores.columns\n",
    "metabolomic_pathways"
   ]
  },
  {
   "cell_type": "code",
   "execution_count": null,
   "metadata": {},
   "outputs": [],
   "source": [
    "#Load in a file downloaded from https://reactome.org/download/current/UniProt2Reactome_All_Levels.txt\n",
    "reactome_pathways = sspa.process_reactome('Homo sapiens', infile = '../Data/UniProt2Reactome_All_Levels_ver84.txt', download_latest = False, filepath = None)\n",
    "kpca_scores = sspa.sspa_kpca(proteomic_df.iloc[:,:-2], reactome_pathways)\n",
    "\n",
    "#Using Sara's code\n",
    "kpca_scores = kpca_scores.drop(columns = list(set(root_pathway_names) & set(kpca_scores.columns)))\n",
    "\n",
    "proteomic_pathways = kpca_scores.columns\n",
    "proteomic_pathways"
   ]
  },
  {
   "cell_type": "code",
   "execution_count": null,
   "metadata": {},
   "outputs": [],
   "source": [
    "reactome_pathways = pd.read_csv(\"../Data/Reactome_multi_omics_ChEBI_Uniprot.csv\", index_col=0,dtype=\"str\")\n",
    "kpca_scores = sspa.sspa_kpca(integrated_df.iloc[:,:-2], reactome_pathways)\n",
    "\n",
    "#Using Sara's code\n",
    "kpca_scores = kpca_scores.drop(columns = list(set(root_pathway_names) & set(kpca_scores.columns)))\n",
    "\n",
    "integrated_pathways = kpca_scores.columns\n",
    "integrated_pathways"
   ]
  },
  {
   "cell_type": "code",
   "execution_count": null,
   "metadata": {},
   "outputs": [],
   "source": [
    "print(len(set(metabolomic_pathways).intersection(list(set(proteomic_pathways)))))   #47 pathways\n",
    "print(len(set(metabolomic_pathways) & set(proteomic_pathways) & set(integrated_pathways)))  #47 pathways \n",
    "\n",
    "print(len(list(set(metabolomic_pathways).intersection(list(set(integrated_pathways))))))  #144 pathways (same as number of metabolomic)\n",
    "print(len(list(set(proteomic_pathways).intersection(list(set(integrated_pathways)))))) #578 pathways (same as number of proteomic)\n",
    "\n",
    "#710 pathways in integrated dataset\n",
    "#((144+578)-47+35)\n",
    "\n",
    "len(list(set(integrated_pathways) - (set(metabolomic_pathways)|set(proteomic_pathways)))) #35 pathways for integrated data not detected by either single omics"
   ]
  },
  {
   "cell_type": "markdown",
   "metadata": {},
   "source": [
    "Obtain new pathways made after the integration of the Reactome metabolomic and proteomic pathway definitions i.e. pathways comprised of one metabolite and one protein."
   ]
  },
  {
   "cell_type": "code",
   "execution_count": null,
   "metadata": {},
   "outputs": [],
   "source": [
    "new_pathways = list(set(integrated_pathways) - (set(metabolomic_pathways)|set(proteomic_pathways)))\n",
    "new_pathways"
   ]
  },
  {
   "cell_type": "code",
   "execution_count": null,
   "metadata": {},
   "outputs": [],
   "source": [
    "#Make a dictionary of the molecules present in the integrated Reactome definitions and in the integrated dataset\n",
    "\n",
    "df = pd.read_csv(\"../Data/Su_integrated_data.csv\", index_col=0)\n",
    "reactome_pathways = pd.read_csv(\"../Data/Reactome_multi_omics_ChEBI_Uniprot.csv\", index_col=0,dtype=\"str\")\n",
    "\n",
    "\n",
    "kpca_scores = sspa.sspa_kpca(integrated_df.iloc[:,:-2], reactome_pathways)\n",
    "\n",
    "#Using Sara's code\n",
    "kpca_scores = kpca_scores.drop(columns = list(set(root_pathway_names) & set(kpca_scores.columns)))\n",
    "\n",
    "#Obtain pathways and corresponding metabolites for all Reactome pathways, store as dictionary\n",
    "orig_dict = sspa.utils.pathwaydf_to_dict(reactome_pathways)\n",
    "\n",
    "#Filter out dictionary to retain only the pathways that remain after kPCA\n",
    "my_keys = kpca_scores.columns\n",
    "pathways_dict = {key: orig_dict[key] for key in my_keys}\n",
    "\n",
    "#Filter out the compounds in the pathways that are not present in the dataset\n",
    "\n",
    "#Obtain all unique values in dataset\n",
    "compounds_present = list(df.columns[:-2])\n",
    "filtered_dict = {} \n",
    "\n",
    "#My code adapted from Cecilia's\n",
    "#If the key values are not part of the compounds in dataset then remove\n",
    "for key,value in pathways_dict.items():\n",
    "    new_val = [item for item in value if item in compounds_present]\n",
    "    if len(new_val) >= 2: #at least two compounds in the pathway\n",
    "        filtered_dict[key] = new_val"
   ]
  },
  {
   "cell_type": "code",
   "execution_count": null,
   "metadata": {},
   "outputs": [],
   "source": [
    "#All 35 new pathways comprised of one metabolite and one protein\n",
    "\n",
    "proteomic_only_pathway = []\n",
    "proteomic_pathway_with_onemetabolite = []\n",
    "metabolomic_only_pathway = []\n",
    "metabolomic_pathway_with_oneprotein = []\n",
    "both_omic = []\n",
    "new_pathway = []\n",
    "\n",
    "for key,values in filtered_dict.items():\n",
    "    #if key in new_pathways:\n",
    "        #print(values)\n",
    "    #print(values)\n",
    "    proteomic=False\n",
    "    metabolomic=False\n",
    "    both=False\n",
    "\n",
    "\n",
    "    proteins = 0\n",
    "    metabolites = 0\n",
    "\n",
    "    for value in values:\n",
    "     \n",
    "        if value[0].isalpha():\n",
    "            proteins += 1\n",
    "        else:\n",
    "            metabolites += 1\n",
    "\n",
    "    \n",
    "    if metabolites == 0:\n",
    "        proteomic_only_pathway.append(key)\n",
    "    if proteins > 1 and metabolites == 1:\n",
    "        proteomic_pathway_with_onemetabolite.append(key)\n",
    "    \n",
    "    if proteins == 0:\n",
    "        metabolomic_only_pathway.append(key)\n",
    "    if metabolites > 1 and proteins == 1:\n",
    "        metabolomic_pathway_with_oneprotein.append(key)\n",
    "\n",
    "    if metabolites > 1 and proteins > 1:\n",
    "        both_omic.append(key)\n",
    "    if proteins == 1 and metabolites == 1:\n",
    "        new_pathway.append(key)\n",
    "\n"
   ]
  },
  {
   "cell_type": "code",
   "execution_count": null,
   "metadata": {},
   "outputs": [],
   "source": [
    "print(len(proteomic_only_pathway))\n",
    "print(len(proteomic_pathway_with_onemetabolite))\n",
    "print(len(metabolomic_only_pathway))\n",
    "print(len(metabolomic_pathway_with_oneprotein))\n",
    "print(len(both_omic))\n",
    "print(len(new_pathway))"
   ]
  },
  {
   "cell_type": "markdown",
   "metadata": {},
   "source": [
    "### Comparing the initial test statistics of the three omics to see which edges were affected"
   ]
  },
  {
   "cell_type": "code",
   "execution_count": null,
   "metadata": {},
   "outputs": [],
   "source": [
    "import pandas as pd"
   ]
  },
  {
   "cell_type": "markdown",
   "metadata": {},
   "source": [
    "Comparing the initial test statistics of the integrated data with the proteomic initial test statistics:"
   ]
  },
  {
   "cell_type": "code",
   "execution_count": null,
   "metadata": {},
   "outputs": [],
   "source": [
    "metabolomic = pd.read_csv('../Data/permutation_test_files_metabolomics/observed_tstats.csv', index_col=0)\n",
    "proteomic = pd.read_csv('../Data/permutation_test_files_proteomics/observed_tstats.csv', index_col=0)\n",
    "integrated = pd.read_csv('../Data/permutation_test_files_integrated/observed_tstats.csv', index_col=0)"
   ]
  },
  {
   "cell_type": "code",
   "execution_count": null,
   "metadata": {},
   "outputs": [],
   "source": [
    "metabolomic = metabolomic.rename(columns={'Observed_tstat': 'metabolomic_tstat'})\n",
    "proteomic = proteomic.rename(columns={'Observed_tstat': 'proteomic_tstat'})\n",
    "integrated = integrated.rename(columns={'Observed_tstat': 'integrated_tstat'})"
   ]
  },
  {
   "cell_type": "markdown",
   "metadata": {},
   "source": [
    "Comparing the initial test statistics of the integrated data with the proteomic initial test statistics:"
   ]
  },
  {
   "cell_type": "code",
   "execution_count": null,
   "metadata": {},
   "outputs": [],
   "source": [
    "initial_tstat_comp = proteomic.join(integrated) \n",
    "initial_tstat_comp #length of proteomic_tstat"
   ]
  },
  {
   "cell_type": "code",
   "execution_count": null,
   "metadata": {},
   "outputs": [],
   "source": [
    "#Number of pathway pairs with initial test statistic that are the same\n",
    "\n",
    "proteomic_only_edge = []\n",
    "metabolomic_influence_edge = []\n",
    "counter = 0\n",
    "\n",
    "for edge in initial_tstat_comp.index:\n",
    "    if initial_tstat_comp.loc[edge].proteomic_tstat == initial_tstat_comp.loc[edge].integrated_tstat:\n",
    "        proteomic_only_edge.append(edge)\n",
    "        counter += 1\n",
    "    else:\n",
    "        metabolomic_influence_edge.append(edge)\n",
    "\n",
    "\n",
    "print(counter)\n",
    "\n",
    "#166,753 edges of the proteomic initial test statistic dataset are all included in the integrated initial test statistic data\n",
    "#117,381 edges out of 166,753 are identical\n",
    "#Therefore 49,372 edges were influenced by the metabolomic data\n",
    "\n",
    "len(metabolomic_influence_edge)"
   ]
  },
  {
   "cell_type": "code",
   "execution_count": null,
   "metadata": {},
   "outputs": [],
   "source": [
    "#Change to tuple format so you can compare with the significant edges in the differential networks\n",
    "\n",
    "metabolomic_influence_edge_tuple = []\n",
    "for i in range(len(metabolomic_influence_edge)):\n",
    "    edge = metabolomic_influence_edge[i].split(\",\")\n",
    "    edge = (edge[0],edge[1][1:])\n",
    "    metabolomic_influence_edge_tuple.append(edge)\n",
    "\n",
    "\n",
    "proteomic_only_edge_tuple  = []\n",
    "for i in range(len(proteomic_only_edge )):\n",
    "    edge = proteomic_only_edge [i].split(\",\")\n",
    "    edge = (edge[0],edge[1][1:])\n",
    "    proteomic_only_edge_tuple.append(edge)"
   ]
  },
  {
   "cell_type": "code",
   "execution_count": null,
   "metadata": {},
   "outputs": [],
   "source": [
    "#Need to see proportion of metabolomic-influenced edges that are significantly differentially expressed edges (from differential network) in the proteomic data vs the integrated data\n",
    "print(len(metabolomic_influence_edge))\n",
    "print(len(list(set(proteomic_edges).intersection(set(metabolomic_influence_edge_tuple))))) #Before integrating with the metabolomics data, 680 edges significant\n",
    "print(len(list(set(integrated_edges).intersection(set(metabolomic_influence_edge_tuple))))) #After integrating with the metabolomics data, 765 significant\n",
    "\n",
    "\n",
    "#290 edges are the same between 680 edges and 765 edges\n",
    "list1 = list(set(proteomic_edges).intersection(set(metabolomic_influence_edge_tuple)))\n",
    "list2 = list(set(integrated_edges).intersection(set(metabolomic_influence_edge_tuple)))\n",
    "len(list(set(list1).intersection(set(list2))))"
   ]
  },
  {
   "cell_type": "code",
   "execution_count": null,
   "metadata": {},
   "outputs": [],
   "source": [
    "#Showing that 'Metabolomic influenced' proteomic pathways that are significant in the differential network are instances where at least one pathway is a common pathway OR one pathway is influenced by one metabolite (not enough to be considered a pathway in the metabolomic set)\n",
    "\n",
    "#proteomic_edges = edges significant in proteomic differential network\n",
    "list1 = list(set(proteomic_edges).intersection(set(metabolomic_influence_edge_tuple)))\n",
    "\n",
    "common_pathways = list(set(proteomic_pathways) & set(metabolomic_pathways))\n",
    "print(len(common_pathways))\n",
    "counter = 0 \n",
    "\n",
    "influenced_noncommon_pathway_pair = []\n",
    "for edges in list1:\n",
    "    pathway_pair = list(edges)\n",
    "    if (pathway_pair[0] in common_pathways) or (pathway_pair[1] in common_pathways):\n",
    "        #print(pathway_pair)\n",
    "        counter += 1\n",
    "    else:\n",
    "        influenced_noncommon_pathway_pair.append(edges)\n",
    "\n",
    "\n",
    "print(counter)\n",
    "#327 pathway pairs have at least one common pathway in them, out of the differentially expressed protein pathways in the network that are influenced by the metabolomics dataset\n",
    "#The other cases are where there is one metabolite added to one of the pathways that is not enough to be constituted as a pathway in the metabolomics dataset"
   ]
  },
  {
   "cell_type": "code",
   "execution_count": null,
   "metadata": {},
   "outputs": [],
   "source": [
    "#We can look at the pathways before and after integration to prove that for the non-common pathways that are influenced by the other omics, there is only one analyte from the other dataset added to it\n",
    "\n",
    "df = pd.read_csv(\"../Data/Su_integrated_data.csv\", index_col=0)\n",
    "reactome_pathways = pd.read_csv(\"../Data/Reactome_multi_omics_ChEBI_Uniprot.csv\", index_col=0,dtype=\"str\")\n",
    "\n",
    "\n",
    "kpca_scores = sspa.sspa_kpca(integrated_df.iloc[:,:-2], reactome_pathways)\n",
    "\n",
    "#Using Sara's code\n",
    "kpca_scores = kpca_scores.drop(columns = list(set(root_pathway_names) & set(kpca_scores.columns)))\n",
    "\n",
    "#Obtain pathways and corresponding metabolites for all Reactome pathways, store as dictionary\n",
    "orig_dict = sspa.utils.pathwaydf_to_dict(reactome_pathways)\n",
    "\n",
    "#Filter out dictionary to retain only the pathways that remain after kPCA\n",
    "my_keys = kpca_scores.columns\n",
    "pathways_dict = {key: orig_dict[key] for key in my_keys}\n",
    "\n",
    "#Filter out the compounds in the pathways that are not present in the dataset\n",
    "\n",
    "#Obtain all unique values in dataset\n",
    "compounds_present = list(df.columns[:-2])\n",
    "filtered_dict = {} \n",
    "\n",
    "#My code adapted from Cecilia's\n",
    "#If the key values are not part of the compounds in dataset then remove\n",
    "for key,value in pathways_dict.items():\n",
    "    new_val = [item for item in value if item in compounds_present]\n",
    "    if len(new_val) >= 2: #at least two compounds in the pathway\n",
    "        filtered_dict[key] = new_val"
   ]
  },
  {
   "cell_type": "code",
   "execution_count": null,
   "metadata": {},
   "outputs": [],
   "source": [
    "#As an example, look at pathway 'R-HSA-422475'\n",
    "\n",
    "print(influenced_noncommon_pathway_pair)\n",
    "list(reactome_pathways.loc['R-HSA-422475'])  #All proteins, only one metabolite\n",
    "filtered_dict['R-HSA-422475']"
   ]
  },
  {
   "cell_type": "markdown",
   "metadata": {},
   "source": [
    "Comparing the initial test statistics of the integrated data with the metabolomic initial test statistics:"
   ]
  },
  {
   "cell_type": "code",
   "execution_count": null,
   "metadata": {},
   "outputs": [],
   "source": [
    "initial_tstat_comp = metabolomic.join(integrated)\n",
    "initial_tstat_comp #length of metabolomic_tstat"
   ]
  },
  {
   "cell_type": "code",
   "execution_count": null,
   "metadata": {},
   "outputs": [],
   "source": [
    "#Number of pathway pairs with initial test statistic that are the same\n",
    "metabolomic_only_edge = []\n",
    "proteomic_influence_edge = []\n",
    "\n",
    "counter = 0\n",
    "for edge in initial_tstat_comp.index:\n",
    "    if initial_tstat_comp.loc[edge].metabolomic_tstat == initial_tstat_comp.loc[edge].integrated_tstat:\n",
    "        metabolomic_only_edge.append(edge)\n",
    "        counter += 1\n",
    "    else:\n",
    "        proteomic_influence_edge.append(edge)\n",
    "\n",
    "print(counter)\n",
    "\n",
    "#10,296 edges of the metabolomic initial test statistic dataset are all included in the integrated initial test statistic data\n",
    "#2,088 edges out of 10,296 are identical\n",
    "#Therefore 8,208 edges were influenced by the proteomic data\n",
    "\n",
    "len(proteomic_influence_edge)"
   ]
  },
  {
   "cell_type": "code",
   "execution_count": null,
   "metadata": {},
   "outputs": [],
   "source": [
    "#Change to tuple format so you can compare with the significant edges in the differential networks\n",
    "\n",
    "proteomic_influence_edge_tuple = []\n",
    "for i in range(len(proteomic_influence_edge)):\n",
    "    edge = proteomic_influence_edge[i].split(\",\")\n",
    "    edge = (edge[0],edge[1][1:])\n",
    "    #edge = tuple(sorted(edge))\n",
    "    proteomic_influence_edge_tuple.append(edge)\n",
    "\n",
    "\n",
    "metabolomic_only_edge_tuple = []\n",
    "for i in range(len(metabolomic_only_edge)):\n",
    "    edge = metabolomic_only_edge[i].split(\",\")\n",
    "    edge = (edge[0],edge[1][1:])\n",
    "    #edge = tuple(sorted(edge))\n",
    "    metabolomic_only_edge_tuple.append(edge)"
   ]
  },
  {
   "cell_type": "code",
   "execution_count": null,
   "metadata": {},
   "outputs": [],
   "source": [
    "#Need to see proportion of proteomic-influenced edges that are significant edges in the metabolomic data vs the integrated data\n",
    "print(len(proteomic_influence_edge))\n",
    "print(len(list(set(metabolomic_edges).intersection(set(proteomic_influence_edge_tuple))))) #Before integrating with the proteomics data, 17 edges significant\n",
    "print(len(list(set(integrated_edges).intersection(set(proteomic_influence_edge_tuple))))) #After integrating with the proteomics data, 45 significant\n",
    "\n",
    "#2 edges are the same between 17 edges and 45 edges\n",
    "list1 = list(set(metabolomic_edges).intersection(set(proteomic_influence_edge_tuple)))\n",
    "list2 = list(set(integrated_edges).intersection(set(proteomic_influence_edge_tuple)))\n",
    "len(list(set(list1).intersection(set(list2))))"
   ]
  },
  {
   "cell_type": "markdown",
   "metadata": {},
   "source": [
    "### Testing the integrated only edges"
   ]
  },
  {
   "cell_type": "code",
   "execution_count": null,
   "metadata": {},
   "outputs": [],
   "source": [
    "integrated_only = list(set(integrated_edges) - (set(metabolomic_edges)|set(proteomic_edges)))\n",
    "len(integrated_only)"
   ]
  },
  {
   "cell_type": "code",
   "execution_count": null,
   "metadata": {},
   "outputs": [],
   "source": [
    "print(len(proteomic_only_pathway))\n",
    "print(len(proteomic_pathway_with_onemetabolite))\n",
    "print(len(metabolomic_only_pathway))\n",
    "print(len(metabolomic_pathway_with_oneprotein))\n",
    "print(len(both_omic))\n",
    "print(len(new_pathway))"
   ]
  },
  {
   "cell_type": "code",
   "execution_count": null,
   "metadata": {},
   "outputs": [],
   "source": [
    "#Pathways where one is a common pathway\n",
    "\n",
    "counter = 0 \n",
    "\n",
    "for edges in integrated_only:\n",
    "    pathway_pair = list(edges)\n",
    "    if (pathway_pair[0] in both_omic) or (pathway_pair[1] in both_omic):\n",
    "        #print(pathway_pair)\n",
    "        counter += 1\n",
    "\n",
    "print(counter)"
   ]
  },
  {
   "cell_type": "code",
   "execution_count": null,
   "metadata": {},
   "outputs": [],
   "source": [
    "#Pathways where one is a common pathway and one is a new pathway\n",
    " \n",
    "counter = 0 \n",
    "\n",
    "for edges in integrated_only:\n",
    "    pathway_pair = list(edges)\n",
    "    if (pathway_pair[0] in both_omic) and (pathway_pair[1] in new_pathway):\n",
    "        counter += 1\n",
    "    if (pathway_pair[1] in both_omic) and (pathway_pair[0] in new_pathway):\n",
    "        counter += 1\n",
    "\n",
    "print(counter)"
   ]
  },
  {
   "cell_type": "code",
   "execution_count": null,
   "metadata": {},
   "outputs": [],
   "source": [
    "#Pathways where one is a new pathway\n",
    "\n",
    "counter = 0 \n",
    "\n",
    "for edges in integrated_only:\n",
    "    pathway_pair = list(edges)\n",
    "    if (pathway_pair[0] in new_pathway) or (pathway_pair[1] in new_pathway):\n",
    "        counter += 1\n",
    "\n",
    "print(counter)"
   ]
  },
  {
   "cell_type": "code",
   "execution_count": null,
   "metadata": {},
   "outputs": [],
   "source": [
    "#Pathways where both are the same\n",
    "\n",
    "counter = 0 \n",
    "\n",
    "for edges in integrated_only:\n",
    "    pathway_pair = list(edges)\n",
    "    #if (pathway_pair[0] in metabolomic_only_pathway) and (pathway_pair[1] in metabolomic_only_pathway):\n",
    "    #   counter += 1\n",
    "    if (pathway_pair[0] in proteomic_only_pathway) and (pathway_pair[1] in proteomic_only_pathway):\n",
    "        counter += 1\n",
    "    #if (pathway_pair[0] in metabolomic_pathway_with_oneprotein) and (pathway_pair[1] in metabolomic_pathway_with_oneprotein):\n",
    "    #    counter += 1\n",
    "    #if (pathway_pair[0] in proteomic_pathway_with_onemetabolite) and (pathway_pair[1] in proteomic_pathway_with_onemetabolite):\n",
    "    #    counter += 1\n",
    "\n",
    "print(counter)"
   ]
  },
  {
   "cell_type": "code",
   "execution_count": null,
   "metadata": {},
   "outputs": [],
   "source": [
    "counter = 0 \n",
    "\n",
    "for edges in integrated_only:\n",
    "    pathway_pair = list(edges)\n",
    "    if (pathway_pair[0] in proteomic_pathway_with_onemetabolite) and (pathway_pair[1] in proteomic_only_pathway):\n",
    "        counter += 1\n",
    "    if (pathway_pair[1] in proteomic_pathway_with_onemetabolite) and (pathway_pair[0] in proteomic_only_pathway):\n",
    "        counter += 1\n",
    "\n",
    "print(counter)"
   ]
  },
  {
   "cell_type": "code",
   "execution_count": null,
   "metadata": {},
   "outputs": [],
   "source": [
    "\n",
    "counter = 0 \n",
    "\n",
    "for edges in integrated_only:\n",
    "    pathway_pair = list(edges)\n",
    "    if (pathway_pair[0] in metabolomic_pathway_with_oneprotein) and (pathway_pair[1] in metabolomic_only_pathway):\n",
    "        counter += 1\n",
    "    if (pathway_pair[1] in metabolomic_pathway_with_oneprotein) and (pathway_pair[0] in metabolomic_only_pathway):\n",
    "        counter += 1\n",
    "\n",
    "print(counter)"
   ]
  },
  {
   "cell_type": "code",
   "execution_count": null,
   "metadata": {},
   "outputs": [],
   "source": [
    "\n",
    "counter = 0 \n",
    "\n",
    "for edges in integrated_only:\n",
    "    pathway_pair = list(edges)\n",
    "    if (pathway_pair[0] in metabolomic_pathway_with_oneprotein) and (pathway_pair[1] in proteomic_only_pathway):\n",
    "        counter += 1\n",
    "    if (pathway_pair[1] in metabolomic_pathway_with_oneprotein) and (pathway_pair[0] in proteomic_only_pathway):\n",
    "        counter += 1\n",
    "\n",
    "print(counter)"
   ]
  },
  {
   "cell_type": "code",
   "execution_count": null,
   "metadata": {},
   "outputs": [],
   "source": [
    "\n",
    "counter = 0 \n",
    "\n",
    "for edges in integrated_only:\n",
    "    pathway_pair = list(edges)\n",
    "    if (pathway_pair[0] in proteomic_pathway_with_onemetabolite) and (pathway_pair[1] in metabolomic_only_pathway):\n",
    "        counter += 1\n",
    "    if (pathway_pair[1] in proteomic_pathway_with_onemetabolite) and (pathway_pair[0] in metabolomic_only_pathway):\n",
    "        counter += 1\n",
    "\n",
    "print(counter)"
   ]
  },
  {
   "cell_type": "code",
   "execution_count": null,
   "metadata": {},
   "outputs": [],
   "source": [
    "counter = 0 \n",
    "\n",
    "for edges in integrated_only:\n",
    "    pathway_pair = list(edges)\n",
    "    if (pathway_pair[0] in proteomic_pathway_with_onemetabolite) and (pathway_pair[1] in metabolomic_pathway_with_oneprotein):\n",
    "        counter += 1\n",
    "    if (pathway_pair[1] in proteomic_pathway_with_onemetabolite) and (pathway_pair[0] in metabolomic_pathway_with_oneprotein):\n",
    "        counter += 1\n",
    "\n",
    "print(counter)"
   ]
  },
  {
   "cell_type": "code",
   "execution_count": null,
   "metadata": {},
   "outputs": [],
   "source": [
    "\n",
    "\n",
    "counter = 0 \n",
    "\n",
    "for edges in integrated_only:\n",
    "    pathway_pair = list(edges)\n",
    "    if (pathway_pair[0] in proteomic_only_pathway) and (pathway_pair[1] in metabolomic_only_pathway):\n",
    "        #print(pathway_pair)\n",
    "        counter += 1\n",
    "    if (pathway_pair[0] in metabolomic_only_pathway) and (pathway_pair[1] in proteomic_only_pathway):\n",
    "        #print(pathway_pair)\n",
    "        counter += 1\n",
    "\n",
    "print(counter)"
   ]
  },
  {
   "cell_type": "markdown",
   "metadata": {},
   "source": [
    "### Test the spurious findings"
   ]
  },
  {
   "cell_type": "code",
   "execution_count": null,
   "metadata": {},
   "outputs": [],
   "source": [
    "import os \n",
    "import numpy as np\n",
    "import statsmodels.stats.multitest\n",
    "from itertools import compress"
   ]
  },
  {
   "cell_type": "code",
   "execution_count": null,
   "metadata": {},
   "outputs": [],
   "source": [
    "#Unusual findings: \n",
    " \n",
    "#Proteomic influenced only (i.e. pairs where both pathways are only in the proteomic dataset)\n",
    "print(len(list(set(proteomic_only_edge_tuple).intersection(set(integrated_only)))))\n",
    "\n",
    "#Metabolomic influenced only (i.e. pairs where both pathways are only in the metabolomic dataset)\n",
    "print(len(list(set(metabolomic_only_edge_tuple).intersection(set(integrated_only)))))"
   ]
  },
  {
   "cell_type": "code",
   "execution_count": null,
   "metadata": {},
   "outputs": [],
   "source": [
    "#Check the significance of these spurious results (don't use the term false positives)\n",
    "\n",
    "proteomic_spurious = list(set(proteomic_only_edge_tuple).intersection(set(integrated_only)))\n",
    "metabolomic_spurious = list(set(metabolomic_only_edge_tuple).intersection(set(integrated_only))) #0 edges"
   ]
  },
  {
   "cell_type": "code",
   "execution_count": null,
   "metadata": {},
   "outputs": [],
   "source": [
    "path = os.getcwd()[:-13] + '\\\\Data\\\\permutation_test_files_proteomics\\\\Values'\n",
    "\n",
    "val_array = []\n",
    "\n",
    "\n",
    "for filename in os.listdir(path): #also lists directories\n",
    "    with open(os.path.join(path, filename)) as file:    \n",
    "        lines = file.readlines()\n",
    "        vals = lines[0].split(';')\n",
    "        vals =  [int(x) for x in vals]\n",
    "        #print(vals)\n",
    "        if filename == 'vals1.txt':\n",
    "            val_array = np.array(vals)\n",
    "        else:\n",
    "            val_array = np.vstack([val_array, vals])\n",
    "\n",
    "val_array\n",
    "val_array2 = val_array.sum(axis=0) #add up the values by columns for each pathway pair\n",
    "pval_array = val_array2 / 100000\n"
   ]
  },
  {
   "cell_type": "code",
   "execution_count": null,
   "metadata": {},
   "outputs": [],
   "source": [
    "sig_edge_boolean,adjusted_pval = statsmodels.stats.multitest.fdrcorrection(pval_array, alpha=0, method='poscorr', is_sorted=False)"
   ]
  },
  {
   "cell_type": "code",
   "execution_count": null,
   "metadata": {},
   "outputs": [],
   "source": [
    "df = pd.read_csv('../Data/permutation_test_files_proteomics/observed_tstats.csv', index_col=0)\n",
    "edgelist = df.index\n",
    "\n",
    "#sig_edges = list(compress(edgelist,sig_edge_boolean))\n",
    "\n",
    "\n",
    "#Zip p-values to edge names to form dictionary (so I can test significance of differentially expressed genes)\n",
    "edgelist_tuple = []\n",
    "for i in range(len(edgelist)):\n",
    "    edge = edgelist[i].split(\",\")\n",
    "    edge = (edge[0],edge[1][1:])\n",
    "    edgelist_tuple.append(edge)\n",
    "    \n",
    "#p_val_dict  = dict(zip(edgelist_tuple, adjusted_pval))\n",
    "p_val_dict  = dict(zip(edgelist_tuple, pval_array))\n"
   ]
  },
  {
   "cell_type": "code",
   "execution_count": null,
   "metadata": {},
   "outputs": [],
   "source": [
    "proteomic_spurious_pval = []\n",
    "metabolomic_spurious_pval = []\n",
    "\n",
    "for edge in proteomic_spurious:\n",
    "    if edge in list(p_val_dict.keys()):\n",
    "        proteomic_spurious_pval.append(p_val_dict[edge])\n",
    "\n",
    "proteomic_spurious_pval[:100]\n",
    "\n",
    "#Get the average p-value of the spurious findings\n",
    "sum(proteomic_spurious_pval)/len(proteomic_spurious_pval)  \n",
    "#Close to the 1e-5 p-value as expected"
   ]
  }
 ],
 "metadata": {
  "kernelspec": {
   "display_name": "Imperial_Project2",
   "language": "python",
   "name": "python3"
  },
  "language_info": {
   "codemirror_mode": {
    "name": "ipython",
    "version": 3
   },
   "file_extension": ".py",
   "mimetype": "text/x-python",
   "name": "python",
   "nbconvert_exporter": "python",
   "pygments_lexer": "ipython3",
   "version": "3.11.3"
  }
 },
 "nbformat": 4,
 "nbformat_minor": 2
}
