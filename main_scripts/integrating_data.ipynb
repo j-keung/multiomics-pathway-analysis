{
 "cells": [
  {
   "cell_type": "markdown",
   "metadata": {},
   "source": [
    "This script concatenates the Reactome pathway definitions and the single-omics datasets for metabolomics and proteomics to form a integrated Reactome pathway definition and an integrated multi-omics dataset."
   ]
  },
  {
   "cell_type": "markdown",
   "metadata": {},
   "source": [
    "### Create multi-omics pathways"
   ]
  },
  {
   "cell_type": "code",
   "execution_count": null,
   "metadata": {},
   "outputs": [],
   "source": [
    "#Load libraries \n",
    "import pandas as pd\n",
    "import sspa"
   ]
  },
  {
   "cell_type": "markdown",
   "metadata": {},
   "source": [
    "Downloading the multiomics data for the pathways is as easy as downloading from the sspa package. However, the latest pathway version is v85, whereas I have used v84 for the single omics metabolomics and proteomics dataset. Therefore, I would have have to manually concatenate the v84 pathway files together for metabolomics and proteomics."
   ]
  },
  {
   "cell_type": "markdown",
   "metadata": {},
   "source": [
    "Method 1: Downloading from sspa package"
   ]
  },
  {
   "cell_type": "code",
   "execution_count": null,
   "metadata": {},
   "outputs": [],
   "source": [
    "#Download Reactome latest multi-omics for mice\n",
    "reactome_mouse_latest_mo = sspa.process_reactome(\"Mus musculus\", download_latest=True, filepath=\".\", omics_type='multiomics')"
   ]
  },
  {
   "cell_type": "code",
   "execution_count": null,
   "metadata": {},
   "outputs": [],
   "source": [
    "#Download Reactome latest multi-omics for human\n",
    "reactome_human_latest_mo = sspa.process_reactome(\"Homo sapiens\", download_latest=True, filepath=\".\", omics_type='multiomics')"
   ]
  },
  {
   "cell_type": "markdown",
   "metadata": {},
   "source": [
    "Method 2: Manually concatenating specific version files"
   ]
  },
  {
   "cell_type": "code",
   "execution_count": null,
   "metadata": {},
   "outputs": [],
   "source": [
    "#Metabolomic pathways (ChEBI IDs)\n",
    "metabolomic_reactome_pathways = sspa.process_gmt(\"../Data/Reactome_Homo_sapiens_pathways_compounds_R84.gmt\")"
   ]
  },
  {
   "cell_type": "code",
   "execution_count": null,
   "metadata": {},
   "outputs": [],
   "source": [
    "#Proteomic pathways  (UniProt IDs)\n",
    "proteomic_reactome_pathways = sspa.process_reactome('Homo sapiens', infile = '../Data/UniProt2Reactome_All_Levels_ver84.txt', download_latest = False, filepath = None)"
   ]
  },
  {
   "cell_type": "code",
   "execution_count": null,
   "metadata": {},
   "outputs": [],
   "source": [
    "proteomic_reactome_pathways = proteomic_reactome_pathways.rename_axis('Pathway_ID')\n",
    "proteomic_reactome_pathways"
   ]
  },
  {
   "cell_type": "markdown",
   "metadata": {},
   "source": [
    "Currently the only index is the Pathway ID. I create a multi-index so that the Pathway name also becomes part of the index as well."
   ]
  },
  {
   "cell_type": "code",
   "execution_count": null,
   "metadata": {},
   "outputs": [],
   "source": [
    "metabolomic_reactome_pathways.set_index([metabolomic_reactome_pathways.index, metabolomic_reactome_pathways['Pathway_name']], inplace=True)\n",
    "metabolomic_reactome_pathways.drop(['Pathway_name'], axis=1, inplace=True)"
   ]
  },
  {
   "cell_type": "code",
   "execution_count": null,
   "metadata": {},
   "outputs": [],
   "source": [
    "proteomic_reactome_pathways.set_index([proteomic_reactome_pathways.index, proteomic_reactome_pathways['Pathway_name']], inplace=True)\n",
    "proteomic_reactome_pathways.drop(['Pathway_name'], axis=1, inplace=True)"
   ]
  },
  {
   "cell_type": "code",
   "execution_count": null,
   "metadata": {},
   "outputs": [],
   "source": [
    "display(metabolomic_reactome_pathways)\n",
    "display(proteomic_reactome_pathways)"
   ]
  },
  {
   "cell_type": "code",
   "execution_count": null,
   "metadata": {},
   "outputs": [],
   "source": [
    "#Merge pathways on uniprot index\n",
    "reactome_mo = metabolomic_reactome_pathways.merge(proteomic_reactome_pathways, how='outer', left_index=True, right_index=True)    \n",
    "reactome_mo\n"
   ]
  },
  {
   "cell_type": "code",
   "execution_count": null,
   "metadata": {},
   "outputs": [],
   "source": [
    "#Pathway_name column turns from index to normal column\n",
    "reactome_mo = reactome_mo.reset_index(level=[1]) \n",
    "reactome_mo.index\n"
   ]
  },
  {
   "cell_type": "code",
   "execution_count": null,
   "metadata": {},
   "outputs": [],
   "source": [
    "reactome_mo.to_csv(\"../Data/Reactome_multi_omics_ChEBI_Uniprot.csv\")"
   ]
  },
  {
   "cell_type": "code",
   "execution_count": null,
   "metadata": {},
   "outputs": [],
   "source": [
    "#Read in file to check\n",
    "mo_pathways = pd.read_csv(\"../Data/Reactome_multi_omics_ChEBI_Uniprot.csv\", index_col=0,dtype=\"str\")\n",
    "#Dtype warning because in some columns, some values are in string format whereas some are in integer format, that's why I specify dtype=\"str\""
   ]
  },
  {
   "cell_type": "code",
   "execution_count": null,
   "metadata": {},
   "outputs": [],
   "source": [
    "mo_pathways"
   ]
  },
  {
   "cell_type": "markdown",
   "metadata": {},
   "source": [
    "### Create multi-omics dataset"
   ]
  },
  {
   "cell_type": "code",
   "execution_count": null,
   "metadata": {},
   "outputs": [],
   "source": [
    "#Load datasets\n",
    "metabolomic_df = pd.read_csv('../Data/Su_COVID_metabolomics_processed_commoncases.csv', index_col=0)\n",
    "proteomic_df = pd.read_csv('../Data/Su_COVID_proteomics_processed_commoncases.csv', index_col=0)"
   ]
  },
  {
   "cell_type": "code",
   "execution_count": null,
   "metadata": {},
   "outputs": [],
   "source": [
    "#Filter to common samples\n",
    "list1 = list(metabolomic_df.index)\n",
    "list2 = list(proteomic_df.index)\n",
    "\n",
    "#Obtain common samples and subset accordingly\n",
    "intersection = list(set(metabolomic_df.index.tolist()) & set(proteomic_df.index.tolist())) #set removes duplicates\n",
    "intersection = [sample for sample in intersection if sample.startswith(\"INCOV\")]\n",
    "\n",
    "metabolomic_df = metabolomic_df[metabolomic_df.index.isin(intersection)]\n",
    "proteomic_df = proteomic_df[proteomic_df.index.isin(intersection)]\n"
   ]
  },
  {
   "cell_type": "code",
   "execution_count": null,
   "metadata": {},
   "outputs": [],
   "source": [
    "concat_omics = pd.concat([metabolomic_df.iloc[:,:-2], proteomic_df], axis=1)"
   ]
  },
  {
   "cell_type": "code",
   "execution_count": null,
   "metadata": {},
   "outputs": [],
   "source": [
    "concat_omics.to_csv(\"../Data/Su_integrated_data.csv\")"
   ]
  },
  {
   "cell_type": "code",
   "execution_count": null,
   "metadata": {},
   "outputs": [],
   "source": [
    "#Read in file to check\n",
    "multiomic_df = pd.read_csv(\"../Data/Su_integrated_data.csv\", index_col=0)"
   ]
  },
  {
   "cell_type": "code",
   "execution_count": null,
   "metadata": {},
   "outputs": [],
   "source": [
    "multiomic_df.dtypes"
   ]
  },
  {
   "cell_type": "code",
   "execution_count": null,
   "metadata": {},
   "outputs": [],
   "source": [
    "#Test kPCA on whole dataset\n",
    "kpca_scores_all = sspa.sspa_kpca(multiomic_df, mo_pathways)"
   ]
  }
 ],
 "metadata": {
  "kernelspec": {
   "display_name": "Imperial_Project2",
   "language": "python",
   "name": "python3"
  },
  "language_info": {
   "codemirror_mode": {
    "name": "ipython",
    "version": 3
   },
   "file_extension": ".py",
   "mimetype": "text/x-python",
   "name": "python",
   "nbconvert_exporter": "python",
   "pygments_lexer": "ipython3",
   "version": "3.11.3"
  },
  "orig_nbformat": 4
 },
 "nbformat": 4,
 "nbformat_minor": 2
}
