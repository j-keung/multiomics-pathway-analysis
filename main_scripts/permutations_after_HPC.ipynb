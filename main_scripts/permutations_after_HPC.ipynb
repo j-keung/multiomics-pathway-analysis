{
 "cells": [
  {
   "cell_type": "markdown",
   "metadata": {},
   "source": [
    "This script is used to 1.) test the code I use for the HPC sh scripts and 2.) read in the HPC-generated permutation files."
   ]
  },
  {
   "cell_type": "code",
   "execution_count": null,
   "metadata": {},
   "outputs": [],
   "source": [
    "#Load libraries \n",
    "import pandas as pd\n",
    "import os\n",
    "import pickle"
   ]
  },
  {
   "cell_type": "code",
   "execution_count": null,
   "metadata": {},
   "outputs": [],
   "source": [
    "#Download the observed test statistics\n",
    "df = pd.read_csv('../Data/permutation_test_files_metabolomics/observed_tstats.csv', index_col=0)\n",
    "#df = pd.read_csv('../Data/permutation_test_files_proteomics/observed_tstats.csv', index_col=0)\n"
   ]
  },
  {
   "cell_type": "markdown",
   "metadata": {},
   "source": [
    "### Reading in the files"
   ]
  },
  {
   "cell_type": "code",
   "execution_count": null,
   "metadata": {},
   "outputs": [],
   "source": [
    "os.getcwd()"
   ]
  },
  {
   "cell_type": "code",
   "execution_count": null,
   "metadata": {},
   "outputs": [],
   "source": [
    "path = os.getcwd()[:-13] + '\\\\Data\\\\permutation_test_files_metabolomics'\n",
    "#path = os.getcwd()[:-13] + '\\\\Data\\\\permutation_test_files_proteomics'\n",
    "#path = os.getcwd()[:-13] + '\\\\Data\\\\permutation_test_files_integrated'"
   ]
  },
  {
   "cell_type": "markdown",
   "metadata": {},
   "source": [
    "Read all the files that start with 'Run' inside a folder:"
   ]
  },
  {
   "cell_type": "code",
   "execution_count": null,
   "metadata": {},
   "outputs": [],
   "source": [
    "final_list = []\n",
    "\n",
    "for filename in os.listdir(path): #also lists directories\n",
    "    if filename.startswith('Run'):\n",
    "        file_num = int(filename[3:-4])  #obtain the number of the Run\n",
    "        if file_num < 11:\n",
    "            print(filename)\n",
    "            with open(os.path.join(path, filename), 'rb') as file: #open in readonly mode\n",
    "                list1 = pickle.load(file)\n",
    "            final_list.append(list1)"
   ]
  },
  {
   "cell_type": "markdown",
   "metadata": {},
   "source": [
    "Read all the files in a folder that starts with 'Results':"
   ]
  },
  {
   "cell_type": "code",
   "execution_count": null,
   "metadata": {},
   "outputs": [],
   "source": [
    "final_list = []\n",
    "\n",
    "for filename in os.listdir(path): #also lists directories\n",
    "    if filename.startswith('Results'):\n",
    "        print(filename)\n",
    "        #for file in os.listdir(path + '\\\\' + filename): \n",
    "        for file in os.listdir(os.path.join(path,filename)):\n",
    "            print(file)\n",
    "            with open(os.path.join(path, filename,file), 'rb') as file: # open in readonly mode\n",
    "                list1 = pickle.load(file)\n",
    "            final_list.append(list1)"
   ]
  },
  {
   "cell_type": "markdown",
   "metadata": {},
   "source": [
    "In a folder with directories list (Results1, Results2, Results3 etc) go through each as a separate array job:\n"
   ]
  },
  {
   "cell_type": "code",
   "execution_count": null,
   "metadata": {},
   "outputs": [],
   "source": [
    "#index_num = sys.argv[1]  #in a sh script for the HPC, this should return the array number within the array job\n",
    "index_num = 1 #for example\n",
    "path = os.getcwd()[:-13] + '\\\\Data\\\\permutation_test_files_metabolomics\\\\Results' + str(index_num)\n",
    "final_list = []\n",
    "\n",
    "for filename in os.listdir(path): #also lists directories\n",
    "    print(filename)\n",
    "    with open(os.path.join(path, filename), 'rb') as file: # open in readonly mode\n",
    "        list1 = pickle.load(file)\n",
    "    final_list.append(list1)"
   ]
  },
  {
   "cell_type": "code",
   "execution_count": null,
   "metadata": {},
   "outputs": [],
   "source": [
    "print(len(final_list))\n",
    "\n",
    "for list1 in final_list:\n",
    "    print(len(list1))\n",
    "    print(list1[:3])"
   ]
  },
  {
   "cell_type": "markdown",
   "metadata": {},
   "source": [
    "### Calculate which edges are significant"
   ]
  },
  {
   "attachments": {},
   "cell_type": "markdown",
   "metadata": {},
   "source": [
    "Calculates number of permuted values above the observed test statistic, then divides by number of tests and works out p-value, before outputting the significant edges. THIS APPROACH IS NOT RECOMMENDED, because p-values not FDR corrected. Instead, it is better to output the number of permuted values above the observed test statistic ONLY."
   ]
  },
  {
   "cell_type": "code",
   "execution_count": null,
   "metadata": {},
   "outputs": [],
   "source": [
    "sig_edges = []\n",
    "edgelist = df.index\n",
    "\n",
    "for index,pathway_pair in enumerate(edgelist):   #test all pathways\n",
    "    comparison = df.Observed_tstat[index]    #get observed test statistic\n",
    "    counter = 0\n",
    "\n",
    "    if comparison >= 0:\n",
    "        for list1 in final_list:  #len(final_list) = number of permutations\n",
    "            if list1[index] >= comparison:   \n",
    "                counter += 1\n",
    "\n",
    "    if comparison < 0:\n",
    "        for list1 in final_list:  #len(final_list) = number of permutations\n",
    "            if list1[index] <= comparison:   \n",
    "                counter += 1\n",
    "    \n",
    "    p_val = (counter/len(final_list))    #divide number of tests above or equal to the test statistic by total number of tests\n",
    "\n",
    "    if p_val < 0.01:  #for 100,000 permutations\n",
    "        sig_edges.append(pathway_pair)  \n",
    "        \n",
    "print(len(sig_edges))\n",
    "sig_edges"
   ]
  },
  {
   "attachments": {},
   "cell_type": "markdown",
   "metadata": {},
   "source": [
    "Calculates number of permuted values above the observed test statistic: (more scalable)"
   ]
  },
  {
   "cell_type": "code",
   "execution_count": null,
   "metadata": {},
   "outputs": [],
   "source": [
    "num_vals = []  #number of permuted values above the magnitude of the test statistic\n",
    "#sig_edges = []\n",
    "edgelist = df.index\n",
    "\n",
    "for index in range(len(edgelist)):   #test all pathways\n",
    "    comparison = df.Observed_tstat[index]    #get observed test statistic\n",
    "    counter = 0\n",
    "    \n",
    "    if comparison >= 0:\n",
    "        for list1 in final_list:  #len(final_list) = number of permutations\n",
    "            if list1[index] >= comparison:   \n",
    "                counter += 1\n",
    "\n",
    "    if comparison < 0:\n",
    "        for list1 in final_list:  #len(final_list) = number of permutations\n",
    "            if list1[index] <= comparison:   \n",
    "                counter += 1\n",
    "    \n",
    "    num_vals.append(counter)\n",
    "\n",
    "num_vals"
   ]
  },
  {
   "cell_type": "markdown",
   "metadata": {},
   "source": [
    "Saving the file:"
   ]
  },
  {
   "cell_type": "code",
   "execution_count": null,
   "metadata": {},
   "outputs": [],
   "source": [
    "#Writing as text file\n",
    "with open ('Data/permutation_test_files_metabolomics/vals_test.txt', 'w') as file:\n",
    "     file.write(','.join(str(i) for i in num_vals))"
   ]
  },
  {
   "cell_type": "code",
   "execution_count": null,
   "metadata": {},
   "outputs": [],
   "source": [
    "#Pickling the file to save on memory space\n",
    "with open('Data/permutation_test_files_metabolomics/vals_test.txt', \"wb\") as file:  \n",
    "       pickle.dump(output,file)"
   ]
  },
  {
   "attachments": {},
   "cell_type": "markdown",
   "metadata": {},
   "source": [
    "### Read in HPC results"
   ]
  },
  {
   "cell_type": "code",
   "execution_count": 5,
   "metadata": {},
   "outputs": [],
   "source": [
    "#Read in libraries\n",
    "import os \n",
    "import numpy as np \n",
    "import statsmodels.stats.multitest\n",
    "import pandas as pd\n",
    "from itertools import compress\n",
    "\n",
    "import seaborn as sns\n",
    "import matplotlib.pyplot as plt"
   ]
  },
  {
   "cell_type": "code",
   "execution_count": 6,
   "metadata": {},
   "outputs": [],
   "source": [
    "#Read the ten files containing the number of edges that are of a higher value that the observed test statistic\n",
    "\n",
    "path = os.getcwd()[:-13] + '\\\\Data\\\\permutation_test_files_metabolomics\\\\Values'   #[:-13] because we want to move back a directory\n",
    "#path = os.getcwd()[:-13] + '\\\\Data\\\\permutation_test_files_proteomics\\\\Values'\n",
    "#path = os.getcwd()[:-13] + '\\\\Data\\\\permutation_test_files_integrated\\\\Values'\n",
    "\n",
    "#path = os.getcwd()[:-13] + '\\\\Data\\\\permutation_test_files_metabolomics_withoutPA\\\\Values'\n",
    "#path = os.getcwd()[:-13] + '\\\\Data\\\\permutation_test_files_proteomics_withoutPA\\\\Values'\n",
    "#path = os.getcwd()[:-13] + '\\\\Data\\\\permutation_test_files_integrated_withoutPA\\\\Values'\n",
    "\n",
    "val_array = []\n",
    "\n",
    "\n",
    "for filename in os.listdir(path): #also lists directories\n",
    "    with open(os.path.join(path, filename)) as file:    \n",
    "        lines = file.readlines()\n",
    "        vals = lines[0].split(';')\n",
    "        vals =  [int(x) for x in vals]\n",
    "        #print(vals)\n",
    "        if filename == 'vals1.txt':\n",
    "            val_array = np.array(vals)\n",
    "        else:\n",
    "            val_array = np.vstack([val_array, vals])"
   ]
  },
  {
   "cell_type": "code",
   "execution_count": 7,
   "metadata": {},
   "outputs": [
    {
     "name": "stdout",
     "output_type": "stream",
     "text": [
      "10296\n"
     ]
    },
    {
     "data": {
      "text/plain": [
       "1638"
      ]
     },
     "execution_count": 7,
     "metadata": {},
     "output_type": "execute_result"
    }
   ],
   "source": [
    "#Calculate p-values for 100,000 permutations\n",
    "#Pathway-level differential network ONLY \n",
    "\n",
    "val_array\n",
    "val_array2 = val_array.sum(axis=0) #add up the values by columns for each pathway pair\n",
    "pval_array = val_array2 / 100000\n",
    "pval_array[:20]\n",
    "print(len(pval_array)) #10,296 for metabolomic, 166,753 values for proteomic, 251,695 values for integrated\n",
    "(pval_array < 0.05).sum() "
   ]
  },
  {
   "cell_type": "code",
   "execution_count": null,
   "metadata": {},
   "outputs": [],
   "source": [
    "#Calculate p-values for 10,000 permutations\n",
    "#Molecular-level differential network ONLY \n",
    "\n",
    "pval_array = val_array / 10000\n",
    "print(len(pval_array)) #55,278 for metabolomic_withoutPA, 102,831 values for proteomic_withoutPA, 309,291 values for integrated\n",
    "(pval_array < 0.05).sum() "
   ]
  },
  {
   "cell_type": "code",
   "execution_count": null,
   "metadata": {},
   "outputs": [],
   "source": [
    "sns.histplot(pval_array, bins = 50,color='#B8CDF8',edgecolor=\"k\") \n",
    "\n",
    "#plt.title('Metabolomic unadjusted p-value distribution',fontsize=16)\n",
    "#plt.title('Proteomic unadjusted p-value distribution',fontsize=16)\n",
    "#plt.title('Integrated unadjusted p-value distribution',fontsize=16)\n",
    "\n",
    "plt.xlabel('Unadjusted p-value',fontsize=13)\n",
    "plt.ylabel('Count',fontsize=13) \n",
    "\n",
    "\n",
    "#plt.savefig( 'Figures/unadjusted_pval_metabolomic.png' , dpi=200,bbox_inches = 'tight' , pad_inches = 0.2 , facecolor='w')\n",
    "#plt.savefig( 'Figures/unadjusted_pval_proteomic.png' , dpi=200,bbox_inches = 'tight' , pad_inches = 0.2 , facecolor='w')\n",
    "#plt.savefig( 'Figures/unadjusted_pval_integrated.png' , dpi=200,bbox_inches = 'tight' , pad_inches = 0.2 , facecolor='w')"
   ]
  },
  {
   "cell_type": "code",
   "execution_count": 8,
   "metadata": {},
   "outputs": [],
   "source": [
    "sig_edge_boolean,adjusted_pval = statsmodels.stats.multitest.fdrcorrection(pval_array, alpha=0.00001, method='poscorr', is_sorted=False)\n",
    "\n",
    "#Gives same answer:\n",
    "sig_edge_boolean2,adjusted_pval2 = statsmodels.stats.multitest.fdrcorrection(pval_array, alpha=0.00001, method='indep', is_sorted=False)"
   ]
  },
  {
   "cell_type": "code",
   "execution_count": null,
   "metadata": {},
   "outputs": [],
   "source": [
    "sig_edge_boolean == sig_edge_boolean2\n",
    "np.array_equiv(sig_edge_boolean,sig_edge_boolean2)"
   ]
  },
  {
   "cell_type": "code",
   "execution_count": null,
   "metadata": {},
   "outputs": [],
   "source": [
    "(adjusted_pval < 0.00001).sum()   #same as a p-value of 0, since the minimum p-value we can detect with 100,000 permutations is 0.00001\n",
    "#metabolomic = 17 edges have a p-value < 0.00001  \n",
    "#proteomic = 1592 edges have a p-value < 0.00001        \n",
    "#integrated = 2432 edges have a p-value < 0.00001"
   ]
  },
  {
   "cell_type": "code",
   "execution_count": 10,
   "metadata": {},
   "outputs": [
    {
     "data": {
      "text/plain": [
       "[0.0,\n",
       " 0.0,\n",
       " 0.0,\n",
       " 0.0,\n",
       " 0.0,\n",
       " 0.0,\n",
       " 0.0,\n",
       " 0.0,\n",
       " 0.0,\n",
       " 0.0,\n",
       " 0.0,\n",
       " 0.0,\n",
       " 0.0,\n",
       " 0.0,\n",
       " 0.0,\n",
       " 0.0,\n",
       " 0.0,\n",
       " 0.002451428571428572,\n",
       " 0.002451428571428572,\n",
       " 0.002451428571428572,\n",
       " 0.002451428571428572,\n",
       " 0.002451428571428572,\n",
       " 0.002451428571428572,\n",
       " 0.002451428571428572,\n",
       " 0.002451428571428572,\n",
       " 0.002451428571428572,\n",
       " 0.002451428571428572,\n",
       " 0.002451428571428572,\n",
       " 0.002451428571428572,\n",
       " 0.002451428571428572,\n",
       " 0.002451428571428572,\n",
       " 0.002451428571428572,\n",
       " 0.002451428571428572,\n",
       " 0.002451428571428572,\n",
       " 0.002451428571428572,\n",
       " 0.002451428571428572,\n",
       " 0.002451428571428572,\n",
       " 0.002451428571428572,\n",
       " 0.002451428571428572,\n",
       " 0.002451428571428572,\n",
       " 0.002451428571428572,\n",
       " 0.002451428571428572,\n",
       " 0.003885283018867925,\n",
       " 0.003885283018867925,\n",
       " 0.003885283018867925,\n",
       " 0.003885283018867925,\n",
       " 0.003885283018867925,\n",
       " 0.003885283018867925,\n",
       " 0.003885283018867925,\n",
       " 0.003885283018867925,\n",
       " 0.003885283018867925,\n",
       " 0.003885283018867925,\n",
       " 0.003885283018867925]"
      ]
     },
     "execution_count": 10,
     "metadata": {},
     "output_type": "execute_result"
    }
   ],
   "source": [
    "#Order by significance\n",
    "significance_ordered = list(adjusted_pval[adjusted_pval < 0.005])\n",
    "significance_ordered.sort()\n",
    "significance_ordered"
   ]
  },
  {
   "cell_type": "code",
   "execution_count": 11,
   "metadata": {},
   "outputs": [
    {
     "data": {
      "text/plain": [
       "17"
      ]
     },
     "execution_count": 11,
     "metadata": {},
     "output_type": "execute_result"
    }
   ],
   "source": [
    "sum(sig_edge_boolean) \n",
    "\n",
    "#One-sided permutation testing:\n",
    "\n",
    "#Pathway-level:\n",
    "#Metabolomic -  53 edges at  a < 0.005 and 17 edges at a < 1e-5\n",
    "#Proteomic - 8,753 edges at a < 0.005 and 1,592 edges at a < 1e-5\n",
    "#Integrated - 9,069 edges at a < 0.005 and 2,432 edges at a < 1e-5\n",
    "\n",
    "#Molecular-level:\n",
    "#Metabolomic - 1,660 edges at a < 0.005 and 1,347 edges at  a < 1e-5\n",
    "#Proteomic - 5,109 edges at a < 0.005 and 3,572 edges at a < 1e-5\n",
    "#Integrated - 10,221 edges at a < 0.005 and 8,157 edges at a < 1e-5\n"
   ]
  },
  {
   "cell_type": "code",
   "execution_count": 12,
   "metadata": {},
   "outputs": [
    {
     "data": {
      "text/plain": [
       "Text(0, 0.5, 'Count')"
      ]
     },
     "execution_count": 12,
     "metadata": {},
     "output_type": "execute_result"
    },
    {
     "data": {
      "image/png": "[encoded data removed]",
      "text/plain": [
       "<Figure size 640x480 with 1 Axes>"
      ]
     },
     "metadata": {},
     "output_type": "display_data"
    }
   ],
   "source": [
    "sns.histplot(adjusted_pval, bins = 50,color='#B8CDF8',edgecolor=\"k\") \n",
    "\n",
    "#plt.title('Metabolomic adjusted p-value distribution',fontsize=16)\n",
    "\n",
    "plt.xlabel('Adjusted p-value',fontsize=13)\n",
    "plt.ylabel('Count',fontsize=13) \n",
    "\n",
    "#plt.savefig( 'Figures/adjusted_pval_metabolomic.png' , dpi=200,bbox_inches = 'tight' , pad_inches = 0.2 , facecolor='w')"
   ]
  },
  {
   "cell_type": "code",
   "execution_count": 13,
   "metadata": {},
   "outputs": [
    {
     "data": {
      "text/plain": [
       "10279"
      ]
     },
     "execution_count": 13,
     "metadata": {},
     "output_type": "execute_result"
    }
   ],
   "source": [
    "#Easier to obtain the reverse (i.e. edges that are not significant), since then they can be removed easily from the final correlation network\n",
    "not_sig_edge_boolean = [not elem for elem in sig_edge_boolean]\n",
    "sum(not_sig_edge_boolean )"
   ]
  },
  {
   "cell_type": "code",
   "execution_count": 14,
   "metadata": {},
   "outputs": [],
   "source": [
    "#Instead of a boolean, obtain the names of the significant edges\n",
    "df = pd.read_csv('../Data/permutation_test_files_metabolomics/observed_tstats.csv', index_col=0)\n",
    "#df = pd.read_csv('../Data/permutation_test_files_proteomics/observed_tstats.csv', index_col=0)\n",
    "#df = pd.read_csv('../Data/permutation_test_files_integrated/observed_tstats.csv', index_col=0)\n",
    "edgelist = df.index\n",
    "\n",
    "sig_edges = list(compress(edgelist,sig_edge_boolean))\n",
    "not_sig_edges = list(compress(edgelist,not_sig_edge_boolean))"
   ]
  },
  {
   "cell_type": "code",
   "execution_count": null,
   "metadata": {},
   "outputs": [],
   "source": [
    "#Form a dictionary where the edges have been assigned p-values (so I can test significance of differentially expressed genes)\n",
    "\n",
    "edgelist_tuple = []\n",
    "for i in range(len(edgelist)):\n",
    "    edge = edgelist[i].split(\",\")\n",
    "    edge = (edge[0],edge[1][1:])\n",
    "    edgelist_tuple.append(edge)\n",
    "    \n",
    "p_val_dict  = dict(zip(edgelist_tuple, adjusted_pval))"
   ]
  },
  {
   "cell_type": "code",
   "execution_count": 18,
   "metadata": {},
   "outputs": [],
   "source": [
    "#Form a list of the number of edges differentially expressed in either the mild or severe group\n",
    "\n",
    "sig_df = df.loc[sig_edges]\n",
    "sigedge_direction = []\n",
    "\n",
    "for i in range(len(sig_df)):\n",
    "    if sig_df.Observed_tstat[i] > 0:\n",
    "        sigedge_direction.append(\"mild\")\n",
    "    if sig_df.Observed_tstat[i] < 0:\n",
    "        sigedge_direction.append(\"severe\")\n",
    "\n",
    "print(sigedge_direction.count(\"mild\"))\n",
    "print(sigedge_direction.count(\"severe\"))"
   ]
  },
  {
   "cell_type": "markdown",
   "metadata": {},
   "source": [
    "Saving the significant edges: Easier to compare with the naive networks and the other omics networks as well <br>\n",
    "Saving the non-significant edges: Easier when constructing the differential networks"
   ]
  },
  {
   "cell_type": "code",
   "execution_count": null,
   "metadata": {},
   "outputs": [],
   "source": [
    " #with open ('../Data/permutation_test_files_metabolomics/sig_edges.txt', 'w') as file:\n",
    "#     file.write(','.join(str(i) for i in sig_edges))\n",
    "     \n",
    "#with open ('../Data/permutation_test_files_metabolomics/not_sig_edges.txt', 'w') as file:\n",
    "#     file.write(','.join(str(i) for i in not_sig_edges))\n",
    "\n",
    "#with open ('../Data/permutation_test_files_metabolomics/sigedge_direction.txt', 'w') as file:\n",
    "#     file.write(','.join(str(i) for i in sigedge_direction))\n",
    "\n",
    "#----------------------------------------------------\n",
    "\n",
    "#All edges with a p-value of zero:\n",
    "#with open ('../Data/permutation_test_files_metabolomics/pval0_sig_edges.txt', 'w') as file:\n",
    "#     file.write(','.join(str(i) for i in sig_edges))\n",
    "\n",
    "#with open ('../Data/permutation_test_files_metabolomics/pval0_sigedge_direction.txt', 'w') as file:\n",
    "#     file.write(','.join(str(i) for i in sigedge_direction))"
   ]
  },
  {
   "attachments": {},
   "cell_type": "markdown",
   "metadata": {},
   "source": [
    "### Plotting the test statistic distribution for randomly chosen pathway pairs\n"
   ]
  },
  {
   "cell_type": "code",
   "execution_count": 22,
   "metadata": {},
   "outputs": [],
   "source": [
    "#Load libraries\n",
    "import pandas as pd\n",
    "import os\n",
    "import random\n",
    "import pickle\n",
    "import seaborn as sns\n",
    "import matplotlib.pyplot as plt"
   ]
  },
  {
   "cell_type": "code",
   "execution_count": 23,
   "metadata": {},
   "outputs": [],
   "source": [
    "#Download the observed test statistics\n",
    "df = pd.read_csv('../Data/permutation_test_files_metabolomics/observed_tstats.csv', index_col=0)\n",
    "#df = pd.read_csv('../Data/permutation_test_files_proteomics/observed_tstats.csv', index_col=0)\n",
    "#df = pd.read_csv('../Data/permutation_test_files_integrated/observed_tstats.csv', index_col=0)\n",
    "\n",
    "path = os.getcwd()[:-13] + '\\\\Data\\\\permutation_test_files_metabolomics'\n",
    "#path = os.getcwd()[:-13] + '\\\\Data\\\\permutation_test_files_proteomics'\n",
    "#path = os.getcwd()[:-13] + '\\\\Data\\\\permutation_test_files_integrated'"
   ]
  },
  {
   "attachments": {},
   "cell_type": "markdown",
   "metadata": {},
   "source": [
    "Read in the test distribution files that were made from the HPC and plotting:"
   ]
  },
  {
   "cell_type": "code",
   "execution_count": 46,
   "metadata": {},
   "outputs": [
    {
     "name": "stdout",
     "output_type": "stream",
     "text": [
      "Observed t-statistic is:  -0.294106431\n",
      "100000\n",
      "[0.16603189339812977, -0.3901716783627241, 0.12725071434345736, -0.18666891377307016, 0.201642626323118, -0.08962173442619947, 0.09168010854167086, 0.09997913688675741, 0.16816145511595082, -0.009953062512071842, -0.022257899072219978, -0.11258074298654827, 0.18934996758787898, 0.11588156775446787, -0.09060015663834897, 0.04157329049822156, -0.19580862711185162, 0.10763982694975321, -0.1373387504697937, -0.06043280508247789, -0.30707502099494133, 0.050634895872664454, -0.22797132470250978, -0.011852693820847915, -0.01337711597062291, 0.2676125878822145, 0.13069599742187032, -0.09723102817882917, -0.13451402972956744, 0.12570328272003542, 0.09341276632793372, -0.4514971454822022, 0.2693837085702044, -0.24048597809198935, 0.3162662932544791, 0.2462840792872068, -0.26783273690618603, 0.022436152093456452, -0.09179740041319856, -0.28141797462616935, -0.12401107207058959, -0.4825382725495517, -0.19556380883617908, 0.49737701953111235, -0.029253348076274555, -0.2728084386716674, 0.07807431923483182, -0.049878456912428315, -0.21509279462788647, 0.015515204271227656, -0.008118677352880854, -0.11583211539634042, 0.19130203239880125, 0.13824615068099844, 0.031976363247588235, 0.33146596568741427, -0.2392423122136309, 0.007505640981008421, 0.07740910618560609, 0.26274896782932844, 0.008733865116512085, 0.14267382302676318, 0.1810771133507025, -0.05462677685304351, 0.11997934193614751, -0.10865039548874153, 0.22863304787817074, -0.15615545938061356, -0.24285414790134327, -0.27561673608773507, -0.10956554343345637, -0.1643371996846848, 0.02982329833541536, -0.05974786398645526, -0.13468285161405133, 0.06630029658397008, -0.4407550811075215, 0.19843562119828773, -0.348310051056179, 0.17082492977354413, 0.20520525171152154, -0.286178094646814, -0.230712070593352, -0.0006551803198406869, -0.1501555560150694, 0.18562936275020409, -0.23089982289722166, 0.0055856943463742925, -0.1357189923797319, -0.07457921795226946, 0.09713679671056719, -0.09471861309050184, 0.2586700069609181, -0.13367268637060717, 0.23936973532263162, 0.10887722005589412, -0.2027470810291302, 0.07574920888707137, -0.15546419833965652, -0.16408335574691021]\n",
      "8692\n"
     ]
    },
    {
     "data": {
      "text/plain": [
       "(0.0, 15000.0)"
      ]
     },
     "execution_count": 46,
     "metadata": {},
     "output_type": "execute_result"
    },
    {
     "data": {
      "image/png": "[encoded data removed]",
      "text/plain": [
       "<Figure size 640x480 with 1 Axes>"
      ]
     },
     "metadata": {},
     "output_type": "display_data"
    }
   ],
   "source": [
    "#Open the test distribution files one by one\n",
    "test_num = 4631\n",
    "\n",
    "with open('../Data/permutation_test_files_metabolomics/Test_distribution/test_distribution'+str(test_num)+'.txt') as file:\n",
    "#with open('../Data/permutation_test_files_proteomics/Test_distribution/test_distribution'+str(test_num)+'.txt') as file:\n",
    "#with open('../Data/permutation_test_files_integrated/Test_distribution/test_distribution'+str(test_num)+'.txt') as file:\n",
    "\n",
    "    comparison = df.Observed_tstat[test_num]\n",
    "    print(\"Observed t-statistic is: \", comparison)\n",
    "\n",
    "    edge_name = df.index[test_num]\n",
    "\n",
    "    lines = file.readlines()\n",
    "    vals = lines[0].split(',')\n",
    "    vals =  [float(x) for x in vals]\n",
    "    print(len(vals))\n",
    "    print(vals[:100])\n",
    "\n",
    "\n",
    "sns.histplot(vals, bins = 50, color='#e69f00', edgecolor=\"k\") \n",
    "\n",
    "plt.title('Pathway pair '+ edge_name,fontsize=16)\n",
    "plt.xlabel('Delta value',fontsize=13)\n",
    "plt.ylabel('Count',fontsize=13) \n",
    "\n",
    "\n",
    "#Plot observed t statistic lines\n",
    "plt.axvline(x=comparison, color='r', linewidth=0.5, linestyle='--', dashes=(8, 5))\n",
    "\n",
    "\n",
    "#Count number of values that are over/under the observed test statistic for two sided permutation test\n",
    "counter = 0 \n",
    "for index in range(len(vals)):  #len(final_list) = number of permutations\n",
    "    if comparison >= 0:\n",
    "        if vals[index] >= comparison:   \n",
    "            counter += 1\n",
    "    if comparison < 0:\n",
    "        if vals[index] < comparison:   \n",
    "            counter += 1\n",
    "print(counter)\n",
    "\n",
    "\n",
    "#MUST RUN THE ABOVE CODE TO LOAD IN 'sig_edge_boolean'\n",
    "if sig_edge_boolean[test_num] == True:\n",
    "    plt.text(-0.8, -2600, \"Adjusted p-value significant\",fontsize=10)\n",
    "else:\n",
    "    plt.text(-0.8, -2600, \"Not significant\"+ \"  (Observed t statistic: \"+str(round(comparison,2))+\")\", fontsize=10)\n",
    "plt.text(-0.8, -3200, \"Unadjusted p-value: \" + str(round(pval_array[test_num],2)),fontsize=10)\n",
    "plt.text(-0.8, -3800, \"FDR-adjusted p-value: \" + str(round(adjusted_pval[test_num],2)),fontsize=10)\n",
    "plt.text(-0.8, -4400, \"Number of values under or equal to observed test statistic: \" + str(counter),fontsize=10)\n",
    "\n",
    "plt.xlim(-0.9,0.9)   \n",
    "plt.ylim(0,15000) \n",
    "\n",
    "#plt.savefig( 'Figures/Pathway ' + edge_name + '.png' ,dpi=200, bbox_inches = 'tight', pad_inches = 0.2, facecolor='w')"
   ]
  }
 ],
 "metadata": {
  "kernelspec": {
   "display_name": "Imperial_Project2",
   "language": "python",
   "name": "python3"
  },
  "language_info": {
   "codemirror_mode": {
    "name": "ipython",
    "version": 3
   },
   "file_extension": ".py",
   "mimetype": "text/x-python",
   "name": "python",
   "nbconvert_exporter": "python",
   "pygments_lexer": "ipython3",
   "version": "3.11.3"
  },
  "orig_nbformat": 4
 },
 "nbformat": 4,
 "nbformat_minor": 2
}
