{
 "cells": [
  {
   "cell_type": "code",
   "execution_count": null,
   "metadata": {},
   "outputs": [],
   "source": [
    "import pandas as pd\n",
    "import os\n",
    "import pickle"
   ]
  },
  {
   "cell_type": "code",
   "execution_count": null,
   "metadata": {},
   "outputs": [],
   "source": [
    "#Download the initial test statistics\n",
    "df = pd.read_csv('../Data/permutation_test_files_metabolomics/initial_tstats.csv', index_col=0)\n",
    "#df = pd.read_csv('../Data/permutation_test_files_proteomics/initial_tstats.csv', index_col=0)\n"
   ]
  },
  {
   "cell_type": "markdown",
   "metadata": {},
   "source": [
    "### Reading in the files"
   ]
  },
  {
   "cell_type": "markdown",
   "metadata": {},
   "source": [
    "Used to test the code I use for the HPC"
   ]
  },
  {
   "cell_type": "code",
   "execution_count": null,
   "metadata": {},
   "outputs": [],
   "source": [
    "os.getcwd()"
   ]
  },
  {
   "cell_type": "code",
   "execution_count": null,
   "metadata": {},
   "outputs": [],
   "source": [
    "path = os.getcwd()[:-13] + '\\\\Data\\\\permutation_test_files_metabolomics_withoutPA'\n",
    "#path = os.getcwd()[:-13] + '\\\\Data\\\\permutation_test_files_proteomics'\n",
    "#path = os.getcwd()[:-13] + '\\\\Data\\\\permutation_test_files_integrated'"
   ]
  },
  {
   "cell_type": "markdown",
   "metadata": {},
   "source": [
    "Read all the files that start with 'Run' inside a folder:"
   ]
  },
  {
   "cell_type": "code",
   "execution_count": null,
   "metadata": {},
   "outputs": [],
   "source": [
    "final_list = []\n",
    "\n",
    "for filename in os.listdir(path): #also lists directories\n",
    "    if filename.startswith('Run'):\n",
    "        file_num = int(filename[3:-4])  #obtain the number of the Run\n",
    "        if file_num > 11:\n",
    "            print(filename)\n",
    "            with open(os.path.join(path, filename), 'rb') as file: # open in readonly mode\n",
    "                list1 = pickle.load(file)\n",
    "            final_list.append(list1)"
   ]
  },
  {
   "cell_type": "markdown",
   "metadata": {},
   "source": [
    "Read all the files in a folder that starts with 'Results':"
   ]
  },
  {
   "cell_type": "code",
   "execution_count": null,
   "metadata": {},
   "outputs": [],
   "source": [
    "path = os.getcwd() + '\\\\Data\\\\permutation_test_files_metabolomics'\n",
    "final_list = []\n",
    "\n",
    "for filename in os.listdir(path): #also lists directories\n",
    "    if filename.startswith('Results'):\n",
    "        print(filename)\n",
    "        #for file in os.listdir(path + '\\\\' + filename): \n",
    "        for file in os.listdir(os.path.join(path,filename)):\n",
    "            print(file)\n",
    "            with open(os.path.join(path, filename,file), 'rb') as file: # open in readonly mode\n",
    "                list1 = pickle.load(file)\n",
    "            final_list.append(list1)"
   ]
  },
  {
   "cell_type": "markdown",
   "metadata": {},
   "source": [
    "In a folder with directories list (Results1, Results2, Results3 etc) go through each as a separate array job:\n"
   ]
  },
  {
   "cell_type": "code",
   "execution_count": null,
   "metadata": {},
   "outputs": [],
   "source": [
    "#index_num = sys.argv[1]  #this should return the array number within the array job\n",
    "index_num = 1 #for example\n",
    "path = os.getcwd() + '\\\\Data\\\\permutation_test_files_metabolomics\\\\Results' + str(index_num)\n",
    "final_list = []\n",
    "\n",
    "for filename in os.listdir(path): #also lists directories\n",
    "    print(filename)\n",
    "    with open(os.path.join(path, filename), 'rb') as file: # open in readonly mode\n",
    "        list1 = pickle.load(file)\n",
    "    final_list.append(list1)"
   ]
  },
  {
   "cell_type": "code",
   "execution_count": null,
   "metadata": {},
   "outputs": [],
   "source": [
    "len(final_list)\n",
    "\n",
    "for list1 in final_list:\n",
    "    print(len(list1))\n",
    "    print(list1[:3])"
   ]
  },
  {
   "cell_type": "markdown",
   "metadata": {},
   "source": [
    "### Calculate which edges are significant"
   ]
  },
  {
   "attachments": {},
   "cell_type": "markdown",
   "metadata": {},
   "source": [
    "Calculates number of permuted values above the initial test statistic, then divides by number of tests and works out p-value, before outputting the significant edges: (NOT RECOMMENDED, p-values not FDR corrected)"
   ]
  },
  {
   "cell_type": "code",
   "execution_count": null,
   "metadata": {},
   "outputs": [],
   "source": [
    "sig_edges = []\n",
    "edgelist = df.index\n",
    "\n",
    "for index,pathway_pair in enumerate(edgelist):   #test all pathways\n",
    "    comparison = df.Initial_tstat[index]    #get initial test statistic\n",
    "    counter = 0\n",
    "    \n",
    "    for list1 in final_list:  #len(final_list) = number of permutations\n",
    "        if abs(list1[index]) >= comparison:   \n",
    "            counter += 1\n",
    "    \n",
    "    p_val = (counter/len(final_list))    #divide number of tests above or equal to the test statistic by total number of tests\n",
    "\n",
    "    if p_val < 0.01:  #for 100,000 permutations\n",
    "        sig_edges.append(pathway_pair)  \n",
    "        \n",
    "print(len(sig_edges))\n",
    "sig_edges"
   ]
  },
  {
   "attachments": {},
   "cell_type": "markdown",
   "metadata": {},
   "source": [
    "Calculates number of permuted values above the initial test statistic (more scalable)"
   ]
  },
  {
   "cell_type": "code",
   "execution_count": null,
   "metadata": {},
   "outputs": [],
   "source": [
    "num_vals = []  #number of permuted values above the magnitude of the test statistic\n",
    "#sig_edges = []\n",
    "edgelist = df.index\n",
    "\n",
    "for index in range(len(edgelist)):   #test all pathways\n",
    "    comparison = df.Initial_tstat[index]    #get initial test statistic\n",
    "    print(comparison)\n",
    "    counter = 0\n",
    "    \n",
    "    for list1 in final_list:  #len(final_list) = number of permutations\n",
    "        if abs(list1[index]) >= comparison:   \n",
    "            counter += 1\n",
    "    num_vals.append(counter)\n",
    "\n",
    "num_vals"
   ]
  },
  {
   "attachments": {},
   "cell_type": "markdown",
   "metadata": {},
   "source": [
    "### Another alternative: (but converting to numpy array actually seems to take up more memory)"
   ]
  },
  {
   "cell_type": "code",
   "execution_count": null,
   "metadata": {},
   "outputs": [],
   "source": [
    "import numpy as np\n",
    "\n",
    "final_matrix = np.empty((0,len(df)), int)\n",
    "\n",
    "for filename in os.listdir(path):\n",
    "    if filename != 'initial_tstats.csv':\n",
    "        with open(os.path.join(path, filename), 'rb') as file: # open in readonly mode\n",
    "            list1 = pickle.load(file)\n",
    "        final_matrix = np.append(final_matrix, np.array([list1]), axis=0)"
   ]
  },
  {
   "cell_type": "code",
   "execution_count": null,
   "metadata": {},
   "outputs": [],
   "source": [
    "final_matrix.shape"
   ]
  },
  {
   "cell_type": "code",
   "execution_count": null,
   "metadata": {},
   "outputs": [],
   "source": [
    "final_matrix = np.array(final_list) \n",
    "\n",
    "final_matrix.shape\n",
    "\n",
    "sig_edges = []\n",
    "edgelist = df.index\n",
    "\n",
    "for index,pathway_pair in enumerate(edgelist):   #test all pathways\n",
    "    comparison = df.Initial_tstat[index]    #get initial test statistic\n",
    "    counter = 0\n",
    "    \n",
    "    col = abs(final_matrix[:,index])  #index a column and turn into absolute values\n",
    "    counter = (col >= comparison).sum()\n",
    "\n",
    "    \n",
    "    p_val = (counter/len(final_list))    #divide number of tests above or equal to the test statistic by total number of tests\n",
    "\n",
    "    if p_val < 0.01:  #for 100,000 permutations\n",
    "        sig_edges.append(pathway_pair)  \n",
    "        \n",
    "print(len(sig_edges))"
   ]
  },
  {
   "cell_type": "code",
   "execution_count": null,
   "metadata": {},
   "outputs": [],
   "source": [
    "#comparing the size of the object from the first method vs second method ()\n",
    "from sys import getsizeof\n",
    "print(getsizeof(final_list))\n",
    "print(getsizeof(final_matrix))"
   ]
  },
  {
   "cell_type": "markdown",
   "metadata": {},
   "source": [
    "Saving the file:"
   ]
  },
  {
   "cell_type": "code",
   "execution_count": null,
   "metadata": {},
   "outputs": [],
   "source": [
    "#Writing as text file\n",
    "with open ('Data/permutation_test_files_metabolomics/vals_test.txt', 'w') as file:\n",
    "     file.write(','.join(str(i) for i in num_vals))"
   ]
  },
  {
   "cell_type": "code",
   "execution_count": null,
   "metadata": {},
   "outputs": [],
   "source": [
    "#Pickling the file to save on memory space\n",
    "with open('Data/permutation_test_files_metabolomics/vals_test.txt', \"wb\") as file:  \n",
    "       pickle.dump(output,file)"
   ]
  },
  {
   "attachments": {},
   "cell_type": "markdown",
   "metadata": {},
   "source": [
    "### Read in HPC results (reading ten files):"
   ]
  },
  {
   "cell_type": "code",
   "execution_count": 10,
   "metadata": {},
   "outputs": [],
   "source": [
    "import os \n",
    "import numpy as np \n",
    "import statsmodels.stats.multitest\n",
    "import pandas as pd\n",
    "from itertools import compress\n",
    "\n",
    "import seaborn as sns\n",
    "import matplotlib.pyplot as plt"
   ]
  },
  {
   "cell_type": "code",
   "execution_count": 38,
   "metadata": {},
   "outputs": [],
   "source": [
    "#Read ten files that have the number of edges that are of a higher value that the initial test statistic\n",
    "\n",
    "#path = os.getcwd()[:-13] + '\\\\Data\\\\permutation_test_files_metabolomics\\\\Values'   #[:-13] because we want to move back a directory\n",
    "#path = os.getcwd()[:-13] + '\\\\Data\\\\permutation_test_files_proteomics\\\\Values'\n",
    "#path = os.getcwd()[:-13] + '\\\\Data\\\\permutation_test_files_integrated\\\\Values'\n",
    "\n",
    "#path = os.getcwd()[:-13] + '\\\\Data\\\\permutation_test_files_metabolomics_withoutPA\\\\Values'\n",
    "#path = os.getcwd()[:-13] + '\\\\Data\\\\permutation_test_files_proteomics_withoutPA\\\\Values'\n",
    "path = os.getcwd()[:-13] + '\\\\Data\\\\permutation_test_files_integrated_withoutPA\\\\Values'\n",
    "\n",
    "val_array = []\n",
    "\n",
    "\n",
    "for filename in os.listdir(path): #also lists directories\n",
    "    with open(os.path.join(path, filename)) as file:    \n",
    "        lines = file.readlines()\n",
    "        vals = lines[0].split(';')\n",
    "        vals =  [int(x) for x in vals]\n",
    "        #print(vals)\n",
    "        if filename == 'vals1.txt':\n",
    "            val_array = np.array(vals)\n",
    "        else:\n",
    "            val_array = np.vstack([val_array, vals])"
   ]
  },
  {
   "cell_type": "code",
   "execution_count": 39,
   "metadata": {},
   "outputs": [
    {
     "ename": "IndexError",
     "evalue": "invalid index to scalar variable.",
     "output_type": "error",
     "traceback": [
      "\u001b[1;31m---------------------------------------------------------------------------\u001b[0m",
      "\u001b[1;31mIndexError\u001b[0m                                Traceback (most recent call last)",
      "Cell \u001b[1;32mIn[39], line 4\u001b[0m\n\u001b[0;32m      2\u001b[0m val_array2 \u001b[39m=\u001b[39m val_array\u001b[39m.\u001b[39msum(axis\u001b[39m=\u001b[39m\u001b[39m0\u001b[39m) \u001b[39m#add up the values by columns for each pathway pair\u001b[39;00m\n\u001b[0;32m      3\u001b[0m pval_array \u001b[39m=\u001b[39m val_array2 \u001b[39m/\u001b[39m \u001b[39m100000\u001b[39m\n\u001b[1;32m----> 4\u001b[0m pval_array[:\u001b[39m20\u001b[39;49m]\n\u001b[0;32m      5\u001b[0m \u001b[39mprint\u001b[39m(\u001b[39mlen\u001b[39m(pval_array)) \u001b[39m#10,296 for metabolomic, 166,753 values for proteomic, 251,695 values for integrated\u001b[39;00m\n\u001b[0;32m      6\u001b[0m (pval_array \u001b[39m<\u001b[39m \u001b[39m0.05\u001b[39m)\u001b[39m.\u001b[39msum() \n",
      "\u001b[1;31mIndexError\u001b[0m: invalid index to scalar variable."
     ]
    }
   ],
   "source": [
    "val_array\n",
    "val_array2 = val_array.sum(axis=0) #add up the values by columns for each pathway pair\n",
    "pval_array = val_array2 / 100000\n",
    "pval_array[:20]\n",
    "print(len(pval_array)) #10,296 for metabolomic, 166,753 values for proteomic, 251,695 values for integrated\n",
    "(pval_array < 0.05).sum() \n"
   ]
  },
  {
   "cell_type": "code",
   "execution_count": 40,
   "metadata": {},
   "outputs": [
    {
     "name": "stdout",
     "output_type": "stream",
     "text": [
      "309291\n"
     ]
    },
    {
     "data": {
      "text/plain": [
       "58882"
      ]
     },
     "execution_count": 40,
     "metadata": {},
     "output_type": "execute_result"
    }
   ],
   "source": [
    "#Molecular-level differential network ONLY \n",
    "pval_array = val_array / 10000\n",
    "print(len(pval_array)) #55,278 for metabolomic_withoutPA, 102,831 values for proteomic_withoutPA, 309,291 values for integrated\n",
    "(pval_array < 0.05).sum() #8995 for metabolomic_withoutPA, 25,958 values for proteomic_withoutPA, 58,882 values for integrated\n"
   ]
  },
  {
   "cell_type": "code",
   "execution_count": 10,
   "metadata": {},
   "outputs": [
    {
     "data": {
      "text/plain": [
       "Text(0, 0.5, 'Count')"
      ]
     },
     "execution_count": 10,
     "metadata": {},
     "output_type": "execute_result"
    },
    {
     "data": {
      "image/png": "[encoded data removed]",
      "text/plain": [
       "<Figure size 640x480 with 1 Axes>"
      ]
     },
     "metadata": {},
     "output_type": "display_data"
    }
   ],
   "source": [
    "sns.histplot(pval_array, bins = 50,color='#B8CDF8',edgecolor=\"k\") \n",
    "\n",
    "#plt.title('Metabolomic unadjusted p-value distribution',fontsize=16)\n",
    "#plt.title('Proteomic unadjusted p-value distribution',fontsize=16)\n",
    "#plt.title('Integrated unadjusted p-value distribution',fontsize=16)\n",
    "\n",
    "plt.xlabel('Unadjusted p-value',fontsize=13)\n",
    "plt.ylabel('Count',fontsize=13) \n",
    "\n",
    "\n",
    "\n",
    "#plt.savefig( 'Figures/unadjusted_pval_proteomic.png' , dpi=200,bbox_inches = 'tight' , pad_inches = 0.2 , facecolor='w')\n",
    "#plt.savefig( 'Figures/unadjusted_pval_integrated.png' , dpi=200,bbox_inches = 'tight' , pad_inches = 0.2 , facecolor='w')"
   ]
  },
  {
   "cell_type": "code",
   "execution_count": 44,
   "metadata": {},
   "outputs": [
    {
     "data": {
      "text/plain": [
       "array([False, False, False, ..., False, False, False])"
      ]
     },
     "execution_count": 44,
     "metadata": {},
     "output_type": "execute_result"
    }
   ],
   "source": [
    "sig_edge_boolean,adjusted_pval = statsmodels.stats.multitest.fdrcorrection(pval_array, alpha=0.00001, method='poscorr', is_sorted=False)\n",
    "sig_edge_boolean,adjusted_pval = statsmodels.stats.multitest.fdrcorrection(pval_array, alpha=0.005, method='poscorr', is_sorted=False)\n",
    "#sig_edge_boolean,adjusted_pval = statsmodels.stats.multitest.fdrcorrection(pval_array, alpha=0, method='poscorr', is_sorted=False)\n",
    "sig_edge_boolean"
   ]
  },
  {
   "cell_type": "code",
   "execution_count": 6,
   "metadata": {},
   "outputs": [
    {
     "data": {
      "text/plain": [
       "array([False, False, False, ..., False, False, False])"
      ]
     },
     "execution_count": 6,
     "metadata": {},
     "output_type": "execute_result"
    }
   ],
   "source": [
    "sig_edge_boolean2,adjusted_pval2 = statsmodels.stats.multitest.fdrcorrection(pval_array, alpha=0.00001, method='indep', is_sorted=False)\n",
    "sig_edge_boolean2"
   ]
  },
  {
   "cell_type": "code",
   "execution_count": 13,
   "metadata": {},
   "outputs": [
    {
     "name": "stdout",
     "output_type": "stream",
     "text": [
      "[0.55300281 0.5163273  0.21032864 ... 0.5507491  0.5507491  0.5507491 ]\n",
      "[0.55300281 0.5163273  0.21032864 ... 0.5507491  0.5507491  0.5507491 ]\n"
     ]
    }
   ],
   "source": [
    "print(adjusted_pval)\n",
    "print(adjusted_pval2)"
   ]
  },
  {
   "cell_type": "code",
   "execution_count": 14,
   "metadata": {},
   "outputs": [
    {
     "data": {
      "text/plain": [
       "True"
      ]
     },
     "execution_count": 14,
     "metadata": {},
     "output_type": "execute_result"
    }
   ],
   "source": [
    "sig_edge_boolean == sig_edge_boolean2\n",
    "np.array_equiv(sig_edge_boolean,sig_edge_boolean2)"
   ]
  },
  {
   "cell_type": "code",
   "execution_count": null,
   "metadata": {},
   "outputs": [],
   "source": [
    "adjusted_pval"
   ]
  },
  {
   "cell_type": "code",
   "execution_count": 14,
   "metadata": {},
   "outputs": [
    {
     "data": {
      "text/plain": [
       "1592"
      ]
     },
     "execution_count": 14,
     "metadata": {},
     "output_type": "execute_result"
    }
   ],
   "source": [
    "#(adjusted_pval < 0.005).sum()\n",
    "(adjusted_pval == 0).sum()   \n",
    "#metabolomic = 17 edges have a p-value of 0  \n",
    "#proteomic = 1592 edges have a p-value of 0         \n",
    "#integrated = 2432 edges have a p-value of 0"
   ]
  },
  {
   "cell_type": "code",
   "execution_count": null,
   "metadata": {},
   "outputs": [],
   "source": [
    "significance_ordered = list(adjusted_pval[adjusted_pval < 0.005])\n",
    "significance_ordered.sort()\n",
    "#significance_ordered"
   ]
  },
  {
   "cell_type": "code",
   "execution_count": 45,
   "metadata": {},
   "outputs": [
    {
     "data": {
      "text/plain": [
       "10221"
      ]
     },
     "execution_count": 45,
     "metadata": {},
     "output_type": "execute_result"
    }
   ],
   "source": [
    "sum(sig_edge_boolean) \n",
    "\n",
    "#One-sided permutation testing:\n",
    "#Metabolomic -  53 edges at  a < 0.005 and 17 edges at a < 1e-5\n",
    "#Proteomic - 8,753 edges at a < 0.005 and 1592 edges at a < 1e-5\n",
    "#Integrated - 9,069 edges at a < 0.005 and 2432 edges at a < 1e-5\n",
    "\n",
    "#Two sided permutation testing (before I realised that I forgot to scale the two dataset after subsetting)\n",
    "#Metabolomic - 8 edges significant with method=indep and method=poscorr\n",
    "#Metabolomic without PA - 70 edges significant with method=indep and method=poscorr\n",
    "#Proteomic - 31,486 edges significant with method=indep and method=poscorr\n",
    "#Integrated - 26,761 edges significant with method=indep and method=poscorr (less than proteomic because more edges so penalised more heavily)\n",
    "\n",
    "#Analyte-level:\n",
    "#Metabolomic - 1,660 edges at a < 0.005 and 1,347 edges at  a < 1e-5\n",
    "#Proteomic - 5,109 edges at a < 0.005 and 3,572 edges at a < 1e-5\n",
    "#Integrated - 10,221 edges at a < 0.005 and 8,157 edges at a < 1e-5\n"
   ]
  },
  {
   "cell_type": "code",
   "execution_count": null,
   "metadata": {},
   "outputs": [],
   "source": [
    "sns.histplot(adjusted_pval, bins = 50,color='#B8CDF8',edgecolor=\"k\") \n",
    "\n",
    "#plt.title('Metabolomic adjusted p-value distribution',fontsize=16)\n",
    "#plt.title('Metabolomic without PA adjusted p-value distribution',fontsize=16)\n",
    "plt.title('Proteomic adjusted p-value distribution',fontsize=16)\n",
    "#plt.title('Integrated adjusted p-value distribution',fontsize=16)\n",
    "\n",
    "plt.xlabel('Adjusted p-value',fontsize=13)\n",
    "plt.ylabel('Count',fontsize=13) \n",
    "\n",
    "#plt.savefig( 'Figures/adjusted_pval_metabolomic.png' , dpi=200,bbox_inches = 'tight' , pad_inches = 0.2 , facecolor='w')\n",
    "#plt.savefig( 'Figures/adjusted_pval_metabolomic_withoutPA.png' , dpi=200,bbox_inches = 'tight' , pad_inches = 0.2 , facecolor='w')\n",
    "#plt.savefig( 'Figures/adjusted_pval_proteomic.png' , dpi=200,bbox_inches = 'tight' , pad_inches = 0.2 , facecolor='w')\n",
    "#plt.savefig( 'Figures/adjusted_pval_integrated.png' , dpi=200,bbox_inches = 'tight' , pad_inches = 0.2 , facecolor='w')\n",
    "\n"
   ]
  },
  {
   "attachments": {},
   "cell_type": "markdown",
   "metadata": {},
   "source": [
    "Easier to obtain the reverse (i.e. edges that are not significant), since then they can be removed easily"
   ]
  },
  {
   "cell_type": "code",
   "execution_count": null,
   "metadata": {},
   "outputs": [],
   "source": [
    "not_sig_edge_boolean = [not elem for elem in sig_edge_boolean]\n",
    "sum(not_sig_edge_boolean )"
   ]
  },
  {
   "cell_type": "code",
   "execution_count": null,
   "metadata": {},
   "outputs": [],
   "source": [
    "#Load dataset\n",
    "#df = pd.read_csv('../Data/permutation_test_files_metabolomics/initial_tstats.csv', index_col=0)\n",
    "#df = pd.read_csv('../Data/permutation_test_files_proteomics/initial_tstats.csv', index_col=0)\n",
    "df = pd.read_csv('../Data/permutation_test_files_integrated/initial_tstats.csv', index_col=0)\n",
    "edgelist = df.index\n",
    "\n",
    "\n",
    "sig_edges = list(compress(edgelist,sig_edge_boolean))\n",
    "not_sig_edges = list(compress(edgelist,not_sig_edge_boolean))\n",
    "\n",
    "#Zip p-values to edge names to form dictionary (so I can test significance of differentially expressed genes)\n",
    "edgelist_tuple = []\n",
    "for i in range(len(edgelist)):\n",
    "    edge = edgelist[i].split(\",\")\n",
    "    edge = (edge[0],edge[1][1:])\n",
    "    edgelist_tuple.append(edge)\n",
    "    \n",
    "p_val_dict  = dict(zip(edgelist_tuple, adjusted_pval))"
   ]
  },
  {
   "cell_type": "code",
   "execution_count": null,
   "metadata": {},
   "outputs": [],
   "source": [
    "edgelist"
   ]
  },
  {
   "cell_type": "code",
   "execution_count": null,
   "metadata": {},
   "outputs": [],
   "source": [
    "sig_df = df.loc[sig_edges]\n",
    "\n",
    "sigedge_direction = []\n",
    "\n",
    "for i in range(len(sig_df)):\n",
    "    if sig_df.Initial_tstat[i] > 0:\n",
    "        sigedge_direction.append(\"mild\")\n",
    "    if sig_df.Initial_tstat[i] < 0:\n",
    "        sigedge_direction.append(\"severe\")"
   ]
  },
  {
   "cell_type": "code",
   "execution_count": null,
   "metadata": {},
   "outputs": [],
   "source": [
    "print(sigedge_direction.count(\"mild\"))\n",
    "print(sigedge_direction.count(\"severe\"))"
   ]
  },
  {
   "cell_type": "markdown",
   "metadata": {},
   "source": [
    "Saving the significant edges: Easier to compare with the naive networks and the other omics networks as well <br>\n",
    "Saving the non-significant edges: Easier when constructing the differential network analysis"
   ]
  },
  {
   "cell_type": "code",
   "execution_count": null,
   "metadata": {},
   "outputs": [],
   "source": [
    "#with open ('../Data/permutation_test_files_metabolomics/sig_edges.txt', 'w') as file:\n",
    "#     file.write(','.join(str(i) for i in sig_edges))\n",
    "     \n",
    "#with open ('../Data/permutation_test_files_metabolomics/not_sig_edges.txt', 'w') as file:\n",
    "#     file.write(','.join(str(i) for i in not_sig_edges))\n",
    "\n",
    "#with open ('../Data/permutation_test_files_metabolomics/sigedge_direction.txt', 'w') as file:\n",
    "#     file.write(','.join(str(i) for i in sigedge_direction))\n",
    "\n",
    "#----------------------------------------------------\n",
    "\n",
    "\n",
    "#All edges with a p-value of zero:\n",
    "#with open ('../Data/permutation_test_files_metabolomics/pval0_sig_edges.txt', 'w') as file:\n",
    "#     file.write(','.join(str(i) for i in sig_edges))\n",
    "\n",
    "#with open ('../Data/permutation_test_files_metabolomics/pval0_sigedge_direction.txt', 'w') as file:\n",
    "#     file.write(','.join(str(i) for i in sigedge_direction))"
   ]
  },
  {
   "cell_type": "code",
   "execution_count": null,
   "metadata": {},
   "outputs": [],
   "source": [
    "#Save number of significant edges BEFORE FDR CORRECTION\n",
    "\n",
    "#sig_edges_beforefdr = list(compress(edgelist,pval_array < 0.05))\n",
    "#print(len(sig_edges_beforefdr))\n",
    "\n",
    "#with open ('Data/permutation_test_files_metabolomics/sig_edges_beforefdr.txt', 'w') as file:\n",
    "#     file.write(','.join(str(i) for i in sig_edges_beforefdr))"
   ]
  },
  {
   "cell_type": "code",
   "execution_count": null,
   "metadata": {},
   "outputs": [],
   "source": [
    "#with open ('Data/permutation_test_files_metabolomics_withoutPA/sig_edges.txt', 'w') as file:\n",
    "#     file.write(','.join(str(i) for i in sig_edges))\n",
    "     \n",
    "#with open ('Data/permutation_test_files_metabolomics_withoutPA/not_sig_edges.txt', 'w') as file:\n",
    "#     file.write(','.join(str(i) for i in not_sig_edges))"
   ]
  },
  {
   "cell_type": "code",
   "execution_count": null,
   "metadata": {},
   "outputs": [],
   "source": [
    "#with open ('../Data/permutation_test_files_proteomics/sig_edges.txt', 'w') as file:\n",
    "#     file.write(','.join(str(i) for i in sig_edges))\n",
    "     \n",
    "#with open ('../Data/permutation_test_files_proteomics/not_sig_edges.txt', 'w') as file:\n",
    "#     file.write(','.join(str(i) for i in not_sig_edges))\n",
    "\n",
    "#with open ('../Data/permutation_test_files_proteomics/sigedge_direction.txt', 'w') as file:\n",
    "#     file.write(','.join(str(i) for i in sigedge_direction))\n",
    " \n",
    "#----------------------------------------------------\n",
    "\n",
    "#All edges with a p-value of zero:\n",
    "#with open ('../Data/permutation_test_files_proteomics/pval0_sig_edges.txt', 'w') as file:\n",
    "#     file.write(','.join(str(i) for i in sig_edges))\n",
    "\n",
    "#with open ('../Data/permutation_test_files_proteomics/pval0_sigedge_direction.txt', 'w') as file:\n",
    "#     file.write(','.join(str(i) for i in sigedge_direction))"
   ]
  },
  {
   "cell_type": "code",
   "execution_count": null,
   "metadata": {},
   "outputs": [],
   "source": [
    "#with open ('../Data/permutation_test_files_integrated/sig_edges.txt', 'w') as file:\n",
    "#     file.write(','.join(str(i) for i in sig_edges))\n",
    "     \n",
    "#with open ('../Data/permutation_test_files_integrated/not_sig_edges.txt', 'w') as file:\n",
    "#     file.write(','.join(str(i) for i in not_sig_edges))\n",
    "\n",
    "#with open ('../Data/permutation_test_files_integrated/sigedge_direction.txt', 'w') as file:\n",
    "#     file.write(','.join(str(i) for i in sigedge_direction))\n",
    "\n",
    "#----------------------------------------------------\n",
    "\n",
    "#All edges with a p-value of zero:\n",
    "#with open ('../Data/permutation_test_files_integrated/pval0_sig_edges.txt', 'w') as file:\n",
    "#     file.write(','.join(str(i) for i in sig_edges))\n",
    "\n",
    "#with open ('../Data/permutation_test_files_integrated/pval0_sigedge_direction.txt', 'w') as file:\n",
    "#     file.write(','.join(str(i) for i in sigedge_direction))"
   ]
  },
  {
   "attachments": {},
   "cell_type": "markdown",
   "metadata": {},
   "source": [
    "### Plotting the test statistic distribution for randomly chosen pathway pairs\n"
   ]
  },
  {
   "cell_type": "code",
   "execution_count": 1,
   "metadata": {},
   "outputs": [],
   "source": [
    "import pandas as pd\n",
    "import os\n",
    "import random\n",
    "import pickle\n",
    "import seaborn as sns\n",
    "import matplotlib.pyplot as plt"
   ]
  },
  {
   "cell_type": "code",
   "execution_count": null,
   "metadata": {},
   "outputs": [],
   "source": [
    "#Download the initial test statistics\n",
    "#df = pd.read_csv('Data/permutation_test_files_metabolomics/initial_tstats.csv', index_col=0)\n",
    "#df = pd.read_csv('Data/permutation_test_files_proteomics/initial_tstats.csv', index_col=0)\n",
    "df = pd.read_csv('Data/permutation_test_files_integrated/initial_tstats.csv', index_col=0)\n",
    "\n",
    "\n",
    "#path = os.getcwd() + '\\\\Data\\\\permutation_test_files_metabolomics'\n",
    "#path = os.getcwd() + '\\\\Data\\\\permutation_test_files_proteomics'\n",
    "path = os.getcwd() + '\\\\Data\\\\permutation_test_files_integrated'"
   ]
  },
  {
   "cell_type": "code",
   "execution_count": null,
   "metadata": {},
   "outputs": [],
   "source": [
    "df"
   ]
  },
  {
   "cell_type": "markdown",
   "metadata": {},
   "source": [
    "Selecting random pathways and writing to a file without the HPC:"
   ]
  },
  {
   "cell_type": "code",
   "execution_count": null,
   "metadata": {},
   "outputs": [],
   "source": [
    "\n",
    "\n",
    "#pathway_list = []\n",
    "\n",
    "#for i in range(8): #take 8 random pathways\n",
    "#    index = random.randrange(0, len(df)) #Gives index from 0 to (len(df)-1), better for indexing with unpickled files which are stored as lists\n",
    "#    print(index)\n",
    "#    for filename in os.listdir(path):\n",
    "#            if filename.startswith('Run'):\n",
    "#                with open(os.path.join(path, filename),'rb') as file:\n",
    "#                    list1 = pickle.load(file)   \n",
    "#                    #print(len(list1))\n",
    "#                    pathway_list.append(list1[index])\n",
    "#    with open('Data/permutation_test_files_metabolomics/test_distribution'+str(index)+'.txt', 'w') as file:\n",
    "#        file.write(','.join(str(i) for i in pathway_list))\n",
    "#    print(len(pathway_list))\n",
    "#    pathway_list = []\n",
    "\n",
    "\n"
   ]
  },
  {
   "attachments": {},
   "cell_type": "markdown",
   "metadata": {},
   "source": [
    "Read in the test distribution files that were made from the HPC and plotting:"
   ]
  },
  {
   "cell_type": "code",
   "execution_count": null,
   "metadata": {},
   "outputs": [],
   "source": [
    "val_array = []\n",
    "\n",
    "\n",
    "#Run all the test distribution files:\n",
    "#for filename in os.listdir(path): #also lists directories\n",
    "#    if filename.startswith('test'):\n",
    "#        with open(os.path.join(path, filename)) as file:    \n",
    "#            lines = file.readlines()\n",
    "#            vals = lines[0].split(',')\n",
    "#            vals =  [float(x) for x in vals]\n",
    "#            print(len(vals))\n",
    "#            print(vals[:100])\n",
    "            \n",
    "\n",
    "#I've plotted figures for the following (metabolomics): 855, 1496 (sig before correction), 1884, 1897, 2391, 2681 (sig before correction, not normal), 2747, 3660, 4665, 4692, 5958, 7664 (normal), 8257, 9949, 10215\n",
    "#I've plotted figures for the following (proteomics): 492 (sig - no permutations over), 1863 (weird bimodal distribution, 3212 (sig before correction), 3379, 11886 (sig before correction), 15302 (sig before correction), 19587 (sig before correction, weird distribution), 44413 (sig), 80764, 98000(sig), 142402, 143312, 145571 (sig, weird distribution), 153715 (sig - no permutations over), 157122 (not sig, normal)\n",
    "#I've plotted figures for the following (integrated): 19156, 29535, 39570, 67801 (sig before correction), 82140, 96565, 96908 (sig before correction, normal), 101041, 124135, 184762 (sig), 236500 (sig before correction)\n",
    "\n",
    "#Open the test distribution files one by one:\n",
    "test_num = 239468\n",
    "#with open('Data/permutation_test_files_metabolomics/Test_distribution/test_distribution'+str(test_num)+'.txt') as file:\n",
    "#with open('Data/permutation_test_files_proteomics/Test_distribution/test_distribution'+str(test_num)+'.txt') as file:\n",
    "with open('Data/permutation_test_files_integrated/Test_distribution/test_distribution'+str(test_num)+'.txt') as file:\n",
    "    comparison = df.Initial_tstat[test_num]\n",
    "    edge_name = df.index[test_num]\n",
    "\n",
    "    lines = file.readlines()\n",
    "    vals = lines[0].split(',')\n",
    "    vals =  [float(x) for x in vals]\n",
    "    print(len(vals))\n",
    "    print(vals[:100])\n",
    "\n",
    "\n",
    "#For metabolomics:\n",
    "#sns.histplot(vals, bins = 50,color='#59C3C3',edgecolor=\"k\") \n",
    "\n",
    "#For proteomics:\n",
    "#sns.histplot(vals, bins = 50,color='#4062BB',edgecolor=\"k\") \n",
    "\n",
    "#For integrated data:\n",
    "sns.histplot(vals, bins = 50,color='#52489C',edgecolor=\"k\") \n",
    "\n",
    "\n",
    "plt.title('Pathway pair '+ edge_name,fontsize=16)\n",
    "plt.xlabel('Delta value',fontsize=13)\n",
    "plt.ylabel('Count',fontsize=13) \n",
    "\n",
    "plt.axvline(x=comparison, color='r', linewidth=0.5, linestyle='--', dashes=(8, 5))\n",
    "plt.axvline(x=-comparison, color='r', linewidth=0.5, linestyle='--', dashes=(8, 5))\n",
    "\n",
    "#Count number of values (made absolute) that are over the initial test statistic (made absolute) for two sided permutation test\n",
    "counter = 0 \n",
    "for index in range(len(vals)):  #len(final_list) = number of permutations\n",
    "    if abs(vals[index]) >= comparison:   \n",
    "        counter += 1\n",
    "print(counter)\n",
    "\n",
    "\n",
    "#MUST RUN THE ABOVE CODE TO LOAD IN THE NUMBER OF VALUES THAT ARE ABOVE THE INITIAL TEST STATISTIC SO I KNOW WHETHER THE PATHWAY PAIR IS SIGNIFICANT AFTER FDR CORRECTION\n",
    "if sig_edge_boolean[test_num] == True:\n",
    "    plt.text(-0.8, -2600, \"Adjusted p-value significant\",fontsize=10)\n",
    "else:\n",
    "    plt.text(-0.8, -2600, \"Not significant\",fontsize=10)\n",
    "plt.text(-0.8, -3200, \"Unadjusted p-value: \" + str(pval_array[test_num]),fontsize=10)\n",
    "plt.text(-0.8, -3800, \"FDR-adjusted p-value: \" + str(adjusted_pval[test_num]),fontsize=10)\n",
    "plt.text(-0.8, -4400, \"Number of values above initial test statistic: \" + str(counter),fontsize=10)\n",
    "\n",
    "\n",
    "\n",
    "plt.xlim(-0.9,0.9)   #-log_10(0.005) = 2.301...\n",
    "plt.ylim(0,15000) \n",
    "\n",
    "#plt.savefig( 'Figures/Pathway ' + edge_name + '.png' , dpi=200,bbox_inches = 'tight' , pad_inches = 0.2 , facecolor='w')"
   ]
  }
 ],
 "metadata": {
  "kernelspec": {
   "display_name": "Imperial_Project2",
   "language": "python",
   "name": "python3"
  },
  "language_info": {
   "codemirror_mode": {
    "name": "ipython",
    "version": 3
   },
   "file_extension": ".py",
   "mimetype": "text/x-python",
   "name": "python",
   "nbconvert_exporter": "python",
   "pygments_lexer": "ipython3",
   "version": "3.11.3"
  },
  "orig_nbformat": 4
 },
 "nbformat": 4,
 "nbformat_minor": 2
}
