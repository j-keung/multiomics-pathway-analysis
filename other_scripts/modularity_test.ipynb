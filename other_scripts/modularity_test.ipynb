{
 "cells": [
  {
   "cell_type": "code",
   "execution_count": null,
   "metadata": {},
   "outputs": [],
   "source": [
    "import networkx as nx\n",
    "import numpy as np\n",
    "import pandas as pd\n",
    "import seaborn as sns\n",
    "import matplotlib.pyplot as plt"
   ]
  },
  {
   "cell_type": "code",
   "execution_count": null,
   "metadata": {},
   "outputs": [],
   "source": [
    "G = nx.barbell_graph(3, 0)\n",
    "nx.draw(G, with_labels = True)\n",
    "nx.community.modularity(G, nx.community.label_propagation_communities(G))"
   ]
  },
  {
   "attachments": {},
   "cell_type": "markdown",
   "metadata": {},
   "source": [
    "Changing the Spearman p-values based on modularity won't affect the differential networks, since we only look at the Spearman correlation coefficients for the permutations. I think it only changes the network visualisation step, as well as the visualisation for the integrated stage."
   ]
  },
  {
   "attachments": {},
   "cell_type": "markdown",
   "metadata": {},
   "source": [
    "### Testing modularity for networks with all samples included:"
   ]
  },
  {
   "cell_type": "code",
   "execution_count": null,
   "metadata": {},
   "outputs": [],
   "source": [
    "proteomic = nx.read_gml(\"Cytoscape/proteomic_prefiltered.gml\")\n",
    "metabolomic = nx.read_gml(\"Cytoscape/metabolomic_prefiltered.gml\")"
   ]
  },
  {
   "cell_type": "code",
   "execution_count": null,
   "metadata": {},
   "outputs": [],
   "source": [
    "proteomic = nx.read_gml(\"Cytoscape/proteomic_prefiltered_commoncases.gml\")\n",
    "metabolomic = nx.read_gml(\"Cytoscape/metabolomic_prefiltered_commoncases.gml\")"
   ]
  },
  {
   "cell_type": "code",
   "execution_count": null,
   "metadata": {},
   "outputs": [],
   "source": [
    "metabolomic.edges(data=True)"
   ]
  },
  {
   "attachments": {},
   "cell_type": "markdown",
   "metadata": {},
   "source": [
    "### Testing modularity on fully connected graph"
   ]
  },
  {
   "cell_type": "code",
   "execution_count": null,
   "metadata": {},
   "outputs": [],
   "source": [
    "#https://sites.google.com/view/paztronomer/blog/basic/python-colors\n",
    "#goes up to 15 colours\n",
    "color_scheme = [\"skyblue\",\"orange\",\"green\",\"purple\",\"midnightblue\",\"red\",\"pink\",\"yellow\",\"brown\",\"magenta\",\"cyan\",\"salmon\",\"lime\",\"orchid\",\"khaki\"]\n",
    "\n",
    "def supply_colours (network_copy,clusters):\n",
    "    color_map = []\n",
    "    for node in network_copy:\n",
    "        for index in range(len(clusters)):\n",
    "            try:\n",
    "                if node in clusters[index]:\n",
    "                    color_map.append(color_scheme[index])\n",
    "            except IndexError:\n",
    "                    color_map.append(\"grey\")   #colours the first fifteen colours, after that colours the rest grey\n",
    "    return(color_map)"
   ]
  },
  {
   "cell_type": "code",
   "execution_count": null,
   "metadata": {},
   "outputs": [],
   "source": [
    "G = proteomic.copy()\n",
    "\n",
    "#Removing edges with high overlap:\n",
    "#edges_to_remove = [(u,v) for u,v,e in G.edges(data=True) if e['Overlap_coef'] >= 0.5]\n",
    "#G.remove_edges_from(edges_to_remove)\n",
    "\n",
    "#len(edges_to_remove)"
   ]
  },
  {
   "cell_type": "code",
   "execution_count": null,
   "metadata": {},
   "outputs": [],
   "source": [
    "clusters = nx.community.louvain_communities(G,weight='Squared_corr',seed=100,resolution=1.05)\n",
    "print(len(clusters))"
   ]
  },
  {
   "cell_type": "code",
   "execution_count": null,
   "metadata": {},
   "outputs": [],
   "source": [
    "color_map = supply_colours(G,clusters)\n",
    "squared_corr = [i['Squared_corr'] for i in dict(G.edges).values()] #Sara's code, used to vary edge weight\n",
    "\n",
    "nx.draw(G, node_size = 10,node_color=color_map,pos=nx.spring_layout(G,weight=\"Squared_corr\",seed=100), with_labels=False,width= squared_corr)  #,edge_color=squared_corr,edge_cmap=plt.cm.Blues"
   ]
  },
  {
   "cell_type": "code",
   "execution_count": null,
   "metadata": {},
   "outputs": [],
   "source": [
    "#Does not work with a fully connected graph...\n",
    "nx.community.modularity(G,communities = clusters)\n",
    "\n",
    "#...unless you supply the weights\n",
    "nx.community.modularity(G, communities = clusters,weight=\"Squared_corr\")\n",
    "                        "
   ]
  },
  {
   "attachments": {},
   "cell_type": "markdown",
   "metadata": {},
   "source": [
    "### Filtering by Spearman p-value"
   ]
  },
  {
   "attachments": {},
   "cell_type": "markdown",
   "metadata": {},
   "source": [
    "Before I was using nx.community.label_propagation_communities but it doesn't give the options to provide weights so I switched to Louvain instead"
   ]
  },
  {
   "cell_type": "code",
   "execution_count": null,
   "metadata": {},
   "outputs": [],
   "source": [
    "#Example code: Testing modularity \n",
    "\n",
    "G = proteomic.copy()\n",
    "edges_to_remove = [(u,v) for u,v,e in G.edges(data=True) if e['Spearman_pval'] >= 0.005]\n",
    "G.remove_edges_from(edges_to_remove)\n",
    "\n",
    "nodes_to_remove = list(nx.isolates(G))\n",
    "print(nodes_to_remove)\n",
    "G.remove_nodes_from(nodes_to_remove)\n",
    "\n",
    "#nx.community.modularity(G, nx.community.label_propagation_communities(G))\n",
    "clusters = nx.community.louvain_communities(G,weight='Squared_corr',seed=100,resolution=1)\n",
    "print(len(clusters))\n",
    "\n",
    "color_map = supply_colours(G,clusters)\n",
    "squared_corr = [i['Squared_corr'] for i in dict(G.edges).values()] #Sara's code\n",
    "\n",
    "\n",
    "\n",
    "nx.draw(G, node_size = 5,node_color=color_map,pos=nx.spring_layout(G,weight=\"Squared_corr\",seed=100), with_labels=False,width= squared_corr)\n",
    "print(G.number_of_edges())\n",
    "\n",
    "nx.community.modularity(G, communities = clusters,weight=\"Squared_corr\")"
   ]
  },
  {
   "cell_type": "code",
   "execution_count": null,
   "metadata": {},
   "outputs": [],
   "source": [
    "def modularity_test(omics_type,val):\n",
    "    G =  omics_type.copy()\n",
    "    edges_to_remove = [(u,v) for u,v,e in G.edges(data=True) if e['Spearman_pval'] >= val]\n",
    "    G.remove_edges_from(edges_to_remove)\n",
    "    #print(len(edges_to_remove))\n",
    "\n",
    "    edges_left = G.number_of_edges()\n",
    "\n",
    "    clusters = nx.community.louvain_communities(G,weight='Squared_corr',seed=100,resolution=1)\n",
    "    num_clusters = len(clusters)\n",
    "\n",
    "    modularity = round(nx.community.modularity(G, communities = clusters,weight=\"Squared_corr\"),2)\n",
    "\n",
    "    return (modularity,edges_left,num_clusters)"
   ]
  },
  {
   "cell_type": "code",
   "execution_count": null,
   "metadata": {},
   "outputs": [],
   "source": [
    "print(modularity_test(metabolomic,0.005))\n",
    "print(modularity_test(proteomic,0.005))"
   ]
  },
  {
   "cell_type": "code",
   "execution_count": null,
   "metadata": {},
   "outputs": [],
   "source": [
    "x = np.logspace(-100,0, num=25, base=10)  \n",
    "print(x)\n",
    "\n",
    "for val in x:\n",
    "    print(val)\n",
    "    print(modularity_test(metabolomic,val))"
   ]
  },
  {
   "cell_type": "code",
   "execution_count": null,
   "metadata": {},
   "outputs": [],
   "source": [
    "modularity_test(metabolomic,0.005)   #0.0062"
   ]
  },
  {
   "attachments": {},
   "cell_type": "markdown",
   "metadata": {},
   "source": [
    "### Scatterplot for omics networks with whole dataset (samples unfiltered regardless of lack of overlap)"
   ]
  },
  {
   "cell_type": "code",
   "execution_count": null,
   "metadata": {},
   "outputs": [],
   "source": [
    "x = np.logspace(-100, 0, num=50) \n",
    "proteomic_modularity = []\n",
    "proteomic_edge = []\n",
    "\n",
    "metabolomic_modularity = []\n",
    "metabolomic_edge = []\n",
    "\n",
    "for val in x:\n",
    "    proteomic_modularity.append(modularity_test(proteomic,val)[0])\n",
    "    proteomic_edge.append(modularity_test(proteomic,val)[1])\n",
    "\n",
    "    metabolomic_modularity.append(modularity_test(metabolomic,val)[0])\n",
    "    metabolomic_edge.append(modularity_test(metabolomic,val)[1])\n"
   ]
  },
  {
   "cell_type": "code",
   "execution_count": null,
   "metadata": {},
   "outputs": [],
   "source": [
    "log_x = -np.log10(x)"
   ]
  },
  {
   "cell_type": "code",
   "execution_count": null,
   "metadata": {},
   "outputs": [],
   "source": [
    "\n",
    "pval_df = pd.DataFrame({'proteomic' : proteomic_modularity, 'metabolomic': metabolomic_modularity})\n",
    "pval_df.index = log_x\n",
    "pval_df_long = pval_df.stack().reset_index()\n",
    "pval_df_long = pval_df_long.rename(columns={'level_0': 'Spearman log p-value', 'level_1': 'omics type', 0 : 'modularity'})\n",
    "\n",
    "\n",
    "pval_df_long"
   ]
  },
  {
   "cell_type": "code",
   "execution_count": null,
   "metadata": {},
   "outputs": [],
   "source": [
    "pro_list = list(proteomic_edge[::5])\n",
    "pro_list.reverse()\n",
    "\n",
    "met_list = list(metabolomic_edge[::5])\n",
    "met_list.reverse()\n",
    "\n",
    "\n",
    "#Create labels for the rows and columns as tuples\n",
    "rowLabels = ['proteomic', 'metabolomic']\n",
    "table_data = [pro_list,met_list]\n",
    "\n",
    "sns.lineplot(pval_df_long,x = \"Spearman log p-value\", y = \"modularity\",  hue = \"omics type\")      \n",
    "\n",
    "#plt.title('Comparison of omics modularity with whole dataset',fontsize=16)\n",
    "plt.title('Comparison of omics modularity for common cases',fontsize=16)\n",
    "plt.xlabel(\"Spearman p-values (-log10)\",fontsize=13, labelpad=5)\n",
    "plt.ylabel(\"Modularity\",fontsize=13, labelpad=10) \n",
    "\n",
    "plt.axvline(x=-np.log10(0.005), color='red', linewidth=0.8, linestyle='--', dashes=(8, 5))\n",
    "plt.text(3.2, 0.79, \"p-val = 0.005\",fontsize=10)\n",
    "\n",
    "#Approximate p-value where the two lines cross\n",
    "#plt.axvline(x=-np.log10(0.28e-25), color='black', linewidth=0.5, linestyle='--', dashes=(8, 5))\n",
    "#plt.text(21, 0.65, \"p-val = 0.28e-25\",fontsize=10)\n",
    "\n",
    "\n",
    "plt.text(15, -0.1, \"Number of edges remaining\",fontsize=16)\n",
    "\n",
    "#Show the table underneath the figure\n",
    "table = plt.table(cellText=table_data,\n",
    "                  rowLabels=rowLabels,\n",
    "                  loc='bottom',\n",
    "                  bbox=[0.05, -0.5, 0.9, 0.2], #specify where \n",
    "                  cellLoc = \"center\")\n",
    "\n",
    "table.auto_set_font_size(False)\n",
    "table.set_fontsize(8.5)\n",
    "\n",
    "#plt.savefig('Figures/modularity_all.png' ,dpi=200,bbox_inches = 'tight' , pad_inches = 0.2 , facecolor='w')\n",
    "plt.savefig('Figures/modularity_commoncases.png' ,dpi=200,bbox_inches = 'tight' , pad_inches = 0.2 , facecolor='w')\n"
   ]
  },
  {
   "attachments": {},
   "cell_type": "markdown",
   "metadata": {},
   "source": [
    "### Visualising networks and Louvain communities\n"
   ]
  },
  {
   "cell_type": "code",
   "execution_count": null,
   "metadata": {},
   "outputs": [],
   "source": [
    "#plt.figure(figsize=(20,10))\n",
    "\n",
    "G = proteomic.copy()\n",
    "edges_to_remove = [(u,v) for u,v,e in G.edges(data=True) if e['Spearman_pval'] >= 0.005]\n",
    "G.remove_edges_from(edges_to_remove)\n",
    "\n",
    "nodes_to_remove = list(nx.isolates(G))\n",
    "print(nodes_to_remove)\n",
    "G.remove_nodes_from(nodes_to_remove)\n",
    "\n",
    "#nx.community.modularity(G, nx.community.label_propagation_communities(G))\n",
    "clusters = nx.community.louvain_communities(G,weight='Squared_corr',seed=100,resolution=1)\n",
    "print(len(clusters))\n",
    "\n",
    "color_map = supply_colours(G,clusters)\n",
    "squared_corr = [i['Squared_corr'] for i in dict(G.edges).values()] #Sara's code\n",
    "\n",
    "\n",
    "\n",
    "nx.draw(G, node_size = 5,node_color=color_map,pos=nx.spring_layout(G,weight=\"Squared_corr\",seed=100), with_labels=False,width= squared_corr)\n",
    "print(G.number_of_edges())\n",
    "\n",
    "nx.community.modularity(G, communities = clusters,weight=\"Squared_corr\")"
   ]
  },
  {
   "attachments": {},
   "cell_type": "markdown",
   "metadata": {},
   "source": [
    "### Filtering by overlap coefficient"
   ]
  },
  {
   "cell_type": "code",
   "execution_count": null,
   "metadata": {},
   "outputs": [],
   "source": [
    "def modularity_test(omics_type,val):\n",
    "    G =  omics_type.copy()\n",
    "    edges_to_remove = [(u,v) for u,v,e in G.edges(data=True) if e['Overlap_coef'] >= val]\n",
    "    G.remove_edges_from(edges_to_remove)\n",
    "    #print(len(edges_to_remove))\n",
    "\n",
    "    edges_left = G.number_of_edges()\n",
    "\n",
    "    clusters = nx.community.louvain_communities(G,weight='Squared_corr',seed=100,resolution=1)\n",
    "    num_clusters = len(clusters)\n",
    "\n",
    "    modularity = round(nx.community.modularity(G, communities = clusters,weight=\"Squared_corr\"),2)\n",
    "\n",
    "    return (modularity,edges_left,num_clusters)"
   ]
  },
  {
   "cell_type": "code",
   "execution_count": null,
   "metadata": {},
   "outputs": [],
   "source": [
    "metabolomic.edges(data=True)\n",
    "modularity_test(metabolomic,0.1)"
   ]
  },
  {
   "cell_type": "code",
   "execution_count": null,
   "metadata": {},
   "outputs": [],
   "source": [
    "#x = np.linspace(0.1, 1, num=18) \n",
    "x = np.arange(0.1, 1.05, 0.05)\n",
    "\n",
    "proteomic_modularity = []\n",
    "proteomic_edge = []\n",
    "\n",
    "metabolomic_modularity = []\n",
    "metabolomic_edge = []\n",
    "\n",
    "for val in x:\n",
    "    proteomic_modularity.append(modularity_test(proteomic,val)[0])\n",
    "    proteomic_edge.append(modularity_test(proteomic,val)[1])\n",
    "\n",
    "    metabolomic_modularity.append(modularity_test(metabolomic,val)[0])\n",
    "    metabolomic_edge.append(modularity_test(metabolomic,val)[1])\n"
   ]
  },
  {
   "cell_type": "code",
   "execution_count": null,
   "metadata": {},
   "outputs": [],
   "source": [
    "oc_df = pd.DataFrame({'proteomic' : proteomic_modularity, 'metabolomic': metabolomic_modularity})\n",
    "oc_df.index = x\n",
    "oc_df_long = oc_df.stack().reset_index()\n",
    "oc_df_long = oc_df_long.rename(columns={'level_0': 'Overlap coef', 'level_1': 'omics type', 0 : 'modularity'})"
   ]
  },
  {
   "cell_type": "code",
   "execution_count": null,
   "metadata": {},
   "outputs": [],
   "source": [
    "x"
   ]
  },
  {
   "cell_type": "code",
   "execution_count": null,
   "metadata": {},
   "outputs": [],
   "source": [
    "pro_list = list(proteomic_edge[::2])\n",
    "met_list = list(metabolomic_edge[::2])\n",
    "\n",
    "#Create labels for the rows and columns as tuples\n",
    "rowLabels = ['proteomic', 'metabolomic']\n",
    "colLabels = [0.1,0.2,0.3,0.4,0.5,0.6,0.7,0.8,0.9,1.0]\n",
    "table_data = [pro_list,met_list]\n",
    "\n",
    "\n",
    "sns.lineplot(oc_df_long,x = \"Overlap coef\", y = \"modularity\",  hue = \"omics type\")      \n",
    "\n",
    "#plt.title('Comparison of omics modularity with whole dataset',fontsize=16)\n",
    "#plt.title('Comparison of omics modularity for common cases',fontsize=16)\n",
    "plt.xlabel(\"Overlap coefficient\",fontsize=13, labelpad=5)\n",
    "plt.ylabel(\"Modularity\",fontsize=13, labelpad=10) \n",
    "plt.xticks(np.arange(min(x), max(x)+0.05, 0.1)) \n",
    "\n",
    "plt.axvline(x=0.5, color='red', linewidth=0.8, linestyle='--', dashes=(8, 5))\n",
    "plt.text(0.53, 0.28, \"overlap = 0.5\",fontsize=10)\n",
    "\n",
    "plt.text(0.21, 0.035, \"Number of edges remaining\",fontsize=16)\n",
    "\n",
    "#Show the table underneath the figure\n",
    "table = plt.table(cellText=table_data,\n",
    "                  rowLabels=rowLabels,\n",
    "                  colLabels=colLabels,\n",
    "                  loc='bottom',\n",
    "                  bbox=[0.05, -0.5, 0.9, 0.2], #specify where \n",
    "                  cellLoc = \"center\")\n",
    "\n",
    "table.auto_set_font_size(False)\n",
    "table.set_fontsize(7)\n",
    "\n",
    "#plt.savefig('Figures/modularity_all_oc.png' ,dpi=200,bbox_inches = 'tight' , pad_inches = 0.2 , facecolor='w')\n",
    "#plt.savefig('Figures/modularity_commoncases_oc.png' ,dpi=200,bbox_inches = 'tight' , pad_inches = 0.2 , facecolor='w')\n"
   ]
  }
 ],
 "metadata": {
  "kernelspec": {
   "display_name": "Imperial_Project2",
   "language": "python",
   "name": "python3"
  },
  "language_info": {
   "codemirror_mode": {
    "name": "ipython",
    "version": 3
   },
   "file_extension": ".py",
   "mimetype": "text/x-python",
   "name": "python",
   "nbconvert_exporter": "python",
   "pygments_lexer": "ipython3",
   "version": "3.10.11"
  },
  "orig_nbformat": 4
 },
 "nbformat": 4,
 "nbformat_minor": 2
}
