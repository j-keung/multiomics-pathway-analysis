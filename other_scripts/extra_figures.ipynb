{
 "cells": [
  {
   "cell_type": "markdown",
   "metadata": {},
   "source": [
    "Code to generate some thesis figures"
   ]
  },
  {
   "cell_type": "markdown",
   "metadata": {},
   "source": [
    "### Scatterplot of Spearman correlation coefficients between metabolomic and proteomic"
   ]
  },
  {
   "cell_type": "code",
   "execution_count": 39,
   "metadata": {},
   "outputs": [],
   "source": [
    "#Load libraries \n",
    "\n",
    "import pandas as pd\n",
    "#from sklearn.preprocessing import StandardScaler\n",
    "import seaborn as sns\n",
    "import matplotlib.pyplot as plt\n",
    "import numpy as np\n",
    "#from sklearn.decomposition import PCA\n",
    "import sspa\n",
    "import scipy \n",
    "#import networkx as nx\n"
   ]
  },
  {
   "cell_type": "code",
   "execution_count": 2,
   "metadata": {},
   "outputs": [
    {
     "name": "stdout",
     "output_type": "stream",
     "text": [
      "10296.0\n"
     ]
    },
    {
     "data": {
      "text/html": [
       "<div>\n",
       "<style scoped>\n",
       "    .dataframe tbody tr th:only-of-type {\n",
       "        vertical-align: middle;\n",
       "    }\n",
       "\n",
       "    .dataframe tbody tr th {\n",
       "        vertical-align: top;\n",
       "    }\n",
       "\n",
       "    .dataframe thead th {\n",
       "        text-align: right;\n",
       "    }\n",
       "</style>\n",
       "<table border=\"1\" class=\"dataframe\">\n",
       "  <thead>\n",
       "    <tr style=\"text-align: right;\">\n",
       "      <th></th>\n",
       "      <th>Pathway1</th>\n",
       "      <th>Pathway2</th>\n",
       "      <th>Spearman_corr</th>\n",
       "      <th>Squared_corr</th>\n",
       "      <th>pval</th>\n",
       "      <th>pval_adj</th>\n",
       "    </tr>\n",
       "  </thead>\n",
       "  <tbody>\n",
       "    <tr>\n",
       "      <th>0</th>\n",
       "      <td>R-HSA-110331</td>\n",
       "      <td>R-HSA-110331</td>\n",
       "      <td>1.000000</td>\n",
       "      <td>1.000000</td>\n",
       "      <td>0.000000</td>\n",
       "      <td>0.0</td>\n",
       "    </tr>\n",
       "    <tr>\n",
       "      <th>1</th>\n",
       "      <td>R-HSA-110331</td>\n",
       "      <td>R-HSA-112310</td>\n",
       "      <td>0.243551</td>\n",
       "      <td>0.059317</td>\n",
       "      <td>0.005601</td>\n",
       "      <td>1.0</td>\n",
       "    </tr>\n",
       "    <tr>\n",
       "      <th>2</th>\n",
       "      <td>R-HSA-110331</td>\n",
       "      <td>R-HSA-112311</td>\n",
       "      <td>-0.241268</td>\n",
       "      <td>0.058210</td>\n",
       "      <td>0.006079</td>\n",
       "      <td>1.0</td>\n",
       "    </tr>\n",
       "    <tr>\n",
       "      <th>3</th>\n",
       "      <td>R-HSA-110331</td>\n",
       "      <td>R-HSA-112315</td>\n",
       "      <td>0.250544</td>\n",
       "      <td>0.062772</td>\n",
       "      <td>0.004339</td>\n",
       "      <td>1.0</td>\n",
       "    </tr>\n",
       "    <tr>\n",
       "      <th>4</th>\n",
       "      <td>R-HSA-110331</td>\n",
       "      <td>R-HSA-1237112</td>\n",
       "      <td>-0.177583</td>\n",
       "      <td>0.031536</td>\n",
       "      <td>0.044922</td>\n",
       "      <td>1.0</td>\n",
       "    </tr>\n",
       "    <tr>\n",
       "      <th>...</th>\n",
       "      <td>...</td>\n",
       "      <td>...</td>\n",
       "      <td>...</td>\n",
       "      <td>...</td>\n",
       "      <td>...</td>\n",
       "      <td>...</td>\n",
       "    </tr>\n",
       "    <tr>\n",
       "      <th>20731</th>\n",
       "      <td>R-HSA-975634</td>\n",
       "      <td>R-HSA-9734207</td>\n",
       "      <td>-0.036789</td>\n",
       "      <td>0.001353</td>\n",
       "      <td>0.680134</td>\n",
       "      <td>1.0</td>\n",
       "    </tr>\n",
       "    <tr>\n",
       "      <th>20732</th>\n",
       "      <td>R-HSA-975634</td>\n",
       "      <td>R-HSA-9735804</td>\n",
       "      <td>0.145046</td>\n",
       "      <td>0.021038</td>\n",
       "      <td>0.102352</td>\n",
       "      <td>1.0</td>\n",
       "    </tr>\n",
       "    <tr>\n",
       "      <th>20733</th>\n",
       "      <td>R-HSA-975634</td>\n",
       "      <td>R-HSA-9749641</td>\n",
       "      <td>-0.218012</td>\n",
       "      <td>0.047529</td>\n",
       "      <td>0.013431</td>\n",
       "      <td>1.0</td>\n",
       "    </tr>\n",
       "    <tr>\n",
       "      <th>20734</th>\n",
       "      <td>R-HSA-975634</td>\n",
       "      <td>R-HSA-9753281</td>\n",
       "      <td>0.121853</td>\n",
       "      <td>0.014848</td>\n",
       "      <td>0.170626</td>\n",
       "      <td>1.0</td>\n",
       "    </tr>\n",
       "    <tr>\n",
       "      <th>20735</th>\n",
       "      <td>R-HSA-975634</td>\n",
       "      <td>R-HSA-975634</td>\n",
       "      <td>1.000000</td>\n",
       "      <td>1.000000</td>\n",
       "      <td>0.000000</td>\n",
       "      <td>0.0</td>\n",
       "    </tr>\n",
       "  </tbody>\n",
       "</table>\n",
       "<p>20736 rows × 6 columns</p>\n",
       "</div>"
      ],
      "text/plain": [
       "           Pathway1       Pathway2  Spearman_corr  Squared_corr      pval  \\\n",
       "0      R-HSA-110331   R-HSA-110331       1.000000      1.000000  0.000000   \n",
       "1      R-HSA-110331   R-HSA-112310       0.243551      0.059317  0.005601   \n",
       "2      R-HSA-110331   R-HSA-112311      -0.241268      0.058210  0.006079   \n",
       "3      R-HSA-110331   R-HSA-112315       0.250544      0.062772  0.004339   \n",
       "4      R-HSA-110331  R-HSA-1237112      -0.177583      0.031536  0.044922   \n",
       "...             ...            ...            ...           ...       ...   \n",
       "20731  R-HSA-975634  R-HSA-9734207      -0.036789      0.001353  0.680134   \n",
       "20732  R-HSA-975634  R-HSA-9735804       0.145046      0.021038  0.102352   \n",
       "20733  R-HSA-975634  R-HSA-9749641      -0.218012      0.047529  0.013431   \n",
       "20734  R-HSA-975634  R-HSA-9753281       0.121853      0.014848  0.170626   \n",
       "20735  R-HSA-975634   R-HSA-975634       1.000000      1.000000  0.000000   \n",
       "\n",
       "       pval_adj  \n",
       "0           0.0  \n",
       "1           1.0  \n",
       "2           1.0  \n",
       "3           1.0  \n",
       "4           1.0  \n",
       "...         ...  \n",
       "20731       1.0  \n",
       "20732       1.0  \n",
       "20733       1.0  \n",
       "20734       1.0  \n",
       "20735       0.0  \n",
       "\n",
       "[20736 rows x 6 columns]"
      ]
     },
     "metadata": {},
     "output_type": "display_data"
    }
   ],
   "source": [
    "df = pd.read_csv('../Data/Su_COVID_metabolomics_processed_commoncases.csv', index_col=0)\n",
    "reactome_pathways = sspa.process_gmt(\"../Data/Reactome_Homo_sapiens_pathways_compounds_R84.gmt\")\n",
    "kpca_scores = sspa.sspa_kpca(df.iloc[:,:-2], reactome_pathways)\n",
    "\n",
    "\n",
    "#Convert pathway ID to name\n",
    "root_path = pd.read_excel('../Data/Root_pathways.xlsx', header=None)\n",
    "root_pathway_dict = {root_path[0][i]:root_path[1][i] for i in range(0,len(root_path))}\n",
    "\n",
    "root_pathway_names = list(root_pathway_dict.keys())\n",
    "#Using Sara's code, remove root pathways\n",
    "kpca_scores = kpca_scores.drop(columns = list(set(root_pathway_names) & set(kpca_scores.columns)))\n",
    "metabolomic_kpca_scores = kpca_scores\n",
    "\n",
    "#Note: Spearman correlation coefficient results are the same whether or not the kPCA pathway scores are normalised\n",
    "#Create a table showing the Spearman correlation coefficient and the adjusted p-value for each edge\n",
    "\n",
    "#\"If axis=0 (default), then each column represents a variable, with observations in the rows\"\n",
    "spearman_results = scipy.stats.spearmanr(kpca_scores)\n",
    "\n",
    "spearman_coef = spearman_results[0] #correlation coefficients\n",
    "spearman_pvals = spearman_results[1] #p-values\n",
    "\n",
    "\n",
    "#Using Sara's code (rather than having separate dataframes for each analysis, add all together in long format)\n",
    "squared_spearman_coef_df = pd.DataFrame(spearman_coef,columns = kpca_scores.columns, index=kpca_scores.columns)\n",
    "squared_spearman_coef_list = squared_spearman_coef_df.stack().reset_index()\n",
    "squared_spearman_coef_list.columns = [\"Pathway1\", \"Pathway2\", \"Spearman_corr\"]\n",
    "squared_spearman_coef_list[\"Squared_corr\"]  = np.square(squared_spearman_coef_list.Spearman_corr)\n",
    "\n",
    "spearman_pvals_df = pd.DataFrame(spearman_pvals,columns = kpca_scores.columns, index=kpca_scores.columns)\n",
    "spearman_pvals_list = spearman_pvals_df.stack().reset_index()\n",
    "spearman_pvals_list.columns = [\"Pathway1\", \"Pathway2\", \"pval\"]\n",
    "\n",
    "#Multiple testing correction for the p-values to prepare the corrected p-values for the final correlation network\n",
    "#Multiplies by the correct number of tests (i.e. not including the duplicates or self-comparisons)\n",
    "#Does not remove the diagonals or the duplicates themselves\n",
    "# E.g. ((160x160)-160)  / 2   (if there are 160 pathways)\n",
    "num_of_tests = (len(kpca_scores.columns)**2 - len(kpca_scores.columns))/2\n",
    "print(num_of_tests)\n",
    "corrected_spearman_pvals = spearman_pvals_list.pval*num_of_tests\n",
    "#If the p-val goes beyond 1 (max number for a p-value, change to 1)\n",
    "corrected_spearman_pvals = np.where(corrected_spearman_pvals < 1, corrected_spearman_pvals, 1)\n",
    "spearman_pvals_list[\"pval_adj\"]  = corrected_spearman_pvals\n",
    "\n",
    "spearman_df = squared_spearman_coef_list.merge(spearman_pvals_list,on=[\"Pathway1\",\"Pathway2\"])\n",
    "\n",
    "display(spearman_df)\n",
    "\n",
    "metabolomic_spearman_df = spearman_df"
   ]
  },
  {
   "cell_type": "markdown",
   "metadata": {},
   "source": [
    "###"
   ]
  },
  {
   "cell_type": "code",
   "execution_count": 3,
   "metadata": {},
   "outputs": [
    {
     "name": "stdout",
     "output_type": "stream",
     "text": [
      "166753.0\n"
     ]
    },
    {
     "data": {
      "text/html": [
       "<div>\n",
       "<style scoped>\n",
       "    .dataframe tbody tr th:only-of-type {\n",
       "        vertical-align: middle;\n",
       "    }\n",
       "\n",
       "    .dataframe tbody tr th {\n",
       "        vertical-align: top;\n",
       "    }\n",
       "\n",
       "    .dataframe thead th {\n",
       "        text-align: right;\n",
       "    }\n",
       "</style>\n",
       "<table border=\"1\" class=\"dataframe\">\n",
       "  <thead>\n",
       "    <tr style=\"text-align: right;\">\n",
       "      <th></th>\n",
       "      <th>Pathway1</th>\n",
       "      <th>Pathway2</th>\n",
       "      <th>Spearman_corr</th>\n",
       "      <th>Squared_corr</th>\n",
       "      <th>pval</th>\n",
       "      <th>pval_adj</th>\n",
       "    </tr>\n",
       "  </thead>\n",
       "  <tbody>\n",
       "    <tr>\n",
       "      <th>0</th>\n",
       "      <td>R-HSA-109581</td>\n",
       "      <td>R-HSA-109581</td>\n",
       "      <td>1.000000</td>\n",
       "      <td>1.000000</td>\n",
       "      <td>0.000000e+00</td>\n",
       "      <td>0.000000e+00</td>\n",
       "    </tr>\n",
       "    <tr>\n",
       "      <th>1</th>\n",
       "      <td>R-HSA-109581</td>\n",
       "      <td>R-HSA-109606</td>\n",
       "      <td>0.839853</td>\n",
       "      <td>0.705353</td>\n",
       "      <td>3.099544e-35</td>\n",
       "      <td>5.168582e-30</td>\n",
       "    </tr>\n",
       "    <tr>\n",
       "      <th>2</th>\n",
       "      <td>R-HSA-109581</td>\n",
       "      <td>R-HSA-109704</td>\n",
       "      <td>0.608834</td>\n",
       "      <td>0.370679</td>\n",
       "      <td>2.453325e-14</td>\n",
       "      <td>4.090992e-09</td>\n",
       "    </tr>\n",
       "    <tr>\n",
       "      <th>3</th>\n",
       "      <td>R-HSA-109581</td>\n",
       "      <td>R-HSA-110362</td>\n",
       "      <td>-0.173440</td>\n",
       "      <td>0.030081</td>\n",
       "      <td>5.024573e-02</td>\n",
       "      <td>1.000000e+00</td>\n",
       "    </tr>\n",
       "    <tr>\n",
       "      <th>4</th>\n",
       "      <td>R-HSA-109581</td>\n",
       "      <td>R-HSA-110373</td>\n",
       "      <td>-0.173440</td>\n",
       "      <td>0.030081</td>\n",
       "      <td>5.024573e-02</td>\n",
       "      <td>1.000000e+00</td>\n",
       "    </tr>\n",
       "    <tr>\n",
       "      <th>...</th>\n",
       "      <td>...</td>\n",
       "      <td>...</td>\n",
       "      <td>...</td>\n",
       "      <td>...</td>\n",
       "      <td>...</td>\n",
       "      <td>...</td>\n",
       "    </tr>\n",
       "    <tr>\n",
       "      <th>334079</th>\n",
       "      <td>R-HSA-983705</td>\n",
       "      <td>R-HSA-983168</td>\n",
       "      <td>-0.571793</td>\n",
       "      <td>0.326947</td>\n",
       "      <td>1.794784e-12</td>\n",
       "      <td>2.992857e-07</td>\n",
       "    </tr>\n",
       "    <tr>\n",
       "      <th>334080</th>\n",
       "      <td>R-HSA-983705</td>\n",
       "      <td>R-HSA-983169</td>\n",
       "      <td>0.777439</td>\n",
       "      <td>0.604411</td>\n",
       "      <td>3.840637e-27</td>\n",
       "      <td>6.404377e-22</td>\n",
       "    </tr>\n",
       "    <tr>\n",
       "      <th>334081</th>\n",
       "      <td>R-HSA-983705</td>\n",
       "      <td>R-HSA-983231</td>\n",
       "      <td>-0.703471</td>\n",
       "      <td>0.494872</td>\n",
       "      <td>2.063260e-20</td>\n",
       "      <td>3.440549e-15</td>\n",
       "    </tr>\n",
       "    <tr>\n",
       "      <th>334082</th>\n",
       "      <td>R-HSA-983705</td>\n",
       "      <td>R-HSA-983695</td>\n",
       "      <td>0.900310</td>\n",
       "      <td>0.810558</td>\n",
       "      <td>2.380470e-47</td>\n",
       "      <td>3.969504e-42</td>\n",
       "    </tr>\n",
       "    <tr>\n",
       "      <th>334083</th>\n",
       "      <td>R-HSA-983705</td>\n",
       "      <td>R-HSA-983705</td>\n",
       "      <td>1.000000</td>\n",
       "      <td>1.000000</td>\n",
       "      <td>0.000000e+00</td>\n",
       "      <td>0.000000e+00</td>\n",
       "    </tr>\n",
       "  </tbody>\n",
       "</table>\n",
       "<p>334084 rows × 6 columns</p>\n",
       "</div>"
      ],
      "text/plain": [
       "            Pathway1      Pathway2  Spearman_corr  Squared_corr          pval  \\\n",
       "0       R-HSA-109581  R-HSA-109581       1.000000      1.000000  0.000000e+00   \n",
       "1       R-HSA-109581  R-HSA-109606       0.839853      0.705353  3.099544e-35   \n",
       "2       R-HSA-109581  R-HSA-109704       0.608834      0.370679  2.453325e-14   \n",
       "3       R-HSA-109581  R-HSA-110362      -0.173440      0.030081  5.024573e-02   \n",
       "4       R-HSA-109581  R-HSA-110373      -0.173440      0.030081  5.024573e-02   \n",
       "...              ...           ...            ...           ...           ...   \n",
       "334079  R-HSA-983705  R-HSA-983168      -0.571793      0.326947  1.794784e-12   \n",
       "334080  R-HSA-983705  R-HSA-983169       0.777439      0.604411  3.840637e-27   \n",
       "334081  R-HSA-983705  R-HSA-983231      -0.703471      0.494872  2.063260e-20   \n",
       "334082  R-HSA-983705  R-HSA-983695       0.900310      0.810558  2.380470e-47   \n",
       "334083  R-HSA-983705  R-HSA-983705       1.000000      1.000000  0.000000e+00   \n",
       "\n",
       "            pval_adj  \n",
       "0       0.000000e+00  \n",
       "1       5.168582e-30  \n",
       "2       4.090992e-09  \n",
       "3       1.000000e+00  \n",
       "4       1.000000e+00  \n",
       "...              ...  \n",
       "334079  2.992857e-07  \n",
       "334080  6.404377e-22  \n",
       "334081  3.440549e-15  \n",
       "334082  3.969504e-42  \n",
       "334083  0.000000e+00  \n",
       "\n",
       "[334084 rows x 6 columns]"
      ]
     },
     "metadata": {},
     "output_type": "display_data"
    }
   ],
   "source": [
    "df = pd.read_csv('../Data/Su_COVID_proteomics_processed_commoncases.csv', index_col=0)\n",
    "reactome_pathways = sspa.process_reactome('Homo sapiens', infile = '../Data/UniProt2Reactome_All_Levels_ver84.txt', download_latest = False, filepath = None)\n",
    "kpca_scores = sspa.sspa_kpca(df.iloc[:,:-2], reactome_pathways)\n",
    "\n",
    "#Convert pathway ID to name\n",
    "root_path = pd.read_excel('../Data/Root_pathways.xlsx', header=None)\n",
    "root_pathway_dict = {root_path[0][i]:root_path[1][i] for i in range(0,len(root_path))}\n",
    "\n",
    "root_pathway_names = list(root_pathway_dict.keys())\n",
    "#Using Sara's code, remove root pathways\n",
    "kpca_scores = kpca_scores.drop(columns = list(set(root_pathway_names) & set(kpca_scores.columns)))\n",
    "proteomic_kpca_scores = kpca_scores\n",
    "\n",
    "#Note: Spearman correlation coefficient results are the same whether or not the kPCA pathway scores are normalised\n",
    "#Create a table showing the Spearman correlation coefficient and the adjusted p-value for each edge\n",
    "\n",
    "#\"If axis=0 (default), then each column represents a variable, with observations in the rows\"\n",
    "spearman_results = scipy.stats.spearmanr(kpca_scores)\n",
    "\n",
    "spearman_coef = spearman_results[0] #correlation coefficients\n",
    "spearman_pvals = spearman_results[1] #p-values\n",
    "\n",
    "\n",
    "#Using Sara's code (rather than having separate dataframes for each analysis, add all together in long format)\n",
    "squared_spearman_coef_df = pd.DataFrame(spearman_coef,columns = kpca_scores.columns, index=kpca_scores.columns)\n",
    "squared_spearman_coef_list = squared_spearman_coef_df.stack().reset_index()\n",
    "squared_spearman_coef_list.columns = [\"Pathway1\", \"Pathway2\", \"Spearman_corr\"]\n",
    "squared_spearman_coef_list[\"Squared_corr\"]  = np.square(squared_spearman_coef_list.Spearman_corr)\n",
    "\n",
    "spearman_pvals_df = pd.DataFrame(spearman_pvals,columns = kpca_scores.columns, index=kpca_scores.columns)\n",
    "spearman_pvals_list = spearman_pvals_df.stack().reset_index()\n",
    "spearman_pvals_list.columns = [\"Pathway1\", \"Pathway2\", \"pval\"]\n",
    "\n",
    "#Multiple testing correction for the p-values to prepare the corrected p-values for the final correlation network\n",
    "#Multiplies by the correct number of tests (i.e. not including the duplicates or self-comparisons)\n",
    "#Does not remove the diagonals or the duplicates themselves\n",
    "# E.g. ((160x160)-160)  / 2   (if there are 160 pathways)\n",
    "num_of_tests = (len(kpca_scores.columns)**2 - len(kpca_scores.columns))/2\n",
    "print(num_of_tests)\n",
    "corrected_spearman_pvals = spearman_pvals_list.pval*num_of_tests\n",
    "#If the p-val goes beyond 1 (max number for a p-value, change to 1)\n",
    "corrected_spearman_pvals = np.where(corrected_spearman_pvals < 1, corrected_spearman_pvals, 1)\n",
    "spearman_pvals_list[\"pval_adj\"]  = corrected_spearman_pvals\n",
    "\n",
    "spearman_df = squared_spearman_coef_list.merge(spearman_pvals_list,on=[\"Pathway1\",\"Pathway2\"])\n",
    "\n",
    "display(spearman_df)\n",
    "\n",
    "proteomic_spearman_df = spearman_df"
   ]
  },
  {
   "cell_type": "code",
   "execution_count": 4,
   "metadata": {},
   "outputs": [],
   "source": [
    "common_pathway_list = list(set(metabolomic_kpca_scores.columns).intersection(set(proteomic_kpca_scores.columns)))"
   ]
  },
  {
   "cell_type": "code",
   "execution_count": 71,
   "metadata": {},
   "outputs": [
    {
     "name": "stdout",
     "output_type": "stream",
     "text": [
      "2162\n",
      "1081\n"
     ]
    }
   ],
   "source": [
    "counter = 0\n",
    "common_pathway_pairs_meta = []\n",
    "metabolomic_corr = []\n",
    "metabolomic_pval = []\n",
    "\n",
    "for i in range(len(metabolomic_spearman_df)):\n",
    "    pathway1 = metabolomic_spearman_df.Pathway1[i]\n",
    "    pathway2 = metabolomic_spearman_df.Pathway2[i]\n",
    "\n",
    "    if pathway1 in common_pathway_list and pathway2 in common_pathway_list:\n",
    "        if pathway1 != pathway2:\n",
    "            counter+=1\n",
    "            pair = pathway1 + ', '+ pathway2\n",
    "            opp_pair = pathway2 + ', '+ pathway1\n",
    "            if opp_pair not in common_pathway_pairs:\n",
    "                common_pathway_pairs_meta.append(pair)\n",
    "                metabolomic_corr.append(metabolomic_spearman_df.Squared_corr[i])\n",
    "                metabolomic_pval.append(metabolomic_spearman_df.pval_adj[i])\n",
    "\n",
    "\n",
    "print(counter)\n",
    "print(len(common_pathway_pairs_meta))"
   ]
  },
  {
   "cell_type": "code",
   "execution_count": 70,
   "metadata": {},
   "outputs": [
    {
     "name": "stdout",
     "output_type": "stream",
     "text": [
      "2162\n",
      "1081\n"
     ]
    }
   ],
   "source": [
    "counter = 0\n",
    "common_pathway_pairs_pro = []\n",
    "proteomic_corr = []\n",
    "proteomic_pval = []\n",
    "\n",
    "for i in range(len(proteomic_spearman_df)):\n",
    "    pathway1 = proteomic_spearman_df.Pathway1[i]\n",
    "    pathway2 = proteomic_spearman_df.Pathway2[i]\n",
    "\n",
    "    if pathway1 in common_pathway_list and pathway2 in common_pathway_list:\n",
    "        if pathway1 != pathway2:\n",
    "            counter+=1\n",
    "            pair = pathway1 + ', '+ pathway2\n",
    "            opp_pair = pathway2 + ', '+ pathway1\n",
    "            if opp_pair not in common_pathway_pairs:\n",
    "                common_pathway_pairs_pro.append(pair)\n",
    "                proteomic_corr.append(proteomic_spearman_df.Squared_corr[i])\n",
    "                proteomic_pval.append(proteomic_spearman_df.pval_adj[i])\n",
    "            \n",
    "print(counter)\n",
    "print(len(common_pathway_pairs_pro))"
   ]
  },
  {
   "cell_type": "code",
   "execution_count": 72,
   "metadata": {},
   "outputs": [
    {
     "data": {
      "text/plain": [
       "True"
      ]
     },
     "execution_count": 72,
     "metadata": {},
     "output_type": "execute_result"
    }
   ],
   "source": [
    "common_pathway_pairs_pro == common_pathway_pairs_meta"
   ]
  },
  {
   "cell_type": "code",
   "execution_count": 75,
   "metadata": {},
   "outputs": [
    {
     "data": {
      "text/html": [
       "<div>\n",
       "<style scoped>\n",
       "    .dataframe tbody tr th:only-of-type {\n",
       "        vertical-align: middle;\n",
       "    }\n",
       "\n",
       "    .dataframe tbody tr th {\n",
       "        vertical-align: top;\n",
       "    }\n",
       "\n",
       "    .dataframe thead th {\n",
       "        text-align: right;\n",
       "    }\n",
       "</style>\n",
       "<table border=\"1\" class=\"dataframe\">\n",
       "  <thead>\n",
       "    <tr style=\"text-align: right;\">\n",
       "      <th></th>\n",
       "      <th>Proteomic_corr</th>\n",
       "      <th>Metabolomic_corr</th>\n",
       "      <th>Proteomic_pval</th>\n",
       "      <th>Metabolomic_pval</th>\n",
       "      <th>Sig</th>\n",
       "    </tr>\n",
       "  </thead>\n",
       "  <tbody>\n",
       "    <tr>\n",
       "      <th>0</th>\n",
       "      <td>0.281783</td>\n",
       "      <td>0.022413</td>\n",
       "      <td>1.922474e-05</td>\n",
       "      <td>1.000000e+00</td>\n",
       "      <td>Metabolomic insignificant</td>\n",
       "    </tr>\n",
       "    <tr>\n",
       "      <th>1</th>\n",
       "      <td>0.555338</td>\n",
       "      <td>0.106926</td>\n",
       "      <td>1.056510e-18</td>\n",
       "      <td>1.000000e+00</td>\n",
       "      <td>Metabolomic insignificant</td>\n",
       "    </tr>\n",
       "    <tr>\n",
       "      <th>2</th>\n",
       "      <td>0.566524</td>\n",
       "      <td>0.056759</td>\n",
       "      <td>2.101738e-19</td>\n",
       "      <td>1.000000e+00</td>\n",
       "      <td>Metabolomic insignificant</td>\n",
       "    </tr>\n",
       "    <tr>\n",
       "      <th>3</th>\n",
       "      <td>0.019317</td>\n",
       "      <td>0.080193</td>\n",
       "      <td>1.000000e+00</td>\n",
       "      <td>1.000000e+00</td>\n",
       "      <td>Both insignificant</td>\n",
       "    </tr>\n",
       "    <tr>\n",
       "      <th>4</th>\n",
       "      <td>0.347070</td>\n",
       "      <td>0.629708</td>\n",
       "      <td>4.297307e-08</td>\n",
       "      <td>6.029470e-25</td>\n",
       "      <td>Significant</td>\n",
       "    </tr>\n",
       "    <tr>\n",
       "      <th>...</th>\n",
       "      <td>...</td>\n",
       "      <td>...</td>\n",
       "      <td>...</td>\n",
       "      <td>...</td>\n",
       "      <td>...</td>\n",
       "    </tr>\n",
       "    <tr>\n",
       "      <th>1076</th>\n",
       "      <td>0.472759</td>\n",
       "      <td>1.000000</td>\n",
       "      <td>5.230492e-14</td>\n",
       "      <td>0.000000e+00</td>\n",
       "      <td>Significant</td>\n",
       "    </tr>\n",
       "    <tr>\n",
       "      <th>1077</th>\n",
       "      <td>0.467470</td>\n",
       "      <td>1.000000</td>\n",
       "      <td>9.862856e-14</td>\n",
       "      <td>0.000000e+00</td>\n",
       "      <td>Significant</td>\n",
       "    </tr>\n",
       "    <tr>\n",
       "      <th>1078</th>\n",
       "      <td>0.472759</td>\n",
       "      <td>1.000000</td>\n",
       "      <td>5.230492e-14</td>\n",
       "      <td>0.000000e+00</td>\n",
       "      <td>Significant</td>\n",
       "    </tr>\n",
       "    <tr>\n",
       "      <th>1079</th>\n",
       "      <td>0.467470</td>\n",
       "      <td>1.000000</td>\n",
       "      <td>9.862856e-14</td>\n",
       "      <td>0.000000e+00</td>\n",
       "      <td>Significant</td>\n",
       "    </tr>\n",
       "    <tr>\n",
       "      <th>1080</th>\n",
       "      <td>0.277981</td>\n",
       "      <td>1.000000</td>\n",
       "      <td>2.698541e-05</td>\n",
       "      <td>0.000000e+00</td>\n",
       "      <td>Significant</td>\n",
       "    </tr>\n",
       "  </tbody>\n",
       "</table>\n",
       "<p>1081 rows × 5 columns</p>\n",
       "</div>"
      ],
      "text/plain": [
       "      Proteomic_corr  Metabolomic_corr  Proteomic_pval  Metabolomic_pval  \\\n",
       "0           0.281783          0.022413    1.922474e-05      1.000000e+00   \n",
       "1           0.555338          0.106926    1.056510e-18      1.000000e+00   \n",
       "2           0.566524          0.056759    2.101738e-19      1.000000e+00   \n",
       "3           0.019317          0.080193    1.000000e+00      1.000000e+00   \n",
       "4           0.347070          0.629708    4.297307e-08      6.029470e-25   \n",
       "...              ...               ...             ...               ...   \n",
       "1076        0.472759          1.000000    5.230492e-14      0.000000e+00   \n",
       "1077        0.467470          1.000000    9.862856e-14      0.000000e+00   \n",
       "1078        0.472759          1.000000    5.230492e-14      0.000000e+00   \n",
       "1079        0.467470          1.000000    9.862856e-14      0.000000e+00   \n",
       "1080        0.277981          1.000000    2.698541e-05      0.000000e+00   \n",
       "\n",
       "                            Sig  \n",
       "0     Metabolomic insignificant  \n",
       "1     Metabolomic insignificant  \n",
       "2     Metabolomic insignificant  \n",
       "3            Both insignificant  \n",
       "4                   Significant  \n",
       "...                         ...  \n",
       "1076                Significant  \n",
       "1077                Significant  \n",
       "1078                Significant  \n",
       "1079                Significant  \n",
       "1080                Significant  \n",
       "\n",
       "[1081 rows x 5 columns]"
      ]
     },
     "metadata": {},
     "output_type": "display_data"
    }
   ],
   "source": [
    "omics_corr_df[\"Sig\"] = np.nan\n",
    "\n",
    "for i in range(len(omics_corr_df)):\n",
    "    if ((omics_corr_df.Proteomic_pval[i]) >= 0.005) and ((omics_corr_df.Metabolomic_pval[i]) < 0.005):\n",
    "        omics_corr_df.Sig[i] = \"Proteomic insignificant\"\n",
    "    elif ((omics_corr_df.Proteomic_pval[i]) < 0.005) and ((omics_corr_df.Metabolomic_pval[i]) >= 0.005):\n",
    "        omics_corr_df.Sig[i] = \"Metabolomic insignificant\"\n",
    "    elif ((omics_corr_df.Proteomic_pval[i]) >= 0.005) and ((omics_corr_df.Metabolomic_pval[i]) >= 0.005):\n",
    "        omics_corr_df.Sig[i] = \"Both insignificant\"\n",
    "    else:\n",
    "        omics_corr_df.Sig[i] = \"Significant\"\n",
    "        \n",
    "display(omics_corr_df)"
   ]
  },
  {
   "cell_type": "code",
   "execution_count": 93,
   "metadata": {},
   "outputs": [
    {
     "data": {
      "image/png": "[encoded data removed]",
      "text/plain": [
       "<Figure size 640x480 with 1 Axes>"
      ]
     },
     "metadata": {},
     "output_type": "display_data"
    }
   ],
   "source": [
    "sns.set(font_scale = 1.5)\n",
    "sns.set_style(\"ticks\") # same as \"white\" but with ticks\n",
    "\n",
    "fig, ax = plt.subplots()  #i do this because ax.legend is needed to remove the legend title\n",
    "\n",
    "#Change because I want metabolomics to be orange, proteomics to be blue\n",
    "palette = ['tab:orange', 'tab:blue', 'tab:green','tab:red']\n",
    "\n",
    "sns.scatterplot(\n",
    "    data=omics_corr_df,\n",
    "    x=\"Proteomic_corr\", \n",
    "    y=\"Metabolomic_corr\",\n",
    "    hue=\"Sig\",\n",
    "    hue_order = ['Metabolomic insignificant','Proteomic insignificant','Both insignificant','Significant'],\n",
    "    palette=palette,\n",
    "    #alpha=0.5,\n",
    "    s=8)       #color='#FFD580',s=10\n",
    "        \n",
    "plt.title('Comparison of squared Spearman correlation coefficients',fontsize=20, pad=15)\n",
    "plt.xlabel(\"Proteomic Spearman correlation\",fontsize=18, labelpad=5)\n",
    "plt.ylabel(\"Metabolomic Spearman correlation\",fontsize=18, labelpad=10) \n",
    "\n",
    "legend = ax.legend(bbox_to_anchor=(1.66,0.6), prop={'size': 14})\n",
    "\n",
    "plt.savefig( '../Figures/common_pathways_correlation.png' , dpi=300,bbox_inches = 'tight' , pad_inches = 0.2 , facecolor='w')"
   ]
  },
  {
   "cell_type": "markdown",
   "metadata": {},
   "source": [
    "### Bar graph showing clinical data methods"
   ]
  },
  {
   "cell_type": "code",
   "execution_count": null,
   "metadata": {},
   "outputs": [],
   "source": [
    "import pandas as pd"
   ]
  },
  {
   "cell_type": "code",
   "execution_count": null,
   "metadata": {},
   "outputs": [],
   "source": [
    "df = pd.read_csv('../Data/Su_COVID_metabolomics_processed_commoncases.csv', index_col=0)\n",
    "samples = list(df.index)\n",
    "sample_list = [(i+'-1') for i in samples]"
   ]
  },
  {
   "cell_type": "code",
   "execution_count": null,
   "metadata": {},
   "outputs": [],
   "source": [
    "df_mild = (df[df[\"WHO_status\"] == '1-2']).iloc[:,:-2] #45 samples, remove the metadata\n",
    "mild_samples = list(df_mild.index)\n",
    "mild_sample_list = [(i+'-1') for i in mild_samples]\n",
    "\n",
    "df_severe = (df[(df[\"WHO_status\"] == '3-4') | (df[\"WHO_status\"] == '5-7')]).iloc[:,:-2] #83 samples\n",
    "severe_samples = list(df_severe.index)\n",
    "severe_sample_list = [(i+'-1') for i in severe_samples]"
   ]
  },
  {
   "cell_type": "code",
   "execution_count": null,
   "metadata": {},
   "outputs": [],
   "source": [
    "clinical_df = pd.read_csv('../Data/Goldman_clinical_data.csv', index_col=0)"
   ]
  },
  {
   "cell_type": "code",
   "execution_count": null,
   "metadata": {},
   "outputs": [],
   "source": [
    "clinical_df[:5]"
   ]
  },
  {
   "cell_type": "code",
   "execution_count": null,
   "metadata": {},
   "outputs": [],
   "source": [
    "print(len(mild_sample_list))\n",
    "print(len(severe_sample_list))"
   ]
  },
  {
   "cell_type": "code",
   "execution_count": null,
   "metadata": {},
   "outputs": [],
   "source": [
    "mild_factors = clinical_df[clinical_df['Sample ID'].isin(mild_sample_list)]\n",
    "severe_factors = clinical_df[clinical_df['Sample ID'].isin(severe_sample_list)]"
   ]
  },
  {
   "cell_type": "code",
   "execution_count": null,
   "metadata": {},
   "outputs": [],
   "source": [
    "print(mild_factors['Asthma'].value_counts()) \n",
    "print(severe_factors['Asthma'].value_counts()) \n",
    "\n",
    "print(mild_factors['Asthma'].isna().sum())\n",
    "print(severe_factors['Asthma'].isna().sum())"
   ]
  },
  {
   "cell_type": "code",
   "execution_count": null,
   "metadata": {},
   "outputs": [],
   "source": [
    "print(mild_factors['Cancer'].value_counts()) \n",
    "print(severe_factors['Cancer'].value_counts()) \n",
    "\n",
    "print(mild_factors['Cancer'].isna().sum())\n",
    "print(severe_factors['Cancer'].isna().sum())"
   ]
  },
  {
   "cell_type": "code",
   "execution_count": null,
   "metadata": {},
   "outputs": [],
   "source": [
    "print(mild_factors['Cigarette Smoking'].value_counts()) \n",
    "print(severe_factors['Cigarette Smoking'].value_counts()) \n",
    "\n",
    "print(mild_factors['Cigarette Smoking'].isna().sum())\n",
    "print(severe_factors['Cigarette Smoking'].isna().sum())"
   ]
  },
  {
   "cell_type": "code",
   "execution_count": null,
   "metadata": {},
   "outputs": [],
   "source": [
    "print(mild_factors['COPD'].value_counts()) \n",
    "print(severe_factors['COPD'].value_counts()) \n",
    "\n",
    "print(mild_factors['COPD'].isna().sum())\n",
    "print(severe_factors['COPD'].isna().sum())"
   ]
  },
  {
   "cell_type": "code",
   "execution_count": null,
   "metadata": {},
   "outputs": [],
   "source": [
    "mild_age = list(mild_factors['Age'])\n",
    "severe_age = list(severe_factors['Age'])"
   ]
  },
  {
   "cell_type": "code",
   "execution_count": null,
   "metadata": {},
   "outputs": [],
   "source": [
    "print(sum(i <= 50 for i in mild_age))\n",
    "print(sum(i > 50 for i in mild_age))\n",
    "\n",
    "print(sum(i <= 50 for i in severe_age))\n",
    "print(sum(i > 50 for i in severe_age))"
   ]
  },
  {
   "cell_type": "code",
   "execution_count": null,
   "metadata": {},
   "outputs": [],
   "source": [
    "mild_BMI = list(mild_factors['BMI'])  #nearly all NaN\n",
    "severe_BMI = list(severe_factors['BMI'])"
   ]
  },
  {
   "cell_type": "code",
   "execution_count": null,
   "metadata": {},
   "outputs": [],
   "source": [
    "print(sum(i < 20 for i in mild_BMI))\n",
    "print(sum(i > 20 for i in mild_BMI))\n",
    "\n",
    "print(sum(i <= 25 for i in severe_BMI))\n",
    "print(sum(i > 25 for i in severe_BMI))"
   ]
  },
  {
   "cell_type": "markdown",
   "metadata": {},
   "source": [
    "### Small diagrams to put in the introduction or methods"
   ]
  },
  {
   "cell_type": "code",
   "execution_count": null,
   "metadata": {},
   "outputs": [],
   "source": [
    "import pandas as pd\n",
    "import seaborn as sns\n",
    "import sspa\n",
    "import scipy\n",
    "import numpy as np\n",
    "import networkx as nx\n",
    "import random\n",
    "import matplotlib.pyplot as plt"
   ]
  },
  {
   "cell_type": "code",
   "execution_count": null,
   "metadata": {},
   "outputs": [],
   "source": [
    "#Load the common cases dataset\n",
    "df = pd.read_csv('Data/Su_COVID_metabolomics_processed_commoncases.csv', index_col=0)\n",
    "df\n"
   ]
  },
  {
   "cell_type": "code",
   "execution_count": null,
   "metadata": {},
   "outputs": [],
   "source": [
    "df_sample = df.iloc[35:45,45:58] #13 metabolites long\n",
    "\n",
    "g = sns.clustermap(df_sample,row_cluster=False,col_cluster=False,xticklabels=False, yticklabels=False,cmap='RdBu_r',figsize=(9,7),cbar=False)\n",
    "g.ax_heatmap.tick_params(right=False)\n",
    "g.cax.set_visible(False)\n",
    "ax = g.ax_heatmap\n",
    "ax.set_ylabel(\"\")"
   ]
  },
  {
   "cell_type": "code",
   "execution_count": null,
   "metadata": {},
   "outputs": [],
   "source": [
    "#df_sample = df.iloc[20:30,30:45] #15 proteins long\n",
    "df_sample = df.iloc[35:45,80:97]\n",
    "\n",
    "g = sns.clustermap(df_sample,row_cluster=False,col_cluster=False,xticklabels=False, yticklabels=False,cmap='RdBu_r',figsize=(9,5.4),cbar=False)\n",
    "g.ax_heatmap.tick_params(right=False)\n",
    "g.cax.set_visible(False)\n",
    "ax = g.ax_heatmap\n",
    "ax.set_ylabel(\"\")"
   ]
  },
  {
   "cell_type": "code",
   "execution_count": null,
   "metadata": {},
   "outputs": [],
   "source": [
    "reactome_pathways = sspa.process_gmt(\"Data/Reactome_Homo_sapiens_pathways_compounds_R84.gmt\")\n",
    "kpca_scores = sspa.sspa_kpca(df.iloc[:,:-2], reactome_pathways)\n",
    "#Convert pathway ID to name\n",
    "root_path = pd.read_excel('Data/Root_pathways.xlsx', header=None)\n",
    "root_pathway_dict = {root_path[0][i]:root_path[1][i] for i in range(0,len(root_path))}\n",
    "\n",
    "root_pathway_names = list(root_pathway_dict.keys())\n",
    "#Using Sara's code, remove root pathways\n",
    "kpca_scores = kpca_scores.drop(columns = list(set(root_pathway_names) & set(kpca_scores.columns)))"
   ]
  },
  {
   "cell_type": "code",
   "execution_count": null,
   "metadata": {},
   "outputs": [],
   "source": [
    "kpca_scores"
   ]
  },
  {
   "cell_type": "code",
   "execution_count": null,
   "metadata": {},
   "outputs": [],
   "source": [
    "kpca_scores_sample = kpca_scores.iloc[35:45,50:62] #12 metabolite pathways long\n",
    "\n",
    "g = sns.clustermap(kpca_scores_sample,row_cluster=False,col_cluster=False,xticklabels=False, yticklabels=False,cmap='viridis',figsize=(9,7.5),cbar=False)\n",
    "g.ax_heatmap.tick_params(right=False)\n",
    "g.cax.set_visible(False)\n",
    "ax = g.ax_heatmap\n",
    "ax.set_ylabel(\"\")"
   ]
  },
  {
   "cell_type": "code",
   "execution_count": null,
   "metadata": {},
   "outputs": [],
   "source": [
    "kpca_scores_sample = kpca_scores.iloc[35:45,65:85] #20 protein pathways long\n",
    "\n",
    "g = sns.clustermap(kpca_scores_sample,row_cluster=False,col_cluster=False,xticklabels=False, yticklabels=False,cmap='viridis',figsize=(9,4.5),cbar=False)\n",
    "g.ax_heatmap.tick_params(right=False)\n",
    "g.cax.set_visible(False)\n",
    "ax = g.ax_heatmap\n",
    "ax.set_ylabel(\"\")"
   ]
  },
  {
   "cell_type": "code",
   "execution_count": null,
   "metadata": {},
   "outputs": [],
   "source": [
    "kpca_scores_sample = kpca_scores.iloc[35:45,85:107] #23 protein pathways long\n",
    "\n",
    "g = sns.clustermap(kpca_scores_sample,row_cluster=False,col_cluster=False,xticklabels=False, yticklabels=False,cmap='viridis',figsize=(9,4),cbar=False)\n",
    "g.ax_heatmap.tick_params(right=False)\n",
    "g.cax.set_visible(False)\n",
    "ax = g.ax_heatmap\n",
    "ax.set_ylabel(\"\")"
   ]
  },
  {
   "cell_type": "code",
   "execution_count": null,
   "metadata": {},
   "outputs": [],
   "source": [
    "spearman_results = scipy.stats.spearmanr(kpca_scores)\n",
    "\n",
    "spearman_coef = spearman_results[0] #correlation coefficients\n",
    "spearman_pvals = spearman_results[1] #p-values\n",
    "\n",
    "spearman_coef = pd.DataFrame(spearman_coef)"
   ]
  },
  {
   "cell_type": "code",
   "execution_count": null,
   "metadata": {},
   "outputs": [],
   "source": [
    "spearman_coef_sample = pd.DataFrame(spearman_coef).iloc[35:47,35:47] #12 pathways for metabolomic\n",
    "\n",
    "corr= spearman_coef_sample.corr()\n",
    "matrix = np.triu(corr)\n",
    "\n",
    "g = sns.clustermap(spearman_coef_sample,row_cluster=True,col_cluster=True,xticklabels=False, yticklabels=False,cmap=\"coolwarm\",figsize=(9,9),cbar=False)#,mask=matrix)\n",
    "g.ax_heatmap.tick_params(right=False)\n",
    "g.cax.set_visible(False)\n",
    "ax = g.ax_heatmap\n",
    "ax.set_ylabel(\"\")"
   ]
  },
  {
   "cell_type": "code",
   "execution_count": null,
   "metadata": {},
   "outputs": [],
   "source": [
    "spearman_coef_sample = pd.DataFrame(spearman_coef).iloc[50:70,50:70] #20 pathways for proteomic\n",
    "\n",
    "corr= spearman_coef_sample.corr()\n",
    "matrix = np.triu(corr)\n",
    "\n",
    "g = sns.clustermap(spearman_coef_sample,row_cluster=True,col_cluster=True,xticklabels=False, yticklabels=False,cmap=\"coolwarm\",figsize=(9,9),cbar=False)#,mask=matrix)\n",
    "g.ax_heatmap.tick_params(right=False)\n",
    "g.cax.set_visible(False)\n",
    "ax = g.ax_heatmap\n",
    "ax.set_ylabel(\"\")"
   ]
  },
  {
   "cell_type": "code",
   "execution_count": null,
   "metadata": {},
   "outputs": [],
   "source": [
    "spearman_coef_sample = pd.DataFrame(spearman_coef).iloc[100:123,100:123] #23 pathways for integrated\n",
    "\n",
    "corr= spearman_coef_sample.corr()\n",
    "matrix = np.triu(corr)\n",
    "\n",
    "g = sns.clustermap(spearman_coef_sample,row_cluster=True,col_cluster=True,xticklabels=False, yticklabels=False,cmap=\"coolwarm\",figsize=(9,9),cbar=False)#,mask=matrix)\n",
    "g.ax_heatmap.tick_params(right=False)\n",
    "g.cax.set_visible(False)\n",
    "ax = g.ax_heatmap\n",
    "ax.set_ylabel(\"\")"
   ]
  },
  {
   "cell_type": "code",
   "execution_count": null,
   "metadata": {},
   "outputs": [],
   "source": [
    "#https://stackoverflow.com/questions/61958360/how-to-create-random-graph-where-each-node-has-at-least-1-edge-using-networkx\n",
    "#Generate random graph\n",
    "\n",
    "nodes = 20\n",
    "seed = random.randint(1,10)\n",
    "probability = 0.4\n",
    "G = nx.gnp_random_graph(nodes,probability)\n",
    "\n",
    "plt.figure(figsize=(8,6))\n",
    "nx.draw(G,node_color='#FFD580',node_size=500) "
   ]
  },
  {
   "cell_type": "code",
   "execution_count": null,
   "metadata": {},
   "outputs": [],
   "source": [
    "#https://stackoverflow.com/questions/61958360/how-to-create-random-graph-where-each-node-has-at-least-1-edge-using-networkx\n",
    "#Generate random graph, then remove most edges but keep same layout\n",
    "\n",
    "nodes = 20\n",
    "seed = random.randint(1,10)\n",
    "probability = 0.4\n",
    "G = nx.gnp_random_graph(nodes,probability)\n",
    "\n",
    "#https://cambiocteach.com/accessibility/colourchoice/   for colour palette\n",
    "#orange #e69f00     sky blue #56b4e9    blue-green #009e73    (yellow #FFD580)"
   ]
  },
  {
   "cell_type": "code",
   "execution_count": null,
   "metadata": {},
   "outputs": [],
   "source": [
    "pos = nx.random_layout(G, dim=2, center=None)"
   ]
  },
  {
   "cell_type": "code",
   "execution_count": null,
   "metadata": {},
   "outputs": [],
   "source": [
    "plt.figure(figsize=(8,6))\n",
    "nx.draw(G,pos,node_color='#9F2B68',node_size=500) "
   ]
  },
  {
   "cell_type": "code",
   "execution_count": null,
   "metadata": {},
   "outputs": [],
   "source": [
    "G.edges()"
   ]
  },
  {
   "cell_type": "code",
   "execution_count": null,
   "metadata": {},
   "outputs": [],
   "source": [
    "H = G.copy()\n",
    "to_remove=[(0, 3), (0, 5), (0, 12), (0, 14), (0, 17), (0, 18), (1, 5), (1, 6), (1, 10), (2, 14), (2, 16), (2, 18), (3, 6), (3, 7), (3, 8), (3, 10), (3, 15), (4, 5), (4, 6), (4, 7), (4, 8), (4, 9), (4, 13), (4, 14), (5, 9), (5, 14), (5, 15), (5, 16), (5, 18), (6, 9), (6, 15), (6, 17), (6, 18), (7, 8), (7, 9), (7, 10), (7, 13), (7, 17), (8, 11), (8, 16), (8, 19), (9, 15),(12, 18), (13, 14), (13, 17), (14, 15), (14, 18), (15, 19), (17, 19)]\n",
    "H.remove_edges_from(to_remove)\n",
    "H.remove_nodes_from(list(nx.isolates(H)))\n",
    "nx.draw(H, pos, node_color='#9F2B68',node_size=500)  "
   ]
  },
  {
   "cell_type": "markdown",
   "metadata": {},
   "source": [
    "### Venn diagram to show the number of common pathways between metabolomic, proteomic and integrated"
   ]
  },
  {
   "cell_type": "code",
   "execution_count": null,
   "metadata": {},
   "outputs": [],
   "source": [
    "#https://www.geeksforgeeks.org/how-to-create-and-customize-venn-diagrams-in-python/\n",
    "\n",
    "#import module\n",
    "from matplotlib_venn import venn3, venn3_circles\n",
    "from matplotlib import pyplot as plt\n",
    "  \n",
    "# depict venn diagram\n",
    "venn3(subsets=(20, 10, 12, 10, 9, 4, 3), \n",
    "      set_labels=('Group A', 'Group B', 'Group C'), \n",
    "      set_colors=(\"orange\", \"blue\", \"red\"), alpha=0.7)\n",
    "  \n",
    "# outline of circle line style and width\n",
    "venn3_circles(subsets=(20, 10, 12, 10, 9, 4, 3),\n",
    "              linestyle=\"dashed\", linewidth=2)\n",
    "  \n",
    "# title of the venn diagram\n",
    "plt.title(\"Venn Diagram in geeks for geeks\")\n",
    "plt.show()"
   ]
  },
  {
   "cell_type": "code",
   "execution_count": null,
   "metadata": {},
   "outputs": [],
   "source": [
    "#From matplotlib_venn documentation\n",
    "from matplotlib import pyplot as plt\n",
    "import numpy as np\n",
    "from matplotlib_venn import venn3, venn3_circles\n",
    "plt.figure(figsize=(4,4))\n",
    "v = venn3(subsets=(1, 1, 1, 1, 1, 1, 1), set_labels = ('A', 'B', 'C'))\n",
    "v.get_patch_by_id('100').set_alpha(1.0)\n",
    "v.get_patch_by_id('100').set_color('white')\n",
    "v.get_label_by_id('100').set_text('Unknown')\n",
    "v.get_label_by_id('A').set_text('Set \"A\"')\n",
    "c = venn3_circles(subsets=(1, 1, 1, 1, 1, 1, 1), linestyle='dashed')\n",
    "c[0].set_lw(1.0)\n",
    "c[0].set_ls('dotted')\n",
    "plt.title(\"Sample Venn diagram\")\n",
    "plt.annotate('Unknown set', xy=v.get_label_by_id('100').get_position() - np.array([0, 0.05]), xytext=(-70,-70),\n",
    "                ha='center', textcoords='offset points', bbox=dict(boxstyle='round,pad=0.5', fc='gray', alpha=0.1),\n",
    "                arrowprops=dict(arrowstyle='->', connectionstyle='arc3,rad=0.5',color='gray'))\n",
    "plt.show()"
   ]
  },
  {
   "cell_type": "code",
   "execution_count": null,
   "metadata": {},
   "outputs": [],
   "source": [
    "#For WEIGHTED Venn diagram\n",
    "\n",
    "from matplotlib_venn import venn3, venn3_circles\n",
    "from matplotlib import pyplot as plt\n",
    "import numpy as np\n",
    "\n",
    "plt.figure(figsize=(6, 6))\n",
    "#Colours are washed out because they're overlapping, so colour by patch instead\n",
    "#Difficulty knowing which circle is which omic\n",
    "  \n",
    "#Draw Venn diagram\n",
    "vd = venn3(subsets=(0, 0, 0, 35, 97, 531, 47), \n",
    "      set_labels=('', '', ''), \n",
    "      set_colors=('Red', 'Yellow', 'Blue'),alpha=0.8)   #, alpha=0.1\n",
    "  \n",
    "#Circle outline\n",
    "c = venn3_circles(subsets=(0, 0, 0, 35, 97, 531, 47), linewidth=1)\n",
    "c[0].set_ls('dashed')\n",
    "c[1].set_ls('dashed')\n",
    "\n",
    "#Change patch colour\n",
    "vd.get_patch_by_id(\"001\").set_color('#febb81')   #big circle\n",
    "vd.get_patch_by_id(\"101\").set_color('#f8765c')  \n",
    "vd.get_patch_by_id(\"011\").set_color('#d3436e')   \n",
    "vd.get_patch_by_id(\"111\").set_color('#982d80')   #most overlap\n",
    " \n",
    "#Move circle number labels \n",
    "vd.get_label_by_id(\"101\").set_x(-0.5)   #111,(110),(100),(000),101\n",
    "vd.get_label_by_id(\"001\").set_x(-0.004)   #111,(110),(100),(000),101,001\n",
    "vd.get_label_by_id(\"001\").set_y(-0.53)   #111,(110),(100),(000),101,001,(010),011\n",
    "\n",
    "\n",
    "#Changing font size\n",
    "for text in vd.set_labels:  #Omic labels\n",
    "    text.set_fontsize(15)  \n",
    "\n",
    "for x in range(len(vd.subset_labels)):  #Circle numbers\n",
    "    if vd.subset_labels[x] is not None:\n",
    "        vd.subset_labels[x].set_fontsize(14)\n",
    "\n",
    "#plt.annotate('144 edges',xy=[-0.7,.2])  #doesn't show up past the circle\n",
    "#plt.annotate('578 edges',xy=[0.4,0.45])\n",
    "#plt.annotate('710 edges',xy=[-0.4,-0.45])\n",
    "\n",
    "plt.title(\"Pathway overlap between omics\",fontsize=18)    #'#5f187f', '#982d80', '#d3436e', '#f8765c', '#febb81']"
   ]
  },
  {
   "cell_type": "code",
   "execution_count": null,
   "metadata": {},
   "outputs": [],
   "source": [
    "vd.get_label_by_id('001').get_position()"
   ]
  },
  {
   "cell_type": "code",
   "execution_count": null,
   "metadata": {},
   "outputs": [],
   "source": [
    "#For UNWEIGHTED Venn diagram\n",
    "\n",
    "import matplotlib.pyplot as plt\n",
    "import matplotlib_venn as mv\n",
    "\n",
    "#Draw venn diagram\n",
    "vd = mv.venn3_unweighted(subsets=(0, 0, 0, 35, 97, 531, 47), \n",
    "      #set_labels=('Metabolomic', 'Proteomic', 'Integrated'), \n",
    "      set_labels=('', '', ''), \n",
    "      set_colors=( '#e34933', '#fee99d', '#51B0DF'), alpha=0.7)   #        '#e34933', '#fee99d', '#588cc0'/'#51B0DF'\n",
    "\n",
    "#Change font size\n",
    "for text in vd.set_labels:  #Omic labels\n",
    "    text.set_fontsize(16)  \n",
    "\n",
    "for x in range(len(vd.subset_labels)):  #Circle numbers\n",
    "    if vd.subset_labels[x] is not None:\n",
    "        vd.subset_labels[x].set_fontsize(14)\n",
    "\n",
    "#Change patch colour  \n",
    "vd.get_patch_by_id(\"011\").set_color('#C7DFD9') \n",
    "\n",
    "#Move label a bit\n",
    "vd.get_label_by_id(\"011\").set_x(0.296)\n",
    "\n",
    "#plt.title(\"Pathway overlap between omics\",fontsize=18)  "
   ]
  },
  {
   "cell_type": "code",
   "execution_count": null,
   "metadata": {},
   "outputs": [],
   "source": [
    "import seaborn as sns\n",
    "#Obtain hex codes for sns colour palette\n",
    "#https://www.practicalpythonfordatascience.com/ap_seaborn_palette\n",
    "print(sns.color_palette(\"magma\").as_hex()[:])  #'Spectral','RdYlBu'\n",
    "sns.color_palette(\"magma\")"
   ]
  },
  {
   "cell_type": "markdown",
   "metadata": {},
   "source": [
    "### Venn diagram to show the number of differential edges between metabolomic, proteomic and integrated"
   ]
  },
  {
   "cell_type": "code",
   "execution_count": null,
   "metadata": {},
   "outputs": [],
   "source": [
    "#For UNWEIGHTED Venn diagram\n",
    "\n",
    "import matplotlib.pyplot as plt\n",
    "import matplotlib_venn as mv\n",
    "\n",
    "#Draw venn diagram\n",
    "vd = mv.venn3_unweighted(subsets=(35, 2237, 0, 2535, 18, 6516, 0), \n",
    "      #set_labels=('Metabolomic', 'Proteomic', 'Integrated'), \n",
    "      set_labels=('', '', ''), \n",
    "      set_colors=( '#e34933', '#fee99d', '#51B0DF'), alpha=0.7)   #        '#e34933', '#fee99d', '#588cc0'\n",
    "\n",
    "for text in vd.set_labels:  #Omic labels\n",
    "    text.set_fontsize(16)  \n",
    "\n",
    "for x in range(len(vd.subset_labels)):  #Circle numbers\n",
    "    if vd.subset_labels[x] is not None:\n",
    "        vd.subset_labels[x].set_fontsize(14)\n",
    "\n",
    "\n",
    "#Change patch colour\n",
    "vd.get_patch_by_id(\"011\").set_color('#C7DFD9')  \n",
    "\n",
    "#Move label a bit\n",
    "vd.get_label_by_id(\"010\").set_x(0.4) \n",
    "vd.get_label_by_id(\"011\").set_x(0.296) \n",
    "\n",
    "#plt.title(\"Pathway overlap between omics\",fontsize=18)  \n"
   ]
  }
 ],
 "metadata": {
  "kernelspec": {
   "display_name": "Imperial_Project2",
   "language": "python",
   "name": "python3"
  },
  "language_info": {
   "codemirror_mode": {
    "name": "ipython",
    "version": 3
   },
   "file_extension": ".py",
   "mimetype": "text/x-python",
   "name": "python",
   "nbconvert_exporter": "python",
   "pygments_lexer": "ipython3",
   "version": "3.11.3"
  },
  "orig_nbformat": 4
 },
 "nbformat": 4,
 "nbformat_minor": 2
}
