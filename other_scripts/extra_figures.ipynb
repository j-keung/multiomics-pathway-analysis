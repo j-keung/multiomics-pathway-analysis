{
 "cells": [
  {
   "cell_type": "markdown",
   "metadata": {},
   "source": [
    "This script was used to generate some miscellaneous extra thesis figures."
   ]
  },
  {
   "cell_type": "markdown",
   "metadata": {},
   "source": [
    "### Bar graph showing clinical data methods"
   ]
  },
  {
   "cell_type": "code",
   "execution_count": 2,
   "metadata": {},
   "outputs": [],
   "source": [
    "import pandas as pd"
   ]
  },
  {
   "cell_type": "code",
   "execution_count": 6,
   "metadata": {},
   "outputs": [
    {
     "name": "stdout",
     "output_type": "stream",
     "text": [
      "['INCOV001-1', 'INCOV002-1', 'INCOV003-1', 'INCOV004-1', 'INCOV005-1', 'INCOV006-1', 'INCOV007-1', 'INCOV008-1', 'INCOV009-1', 'INCOV010-1', 'INCOV011-1', 'INCOV012-1', 'INCOV013-1', 'INCOV014-1', 'INCOV015-1', 'INCOV016-1', 'INCOV017-1', 'INCOV018-1', 'INCOV019-1', 'INCOV020-1', 'INCOV021-1', 'INCOV022-1', 'INCOV023-1', 'INCOV024-1', 'INCOV025-1', 'INCOV026-1', 'INCOV027-1', 'INCOV029-1', 'INCOV030-1', 'INCOV031-1', 'INCOV032-1', 'INCOV033-1', 'INCOV034-1', 'INCOV035-1', 'INCOV036-1', 'INCOV037-1', 'INCOV038-1', 'INCOV039-1', 'INCOV040-1', 'INCOV041-1', 'INCOV042-1', 'INCOV043-1', 'INCOV044-1', 'INCOV045-1', 'INCOV047-1', 'INCOV048-1', 'INCOV049-1', 'INCOV050-1', 'INCOV051-1', 'INCOV052-1', 'INCOV053-1', 'INCOV054-1', 'INCOV055-1', 'INCOV056-1', 'INCOV057-1', 'INCOV058-1', 'INCOV059-1', 'INCOV060-1', 'INCOV061-1', 'INCOV062-1', 'INCOV063-1', 'INCOV066-1', 'INCOV067-1', 'INCOV068-1', 'INCOV069-1', 'INCOV070-1', 'INCOV071-1', 'INCOV072-1', 'INCOV073-1', 'INCOV074-1', 'INCOV075-1', 'INCOV076-1', 'INCOV077-1', 'INCOV078-1', 'INCOV079-1', 'INCOV080-1', 'INCOV081-1', 'INCOV082-1', 'INCOV083-1', 'INCOV084-1', 'INCOV086-1', 'INCOV087-1', 'INCOV088-1', 'INCOV091-1', 'INCOV092-1', 'INCOV093-1', 'INCOV094-1', 'INCOV096-1', 'INCOV097-1', 'INCOV098-1', 'INCOV100-1', 'INCOV101-1', 'INCOV102-1', 'INCOV103-1', 'INCOV104-1', 'INCOV105-1', 'INCOV106-1', 'INCOV107-1', 'INCOV108-1', 'INCOV109-1', 'INCOV110-1', 'INCOV111-1', 'INCOV112-1', 'INCOV113-1', 'INCOV114-1', 'INCOV115-1', 'INCOV116-1', 'INCOV117-1', 'INCOV119-1', 'INCOV120-1', 'INCOV121-1', 'INCOV122-1', 'INCOV123-1', 'INCOV124-1', 'INCOV125-1', 'INCOV126-1', 'INCOV127-1', 'INCOV128-1', 'INCOV130-1', 'INCOV131-1', 'INCOV132-1', 'INCOV133-1', 'INCOV134-1', 'INCOV135-1', 'INCOV136-1', 'INCOV137-1', 'INCOV139-1', 'INCOV142-1']\n"
     ]
    }
   ],
   "source": [
    "df = pd.read_csv('../Data/Su_COVID_metabolomics_processed_commoncases.csv', index_col=0)\n",
    "samples = list(df.index)\n",
    "sample_list = [(i+'-1') for i in samples]\n",
    "print(sample_list)"
   ]
  },
  {
   "cell_type": "code",
   "execution_count": 7,
   "metadata": {},
   "outputs": [],
   "source": [
    "df_mild = (df[df[\"WHO_status\"] == '1-2']).iloc[:,:-2] #45 samples, remove the metadata\n",
    "mild_samples = list(df_mild.index)\n",
    "mild_sample_list = [(i+'-1') for i in mild_samples]\n",
    "\n",
    "df_severe = (df[(df[\"WHO_status\"] == '3-4') | (df[\"WHO_status\"] == '5-7')]).iloc[:,:-2] #83 samples\n",
    "severe_samples = list(df_severe.index)\n",
    "severe_sample_list = [(i+'-1') for i in severe_samples]"
   ]
  },
  {
   "cell_type": "code",
   "execution_count": 8,
   "metadata": {},
   "outputs": [],
   "source": [
    "clinical_df = pd.read_csv('../Data/Goldman_clinical_data.csv', index_col=0)"
   ]
  },
  {
   "cell_type": "code",
   "execution_count": 9,
   "metadata": {},
   "outputs": [
    {
     "data": {
      "text/html": [
       "<div>\n",
       "<style scoped>\n",
       "    .dataframe tbody tr th:only-of-type {\n",
       "        vertical-align: middle;\n",
       "    }\n",
       "\n",
       "    .dataframe tbody tr th {\n",
       "        vertical-align: top;\n",
       "    }\n",
       "\n",
       "    .dataframe thead th {\n",
       "        text-align: right;\n",
       "    }\n",
       "</style>\n",
       "<table border=\"1\" class=\"dataframe\">\n",
       "  <thead>\n",
       "    <tr style=\"text-align: right;\">\n",
       "      <th></th>\n",
       "      <th>Sample ID</th>\n",
       "      <th>Blood draw time point</th>\n",
       "      <th>Patient Location</th>\n",
       "      <th>Who Ordinal Scale</th>\n",
       "      <th>Sex</th>\n",
       "      <th>Age</th>\n",
       "      <th>Ethnicity</th>\n",
       "      <th>Race</th>\n",
       "      <th>BMI</th>\n",
       "      <th>Asthma</th>\n",
       "      <th>...</th>\n",
       "      <th>Respiratory Support</th>\n",
       "      <th>Temperature</th>\n",
       "      <th>Systolic BP</th>\n",
       "      <th>Diastolic BP</th>\n",
       "      <th>10X?</th>\n",
       "      <th>Metabolomics</th>\n",
       "      <th>Proteomics?</th>\n",
       "      <th>Isoplexis CD8 assay?</th>\n",
       "      <th>Isoplexis CD4 assay?</th>\n",
       "      <th>Isoplexis Monocyte assay?</th>\n",
       "    </tr>\n",
       "    <tr>\n",
       "      <th>Study Subject ID</th>\n",
       "      <th></th>\n",
       "      <th></th>\n",
       "      <th></th>\n",
       "      <th></th>\n",
       "      <th></th>\n",
       "      <th></th>\n",
       "      <th></th>\n",
       "      <th></th>\n",
       "      <th></th>\n",
       "      <th></th>\n",
       "      <th></th>\n",
       "      <th></th>\n",
       "      <th></th>\n",
       "      <th></th>\n",
       "      <th></th>\n",
       "      <th></th>\n",
       "      <th></th>\n",
       "      <th></th>\n",
       "      <th></th>\n",
       "      <th></th>\n",
       "      <th></th>\n",
       "    </tr>\n",
       "  </thead>\n",
       "  <tbody>\n",
       "    <tr>\n",
       "      <th>INCOV001</th>\n",
       "      <td>INCOV001-1</td>\n",
       "      <td>T1</td>\n",
       "      <td>Hospital</td>\n",
       "      <td>3</td>\n",
       "      <td>Female</td>\n",
       "      <td>77</td>\n",
       "      <td>NOT Hispanic or Latino</td>\n",
       "      <td>White</td>\n",
       "      <td>33.657783</td>\n",
       "      <td>No</td>\n",
       "      <td>...</td>\n",
       "      <td>None</td>\n",
       "      <td>36.6</td>\n",
       "      <td>139.0</td>\n",
       "      <td>60.0</td>\n",
       "      <td>yes</td>\n",
       "      <td>yes</td>\n",
       "      <td>yes</td>\n",
       "      <td>yes</td>\n",
       "      <td>yes</td>\n",
       "      <td>yes</td>\n",
       "    </tr>\n",
       "    <tr>\n",
       "      <th>INCOV001</th>\n",
       "      <td>INCOV001-2</td>\n",
       "      <td>T2</td>\n",
       "      <td>Hospital</td>\n",
       "      <td>3</td>\n",
       "      <td>Female</td>\n",
       "      <td>77</td>\n",
       "      <td>NOT Hispanic or Latino</td>\n",
       "      <td>White</td>\n",
       "      <td>33.657783</td>\n",
       "      <td>No</td>\n",
       "      <td>...</td>\n",
       "      <td>None</td>\n",
       "      <td>36.3</td>\n",
       "      <td>140.0</td>\n",
       "      <td>76.0</td>\n",
       "      <td>yes</td>\n",
       "      <td>yes</td>\n",
       "      <td>yes</td>\n",
       "      <td>yes</td>\n",
       "      <td>yes</td>\n",
       "      <td>yes</td>\n",
       "    </tr>\n",
       "    <tr>\n",
       "      <th>INCOV002</th>\n",
       "      <td>INCOV002-1</td>\n",
       "      <td>T1</td>\n",
       "      <td>ICU</td>\n",
       "      <td>5</td>\n",
       "      <td>Male</td>\n",
       "      <td>39</td>\n",
       "      <td>NOT Hispanic or Latino</td>\n",
       "      <td>White</td>\n",
       "      <td>27.900747</td>\n",
       "      <td>No</td>\n",
       "      <td>...</td>\n",
       "      <td>High flow nasal cannula (HFNC)</td>\n",
       "      <td>37.3</td>\n",
       "      <td>96.0</td>\n",
       "      <td>57.0</td>\n",
       "      <td>yes</td>\n",
       "      <td>yes</td>\n",
       "      <td>yes</td>\n",
       "      <td>yes</td>\n",
       "      <td>yes</td>\n",
       "      <td>yes</td>\n",
       "    </tr>\n",
       "    <tr>\n",
       "      <th>INCOV002</th>\n",
       "      <td>INCOV002-2</td>\n",
       "      <td>T2</td>\n",
       "      <td>ICU</td>\n",
       "      <td>7</td>\n",
       "      <td>Male</td>\n",
       "      <td>39</td>\n",
       "      <td>NOT Hispanic or Latino</td>\n",
       "      <td>White</td>\n",
       "      <td>29.161972</td>\n",
       "      <td>No</td>\n",
       "      <td>...</td>\n",
       "      <td>Other</td>\n",
       "      <td>36.8</td>\n",
       "      <td>125.0</td>\n",
       "      <td>74.0</td>\n",
       "      <td>yes</td>\n",
       "      <td>yes</td>\n",
       "      <td>yes</td>\n",
       "      <td>yes</td>\n",
       "      <td>yes</td>\n",
       "      <td>yes</td>\n",
       "    </tr>\n",
       "    <tr>\n",
       "      <th>INCOV003</th>\n",
       "      <td>INCOV003-1</td>\n",
       "      <td>T1</td>\n",
       "      <td>ICU</td>\n",
       "      <td>7</td>\n",
       "      <td>Male</td>\n",
       "      <td>64</td>\n",
       "      <td>NOT Hispanic or Latino</td>\n",
       "      <td>White</td>\n",
       "      <td>24.546988</td>\n",
       "      <td>No</td>\n",
       "      <td>...</td>\n",
       "      <td>Other</td>\n",
       "      <td>37.2</td>\n",
       "      <td>89.0</td>\n",
       "      <td>50.0</td>\n",
       "      <td>yes</td>\n",
       "      <td>yes</td>\n",
       "      <td>yes</td>\n",
       "      <td>yes</td>\n",
       "      <td>yes</td>\n",
       "      <td>yes</td>\n",
       "    </tr>\n",
       "  </tbody>\n",
       "</table>\n",
       "<p>5 rows × 30 columns</p>\n",
       "</div>"
      ],
      "text/plain": [
       "                   Sample ID Blood draw time point Patient Location  \\\n",
       "Study Subject ID                                                      \n",
       "INCOV001          INCOV001-1                    T1         Hospital   \n",
       "INCOV001          INCOV001-2                    T2         Hospital   \n",
       "INCOV002          INCOV002-1                    T1              ICU   \n",
       "INCOV002          INCOV002-2                    T2              ICU   \n",
       "INCOV003          INCOV003-1                    T1              ICU   \n",
       "\n",
       "                 Who Ordinal Scale     Sex  Age               Ethnicity  \\\n",
       "Study Subject ID                                                          \n",
       "INCOV001                         3  Female   77  NOT Hispanic or Latino   \n",
       "INCOV001                         3  Female   77  NOT Hispanic or Latino   \n",
       "INCOV002                         5    Male   39  NOT Hispanic or Latino   \n",
       "INCOV002                         7    Male   39  NOT Hispanic or Latino   \n",
       "INCOV003                         7    Male   64  NOT Hispanic or Latino   \n",
       "\n",
       "                   Race        BMI Asthma  ...  \\\n",
       "Study Subject ID                           ...   \n",
       "INCOV001          White  33.657783     No  ...   \n",
       "INCOV001          White  33.657783     No  ...   \n",
       "INCOV002          White  27.900747     No  ...   \n",
       "INCOV002          White  29.161972     No  ...   \n",
       "INCOV003          White  24.546988     No  ...   \n",
       "\n",
       "                             Respiratory Support Temperature Systolic BP  \\\n",
       "Study Subject ID                                                           \n",
       "INCOV001                                    None        36.6       139.0   \n",
       "INCOV001                                    None        36.3       140.0   \n",
       "INCOV002          High flow nasal cannula (HFNC)        37.3        96.0   \n",
       "INCOV002                                   Other        36.8       125.0   \n",
       "INCOV003                                   Other        37.2        89.0   \n",
       "\n",
       "                 Diastolic BP 10X? Metabolomics Proteomics?  \\\n",
       "Study Subject ID                                              \n",
       "INCOV001                 60.0  yes          yes         yes   \n",
       "INCOV001                 76.0  yes          yes         yes   \n",
       "INCOV002                 57.0  yes          yes         yes   \n",
       "INCOV002                 74.0  yes          yes         yes   \n",
       "INCOV003                 50.0  yes          yes         yes   \n",
       "\n",
       "                 Isoplexis CD8 assay? Isoplexis CD4 assay?  \\\n",
       "Study Subject ID                                             \n",
       "INCOV001                          yes                  yes   \n",
       "INCOV001                          yes                  yes   \n",
       "INCOV002                          yes                  yes   \n",
       "INCOV002                          yes                  yes   \n",
       "INCOV003                          yes                  yes   \n",
       "\n",
       "                 Isoplexis Monocyte assay?  \n",
       "Study Subject ID                            \n",
       "INCOV001                               yes  \n",
       "INCOV001                               yes  \n",
       "INCOV002                               yes  \n",
       "INCOV002                               yes  \n",
       "INCOV003                               yes  \n",
       "\n",
       "[5 rows x 30 columns]"
      ]
     },
     "execution_count": 9,
     "metadata": {},
     "output_type": "execute_result"
    }
   ],
   "source": [
    "clinical_df[:5]"
   ]
  },
  {
   "cell_type": "code",
   "execution_count": 10,
   "metadata": {},
   "outputs": [
    {
     "name": "stdout",
     "output_type": "stream",
     "text": [
      "45\n",
      "83\n"
     ]
    }
   ],
   "source": [
    "print(len(mild_sample_list))\n",
    "print(len(severe_sample_list))"
   ]
  },
  {
   "cell_type": "code",
   "execution_count": 11,
   "metadata": {},
   "outputs": [],
   "source": [
    "mild_factors = clinical_df[clinical_df['Sample ID'].isin(mild_sample_list)]\n",
    "severe_factors = clinical_df[clinical_df['Sample ID'].isin(severe_sample_list)]"
   ]
  },
  {
   "cell_type": "code",
   "execution_count": 12,
   "metadata": {},
   "outputs": [],
   "source": [
    "def clinical_factor_stat(variable):\n",
    "    print(mild_factors[variable].value_counts()) \n",
    "    print(severe_factors[variable].value_counts()) \n",
    "\n",
    "    print(mild_factors[variable].isna().sum())\n",
    "    print(severe_factors[variable].isna().sum())"
   ]
  },
  {
   "cell_type": "code",
   "execution_count": 13,
   "metadata": {},
   "outputs": [
    {
     "name": "stdout",
     "output_type": "stream",
     "text": [
      "No     37\n",
      "Yes     8\n",
      "Name: Chronic Hypertension, dtype: int64\n",
      "Yes    45\n",
      "No     37\n",
      "Name: Chronic Hypertension, dtype: int64\n",
      "0\n",
      "1\n",
      "None\n"
     ]
    }
   ],
   "source": [
    "print(clinical_factor_stat('Chronic Hypertension'))"
   ]
  },
  {
   "cell_type": "code",
   "execution_count": 14,
   "metadata": {},
   "outputs": [],
   "source": [
    "mild_age = list(mild_factors['Age'])\n",
    "severe_age = list(severe_factors['Age'])\n",
    "\n",
    "mild_BMI = list(mild_factors['BMI'])  #nearly all NaN\n",
    "severe_BMI = list(severe_factors['BMI'])"
   ]
  },
  {
   "cell_type": "code",
   "execution_count": 15,
   "metadata": {},
   "outputs": [
    {
     "name": "stdout",
     "output_type": "stream",
     "text": [
      "45.355555555555554\n",
      "62.24096385542169\n",
      "15.546346480407829\n",
      "17.493964367848577\n"
     ]
    }
   ],
   "source": [
    "import statistics \n",
    "print(statistics.mean(mild_age))\n",
    "print(statistics.mean(severe_age))\n",
    "\n",
    "print(statistics.stdev(mild_age))\n",
    "print(statistics.stdev(severe_age))"
   ]
  },
  {
   "cell_type": "code",
   "execution_count": 16,
   "metadata": {},
   "outputs": [
    {
     "name": "stdout",
     "output_type": "stream",
     "text": [
      "33.49109339\n",
      "29.45133692487805\n",
      "5.770888639999999\n",
      "7.758952803931954\n"
     ]
    }
   ],
   "source": [
    "print(np.nanmean(mild_BMI))\n",
    "print(np.nanmean(severe_BMI))\n",
    "\n",
    "print(np.nanstd(mild_BMI))\n",
    "print(np.nanstd(severe_BMI))"
   ]
  },
  {
   "cell_type": "code",
   "execution_count": 17,
   "metadata": {},
   "outputs": [
    {
     "name": "stdout",
     "output_type": "stream",
     "text": [
      "26\n",
      "19\n",
      "21\n",
      "62\n"
     ]
    }
   ],
   "source": [
    "print(sum(i <= 50 for i in mild_age))\n",
    "print(sum(i > 50 for i in mild_age))\n",
    "\n",
    "print(sum(i <= 50 for i in severe_age))\n",
    "print(sum(i > 50 for i in severe_age))"
   ]
  },
  {
   "cell_type": "markdown",
   "metadata": {},
   "source": [
    "### Small diagrams to put in the introduction or methods"
   ]
  },
  {
   "cell_type": "code",
   "execution_count": null,
   "metadata": {},
   "outputs": [],
   "source": [
    "import pandas as pd\n",
    "import seaborn as sns\n",
    "import sspa\n",
    "import scipy\n",
    "import numpy as np\n",
    "import networkx as nx\n",
    "import random\n",
    "import matplotlib.pyplot as plt"
   ]
  },
  {
   "cell_type": "code",
   "execution_count": null,
   "metadata": {},
   "outputs": [],
   "source": [
    "#Load the common cases dataset\n",
    "df = pd.read_csv('../Data/Su_COVID_metabolomics_processed_commoncases.csv', index_col=0)\n",
    "df\n"
   ]
  },
  {
   "cell_type": "code",
   "execution_count": null,
   "metadata": {},
   "outputs": [],
   "source": [
    "df_sample = df.iloc[35:45,45:58] #13 metabolites long\n",
    "\n",
    "g = sns.clustermap(df_sample,row_cluster=False,col_cluster=False,xticklabels=False, yticklabels=False,cmap='RdBu_r',figsize=(9,7),cbar=False)\n",
    "g.ax_heatmap.tick_params(right=False)\n",
    "g.cax.set_visible(False)\n",
    "ax = g.ax_heatmap\n",
    "ax.set_ylabel(\"\")"
   ]
  },
  {
   "cell_type": "code",
   "execution_count": null,
   "metadata": {},
   "outputs": [],
   "source": [
    "#df_sample = df.iloc[20:30,30:45] #15 proteins long\n",
    "df_sample = df.iloc[35:45,80:97]\n",
    "\n",
    "g = sns.clustermap(df_sample,row_cluster=False,col_cluster=False,xticklabels=False, yticklabels=False,cmap='RdBu_r',figsize=(9,5.4),cbar=False)\n",
    "g.ax_heatmap.tick_params(right=False)\n",
    "g.cax.set_visible(False)\n",
    "ax = g.ax_heatmap\n",
    "ax.set_ylabel(\"\")"
   ]
  },
  {
   "cell_type": "code",
   "execution_count": null,
   "metadata": {},
   "outputs": [],
   "source": [
    "reactome_pathways = sspa.process_gmt(\"Data/Reactome_Homo_sapiens_pathways_compounds_R84.gmt\")\n",
    "kpca_scores = sspa.sspa_kpca(df.iloc[:,:-2], reactome_pathways)\n",
    "#Convert pathway ID to name\n",
    "root_path = pd.read_excel('Data/Root_pathways.xlsx', header=None)\n",
    "root_pathway_dict = {root_path[0][i]:root_path[1][i] for i in range(0,len(root_path))}\n",
    "\n",
    "root_pathway_names = list(root_pathway_dict.keys())\n",
    "#Using Sara's code, remove root pathways\n",
    "kpca_scores = kpca_scores.drop(columns = list(set(root_pathway_names) & set(kpca_scores.columns)))"
   ]
  },
  {
   "cell_type": "code",
   "execution_count": null,
   "metadata": {},
   "outputs": [],
   "source": [
    "kpca_scores"
   ]
  },
  {
   "cell_type": "code",
   "execution_count": null,
   "metadata": {},
   "outputs": [],
   "source": [
    "kpca_scores_sample = kpca_scores.iloc[35:45,50:62] #12 metabolite pathways long\n",
    "\n",
    "g = sns.clustermap(kpca_scores_sample,row_cluster=False,col_cluster=False,xticklabels=False, yticklabels=False,cmap='viridis',figsize=(9,7.5),cbar=False)\n",
    "g.ax_heatmap.tick_params(right=False)\n",
    "g.cax.set_visible(False)\n",
    "ax = g.ax_heatmap\n",
    "ax.set_ylabel(\"\")"
   ]
  },
  {
   "cell_type": "code",
   "execution_count": null,
   "metadata": {},
   "outputs": [],
   "source": [
    "kpca_scores_sample = kpca_scores.iloc[35:45,65:85] #20 protein pathways long\n",
    "\n",
    "g = sns.clustermap(kpca_scores_sample,row_cluster=False,col_cluster=False,xticklabels=False, yticklabels=False,cmap='viridis',figsize=(9,4.5),cbar=False)\n",
    "g.ax_heatmap.tick_params(right=False)\n",
    "g.cax.set_visible(False)\n",
    "ax = g.ax_heatmap\n",
    "ax.set_ylabel(\"\")"
   ]
  },
  {
   "cell_type": "code",
   "execution_count": null,
   "metadata": {},
   "outputs": [],
   "source": [
    "kpca_scores_sample = kpca_scores.iloc[35:45,85:107] #23 protein pathways long\n",
    "\n",
    "g = sns.clustermap(kpca_scores_sample,row_cluster=False,col_cluster=False,xticklabels=False, yticklabels=False,cmap='viridis',figsize=(9,4),cbar=False)\n",
    "g.ax_heatmap.tick_params(right=False)\n",
    "g.cax.set_visible(False)\n",
    "ax = g.ax_heatmap\n",
    "ax.set_ylabel(\"\")"
   ]
  },
  {
   "cell_type": "code",
   "execution_count": null,
   "metadata": {},
   "outputs": [],
   "source": [
    "spearman_results = scipy.stats.spearmanr(kpca_scores)\n",
    "\n",
    "spearman_coef = spearman_results[0] #correlation coefficients\n",
    "spearman_pvals = spearman_results[1] #p-values\n",
    "\n",
    "spearman_coef = pd.DataFrame(spearman_coef)"
   ]
  },
  {
   "cell_type": "code",
   "execution_count": null,
   "metadata": {},
   "outputs": [],
   "source": [
    "spearman_coef_sample = pd.DataFrame(spearman_coef).iloc[35:47,35:47] #12 pathways for metabolomic\n",
    "\n",
    "corr= spearman_coef_sample.corr()\n",
    "matrix = np.triu(corr)\n",
    "\n",
    "g = sns.clustermap(spearman_coef_sample,row_cluster=True,col_cluster=True,xticklabels=False, yticklabels=False,cmap=\"coolwarm\",figsize=(9,9),cbar=False)#,mask=matrix)\n",
    "g.ax_heatmap.tick_params(right=False)\n",
    "g.cax.set_visible(False)\n",
    "ax = g.ax_heatmap\n",
    "ax.set_ylabel(\"\")"
   ]
  },
  {
   "cell_type": "code",
   "execution_count": null,
   "metadata": {},
   "outputs": [],
   "source": [
    "spearman_coef_sample = pd.DataFrame(spearman_coef).iloc[50:70,50:70] #20 pathways for proteomic\n",
    "\n",
    "corr= spearman_coef_sample.corr()\n",
    "matrix = np.triu(corr)\n",
    "\n",
    "g = sns.clustermap(spearman_coef_sample,row_cluster=True,col_cluster=True,xticklabels=False, yticklabels=False,cmap=\"coolwarm\",figsize=(9,9),cbar=False)#,mask=matrix)\n",
    "g.ax_heatmap.tick_params(right=False)\n",
    "g.cax.set_visible(False)\n",
    "ax = g.ax_heatmap\n",
    "ax.set_ylabel(\"\")"
   ]
  },
  {
   "cell_type": "code",
   "execution_count": null,
   "metadata": {},
   "outputs": [],
   "source": [
    "spearman_coef_sample = pd.DataFrame(spearman_coef).iloc[100:123,100:123] #23 pathways for integrated\n",
    "\n",
    "corr= spearman_coef_sample.corr()\n",
    "matrix = np.triu(corr)\n",
    "\n",
    "g = sns.clustermap(spearman_coef_sample,row_cluster=True,col_cluster=True,xticklabels=False, yticklabels=False,cmap=\"coolwarm\",figsize=(9,9),cbar=False)#,mask=matrix)\n",
    "g.ax_heatmap.tick_params(right=False)\n",
    "g.cax.set_visible(False)\n",
    "ax = g.ax_heatmap\n",
    "ax.set_ylabel(\"\")"
   ]
  },
  {
   "cell_type": "code",
   "execution_count": null,
   "metadata": {},
   "outputs": [],
   "source": [
    "#https://stackoverflow.com/questions/61958360/how-to-create-random-graph-where-each-node-has-at-least-1-edge-using-networkx\n",
    "#Generate random graph\n",
    "\n",
    "nodes = 16\n",
    "seed = random.randint(1,10)\n",
    "probability = 0.6\n",
    "G = nx.gnp_random_graph(nodes,probability)\n",
    "\n",
    "plt.figure(figsize=(8,6))\n",
    "nx.draw(G,node_color='#e69f00',node_size=500) \n",
    "\n",
    "#plt.savefig( '../Figures/random_fig1.png' , dpi=300,bbox_inches = 'tight' , pad_inches = 0.2 , facecolor='w')"
   ]
  },
  {
   "cell_type": "code",
   "execution_count": null,
   "metadata": {},
   "outputs": [],
   "source": [
    "#https://stackoverflow.com/questions/61958360/how-to-create-random-graph-where-each-node-has-at-least-1-edge-using-networkx\n",
    "#Generate random graph, then remove most edges but keep same layout\n",
    "\n",
    "nodes = 16\n",
    "seed = random.randint(1,10)\n",
    "probability = 0.4\n",
    "G = nx.gnp_random_graph(nodes,probability)\n",
    "\n",
    "#https://cambiocteach.com/accessibility/colourchoice/   for colour palette\n",
    "#orange #e69f00     sky blue #56b4e9    blue-green #009e73    (yellow #FFD580)"
   ]
  },
  {
   "cell_type": "code",
   "execution_count": null,
   "metadata": {},
   "outputs": [],
   "source": [
    "pos = nx.random_layout(G, dim=2, center=None)"
   ]
  },
  {
   "cell_type": "code",
   "execution_count": null,
   "metadata": {},
   "outputs": [],
   "source": [
    "plt.figure(figsize=(8,6))\n",
    "nx.draw(G,pos,node_color='#56b4e9',node_size=500) \n",
    "plt.savefig( '../Figures/random_fig4.png' , dpi=300,bbox_inches = 'tight' , pad_inches = 0.2 , facecolor='w')"
   ]
  },
  {
   "cell_type": "code",
   "execution_count": null,
   "metadata": {},
   "outputs": [],
   "source": [
    "G.edges()  \n",
    "# (3,11->4,14) (6,11->7,13) (8,15->9,14) (11,14->) mild (edges kept)\n",
    "# (0,2->(0,10) (1,15->2,11) (3,11->4,8) (6,15->7,15) (9,14->) severe\n",
    "\n",
    "#severe not mild= [ (0, 2), (0, 3), (0, 7), (0, 10),(1, 15), (2, 6), (2, 7), (2, 8), (2, 11),(7, 15), (9, 15), (10, 11), (10, 12), (10, 14), (11, 12), (11, 13)]\n",
    "#mild not severe = [(6, 11), (6, 12),(8, 15), (9, 10), (9, 11)]"
   ]
  },
  {
   "cell_type": "code",
   "execution_count": null,
   "metadata": {},
   "outputs": [],
   "source": [
    "severe_not_mild= [ (0, 2), (0, 3), (0, 7), (0, 10),(1, 15), (2, 6), (2, 7), (2, 8), (2, 11),(7, 15), (9, 15), (10, 11), (10, 12), (10, 14), (11, 12), (11, 13)]\n",
    "mild_not_severe = [(6, 11), (6, 12),(8, 15), (9, 10), (9, 11)]\n",
    "diff_col = [(0, 2), (0, 3), (0, 7), (0, 10),(1, 8), (1, 12), (1, 13), (1, 15), (2, 6), (2, 7), (2, 8),(3, 12), (3, 15), (4, 5), (4, 8),(5, 15), (6, 7), (6, 9), (6, 10), (6, 11),(8, 13), (8, 15), (9, 10), (9, 11), (9, 14),(11, 12), (11, 13)]\n",
    "\n",
    "# edges_col = []\n",
    "# for i in range(len(severe_not_mild)+len(mild_not_severe)):\n",
    "#     if i == 9 or i == 10 or i == 12 or i ==13 or 1== 14:\n",
    "#          edges_col.append(\"blue\")\n",
    "#     else:\n",
    "#         edges_col.append(\"red\")\n",
    "\n",
    "edges_col = []\n",
    "for i in range(len(diff_col)):\n",
    "     if (i > 9 and i <14) or (i > 16 and i <18) or i==22 :\n",
    "          edges_col.append(\"blue\")\n",
    "     else:\n",
    "         edges_col.append(\"red\")\n",
    "\n",
    "len(diff_col)"
   ]
  },
  {
   "cell_type": "code",
   "execution_count": null,
   "metadata": {},
   "outputs": [],
   "source": [
    "H = G.copy()\n",
    "#differential network\n",
    "to_remove=[(0, 12), (0, 14), (1, 3), (1, 4), (1, 5), (1, 6), (1, 7),(2, 11), (3, 4), (3, 9), (3, 11),(4, 13), (4, 14), (4, 15), (5, 6), (5, 9),(6, 12), (6, 15), (7, 8), (7, 12), (7, 13), (7, 15),(9, 15), (10, 11), (10, 12), (10, 14),(11, 14), (12, 13), (13, 14), (13, 15)]\n",
    "\n",
    "#mild network\n",
    "#to_remove = [(0, 2), (0, 3), (0, 7), (0, 10), (0, 12), (0, 14),(1, 3), (1, 4), (1, 5), (1, 6), (1, 7), (1, 8), (1, 12), (1, 13), (1, 15), (2, 6),  (2, 7), (2, 8),(2, 11), (3, 4), (3, 9), (3, 11),(4, 13), (4, 14),(4, 15), (5, 6), (5, 9), (5, 15), (6, 7), (6, 9), (6, 10),(7, 15), (8, 13),(9, 15), (10, 11), (10, 12), (10, 14), (11, 12), (11, 13),(13, 14), (13, 15) ]\n",
    "\n",
    "#severe network\n",
    "#to_remove = [(0, 12), (0, 14), (1, 3), (1, 4), (1, 5), (1, 6), (1, 7), (1, 8), (1, 12), (1, 13),(3, 4), (3, 9),  (4, 13), (4, 14), (4, 15), (5, 6), (5, 9), (5, 15), (6, 7), (6, 9), (6, 10), (6, 11), (6, 12),(8, 13), (8, 15), (9, 10), (9, 11), (13, 14), (13, 15) ]\n",
    "\n",
    "#naive network\n",
    "#to_remove = [(0, 12), (0, 14), (1, 3), (1, 4), (1, 5), (1, 6), (1, 7), (1, 8), (1, 12), (1, 13),(3, 4), (3, 9), (3, 11), (3, 12), (3, 15), (4, 5), (4,8), (4, 13), (4, 14),(4, 15), (5, 6), (5, 9), (5, 15), (6, 7), (6, 9), (6, 10),  (6, 15), (7, 8), (7, 12), (7, 13), (8, 13),  (9,14),(11, 14), (12, 13), (13, 14), (13, 15)]\n",
    "\n",
    "H.remove_edges_from(to_remove)\n",
    "H.remove_nodes_from(list(nx.isolates(H)))\n",
    "nx.draw(H, pos, node_color='#56b4e9',edge_color = edges_col,node_size=350,width=2) #,with_labels=True)   edge_color=edges_col\n",
    "#plt.savefig( '../Figures/random_fig5_diff.png' , dpi=300,bbox_inches = 'tight' , pad_inches = 0.2 , facecolor='w')"
   ]
  },
  {
   "cell_type": "markdown",
   "metadata": {},
   "source": [
    "### Venn diagram to show the number of common pathways between metabolomic, proteomic and integrated"
   ]
  },
  {
   "cell_type": "code",
   "execution_count": null,
   "metadata": {},
   "outputs": [],
   "source": [
    "#https://www.geeksforgeeks.org/how-to-create-and-customize-venn-diagrams-in-python/\n",
    "\n",
    "#import module\n",
    "from matplotlib_venn import venn3, venn3_circles\n",
    "from matplotlib import pyplot as plt\n",
    "  \n",
    "# depict venn diagram\n",
    "venn3(subsets=(20, 10, 12, 10, 9, 4, 3), \n",
    "      set_labels=('Group A', 'Group B', 'Group C'), \n",
    "      set_colors=(\"orange\", \"blue\", \"red\"), alpha=0.7)\n",
    "  \n",
    "# outline of circle line style and width\n",
    "venn3_circles(subsets=(20, 10, 12, 10, 9, 4, 3),\n",
    "              linestyle=\"dashed\", linewidth=2)\n",
    "  \n",
    "# title of the venn diagram\n",
    "plt.title(\"Venn Diagram in geeks for geeks\")\n",
    "plt.show()"
   ]
  },
  {
   "cell_type": "code",
   "execution_count": null,
   "metadata": {},
   "outputs": [],
   "source": [
    "#From matplotlib_venn documentation\n",
    "from matplotlib import pyplot as plt\n",
    "import numpy as np\n",
    "from matplotlib_venn import venn3, venn3_circles\n",
    "plt.figure(figsize=(4,4))\n",
    "v = venn3(subsets=(1, 1, 1, 1, 1, 1, 1), set_labels = ('A', 'B', 'C'))\n",
    "v.get_patch_by_id('100').set_alpha(1.0)\n",
    "v.get_patch_by_id('100').set_color('white')\n",
    "v.get_label_by_id('100').set_text('Unknown')\n",
    "v.get_label_by_id('A').set_text('Set \"A\"')\n",
    "c = venn3_circles(subsets=(1, 1, 1, 1, 1, 1, 1), linestyle='dashed')\n",
    "c[0].set_lw(1.0)\n",
    "c[0].set_ls('dotted')\n",
    "plt.title(\"Sample Venn diagram\")\n",
    "plt.annotate('Unknown set', xy=v.get_label_by_id('100').get_position() - np.array([0, 0.05]), xytext=(-70,-70),\n",
    "                ha='center', textcoords='offset points', bbox=dict(boxstyle='round,pad=0.5', fc='gray', alpha=0.1),\n",
    "                arrowprops=dict(arrowstyle='->', connectionstyle='arc3,rad=0.5',color='gray'))\n",
    "plt.show()"
   ]
  },
  {
   "cell_type": "code",
   "execution_count": null,
   "metadata": {},
   "outputs": [],
   "source": [
    "#For WEIGHTED Venn diagram\n",
    "\n",
    "from matplotlib_venn import venn3, venn3_circles\n",
    "from matplotlib import pyplot as plt\n",
    "import numpy as np\n",
    "\n",
    "plt.figure(figsize=(6, 6))\n",
    "#Colours are washed out because they're overlapping, so colour by patch instead\n",
    "#Difficulty knowing which circle is which omic\n",
    "  \n",
    "#Draw Venn diagram\n",
    "vd = venn3(subsets=(0, 0, 0, 35, 97, 531, 47), \n",
    "      set_labels=('', '', ''), \n",
    "      set_colors=('Red', 'Yellow', 'Blue'),alpha=0.8)   #, alpha=0.1\n",
    "  \n",
    "#Circle outline\n",
    "c = venn3_circles(subsets=(0, 0, 0, 35, 97, 531, 47), linewidth=1)\n",
    "c[0].set_ls('dashed')\n",
    "c[1].set_ls('dashed')\n",
    "\n",
    "#Change patch colour\n",
    "vd.get_patch_by_id(\"001\").set_color('#febb81')   #big circle\n",
    "vd.get_patch_by_id(\"101\").set_color('#f8765c')  \n",
    "vd.get_patch_by_id(\"011\").set_color('#d3436e')   \n",
    "vd.get_patch_by_id(\"111\").set_color('#982d80')   #most overlap\n",
    " \n",
    "#Move circle number labels \n",
    "vd.get_label_by_id(\"101\").set_x(-0.5)   #111,(110),(100),(000),101\n",
    "vd.get_label_by_id(\"001\").set_x(-0.004)   #111,(110),(100),(000),101,001\n",
    "vd.get_label_by_id(\"001\").set_y(-0.53)   #111,(110),(100),(000),101,001,(010),011\n",
    "\n",
    "\n",
    "#Changing font size\n",
    "for text in vd.set_labels:  #Omic labels\n",
    "    text.set_fontsize(15)  \n",
    "\n",
    "for x in range(len(vd.subset_labels)):  #Circle numbers\n",
    "    if vd.subset_labels[x] is not None:\n",
    "        vd.subset_labels[x].set_fontsize(14)\n",
    "\n",
    "#plt.annotate('144 edges',xy=[-0.7,.2])  #doesn't show up past the circle\n",
    "#plt.annotate('578 edges',xy=[0.4,0.45])\n",
    "#plt.annotate('710 edges',xy=[-0.4,-0.45])\n",
    "\n",
    "plt.title(\"Pathway overlap between omics\",fontsize=18)    #'#5f187f', '#982d80', '#d3436e', '#f8765c', '#febb81']"
   ]
  },
  {
   "cell_type": "code",
   "execution_count": null,
   "metadata": {},
   "outputs": [],
   "source": [
    "vd.get_label_by_id('001').get_position()"
   ]
  },
  {
   "cell_type": "code",
   "execution_count": null,
   "metadata": {},
   "outputs": [],
   "source": [
    "#For UNWEIGHTED Venn diagram\n",
    "\n",
    "import matplotlib.pyplot as plt\n",
    "import matplotlib_venn as mv\n",
    "\n",
    "#Draw venn diagram\n",
    "vd = mv.venn3_unweighted(subsets=(0, 0, 0, 35, 97, 531, 47), \n",
    "      #set_labels=('Metabolomic', 'Proteomic', 'Integrated'), \n",
    "      set_labels=('', '', ''), \n",
    "      set_colors=( '#e34933', '#fee99d', '#51B0DF'), alpha=0.7)   #        '#e34933', '#fee99d', '#588cc0'/'#51B0DF'\n",
    "\n",
    "#Change font size\n",
    "for text in vd.set_labels:  #Omic labels\n",
    "    text.set_fontsize(16)  \n",
    "\n",
    "for x in range(len(vd.subset_labels)):  #Circle numbers\n",
    "    if vd.subset_labels[x] is not None:\n",
    "        vd.subset_labels[x].set_fontsize(21)\n",
    "\n",
    "#Change patch colour  \n",
    "vd.get_patch_by_id(\"011\").set_color('#C7DFD9') \n",
    "\n",
    "#Move label a bit\n",
    "vd.get_label_by_id(\"011\").set_x(0.31)\n",
    "vd.get_label_by_id(\"101\").set_x(-0.3) #111\n",
    "\n",
    "#plt.title(\"Pathway overlap between omics\",fontsize=18)  \n",
    "\n",
    "#plt.savefig( '../Figures/random_fig6.png' , dpi=300,bbox_inches = 'tight' , pad_inches = 0.2 , facecolor='w')"
   ]
  },
  {
   "cell_type": "code",
   "execution_count": null,
   "metadata": {},
   "outputs": [],
   "source": [
    "import seaborn as sns\n",
    "#Obtain hex codes for sns colour palette\n",
    "#https://www.practicalpythonfordatascience.com/ap_seaborn_palette\n",
    "print(sns.color_palette(\"magma\").as_hex()[:])  #'Spectral','RdYlBu'\n",
    "sns.color_palette(\"magma\")"
   ]
  },
  {
   "cell_type": "markdown",
   "metadata": {},
   "source": [
    "### Venn diagram to show the number of differential edges between metabolomic, proteomic and integrated"
   ]
  },
  {
   "cell_type": "code",
   "execution_count": null,
   "metadata": {},
   "outputs": [],
   "source": [
    "#For UNWEIGHTED Venn diagram\n",
    "\n",
    "import matplotlib.pyplot as plt\n",
    "import matplotlib_venn as mv\n",
    "\n",
    "#Draw venn diagram\n",
    "vd = mv.venn3_unweighted(subsets=(15,599,0,1437,2,993,0), \n",
    "      #set_labels=('Metabolomic', 'Proteomic', 'Integrated'), \n",
    "      set_labels=('', '', ''), \n",
    "      set_colors=( '#e34933', '#fee99d', '#51B0DF'), alpha=0.7)   #        '#e34933', '#fee99d', '#588cc0'\n",
    "\n",
    "for text in vd.set_labels:  #Omic labels\n",
    "    text.set_fontsize(16)  \n",
    "\n",
    "for x in range(len(vd.subset_labels)):  #Circle numbers\n",
    "    if vd.subset_labels[x] is not None:\n",
    "        vd.subset_labels[x].set_fontsize(21)\n",
    "\n",
    "\n",
    "#Change patch colour\n",
    "vd.get_patch_by_id(\"011\").set_color('#C7DFD9')  \n",
    "\n",
    "#Move label a bit\n",
    "vd.get_label_by_id(\"010\").set_x(0.4) \n",
    "vd.get_label_by_id(\"011\").set_x(0.296) \n",
    "vd.get_label_by_id(\"101\").set_x(-0.3) #111\n",
    "\n",
    "\n",
    "#plt.title(\"Pathway overlap between omics\",fontsize=18)  \n",
    "\n",
    "#plt.savefig( '../Figures/random_fig7.png' , dpi=300,bbox_inches = 'tight' , pad_inches = 0.2 , facecolor='w')"
   ]
  }
 ],
 "metadata": {
  "kernelspec": {
   "display_name": "Imperial_Project2",
   "language": "python",
   "name": "python3"
  },
  "language_info": {
   "codemirror_mode": {
    "name": "ipython",
    "version": 3
   },
   "file_extension": ".py",
   "mimetype": "text/x-python",
   "name": "python",
   "nbconvert_exporter": "python",
   "pygments_lexer": "ipython3",
   "version": "3.11.3"
  },
  "orig_nbformat": 4
 },
 "nbformat": 4,
 "nbformat_minor": 2
}
