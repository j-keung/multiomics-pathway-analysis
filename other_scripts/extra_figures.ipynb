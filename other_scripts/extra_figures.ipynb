{
 "cells": [
  {
   "cell_type": "markdown",
   "metadata": {},
   "source": [
    "This script was used to generate some miscellaneous extra thesis figures."
   ]
  },
  {
   "cell_type": "markdown",
   "metadata": {},
   "source": [
    "### Bar graph showing clinical data methods"
   ]
  },
  {
   "cell_type": "code",
   "execution_count": null,
   "metadata": {},
   "outputs": [],
   "source": [
    "import pandas as pd\n",
    "import numpy as np"
   ]
  },
  {
   "cell_type": "code",
   "execution_count": null,
   "metadata": {},
   "outputs": [],
   "source": [
    "df = pd.read_csv('../Data/Su_COVID_metabolomics_processed_commoncases.csv', index_col=0)\n",
    "samples = list(df.index)\n",
    "sample_list = [(i+'-1') for i in samples]\n",
    "print(sample_list)"
   ]
  },
  {
   "cell_type": "code",
   "execution_count": null,
   "metadata": {},
   "outputs": [],
   "source": [
    "df_mild = (df[df[\"WHO_status\"] == '1-2']).iloc[:,:-2] #45 samples, remove the metadata\n",
    "mild_samples = list(df_mild.index)\n",
    "mild_sample_list = [(i+'-1') for i in mild_samples]\n",
    "\n",
    "df_severe = (df[(df[\"WHO_status\"] == '3-4') | (df[\"WHO_status\"] == '5-7')]).iloc[:,:-2] #83 samples\n",
    "severe_samples = list(df_severe.index)\n",
    "severe_sample_list = [(i+'-1') for i in severe_samples]"
   ]
  },
  {
   "cell_type": "code",
   "execution_count": null,
   "metadata": {},
   "outputs": [],
   "source": [
    "clinical_df = pd.read_csv('../Data/Goldman_clinical_data.csv', index_col=0)"
   ]
  },
  {
   "cell_type": "code",
   "execution_count": null,
   "metadata": {},
   "outputs": [],
   "source": [
    "clinical_df[:5]"
   ]
  },
  {
   "cell_type": "code",
   "execution_count": null,
   "metadata": {},
   "outputs": [],
   "source": [
    "print(len(mild_sample_list))\n",
    "print(len(severe_sample_list))"
   ]
  },
  {
   "cell_type": "code",
   "execution_count": null,
   "metadata": {},
   "outputs": [],
   "source": [
    "mild_factors = clinical_df[clinical_df['Sample ID'].isin(mild_sample_list)]\n",
    "severe_factors = clinical_df[clinical_df['Sample ID'].isin(severe_sample_list)]"
   ]
  },
  {
   "cell_type": "markdown",
   "metadata": {},
   "source": [
    "Function to count number of mild samples with and without the comorbidity and number of severe samples with and without the comorbidity:"
   ]
  },
  {
   "cell_type": "code",
   "execution_count": null,
   "metadata": {},
   "outputs": [],
   "source": [
    "def clinical_factor_stat(variable):\n",
    "    print(mild_factors[variable].value_counts()) \n",
    "    print(severe_factors[variable].value_counts()) \n",
    "\n",
    "    print(mild_factors[variable].isna().sum())\n",
    "    print(severe_factors[variable].isna().sum())"
   ]
  },
  {
   "cell_type": "code",
   "execution_count": null,
   "metadata": {},
   "outputs": [],
   "source": [
    "print(clinical_factor_stat('Chronic Hypertension'))"
   ]
  },
  {
   "cell_type": "markdown",
   "metadata": {},
   "source": [
    "For non-binary outputs, take the mean and standard deviation for continuous factors:"
   ]
  },
  {
   "cell_type": "code",
   "execution_count": null,
   "metadata": {},
   "outputs": [],
   "source": [
    "mild_age = list(mild_factors['Age'])\n",
    "severe_age = list(severe_factors['Age'])\n",
    "\n",
    "mild_BMI = list(mild_factors['BMI'])  #nearly all NaN\n",
    "severe_BMI = list(severe_factors['BMI'])"
   ]
  },
  {
   "cell_type": "code",
   "execution_count": null,
   "metadata": {},
   "outputs": [],
   "source": [
    "print(np.nanmean(mild_BMI))\n",
    "print(np.nanmean(severe_BMI))\n",
    "\n",
    "print(np.nanstd(mild_BMI))\n",
    "print(np.nanstd(severe_BMI))"
   ]
  },
  {
   "cell_type": "code",
   "execution_count": null,
   "metadata": {},
   "outputs": [],
   "source": [
    "print(sum(i <= 50 for i in mild_age))\n",
    "print(sum(i > 50 for i in mild_age))\n",
    "\n",
    "print(sum(i <= 50 for i in severe_age))\n",
    "print(sum(i > 50 for i in severe_age))"
   ]
  },
  {
   "cell_type": "markdown",
   "metadata": {},
   "source": [
    "### Small heatmaps to put in the introduction"
   ]
  },
  {
   "cell_type": "code",
   "execution_count": null,
   "metadata": {},
   "outputs": [],
   "source": [
    "import pandas as pd\n",
    "import seaborn as sns\n",
    "import sspa\n",
    "import scipy\n",
    "\n",
    "import numpy as np\n",
    "import networkx as nx\n",
    "import random\n",
    "import matplotlib.pyplot as plt"
   ]
  },
  {
   "cell_type": "code",
   "execution_count": null,
   "metadata": {},
   "outputs": [],
   "source": [
    "#Load the common cases dataset\n",
    "df = pd.read_csv('../Data/Su_COVID_metabolomics_processed_commoncases.csv', index_col=0)\n"
   ]
  },
  {
   "cell_type": "code",
   "execution_count": null,
   "metadata": {},
   "outputs": [],
   "source": [
    "#Randomly choose a part of the dataframe to make the heatmap from\n",
    "\n",
    "df_sample = df.iloc[35:45,45:58] #'metabolomic' dataset\n",
    "\n",
    "g = sns.clustermap(df_sample,row_cluster=False,col_cluster=False,xticklabels=False, yticklabels=False,cmap='RdBu_r',figsize=(9,7),cbar=False)\n",
    "g.cax.set_visible(False) #remove colour bar labels\n",
    "ax = g.ax_heatmap #set the right axis label to blank\n",
    "ax.set_ylabel(\"\")"
   ]
  },
  {
   "cell_type": "code",
   "execution_count": null,
   "metadata": {},
   "outputs": [],
   "source": [
    "#Randomly choose a part of the dataframe to make the heatmap from\n",
    "\n",
    "df_sample = df.iloc[35:45,80:97] #'proteomic' dataset\n",
    "\n",
    "g = sns.clustermap(df_sample,row_cluster=False,col_cluster=False,xticklabels=False, yticklabels=False,cmap='RdBu_r',figsize=(9,5.4),cbar=False)\n",
    "g.cax.set_visible(False)\n",
    "ax = g.ax_heatmap\n",
    "ax.set_ylabel(\"\")"
   ]
  },
  {
   "cell_type": "code",
   "execution_count": null,
   "metadata": {},
   "outputs": [],
   "source": [
    "reactome_pathways = sspa.process_gmt(\"../Data/Reactome_Homo_sapiens_pathways_compounds_R84.gmt\")\n",
    "kpca_scores = sspa.sspa_kpca(df.iloc[:,:-2], reactome_pathways)\n",
    "\n",
    "#Convert pathway ID to name\n",
    "root_path = pd.read_excel('../Data/Root_pathways.xlsx', header=None)\n",
    "root_pathway_dict = {root_path[0][i]:root_path[1][i] for i in range(0,len(root_path))}\n",
    "\n",
    "root_pathway_names = list(root_pathway_dict.keys())\n",
    "#Using Sara's code, remove root pathways\n",
    "kpca_scores = kpca_scores.drop(columns = list(set(root_pathway_names) & set(kpca_scores.columns)))"
   ]
  },
  {
   "cell_type": "code",
   "execution_count": null,
   "metadata": {},
   "outputs": [],
   "source": [
    "kpca_scores"
   ]
  },
  {
   "cell_type": "code",
   "execution_count": null,
   "metadata": {},
   "outputs": [],
   "source": [
    "#Randomly choose a part of the dataframe to make the heatmap from\n",
    "\n",
    "kpca_scores_sample = kpca_scores.iloc[35:45,50:62] #12 metabolite pathways long\n",
    "\n",
    "g = sns.clustermap(kpca_scores_sample,row_cluster=False,col_cluster=False,xticklabels=False, yticklabels=False,cmap='viridis',figsize=(9,7.5),cbar=False)\n",
    "\n",
    "g.cax.set_visible(False)\n",
    "ax = g.ax_heatmap\n",
    "ax.set_ylabel(\"\")"
   ]
  },
  {
   "cell_type": "code",
   "execution_count": null,
   "metadata": {},
   "outputs": [],
   "source": [
    "#Randomly choose a part of the dataframe to make the heatmap from\n",
    "\n",
    "kpca_scores_sample = kpca_scores.iloc[35:45,65:85] #20 protein pathways long\n",
    "\n",
    "g = sns.clustermap(kpca_scores_sample,row_cluster=False,col_cluster=False,xticklabels=False, yticklabels=False,cmap='viridis',figsize=(9,4.5),cbar=False)\n",
    "\n",
    "g.cax.set_visible(False)\n",
    "ax = g.ax_heatmap\n",
    "ax.set_ylabel(\"\")"
   ]
  },
  {
   "cell_type": "code",
   "execution_count": null,
   "metadata": {},
   "outputs": [],
   "source": [
    "#Randomly choose a part of the dataframe to make the heatmap from\n",
    "\n",
    "kpca_scores_sample = kpca_scores.iloc[35:45,85:108] #23 integrated pathways long\n",
    "\n",
    "g = sns.clustermap(kpca_scores_sample,row_cluster=False,col_cluster=False,xticklabels=False, yticklabels=False,cmap='viridis',figsize=(9,4.5),cbar=False)\n",
    "\n",
    "g.cax.set_visible(False)\n",
    "ax = g.ax_heatmap\n",
    "ax.set_ylabel(\"\")"
   ]
  },
  {
   "cell_type": "code",
   "execution_count": null,
   "metadata": {},
   "outputs": [],
   "source": [
    "spearman_results = scipy.stats.spearmanr(kpca_scores)\n",
    "\n",
    "spearman_coef = spearman_results[0] #correlation coefficients\n",
    "spearman_pvals = spearman_results[1] #p-values\n",
    "\n",
    "spearman_coef = pd.DataFrame(spearman_coef)"
   ]
  },
  {
   "cell_type": "code",
   "execution_count": null,
   "metadata": {},
   "outputs": [],
   "source": [
    "spearman_coef_sample = pd.DataFrame(spearman_coef).iloc[35:47,35:47] #12 pathways for metabolomic\n",
    "\n",
    "corr= spearman_coef_sample.corr()\n",
    "matrix = np.triu(corr)\n",
    "\n",
    "g = sns.clustermap(spearman_coef_sample,row_cluster=True,col_cluster=True,xticklabels=False, yticklabels=False,cmap=\"coolwarm\",figsize=(9,9),cbar=False)#,mask=matrix)\n",
    "\n",
    "g.cax.set_visible(False)\n",
    "ax = g.ax_heatmap\n",
    "ax.set_ylabel(\"\")"
   ]
  },
  {
   "cell_type": "code",
   "execution_count": null,
   "metadata": {},
   "outputs": [],
   "source": [
    "spearman_coef_sample = pd.DataFrame(spearman_coef).iloc[50:70,50:70] #20 pathways for proteomic\n",
    "\n",
    "corr= spearman_coef_sample.corr()\n",
    "matrix = np.triu(corr)\n",
    "\n",
    "g = sns.clustermap(spearman_coef_sample,row_cluster=True,col_cluster=True,xticklabels=False, yticklabels=False,cmap=\"coolwarm\",figsize=(9,9),cbar=False)#,mask=matrix)\n",
    "\n",
    "g.cax.set_visible(False)\n",
    "ax = g.ax_heatmap\n",
    "ax.set_ylabel(\"\")"
   ]
  },
  {
   "cell_type": "code",
   "execution_count": null,
   "metadata": {},
   "outputs": [],
   "source": [
    "spearman_coef_sample = pd.DataFrame(spearman_coef).iloc[100:123,100:123] #23 pathways for integrated\n",
    "\n",
    "corr= spearman_coef_sample.corr()\n",
    "matrix = np.triu(corr)\n",
    "\n",
    "g = sns.clustermap(spearman_coef_sample,row_cluster=True,col_cluster=True,xticklabels=False, yticklabels=False,cmap=\"coolwarm\",figsize=(9,9),cbar=False)#,mask=matrix)\n",
    "\n",
    "g.cax.set_visible(False)\n",
    "ax = g.ax_heatmap\n",
    "ax.set_ylabel(\"\")"
   ]
  },
  {
   "cell_type": "code",
   "execution_count": null,
   "metadata": {},
   "outputs": [],
   "source": [
    "#https://stackoverflow.com/questions/61958360/how-to-create-random-graph-where-each-node-has-at-least-1-edge-using-networkx\n",
    "#Generate random graph\n",
    "\n",
    "nodes = 16\n",
    "seed = random.randint(1,10)\n",
    "probability = 0.6\n",
    "G = nx.gnp_random_graph(nodes,probability)\n",
    "\n",
    "plt.figure(figsize=(8,6))\n",
    "nx.draw(G,node_color='#e69f00',node_size=500) \n",
    "\n",
    "#plt.savefig( '../Figures/random_fig1.png' , dpi=300,bbox_inches = 'tight' , pad_inches = 0.2 , facecolor='w')"
   ]
  },
  {
   "cell_type": "code",
   "execution_count": null,
   "metadata": {},
   "outputs": [],
   "source": [
    "#https://stackoverflow.com/questions/61958360/how-to-create-random-graph-where-each-node-has-at-least-1-edge-using-networkx\n",
    "#Generate random graph, then remove most edges but keep same layout\n",
    "\n",
    "nodes = 16\n",
    "seed = random.randint(1,10)\n",
    "probability = 0.4\n",
    "G = nx.gnp_random_graph(nodes,probability)\n",
    "\n",
    "#https://cambiocteach.com/accessibility/colourchoice/   for colour palette\n",
    "#orange #e69f00     sky blue #56b4e9    blue-green #009e73    (yellow #FFD580)"
   ]
  },
  {
   "cell_type": "code",
   "execution_count": null,
   "metadata": {},
   "outputs": [],
   "source": [
    "pos = nx.random_layout(G, dim=2, center=None)"
   ]
  },
  {
   "cell_type": "code",
   "execution_count": null,
   "metadata": {},
   "outputs": [],
   "source": [
    "plt.figure(figsize=(8,6))\n",
    "nx.draw(G,pos,node_color='#56b4e9',node_size=500) \n",
    "#plt.savefig( '../Figures/random_fig4.png' , dpi=300,bbox_inches = 'tight' , pad_inches = 0.2 , facecolor='w')"
   ]
  },
  {
   "cell_type": "code",
   "execution_count": null,
   "metadata": {},
   "outputs": [],
   "source": [
    "#Choose some edges to remove\n",
    "G.edges()  "
   ]
  },
  {
   "cell_type": "code",
   "execution_count": null,
   "metadata": {},
   "outputs": [],
   "source": [
    "H = G.copy()\n",
    "\n",
    "#Differential network\n",
    "to_remove=[(0, 12), (0, 14), (1, 3), (1, 4), (1, 5), (1, 6), (1, 7),(2, 11), (3, 4), (3, 9), (3, 11),(4, 13), (4, 14), (4, 15), (5, 6), (5, 9),(6, 12), (6, 15), (7, 8), (7, 12), (7, 13), (7, 15),(9, 15), (10, 11), (10, 12), (10, 14),(11, 14), (12, 13), (13, 14), (13, 15)]\n",
    "\n",
    "#Mild network\n",
    "#to_remove = [(0, 2), (0, 3), (0, 7), (0, 10), (0, 12), (0, 14),(1, 3), (1, 4), (1, 5), (1, 6), (1, 7), (1, 8), (1, 12), (1, 13), (1, 15), (2, 6),  (2, 7), (2, 8),(2, 11), (3, 4), (3, 9), (3, 11),(4, 13), (4, 14),(4, 15), (5, 6), (5, 9), (5, 15), (6, 7), (6, 9), (6, 10),(7, 15), (8, 13),(9, 15), (10, 11), (10, 12), (10, 14), (11, 12), (11, 13),(13, 14), (13, 15) ]\n",
    "\n",
    "#Severe network\n",
    "#to_remove = [(0, 12), (0, 14), (1, 3), (1, 4), (1, 5), (1, 6), (1, 7), (1, 8), (1, 12), (1, 13),(3, 4), (3, 9),  (4, 13), (4, 14), (4, 15), (5, 6), (5, 9), (5, 15), (6, 7), (6, 9), (6, 10), (6, 11), (6, 12),(8, 13), (8, 15), (9, 10), (9, 11), (13, 14), (13, 15) ]\n",
    "\n",
    "#Naive network\n",
    "#to_remove = [(0, 12), (0, 14), (1, 3), (1, 4), (1, 5), (1, 6), (1, 7), (1, 8), (1, 12), (1, 13),(3, 4), (3, 9), (3, 11), (3, 12), (3, 15), (4, 5), (4,8), (4, 13), (4, 14),(4, 15), (5, 6), (5, 9), (5, 15), (6, 7), (6, 9), (6, 10),  (6, 15), (7, 8), (7, 12), (7, 13), (8, 13),  (9,14),(11, 14), (12, 13), (13, 14), (13, 15)]\n",
    "\n"
   ]
  },
  {
   "cell_type": "code",
   "execution_count": null,
   "metadata": {},
   "outputs": [],
   "source": [
    "severe_not_mild= [ (0, 2), (0, 3), (0, 7), (0, 10),(1, 15), (2, 6), (2, 7), (2, 8), (2, 11),(7, 15), (9, 15), (10, 11), (10, 12), (10, 14), (11, 12), (11, 13)]\n",
    "mild_not_severe = [(6, 11), (6, 12),(8, 15), (9, 10), (9, 11)]\n",
    "diff_col = [(0, 2), (0, 3), (0, 7), (0, 10),(1, 8), (1, 12), (1, 13), (1, 15), (2, 6), (2, 7), (2, 8),(3, 12), (3, 15), (4, 5), (4, 8),(5, 15), (6, 7), (6, 9), (6, 10), (6, 11),(8, 13), (8, 15), (9, 10), (9, 11), (9, 14),(11, 12), (11, 13)]\n",
    "\n",
    "edges_col = []\n",
    "for i in range(len(diff_col)):\n",
    "     if (i > 9 and i <14) or (i > 16 and i <18) or i==22 :\n",
    "          edges_col.append(\"blue\")\n",
    "     else:\n",
    "         edges_col.append(\"red\")\n",
    "\n",
    "len(diff_col)"
   ]
  },
  {
   "cell_type": "code",
   "execution_count": null,
   "metadata": {},
   "outputs": [],
   "source": [
    "H.remove_edges_from(to_remove)\n",
    "H.remove_nodes_from(list(nx.isolates(H)))\n",
    "nx.draw(H, pos, node_color='#56b4e9',edge_color = edges_col,node_size=350,width=2) #,with_labels=True)   \n",
    "#plt.savefig( '../Figures/random_fig5_diff.png' , dpi=300,bbox_inches = 'tight' , pad_inches = 0.2 , facecolor='w')"
   ]
  },
  {
   "cell_type": "markdown",
   "metadata": {},
   "source": [
    "### Venn diagram to show the number of common pathways between metabolomic, proteomic and integrated"
   ]
  },
  {
   "cell_type": "code",
   "execution_count": null,
   "metadata": {},
   "outputs": [],
   "source": [
    "#https://www.geeksforgeeks.org/how-to-create-and-customize-venn-diagrams-in-python/\n",
    "#Example code\n",
    "\n",
    "from matplotlib_venn import venn3, venn3_circles\n",
    "from matplotlib import pyplot as plt\n",
    "  \n",
    "\n",
    "venn3(subsets=(20, 10, 12, 10, 9, 4, 3), \n",
    "      set_labels=('Group A', 'Group B', 'Group C'), \n",
    "      set_colors=(\"orange\", \"blue\", \"red\"), alpha=0.7)\n",
    "  \n",
    "#Circle line style and width\n",
    "venn3_circles(subsets=(20, 10, 12, 10, 9, 4, 3),\n",
    "              linestyle=\"dashed\", linewidth=2)\n",
    "  \n",
    "plt.title(\"Venn Diagram in geeks for geeks\")\n",
    "plt.show()"
   ]
  },
  {
   "cell_type": "code",
   "execution_count": null,
   "metadata": {},
   "outputs": [],
   "source": [
    "#From matplotlib_venn documentation\n",
    "from matplotlib import pyplot as plt\n",
    "from matplotlib_venn import venn3, venn3_circles\n",
    "\n",
    "plt.figure(figsize=(4,4))\n",
    "v = venn3(subsets=(1, 1, 1, 1, 1, 1, 1), set_labels = ('A', 'B', 'C'))\n",
    "v.get_patch_by_id('100').set_alpha(1.0)\n",
    "v.get_patch_by_id('100').set_color('white')\n",
    "v.get_label_by_id('100').set_text('Unknown')\n",
    "v.get_label_by_id('A').set_text('Set \"A\"')\n",
    "c = venn3_circles(subsets=(1, 1, 1, 1, 1, 1, 1), linestyle='dashed')\n",
    "c[0].set_lw(1.0)\n",
    "c[0].set_ls('dotted')\n",
    "plt.title(\"Sample Venn diagram\")\n",
    "plt.annotate('Unknown set', xy=v.get_label_by_id('100').get_position() - np.array([0, 0.05]), xytext=(-70,-70),\n",
    "                ha='center', textcoords='offset points', bbox=dict(boxstyle='round,pad=0.5', fc='gray', alpha=0.1),\n",
    "                arrowprops=dict(arrowstyle='->', connectionstyle='arc3,rad=0.5',color='gray'))\n",
    "plt.show()"
   ]
  },
  {
   "cell_type": "code",
   "execution_count": null,
   "metadata": {},
   "outputs": [],
   "source": [
    "#For WEIGHTED Venn diagram\n",
    "\n",
    "from matplotlib_venn import venn3, venn3_circles\n",
    "from matplotlib import pyplot as plt\n",
    "\n",
    "plt.figure(figsize=(6, 6))\n",
    "\n",
    "  \n",
    "#Draw Venn diagram\n",
    "vd = venn3(subsets=(0, 0, 0, 35, 97, 531, 47), \n",
    "      set_labels=('', '', ''), \n",
    "      set_colors=('Red', 'Yellow', 'Blue'),alpha=0.8)   #, alpha=0.1\n",
    "  \n",
    "#Circle outline\n",
    "c = venn3_circles(subsets=(0, 0, 0, 35, 97, 531, 47), linewidth=1)\n",
    "c[0].set_ls('dashed')\n",
    "c[1].set_ls('dashed')\n",
    "\n",
    "#Colours are washed out because they're overlapping, so colour by patch instead\n",
    "#Difficulty knowing which circle is which omic\n",
    "vd.get_patch_by_id(\"001\").set_color('#febb81')   #big circle\n",
    "vd.get_patch_by_id(\"101\").set_color('#f8765c')  \n",
    "vd.get_patch_by_id(\"011\").set_color('#d3436e')   \n",
    "vd.get_patch_by_id(\"111\").set_color('#982d80')   #most overlap\n",
    " \n",
    "#Move circle number labels \n",
    "vd.get_label_by_id(\"101\").set_x(-0.5)   #111,(110),(100),(000),101\n",
    "vd.get_label_by_id(\"001\").set_x(-0.004)   #111,(110),(100),(000),101,001\n",
    "vd.get_label_by_id(\"001\").set_y(-0.53)   #111,(110),(100),(000),101,001,(010),011\n",
    "\n",
    "\n",
    "#Changing font size\n",
    "#for text in vd.set_labels:  #Omic labels\n",
    "#    text.set_fontsize(15)  \n",
    "\n",
    "for x in range(len(vd.subset_labels)):  #Circle number fontsize\n",
    "    if vd.subset_labels[x] is not None:\n",
    "        vd.subset_labels[x].set_fontsize(14)\n",
    "\n",
    "#plt.annotate('144 edges',xy=[-0.7,.2])  #doesn't show up past the circle\n",
    "#plt.annotate('578 edges',xy=[0.4,0.45])\n",
    "#plt.annotate('710 edges',xy=[-0.4,-0.45])\n",
    "\n",
    "plt.title(\"Pathway overlap between omics\",fontsize=18)    #'#5f187f', '#982d80', '#d3436e', '#f8765c', '#febb81']"
   ]
  },
  {
   "cell_type": "code",
   "execution_count": null,
   "metadata": {},
   "outputs": [],
   "source": [
    "vd.get_label_by_id('001').get_position()"
   ]
  },
  {
   "cell_type": "code",
   "execution_count": null,
   "metadata": {},
   "outputs": [],
   "source": [
    "#For UNWEIGHTED Venn diagram\n",
    "\n",
    "import matplotlib.pyplot as plt\n",
    "import matplotlib_venn as mv\n",
    "\n",
    "#Draw venn diagram\n",
    "vd = mv.venn3_unweighted(subsets=(0, 0, 0, 35, 97, 531, 47), \n",
    "      #set_labels=('Metabolomic', 'Proteomic', 'Integrated'), \n",
    "      set_labels=('', '', ''), \n",
    "      set_colors=( '#e34933', '#fee99d', '#51B0DF'), alpha=0.7)   #        '#e34933', '#fee99d', '#588cc0'/'#51B0DF'\n",
    "\n",
    "#Change font size\n",
    "#for text in vd.set_labels:  #Omic labels\n",
    "#    text.set_fontsize(16)  \n",
    "\n",
    "#Change patch colour  \n",
    "vd.get_patch_by_id(\"011\").set_color('#C7DFD9') \n",
    "\n",
    "#Move circle labels a bit\n",
    "vd.get_label_by_id(\"011\").set_x(0.31)\n",
    "vd.get_label_by_id(\"101\").set_x(-0.3) #111\n",
    "\n",
    "#Circle number fontsize\n",
    "for x in range(len(vd.subset_labels)):  \n",
    "    if vd.subset_labels[x] is not None:\n",
    "        vd.subset_labels[x].set_fontsize(21)\n",
    "\n",
    "#plt.title(\"Pathway overlap between omics\",fontsize=18)  \n",
    "\n",
    "#plt.savefig( '../Figures/random_fig6.png' , dpi=300,bbox_inches = 'tight' , pad_inches = 0.2 , facecolor='w')"
   ]
  },
  {
   "cell_type": "code",
   "execution_count": null,
   "metadata": {},
   "outputs": [],
   "source": [
    "import seaborn as sns\n",
    "#Obtain hex codes for sns colour palette\n",
    "#https://www.practicalpythonfordatascience.com/ap_seaborn_palette\n",
    "print(sns.color_palette(\"magma\").as_hex()[:])  #'Spectral','RdYlBu'\n",
    "sns.color_palette(\"magma\")"
   ]
  },
  {
   "cell_type": "markdown",
   "metadata": {},
   "source": [
    "### Venn diagram to show the number of differential edges between metabolomic, proteomic and integrated"
   ]
  },
  {
   "cell_type": "code",
   "execution_count": null,
   "metadata": {},
   "outputs": [],
   "source": [
    "#For UNWEIGHTED Venn diagram\n",
    "\n",
    "import matplotlib.pyplot as plt\n",
    "import matplotlib_venn as mv\n",
    "\n",
    "#Draw venn diagram\n",
    "vd = mv.venn3_unweighted(subsets=(15,599,0,1437,2,993,0), \n",
    "      #set_labels=('Metabolomic', 'Proteomic', 'Integrated'), \n",
    "      set_labels=('', '', ''), \n",
    "      set_colors=( '#e34933', '#fee99d', '#51B0DF'), alpha=0.7)   #        '#e34933', '#fee99d', '#588cc0'\n",
    "\n",
    "#for text in vd.set_labels:  #Omic labels\n",
    "#    text.set_fontsize(16)  \n",
    "\n",
    "\n",
    "#Change patch colour\n",
    "vd.get_patch_by_id(\"011\").set_color('#C7DFD9')  \n",
    "\n",
    "#Move circle labels a bit\n",
    "vd.get_label_by_id(\"010\").set_x(0.4) \n",
    "vd.get_label_by_id(\"011\").set_x(0.296) \n",
    "vd.get_label_by_id(\"101\").set_x(-0.3) #111\n",
    "\n",
    "#Circle number fontsize\n",
    "for x in range(len(vd.subset_labels)):  \n",
    "    if vd.subset_labels[x] is not None:\n",
    "        vd.subset_labels[x].set_fontsize(21)\n",
    "\n",
    "#plt.title(\"Pathway overlap between omics\",fontsize=18)  \n",
    "\n",
    "#plt.savefig( '../Figures/random_fig7.png' , dpi=300,bbox_inches = 'tight' , pad_inches = 0.2 , facecolor='w')"
   ]
  }
 ],
 "metadata": {
  "kernelspec": {
   "display_name": "Imperial_Project2",
   "language": "python",
   "name": "python3"
  },
  "language_info": {
   "codemirror_mode": {
    "name": "ipython",
    "version": 3
   },
   "file_extension": ".py",
   "mimetype": "text/x-python",
   "name": "python",
   "nbconvert_exporter": "python",
   "pygments_lexer": "ipython3",
   "version": "3.11.3"
  },
  "orig_nbformat": 4
 },
 "nbformat": 4,
 "nbformat_minor": 2
}
