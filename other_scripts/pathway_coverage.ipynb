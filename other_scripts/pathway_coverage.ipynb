{
 "cells": [
  {
   "cell_type": "code",
   "execution_count": null,
   "metadata": {},
   "outputs": [],
   "source": [
    "#Load libraries \n",
    "\n",
    "import pandas as pd\n",
    "import sspa\n",
    "import seaborn as sns\n",
    "import matplotlib.pyplot as plt\n",
    "import numpy as np\n",
    "import random\n",
    "import scipy"
   ]
  },
  {
   "cell_type": "code",
   "execution_count": null,
   "metadata": {},
   "outputs": [],
   "source": [
    "#For metabolomic:\n",
    "df = pd.read_csv('../Data/Su_COVID_metabolomics_processed_commoncases.csv', index_col=0)\n",
    "analytes_in_df = df.columns[:-2]\n",
    "reactome_pathways = sspa.process_gmt(\"../Data/Reactome_Homo_sapiens_pathways_compounds_R84.gmt\")  #2294 Reactome pathways\n"
   ]
  },
  {
   "cell_type": "code",
   "execution_count": null,
   "metadata": {},
   "outputs": [],
   "source": [
    "#For proteomic:\n",
    "df = pd.read_csv('../Data/Su_COVID_proteomics_processed_commoncases.csv', index_col=0)\n",
    "analytes_in_df = df.columns[:-2]\n",
    "reactome_pathways = sspa.process_reactome('Homo sapiens', infile = '../Data/UniProt2Reactome_All_Levels_ver84.txt', download_latest = False, filepath = None) #2596 Reactome pathways\n",
    "reactome_pathways"
   ]
  },
  {
   "cell_type": "code",
   "execution_count": null,
   "metadata": {},
   "outputs": [],
   "source": [
    "#https://stackoverflow.com/questions/26977076/pandas-unique-values-multiple-columns\n",
    "#\"ravel() is an array method that returns a view (if possible) of a multidimensional array. The argument 'K' tells the method to flatten the array in the order the elements are stored in the memory\"\n",
    "analytes_in_reactome = pd.unique(reactome_pathways.iloc[:,1:].values.ravel('K'))"
   ]
  },
  {
   "cell_type": "code",
   "execution_count": null,
   "metadata": {},
   "outputs": [],
   "source": [
    "#Number of analytes in the dataset that map to a Reactome pathway\n",
    "analytes_mapping_reactome = list(set(analytes_in_reactome) & set(analytes_in_df)) #set removes duplicates"
   ]
  },
  {
   "cell_type": "code",
   "execution_count": null,
   "metadata": {},
   "outputs": [],
   "source": [
    "#Can make a Venn diagram with these results (not a bar graph because of the high numbers of total metabolites in reactome, not a contingency table because no double negative)\n",
    "print(len(analytes_in_df)) #333 metabolites, 454 proteins\n",
    "print(len(analytes_in_reactome)) #2393 unique Reactome metabolites, 11596 unique Reactome proteins\n",
    "print(len(analytes_mapping_reactome)) #78 metabolites in the dataset that map to a reactome pathway, 354 proteins "
   ]
  },
  {
   "cell_type": "code",
   "execution_count": null,
   "metadata": {},
   "outputs": [],
   "source": [
    "print(( len(analytes_mapping_reactome) / len(analytes_in_df) ) *100) # 23.42% of metabolites in the dataset map to a Reactome pathway, 77.97% of proteins"
   ]
  },
  {
   "cell_type": "markdown",
   "metadata": {},
   "source": [
    "Get average of the length of Reactome pathways, and then calculate percentage of analytes that map to each Reactome pathway:"
   ]
  },
  {
   "cell_type": "code",
   "execution_count": null,
   "metadata": {},
   "outputs": [],
   "source": [
    "pathway_len = []  #length of each Reactome pathway\n",
    "number_coverage = [] #number of analytes in the dataset for a Reactome pathway if 2 or more analytes from data present\n",
    "percentage_coverage = [] #pathway coverage with the dataset for a Reactome pathway if 2 or more analytes from data present\n",
    "\n",
    "for index in range(len(reactome_pathways)):\n",
    "\n",
    "    #Obtain list of analytes per pathways\n",
    "    list1 = reactome_pathways.iloc[index,1:]\n",
    "    #list2 = [i for i in list1 if i != ''] #metabolomic\n",
    "    list2 = [i for i in list1 if i != None]  #proteomic\n",
    "    \n",
    "    #Get number of analytes present in dataset present in each pathways\n",
    "    number_mapping = len(list(set(list2) & set(analytes_in_df)))\n",
    "    #If the number is 2 or over (min number to be in a pathway using sspa kPCA) append to list\n",
    "    if number_mapping >= 2:\n",
    "        number_coverage.append(number_mapping)\n",
    "        #Get the fraction of metabolites mapping to a pathway so you can make a plot\n",
    "        percentage_coverage.append((number_mapping/len(list2)) * 100)\n",
    "\n",
    "    #Get length of pathway \n",
    "    pathway_len.append(len(list2))\n",
    "    \n",
    "\n",
    "print(\"Average length of Reactome pathway: \", sum(pathway_len) / len(pathway_len), \"analytes\")\n",
    "print(\"Number of pathways that will be detected by sspa: \", len(percentage_coverage))\n",
    "print(\"Average analytes present in pathway: \", sum(number_coverage) / len(number_coverage), \"analytes\")\n",
    "print(\"Average pathway coverage: \", sum(percentage_coverage) / len(percentage_coverage), \"%\")"
   ]
  },
  {
   "cell_type": "markdown",
   "metadata": {},
   "source": [
    "Note: You remove the root pathways so the number of pathways are not the same here"
   ]
  },
  {
   "cell_type": "markdown",
   "metadata": {},
   "source": [
    "Metabolomic: <br> \n",
    "Average length of Reactome pathway:  13.640366172624237 analytes <br>\n",
    "Number of pathways that will be detected by sspa:  160 <br>\n",
    "Average analytes present in pathway:  5.125 analytes <br>\n",
    "Average pathway coverage:  12.772397118617086 % <br>"
   ]
  },
  {
   "cell_type": "markdown",
   "metadata": {},
   "source": [
    "Proteomic: <br>\n",
    "Average length of Reactome pathway:  49.74306625577812 analytes <br>\n",
    "Number of pathways that will be detected by sspa:  603 <br>\n",
    "Average analytes present in pathway:  6.200663349917082 analytes <br>\n",
    "Average pathway coverage:  9.070738437503643 % <br>"
   ]
  },
  {
   "cell_type": "markdown",
   "metadata": {},
   "source": [
    "In order to plot the data for both omics, you would need to run the metabolomic code first then save the data as a another variable, then repeat for proteomic data."
   ]
  },
  {
   "cell_type": "code",
   "execution_count": null,
   "metadata": {},
   "outputs": [],
   "source": [
    "metabolomic_number_coverage #= number_coverage"
   ]
  },
  {
   "cell_type": "code",
   "execution_count": null,
   "metadata": {},
   "outputs": [],
   "source": [
    "proteomic_number_coverage# = number_coverage"
   ]
  },
  {
   "cell_type": "code",
   "execution_count": null,
   "metadata": {},
   "outputs": [],
   "source": [
    "meta_df = pd.DataFrame()\n",
    "meta_df['val']  = np.log10(metabolomic_number_coverage)\n",
    "meta_df['Type'] = \"Metabolomic\"\n",
    "\n",
    "pro_df = pd.DataFrame()\n",
    "pro_df['val']  = np.log10(proteomic_number_coverage)\n",
    "pro_df['Type'] = \"Proteomic\"\n",
    "\n",
    "number_df = pd.concat([meta_df, pro_df], axis=0)\n",
    "number_df"
   ]
  },
  {
   "cell_type": "code",
   "execution_count": null,
   "metadata": {},
   "outputs": [],
   "source": [
    "sns.set(font_scale = 2)\n",
    "sns.set_style(\"ticks\") # same as \"white\" but with ticks\n",
    "plt.figure(figsize=(10.5,6))\n",
    "\n",
    "#Change because I want metabolomics to be orange, proteomics to be blue\n",
    "palette = ['tab:orange', 'tab:blue']\n",
    "\n",
    "sns.histplot(number_df, x=\"val\", hue=\"Type\",palette=palette,edgecolor=\"k\", bins = 30) #, bins = 30,color='#79C99E',edgecolor=\"k\") \n",
    "\n",
    "plt.title('Pathway coverage',fontsize=30,pad=12)\n",
    "plt.xlabel('Number of analytes mapping to Reactome pathway (log10)',fontsize=22,labelpad=8)\n",
    "plt.ylabel('Count',fontsize=22, labelpad=12) ;\n",
    "\n",
    "\n",
    "#plt.savefig( '../Figures/number_pathway_coverage.png' , dpi=300,bbox_inches = 'tight' , pad_inches = 0.2 , facecolor='w')"
   ]
  },
  {
   "cell_type": "code",
   "execution_count": null,
   "metadata": {},
   "outputs": [],
   "source": [
    "metabolomic_percentage_coverage # = percentage_coverage"
   ]
  },
  {
   "cell_type": "code",
   "execution_count": null,
   "metadata": {},
   "outputs": [],
   "source": [
    "proteomic_percentage_coverage #= percentage_coverage"
   ]
  },
  {
   "cell_type": "code",
   "execution_count": null,
   "metadata": {},
   "outputs": [],
   "source": [
    "meta_df = pd.DataFrame()\n",
    "meta_df['val']  = metabolomic_percentage_coverage\n",
    "meta_df['Type'] = \"Metabolomic\"\n",
    "\n",
    "pro_df = pd.DataFrame()\n",
    "pro_df['val']  = proteomic_percentage_coverage\n",
    "pro_df['Type'] = \"Proteomic\"\n",
    "\n",
    "number_df = pd.concat([meta_df, pro_df], axis=0)\n",
    "number_df"
   ]
  },
  {
   "cell_type": "code",
   "execution_count": null,
   "metadata": {},
   "outputs": [],
   "source": [
    "print(max(metabolomic_percentage_coverage))\n",
    "\n",
    "sns.histplot(metabolomic_percentage_coverage,bins = 30) \n",
    "plt.title('Pathway coverage',fontsize=16)\n",
    "plt.xlabel('Percentage of metabolites mapping to Reactome pathway (%)',fontsize=11)\n",
    "plt.ylabel('Count',fontsize=13)"
   ]
  },
  {
   "cell_type": "code",
   "execution_count": null,
   "metadata": {},
   "outputs": [],
   "source": [
    "print(max(proteomic_percentage_coverage))\n",
    "\n",
    "sns.histplot(proteomic_percentage_coverage,bins = 30) \n",
    "plt.title('Pathway coverage',fontsize=16)\n",
    "plt.xlabel('Percentage of proteins mapping to Reactome pathway (%)',fontsize=11)\n",
    "plt.ylabel('Count',fontsize=13)"
   ]
  },
  {
   "cell_type": "code",
   "execution_count": null,
   "metadata": {},
   "outputs": [],
   "source": [
    "sns.set(font_scale = 2)\n",
    "sns.set_style(\"ticks\") # same as \"white\" but with ticks\n",
    "plt.figure(figsize=(10.5,6))\n",
    "\n",
    "#Change because I want metabolomics to be orange, proteomics to be blue\n",
    "palette = ['tab:orange', 'tab:blue']\n",
    "\n",
    "sns.histplot(number_df, x=\"val\", hue=\"Type\",palette=palette,edgecolor=\"k\",bins = 30) #, bins = 30,color='#79C99E',edgecolor=\"k\") \n",
    "\n",
    "plt.title('Pathway coverage',fontsize=30,pad=12)\n",
    "plt.xlabel('Percentage of analytes mapping to Reactome pathway (%)',fontsize=22,labelpad=8)\n",
    "plt.ylabel('Count',fontsize=22, labelpad=12) ;\n",
    "\n",
    "#plt.savefig( '../Figures/percent_pathway_coverage.png' , dpi=300,bbox_inches = 'tight' , pad_inches = 0.2 , facecolor='w')"
   ]
  },
  {
   "cell_type": "markdown",
   "metadata": {},
   "source": [
    "Calculating pathway scores and getting the pathways in common between both:"
   ]
  },
  {
   "cell_type": "code",
   "execution_count": null,
   "metadata": {},
   "outputs": [],
   "source": [
    "meta_df = pd.read_csv('Data/Su_COVID_metabolomics_processed_commoncases.csv', index_col=0)\n",
    "metabolomic_reactome_pathways = sspa.process_gmt(\"Data/Reactome_Homo_sapiens_pathways_compounds_R84.gmt\")\n",
    "metabolomic_kpca_scores = sspa.sspa_kpca(meta_df.iloc[:,:-2], metabolomic_reactome_pathways)\n",
    "\n",
    "analytes_in_meta_df = meta_df.columns[:-2]"
   ]
  },
  {
   "cell_type": "code",
   "execution_count": null,
   "metadata": {},
   "outputs": [],
   "source": [
    "pro_df = pd.read_csv('Data/Su_COVID_proteomics_processed_commoncases.csv', index_col=0)\n",
    "proteomic_reactome_pathways = sspa.process_reactome('Homo sapiens', infile = 'Data/UniProt2Reactome_All_Levels.txt', download_latest = False, filepath = None)\n",
    "proteomic_kpca_scores = sspa.sspa_kpca(pro_df.iloc[:,:-2], proteomic_reactome_pathways)\n",
    "\n",
    "analytes_in_pro_df = pro_df.columns[:-2]"
   ]
  },
  {
   "cell_type": "code",
   "execution_count": null,
   "metadata": {},
   "outputs": [],
   "source": [
    "#Get common pathways\n",
    " \n",
    "intersection = list(set(metabolomic_kpca_scores.columns.tolist()) & set(proteomic_kpca_scores.columns.tolist())) #set removes duplicates\n",
    "\n",
    "#Remove root pathways\n",
    "root_path = pd.read_excel('Data/Root_pathways.xlsx', header=None)\n",
    "root_pathway_dict = {root_path[0][i]:root_path[1][i] for i in range(0,len(root_path))}\n",
    "root_pathway_names = list(root_pathway_dict.keys())\n",
    "\n",
    "common_pathways = [i for i in intersection if i not in root_pathway_names]"
   ]
  },
  {
   "cell_type": "code",
   "execution_count": null,
   "metadata": {},
   "outputs": [],
   "source": [
    "common_pathway_metabolite_df = metabolomic_reactome_pathways.loc[metabolomic_reactome_pathways.index.isin(common_pathways), : ]\n",
    "common_pathway_protein_df = proteomic_reactome_pathways.loc[proteomic_reactome_pathways.index.isin(common_pathways), : ]"
   ]
  },
  {
   "cell_type": "code",
   "execution_count": null,
   "metadata": {},
   "outputs": [],
   "source": [
    "#For metabolomic data:\n",
    "\n",
    "pathway_len = []  #length of each Reactome pathway\n",
    "number_coverage = [] #number of analytes in the dataset for a Reactome pathway if 2 or more analytes from data present\n",
    "percentage_coverage = [] #pathway coverage with the dataset for a Reactome pathway if 2 or more analytes from data present\n",
    "\n",
    "for index in range(len(common_pathway_metabolite_df)):\n",
    "\n",
    "    #Obtain list of analytes per pathways\n",
    "    meta_list = common_pathway_metabolite_df.iloc[index,1:]\n",
    "    meta_list2 = [i for i in meta_list if i != ''] #metabolomic\n",
    "\n",
    "    #Get number of analytes present in dataset present in each pathways\n",
    "    number_mapping = len(list(set(meta_list2) & set(analytes_in_meta_df)))\n",
    "    #If the number is 2 or over (min number to be in a pathway using sspa kPCA) append to list\n",
    "    if number_mapping >= 2:\n",
    "        number_coverage.append(number_mapping)\n",
    "        #Get the fraction of metabolites mapping to a pathway so you can make a plot\n",
    "        percentage_coverage.append((number_mapping/len(meta_list2)) * 100)\n",
    "\n",
    "    #Get length of pathway \n",
    "    pathway_len.append(len(meta_list2))"
   ]
  },
  {
   "cell_type": "code",
   "execution_count": null,
   "metadata": {},
   "outputs": [],
   "source": [
    "#For proteomic data:\n",
    "\n",
    "pathway_len = []  #length of each Reactome pathway\n",
    "number_coverage = [] #number of analytes in the dataset for a Reactome pathway if 2 or more analytes from data present\n",
    "percentage_coverage = [] #pathway coverage with the dataset for a Reactome pathway if 2 or more analytes from data present\n",
    "\n",
    "for index in range(len(common_pathway_protein_df)):\n",
    "\n",
    "    #Obtain list of analytes per pathways\n",
    "    pro_list = common_pathway_protein_df.iloc[index,1:]\n",
    "    pro_list2 = [i for i in pro_list if i != None]  #proteomic\n",
    "\n",
    "    #Get number of analytes present in dataset present in each pathways\n",
    "    number_mapping = len(list(set(pro_list2) & set(analytes_in_pro_df)))\n",
    "    #If the number is 2 or over (min number to be in a pathway using sspa kPCA) append to list\n",
    "    if number_mapping >= 2:\n",
    "        number_coverage.append(number_mapping)\n",
    "        #Get the fraction of metabolites mapping to a pathway so you can make a plot\n",
    "        percentage_coverage.append((number_mapping/len(pro_list2)) * 100)\n",
    "\n",
    "    #Get length of pathway \n",
    "    pathway_len.append(len(pro_list2))\n"
   ]
  },
  {
   "cell_type": "code",
   "execution_count": null,
   "metadata": {},
   "outputs": [],
   "source": [
    "number_coverage"
   ]
  },
  {
   "cell_type": "code",
   "execution_count": null,
   "metadata": {},
   "outputs": [],
   "source": [
    "full_df =  pd.DataFrame(index=common_pathway_metabolite_df.index)\n",
    "#full_df"
   ]
  },
  {
   "cell_type": "code",
   "execution_count": null,
   "metadata": {},
   "outputs": [],
   "source": [
    "full_df['Metabolite number'] = number_coverage\n",
    "full_df['Metabolite percent'] = percentage_coverage"
   ]
  },
  {
   "cell_type": "code",
   "execution_count": null,
   "metadata": {},
   "outputs": [],
   "source": [
    "full_df['Protein number'] = number_coverage\n",
    "full_df['Protein percent'] = percentage_coverage"
   ]
  },
  {
   "cell_type": "code",
   "execution_count": null,
   "metadata": {},
   "outputs": [],
   "source": [
    "full_df.sort_values(by=['Metabolite number'],ascending=False)[:5]"
   ]
  },
  {
   "cell_type": "code",
   "execution_count": null,
   "metadata": {},
   "outputs": [],
   "source": [
    "full_df.sort_values(by=['Metabolite percent'],ascending=False)[:5]"
   ]
  },
  {
   "cell_type": "code",
   "execution_count": null,
   "metadata": {},
   "outputs": [],
   "source": [
    "full_df.sort_values(by=['Protein number'],ascending=False)[:5]"
   ]
  },
  {
   "cell_type": "code",
   "execution_count": null,
   "metadata": {},
   "outputs": [],
   "source": [
    "full_df.sort_values(by=['Protein percent'],ascending=False)[:5]"
   ]
  }
 ],
 "metadata": {
  "kernelspec": {
   "display_name": "Imperial_Project2",
   "language": "python",
   "name": "python3"
  },
  "language_info": {
   "codemirror_mode": {
    "name": "ipython",
    "version": 3
   },
   "file_extension": ".py",
   "mimetype": "text/x-python",
   "name": "python",
   "nbconvert_exporter": "python",
   "pygments_lexer": "ipython3",
   "version": "3.11.3"
  },
  "orig_nbformat": 4
 },
 "nbformat": 4,
 "nbformat_minor": 2
}
