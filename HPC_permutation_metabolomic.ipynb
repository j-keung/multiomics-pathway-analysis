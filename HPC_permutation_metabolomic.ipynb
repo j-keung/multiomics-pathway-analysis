{
 "cells": [
  {
   "cell_type": "code",
   "execution_count": null,
   "metadata": {},
   "outputs": [],
   "source": [
    "#Load libraries \n",
    "\n",
    "import pandas as pd\n",
    "import sspa\n",
    "import scipy\n",
    "import numpy as np \n",
    "import random\n",
    "import pickle #to save list (in list format rather than string format)\n",
    "import sys #to get the array job number when running an array job with the HPC"
   ]
  },
  {
   "cell_type": "code",
   "execution_count": null,
   "metadata": {},
   "outputs": [],
   "source": [
    "#Load dataset\n",
    "df = pd.read_csv('Data/Su_COVID_metabolomics_processed_ChEBI.csv', index_col=0)\n",
    "df.index= df.index.str.rstrip('-BL')\n",
    "\n",
    "df2 = pd.read_csv('Data/Su_COVID_proteomics_processed.csv', index_col=0)\n",
    "\n",
    "#Obtain common samples and subset accordingly\n",
    "intersection = list(set(df.index.tolist()) & set(df2.index.tolist())) #set removes duplicates\n",
    "intersection = [sample for sample in intersection if sample.startswith(\"INCOV\")]\n",
    "print(len(intersection))\n",
    "\n",
    "df = df[df.index.isin(intersection)]\n",
    "\n",
    "#Make a dictionary with the WHO status for each sample\n",
    "sample_dict = {sample:df[\"WHO_status\"][sample] for sample in df.index}"
   ]
  },
  {
   "cell_type": "code",
   "execution_count": null,
   "metadata": {},
   "outputs": [],
   "source": [
    "#Download the reactome pathways\n",
    "reactome_pathways = sspa.process_gmt(\"Data/Reactome_Homo_sapiens_pathways_compounds_R84.gmt\")\n",
    "\n",
    "#Download the root pathways\n",
    "root_path = pd.read_excel('Data/Root_pathways.xlsx', header=None)\n",
    "root_pathway_dict = {root_path[0][i]:root_path[1][i] for i in range(0,len(root_path))}\n",
    "root_pathway_names = list(root_pathway_dict.keys())"
   ]
  },
  {
   "cell_type": "code",
   "execution_count": null,
   "metadata": {},
   "outputs": [],
   "source": [
    "sample_names = list(df.index)\n",
    "random.shuffle(sample_names)\n",
    "print(sample_names)\n",
    "\n",
    "#Make a copy of the original dataframe but replace with the shuffled labels\n",
    "df_shuffled = df.copy()\n",
    "df_shuffled.index = sample_names\n",
    "\n",
    "#Change the WHO status to match the shuffled label\n",
    "for sample in df_shuffled.index: \n",
    "        df_shuffled.loc[sample,\"WHO_status\"] = sample_dict[sample]\n",
    "\n",
    "display(df_shuffled)\n",
    "\n",
    "df_mild = (df_shuffled[df_shuffled[\"WHO_status\"] == '1-2']).iloc[:,:-2] #45 samples, remove the metadata\n",
    "df_severe = (df_shuffled[(df_shuffled[\"WHO_status\"] == '3-4') | (df_shuffled[\"WHO_status\"] == '5-7')]).iloc[:,:-2] #83 samples"
   ]
  },
  {
   "cell_type": "code",
   "execution_count": null,
   "metadata": {},
   "outputs": [],
   "source": [
    "#Function to calculate the squared Spearman correlation matrix \n",
    "\n",
    "def squared_spearman_corr(data):\n",
    "    kpca_scores = sspa.sspa_kpca(data, reactome_pathways)   \n",
    "    kpca_scores = kpca_scores.drop(columns = list(set(root_pathway_names) & set(kpca_scores.columns))) #using Sara's code to drop root pathways\n",
    "\n",
    "    spearman_results = scipy.stats.spearmanr(kpca_scores)\n",
    "    squared_spearman_coef = np.square(spearman_results[0]) #correlation coefficients (spearman_results[1] gives the p-values)\n",
    "\n",
    "    return squared_spearman_coef,list(kpca_scores.columns)\n",
    "\n",
    "\n",
    "\n",
    "\n",
    "#Function to calculate the absolute difference between two matrices and then determine the mean for each edge\n",
    "\n",
    "def delta_squared_list(data1,data2,edgelist):\n",
    "    delta_squared = (np.array(data1) - np.array(data2))\n",
    "\n",
    "    #Mask the upper half of the dataframe (so I don't view the comparisons between the two same genes, and also the duplicate comparisons are removed)\n",
    "    mask = delta_squared.copy()\n",
    "    mask = np.triu(np.ones(mask.shape)).astype(bool)\n",
    "    mask = np.invert(mask) #invert true and false values so the diagonal is False as well\n",
    "    non_dup_delta_squared = pd.DataFrame(delta_squared, columns = edgelist, index = edgelist)\n",
    "    non_dup_delta_squared = pd.DataFrame(non_dup_delta_squared).where(mask) #Replace all false values with NaN using mask\n",
    "\n",
    "    delta_squared_list = non_dup_delta_squared.stack().reset_index()\n",
    "    finallist = list(delta_squared_list[0])\n",
    "\n",
    "    return(finallist)"
   ]
  },
  {
   "cell_type": "code",
   "execution_count": null,
   "metadata": {},
   "outputs": [],
   "source": [
    "spearman_mild,edgelist = squared_spearman_corr(df_mild)\n",
    "spearman_severe,edgelist = squared_spearman_corr(df_severe)\n",
    "\n",
    "output = delta_squared_list(spearman_mild,spearman_severe,edgelist)"
   ]
  },
  {
   "cell_type": "code",
   "execution_count": null,
   "metadata": {},
   "outputs": [],
   "source": [
    "#with open(\"file.txt\", \"wb\") as file_output:   #Pickling (stores as list format instead of string, easier to read in later), downside is that the text file is encoded and is not readable until you load it into Python again\n",
    "#       pickle.dump(output,file_output)"
   ]
  },
  {
   "cell_type": "code",
   "execution_count": null,
   "metadata": {},
   "outputs": [],
   "source": [
    "#with open(\"file.txt\", \"rb\") as file_input:   # Unpickling\n",
    "#   list1 = pickle.load(file_input)"
   ]
  },
  {
   "cell_type": "code",
   "execution_count": null,
   "metadata": {},
   "outputs": [],
   "source": [
    "index_num = sys.argv[1]  #this should return the array number within the array job\n",
    "\n",
    "with open('Results/Run'+index_num + '.txt', \"wb\") as file_output:  \n",
    "       pickle.dump(output,file_output)"
   ]
  }
 ],
 "metadata": {
  "kernelspec": {
   "display_name": "Imperial_Project2",
   "language": "python",
   "name": "python3"
  },
  "language_info": {
   "codemirror_mode": {
    "name": "ipython",
    "version": 3
   },
   "file_extension": ".py",
   "mimetype": "text/x-python",
   "name": "python",
   "nbconvert_exporter": "python",
   "pygments_lexer": "ipython3",
   "version": "3.10.11"
  },
  "orig_nbformat": 4
 },
 "nbformat": 4,
 "nbformat_minor": 2
}
