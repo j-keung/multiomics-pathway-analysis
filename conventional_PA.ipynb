{
 "cells": [
  {
   "cell_type": "code",
   "execution_count": null,
   "metadata": {},
   "outputs": [],
   "source": [
    "import pandas as pd\n",
    "import sspa\n",
    "import seaborn as sns\n",
    "import matplotlib.pyplot as plt\n",
    "import scipy\n"
   ]
  },
  {
   "cell_type": "code",
   "execution_count": null,
   "metadata": {},
   "outputs": [],
   "source": [
    "df = pd.read_csv('Data/Su_COVID_metabolomics_processed_commoncases.csv', index_col=0)\n",
    "reactome_pathways = sspa.process_gmt(\"Data/Reactome_Homo_sapiens_pathways_compounds_R84.gmt\")"
   ]
  },
  {
   "cell_type": "code",
   "execution_count": null,
   "metadata": {},
   "outputs": [],
   "source": [
    "df = pd.read_csv('Data/Su_COVID_proteomics_processed_commoncases.csv', index_col=0)\n",
    "reactome_pathways = sspa.process_reactome('Homo sapiens', infile = 'Data/UniProt2Reactome_all_Levels_ver84.txt', download_latest = False, filepath = None)"
   ]
  },
  {
   "cell_type": "code",
   "execution_count": null,
   "metadata": {},
   "outputs": [],
   "source": [
    "for i in range(len(df.index)):\n",
    "    if df.WHO_status[i] == '1-2':\n",
    "        df['Group'][i] = 'Mild'\n",
    "    else:\n",
    "        df['Group'][i] = 'Severe'\n"
   ]
  },
  {
   "cell_type": "markdown",
   "metadata": {},
   "source": [
    "### Over-representation analysis"
   ]
  },
  {
   "cell_type": "code",
   "execution_count": null,
   "metadata": {},
   "outputs": [],
   "source": [
    "#Initiate an ORA object \n",
    "ora = sspa.sspa_ora(df.iloc[:,:-2], df[\"Group\"], reactome_pathways, 0.05, custom_background=None)\n",
    "#Carry out ORA\n",
    "ora_res = ora.over_representation_analysis()\n",
    "print(len(ora.DA_molecules))\n",
    "display(ora.DA_test_res.sort_values(by=\"P-value\"))\n",
    "display(ora_res.sort_values(by=\"P-value\"))\n",
    "\n",
    "\n",
    "top_10_pathways = ora_res.sort_values(by=\"P-value\").iloc[0:10, :]\n",
    "plt.figure(figsize=(9, 3.6))\n",
    "\n",
    "#If you want to colour by significance\n",
    "#bar_color = ['tab:green' if float(i) < 0.05 else 'tab:grey' for i in top_20_pathways['P-value']]\n",
    "#sns.barplot(data=top_10_pathways, y=\"Pathway_name\", x=\"P-value\", orient=\"h\", palette=bar_color) #rocket, magma\n",
    "\n",
    "#If you want to colour by gradient\n",
    "sns.barplot(data=top_10_pathways, y=\"Pathway_name\", x=\"P-value\", orient=\"h\", palette=\"rocket\") #rocket, magma\n",
    "\n",
    "plt.title('ORA for metabolomic data',fontsize=15)\n",
    "plt.xlabel('Unadjusted p-value',fontsize=13)\n",
    "plt.ylabel('Pathway name',fontsize=13) ;\n",
    "\n",
    "plt.axvline(0.05, c=\"black\")\n",
    "\n",
    "#plt.savefig( 'Figures/metabolomic_ORA_top_10.png' , dpi=200,bbox_inches = 'tight' , pad_inches = 0.2 , facecolor='w')"
   ]
  },
  {
   "cell_type": "markdown",
   "metadata": {},
   "source": [
    "For integrated data, take the two ORA results and combine the p-values with Fisher's method, which is what is commonly done (See Maghsoudi et al., 2021 for examples):"
   ]
  },
  {
   "cell_type": "code",
   "execution_count": null,
   "metadata": {},
   "outputs": [],
   "source": [
    "metabolomic_ora = ora_res.sort_values(by=\"P-value\")"
   ]
  },
  {
   "cell_type": "code",
   "execution_count": null,
   "metadata": {},
   "outputs": [],
   "source": [
    "proteomic_ora = ora_res.sort_values(by=\"P-value\")"
   ]
  },
  {
   "cell_type": "code",
   "execution_count": null,
   "metadata": {},
   "outputs": [],
   "source": [
    "metabolomic_ora.index = metabolomic_ora[\"ID\"]\n",
    "metabolomic_ora.drop(columns = [\"ID\"]) #using Sara's code to drop root pathways"
   ]
  },
  {
   "cell_type": "code",
   "execution_count": null,
   "metadata": {},
   "outputs": [],
   "source": [
    "proteomic_ora.index = proteomic_ora[\"ID\"]\n",
    "proteomic_ora.drop(columns = [\"ID\"]) #using Sara's code to drop root pathways"
   ]
  },
  {
   "cell_type": "code",
   "execution_count": null,
   "metadata": {},
   "outputs": [],
   "source": [
    "result = metabolomic_ora.merge(proteomic_ora, how='inner',right_index=True, left_index = True)\n",
    "result[:5]"
   ]
  },
  {
   "cell_type": "code",
   "execution_count": null,
   "metadata": {},
   "outputs": [],
   "source": [
    "result[\"combined_pval\"] = 0"
   ]
  },
  {
   "cell_type": "code",
   "execution_count": null,
   "metadata": {},
   "outputs": [],
   "source": [
    "for i in range(len(result.index)):\n",
    "    ID_list = [result[\"P-value_x\"][i],result[\"P-value_y\"][i]]\n",
    "    print(ID_list)\n",
    "    test_stat,pval = scipy.stats.combine_pvalues(ID_list, method='fisher',weights=None)\n",
    "    print(pval)\n",
    "    result[\"combined_pval\"][i] = pval\n"
   ]
  },
  {
   "cell_type": "code",
   "execution_count": null,
   "metadata": {},
   "outputs": [],
   "source": [
    "result[:10]"
   ]
  },
  {
   "cell_type": "code",
   "execution_count": null,
   "metadata": {},
   "outputs": [],
   "source": [
    "top_10_pathways = result.sort_values(by=\"combined_pval\").iloc[0:10, :]\n",
    "plt.figure(figsize=(9, 3.6))\n",
    "sns.barplot(data=top_10_pathways, y=\"Pathway_name_x\", x=\"combined_pval\", orient=\"h\", palette=\"rocket\") #rocket, magma\n",
    "\n",
    "plt.title('ORA for integrated data',fontsize=15)\n",
    "plt.xlabel('Unadjusted p-value',fontsize=13)\n",
    "plt.ylabel('Pathway name',fontsize=13) ;\n",
    "\n",
    "plt.axvline(0.05, c=\"black\")\n",
    "\n",
    "plt.savefig( 'Figures/integrated_ORA_top_10.png' , dpi=200,bbox_inches = 'tight' , pad_inches = 0.2 , facecolor='w')"
   ]
  },
  {
   "cell_type": "markdown",
   "metadata": {},
   "source": [
    "### Gene-set Enrichment Analysis"
   ]
  },
  {
   "cell_type": "code",
   "execution_count": 147,
   "metadata": {},
   "outputs": [],
   "source": [
    "gsea_res = sspa.sspa_gsea(df.iloc[:,:-2], df[\"Group\"], reactome_pathways)"
   ]
  },
  {
   "cell_type": "code",
   "execution_count": 148,
   "metadata": {},
   "outputs": [
    {
     "data": {
      "text/html": [
       "<div>\n",
       "<style scoped>\n",
       "    .dataframe tbody tr th:only-of-type {\n",
       "        vertical-align: middle;\n",
       "    }\n",
       "\n",
       "    .dataframe tbody tr th {\n",
       "        vertical-align: top;\n",
       "    }\n",
       "\n",
       "    .dataframe thead th {\n",
       "        text-align: right;\n",
       "    }\n",
       "</style>\n",
       "<table border=\"1\" class=\"dataframe\">\n",
       "  <thead>\n",
       "    <tr style=\"text-align: right;\">\n",
       "      <th></th>\n",
       "      <th>Pathway_ID</th>\n",
       "      <th>Pathway_name</th>\n",
       "      <th>ES</th>\n",
       "      <th>NES</th>\n",
       "      <th>P-value</th>\n",
       "      <th>P-adjust FDR</th>\n",
       "      <th>P-adjust FWER</th>\n",
       "      <th>Tag %</th>\n",
       "      <th>Entity %</th>\n",
       "      <th>Leading_edge</th>\n",
       "    </tr>\n",
       "  </thead>\n",
       "  <tbody>\n",
       "    <tr>\n",
       "      <th>0</th>\n",
       "      <td>R-HSA-381426</td>\n",
       "      <td>Regulation of Insulin-like Growth Factor (IGF)...</td>\n",
       "      <td>0.894649</td>\n",
       "      <td>1.840192</td>\n",
       "      <td>0.0</td>\n",
       "      <td>0.100251</td>\n",
       "      <td>0.084</td>\n",
       "      <td>5/8</td>\n",
       "      <td>7.27%</td>\n",
       "      <td>P05231;Q07065;P19022;P13611;P09603</td>\n",
       "    </tr>\n",
       "    <tr>\n",
       "      <th>3</th>\n",
       "      <td>R-HSA-8957275</td>\n",
       "      <td>Post-translational protein phosphorylation</td>\n",
       "      <td>0.92116</td>\n",
       "      <td>1.668227</td>\n",
       "      <td>0.0</td>\n",
       "      <td>0.343679</td>\n",
       "      <td>0.444</td>\n",
       "      <td>5/6</td>\n",
       "      <td>7.27%</td>\n",
       "      <td>P05231;Q07065;P19022;P13611;P09603</td>\n",
       "    </tr>\n",
       "    <tr>\n",
       "      <th>11</th>\n",
       "      <td>R-HSA-201451</td>\n",
       "      <td>Signaling by BMP</td>\n",
       "      <td>-0.964602</td>\n",
       "      <td>-1.490586</td>\n",
       "      <td>0.001984</td>\n",
       "      <td>1.0</td>\n",
       "      <td>0.913</td>\n",
       "      <td>2/2</td>\n",
       "      <td>4.19%</td>\n",
       "      <td>Q15797;Q9UK05</td>\n",
       "    </tr>\n",
       "    <tr>\n",
       "      <th>1</th>\n",
       "      <td>R-HSA-6785807</td>\n",
       "      <td>Interleukin-4 and Interleukin-13 signaling</td>\n",
       "      <td>0.681918</td>\n",
       "      <td>1.82879</td>\n",
       "      <td>0.002053</td>\n",
       "      <td>0.060721</td>\n",
       "      <td>0.102</td>\n",
       "      <td>12/22</td>\n",
       "      <td>17.40%</td>\n",
       "      <td>P05231;P01375;P14210;P10145;P13500;P24394;P137...</td>\n",
       "    </tr>\n",
       "    <tr>\n",
       "      <th>2</th>\n",
       "      <td>R-HSA-9006936</td>\n",
       "      <td>Signaling by TGFB family members</td>\n",
       "      <td>-0.723535</td>\n",
       "      <td>-1.686862</td>\n",
       "      <td>0.005848</td>\n",
       "      <td>1.0</td>\n",
       "      <td>0.417</td>\n",
       "      <td>2/7</td>\n",
       "      <td>4.19%</td>\n",
       "      <td>Q15797;Q9UK05</td>\n",
       "    </tr>\n",
       "    <tr>\n",
       "      <th>...</th>\n",
       "      <td>...</td>\n",
       "      <td>...</td>\n",
       "      <td>...</td>\n",
       "      <td>...</td>\n",
       "      <td>...</td>\n",
       "      <td>...</td>\n",
       "      <td>...</td>\n",
       "      <td>...</td>\n",
       "      <td>...</td>\n",
       "      <td>...</td>\n",
       "    </tr>\n",
       "    <tr>\n",
       "      <th>598</th>\n",
       "      <td>R-HSA-8940973</td>\n",
       "      <td>RUNX2 regulates osteoblast differentiation</td>\n",
       "      <td>-0.307673</td>\n",
       "      <td>-0.488683</td>\n",
       "      <td>0.989754</td>\n",
       "      <td>0.99857</td>\n",
       "      <td>1.0</td>\n",
       "      <td>1/2</td>\n",
       "      <td>27.31%</td>\n",
       "      <td>P07947</td>\n",
       "    </tr>\n",
       "    <tr>\n",
       "      <th>602</th>\n",
       "      <td>R-HSA-71291</td>\n",
       "      <td>Metabolism of amino acids and derivatives</td>\n",
       "      <td>0.179672</td>\n",
       "      <td>0.417433</td>\n",
       "      <td>0.994275</td>\n",
       "      <td>0.998934</td>\n",
       "      <td>1.0</td>\n",
       "      <td>5/9</td>\n",
       "      <td>43.61%</td>\n",
       "      <td>P23526;P50135;Q9UJM8;P05089;P25786</td>\n",
       "    </tr>\n",
       "    <tr>\n",
       "      <th>600</th>\n",
       "      <td>R-HSA-9603381</td>\n",
       "      <td>Activated NTRK3 signals through PI3K</td>\n",
       "      <td>-0.310756</td>\n",
       "      <td>-0.465698</td>\n",
       "      <td>0.997899</td>\n",
       "      <td>0.99728</td>\n",
       "      <td>1.0</td>\n",
       "      <td>1/2</td>\n",
       "      <td>27.09%</td>\n",
       "      <td>P20783</td>\n",
       "    </tr>\n",
       "    <tr>\n",
       "      <th>599</th>\n",
       "      <td>R-HSA-9034015</td>\n",
       "      <td>Signaling by NTRK3 (TRKC)</td>\n",
       "      <td>-0.310756</td>\n",
       "      <td>-0.465698</td>\n",
       "      <td>0.997899</td>\n",
       "      <td>0.99728</td>\n",
       "      <td>1.0</td>\n",
       "      <td>1/2</td>\n",
       "      <td>27.09%</td>\n",
       "      <td>P20783</td>\n",
       "    </tr>\n",
       "    <tr>\n",
       "      <th>601</th>\n",
       "      <td>R-HSA-140877</td>\n",
       "      <td>Formation of Fibrin Clot (Clotting Cascade)</td>\n",
       "      <td>-0.238156</td>\n",
       "      <td>-0.424523</td>\n",
       "      <td>1.0</td>\n",
       "      <td>0.998443</td>\n",
       "      <td>1.0</td>\n",
       "      <td>3/3</td>\n",
       "      <td>79.07%</td>\n",
       "      <td>P25116;P07204;P13726</td>\n",
       "    </tr>\n",
       "  </tbody>\n",
       "</table>\n",
       "<p>603 rows × 10 columns</p>\n",
       "</div>"
      ],
      "text/plain": [
       "        Pathway_ID                                       Pathway_name  \\\n",
       "0     R-HSA-381426  Regulation of Insulin-like Growth Factor (IGF)...   \n",
       "3    R-HSA-8957275         Post-translational protein phosphorylation   \n",
       "11    R-HSA-201451                                   Signaling by BMP   \n",
       "1    R-HSA-6785807         Interleukin-4 and Interleukin-13 signaling   \n",
       "2    R-HSA-9006936                   Signaling by TGFB family members   \n",
       "..             ...                                                ...   \n",
       "598  R-HSA-8940973         RUNX2 regulates osteoblast differentiation   \n",
       "602    R-HSA-71291          Metabolism of amino acids and derivatives   \n",
       "600  R-HSA-9603381               Activated NTRK3 signals through PI3K   \n",
       "599  R-HSA-9034015                          Signaling by NTRK3 (TRKC)   \n",
       "601   R-HSA-140877        Formation of Fibrin Clot (Clotting Cascade)   \n",
       "\n",
       "           ES       NES   P-value P-adjust FDR P-adjust FWER  Tag % Entity %  \\\n",
       "0    0.894649  1.840192       0.0     0.100251         0.084    5/8    7.27%   \n",
       "3     0.92116  1.668227       0.0     0.343679         0.444    5/6    7.27%   \n",
       "11  -0.964602 -1.490586  0.001984          1.0         0.913    2/2    4.19%   \n",
       "1    0.681918   1.82879  0.002053     0.060721         0.102  12/22   17.40%   \n",
       "2   -0.723535 -1.686862  0.005848          1.0         0.417    2/7    4.19%   \n",
       "..        ...       ...       ...          ...           ...    ...      ...   \n",
       "598 -0.307673 -0.488683  0.989754      0.99857           1.0    1/2   27.31%   \n",
       "602  0.179672  0.417433  0.994275     0.998934           1.0    5/9   43.61%   \n",
       "600 -0.310756 -0.465698  0.997899      0.99728           1.0    1/2   27.09%   \n",
       "599 -0.310756 -0.465698  0.997899      0.99728           1.0    1/2   27.09%   \n",
       "601 -0.238156 -0.424523       1.0     0.998443           1.0    3/3   79.07%   \n",
       "\n",
       "                                          Leading_edge  \n",
       "0                   P05231;Q07065;P19022;P13611;P09603  \n",
       "3                   P05231;Q07065;P19022;P13611;P09603  \n",
       "11                                       Q15797;Q9UK05  \n",
       "1    P05231;P01375;P14210;P10145;P13500;P24394;P137...  \n",
       "2                                        Q15797;Q9UK05  \n",
       "..                                                 ...  \n",
       "598                                             P07947  \n",
       "602                 P23526;P50135;Q9UJM8;P05089;P25786  \n",
       "600                                             P20783  \n",
       "599                                             P20783  \n",
       "601                               P25116;P07204;P13726  \n",
       "\n",
       "[603 rows x 10 columns]"
      ]
     },
     "metadata": {},
     "output_type": "display_data"
    }
   ],
   "source": [
    "#display(gsea_res.sort_values(by=\"P-adjust FDR\")) #0.55 is the lowest for metabolomic, 0.06 for proteomic\n",
    "display(gsea_res.sort_values(by=\"P-value\"))"
   ]
  },
  {
   "cell_type": "code",
   "execution_count": 150,
   "metadata": {},
   "outputs": [],
   "source": [
    "#Change name to have a line break otherwise it won't fit on the plot\n",
    "gsea_res.Pathway_name[0] = 'Regulation of Insulin-like Growth Factor (IGF) transport and \\n uptake by Insulin-like Growth Factor Binding Proteins (IGFBPs)'"
   ]
  },
  {
   "cell_type": "code",
   "execution_count": 152,
   "metadata": {},
   "outputs": [
    {
     "data": {
      "image/png": "[encoded data removed]",
      "text/plain": [
       "<Figure size 900x360 with 1 Axes>"
      ]
     },
     "metadata": {},
     "output_type": "display_data"
    }
   ],
   "source": [
    "from matplotlib.lines import Line2D\n",
    "\n",
    "top_10_pathways_gsea = gsea_res.sort_values(by=\"P-value\").iloc[0:10, :]\n",
    "plt.figure(figsize=(9, 3.6))\n",
    "\n",
    "# set bar colour based on normalised enrichment score sign\n",
    "bar_color = ['tab:red' if float(i) > 0 else 'tab:blue' for i in top_10_pathways_gsea['NES']]\n",
    "sns.barplot(data=top_10_pathways_gsea, y=\"Pathway_name\", x=\"P-value\", orient=\"h\", palette=bar_color)\n",
    "\n",
    "plt.title('GSEA for proteomic data',fontsize=15)\n",
    "plt.xlabel('Unadjusted p-value',fontsize=13)\n",
    "plt.ylabel('Pathway name',fontsize=13) ;\n",
    "\n",
    "plt.axvline(0.05, c=\"black\")\n",
    "\n",
    "# add legend\n",
    "custom_lines = [Line2D([0], [0], color='tab:red', lw=4),\n",
    "                Line2D([0], [0], color='tab:blue', lw=4)]\n",
    "plt.legend(handles=custom_lines, labels=['Positive enrichment score', 'Negative enrichment score'],loc=\"upper right\")\n",
    "\n",
    "#plt.savefig( 'Figures/proteomic_GSEA_top_10.png' , dpi=200,bbox_inches = 'tight' , pad_inches = 0.2 , facecolor='w')"
   ]
  },
  {
   "cell_type": "markdown",
   "metadata": {},
   "source": [
    "For integrated data, take the two GSEA results and combine the p-values with Fisher's method, which is what is commonly done (See Maghsoudi et al., 2021 for examples):"
   ]
  },
  {
   "cell_type": "code",
   "execution_count": null,
   "metadata": {},
   "outputs": [],
   "source": [
    "metabolomic_gsea = gsea_res.sort_values(by=\"P-value\")"
   ]
  },
  {
   "cell_type": "code",
   "execution_count": null,
   "metadata": {},
   "outputs": [],
   "source": [
    "proteomic_gsea = gsea_res.sort_values(by=\"P-value\")"
   ]
  },
  {
   "cell_type": "code",
   "execution_count": null,
   "metadata": {},
   "outputs": [],
   "source": [
    "metabolomic_gsea"
   ]
  },
  {
   "cell_type": "code",
   "execution_count": null,
   "metadata": {},
   "outputs": [],
   "source": [
    "proteomic_gsea"
   ]
  },
  {
   "cell_type": "code",
   "execution_count": null,
   "metadata": {},
   "outputs": [],
   "source": [
    "result = metabolomic_gsea.merge(proteomic_gsea, how='inner',right_index=True, left_index = True)\n",
    "result[:5]"
   ]
  },
  {
   "cell_type": "code",
   "execution_count": null,
   "metadata": {},
   "outputs": [],
   "source": [
    "result[\"combined_pval\"] = 0"
   ]
  },
  {
   "cell_type": "code",
   "execution_count": null,
   "metadata": {},
   "outputs": [],
   "source": [
    "for i in range(len(result.index)):\n",
    "    ID_list = [result[\"P-value_x\"][i],result[\"P-value_y\"][i]]\n",
    "    print(ID_list)\n",
    "    test_stat,pval = scipy.stats.combine_pvalues(ID_list, method='fisher',weights=None)\n",
    "    print(pval)\n",
    "    result[\"combined_pval\"][i] = pval\n"
   ]
  },
  {
   "cell_type": "code",
   "execution_count": null,
   "metadata": {},
   "outputs": [],
   "source": [
    "from matplotlib.lines import Line2D\n",
    "\n",
    "top_10_pathways_gsea = result.sort_values(by=\"combined_pval\").iloc[0:10, :]\n",
    "plt.figure(figsize=(9, 3.6))\n",
    "\n",
    "# set bar colour based on normalised enrichment score sign\n",
    "bar_color = ['tab:red' if float(i) > 0 else 'tab:blue' for i in top_10_pathways_gsea['NES_x']]\n",
    "sns.barplot(data=top_10_pathways_gsea, y=\"Pathway_name_x\", x=\"combined_pval\", orient=\"h\", palette=bar_color)\n",
    "\n",
    "plt.title('GSEA for integrated data',fontsize=15)\n",
    "plt.xlabel('Unadjusted p-value',fontsize=13)\n",
    "plt.ylabel('Pathway name',fontsize=13) ;\n",
    "\n",
    "plt.axvline(0.05, c=\"black\")\n",
    "\n",
    "#Add legend\n",
    "custom_lines = [Line2D([0], [0], color='tab:red', lw=4),\n",
    "                Line2D([0], [0], color='tab:blue', lw=4)]\n",
    "plt.legend(handles=custom_lines, labels=['Positive enrichment score', 'Negative enrichment score'],loc=\"upper right\")\n",
    "\n",
    "\n",
    "#plt.savefig( 'Figures/integrated_GSEA_top_10.png' , dpi=200,bbox_inches = 'tight' , pad_inches = 0.2 , facecolor='w')"
   ]
  }
 ],
 "metadata": {
  "kernelspec": {
   "display_name": "Imperial_Project2",
   "language": "python",
   "name": "python3"
  },
  "language_info": {
   "codemirror_mode": {
    "name": "ipython",
    "version": 3
   },
   "file_extension": ".py",
   "mimetype": "text/x-python",
   "name": "python",
   "nbconvert_exporter": "python",
   "pygments_lexer": "ipython3",
   "version": "3.11.3"
  },
  "orig_nbformat": 4
 },
 "nbformat": 4,
 "nbformat_minor": 2
}
